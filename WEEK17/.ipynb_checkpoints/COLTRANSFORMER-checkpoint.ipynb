{
 "cells": [
  {
   "cell_type": "code",
   "execution_count": 1,
   "id": "40aaf4db",
   "metadata": {},
   "outputs": [
    {
     "data": {
      "text/html": [
       "<div>\n",
       "<style scoped>\n",
       "    .dataframe tbody tr th:only-of-type {\n",
       "        vertical-align: middle;\n",
       "    }\n",
       "\n",
       "    .dataframe tbody tr th {\n",
       "        vertical-align: top;\n",
       "    }\n",
       "\n",
       "    .dataframe thead th {\n",
       "        text-align: right;\n",
       "    }\n",
       "</style>\n",
       "<table border=\"1\" class=\"dataframe\">\n",
       "  <thead>\n",
       "    <tr style=\"text-align: right;\">\n",
       "      <th></th>\n",
       "      <th>A1</th>\n",
       "      <th>A2</th>\n",
       "      <th>A3</th>\n",
       "      <th>A4</th>\n",
       "      <th>A5</th>\n",
       "      <th>A6</th>\n",
       "      <th>A7</th>\n",
       "      <th>A8</th>\n",
       "      <th>A9</th>\n",
       "      <th>A10</th>\n",
       "      <th>A11</th>\n",
       "      <th>A12</th>\n",
       "      <th>A13</th>\n",
       "      <th>A14</th>\n",
       "      <th>A15</th>\n",
       "    </tr>\n",
       "  </thead>\n",
       "  <tbody>\n",
       "    <tr>\n",
       "      <th>0</th>\n",
       "      <td>1</td>\n",
       "      <td>22.08</td>\n",
       "      <td>11.46</td>\n",
       "      <td>2</td>\n",
       "      <td>4</td>\n",
       "      <td>4</td>\n",
       "      <td>1.585</td>\n",
       "      <td>0</td>\n",
       "      <td>0</td>\n",
       "      <td>0</td>\n",
       "      <td>1</td>\n",
       "      <td>2</td>\n",
       "      <td>100</td>\n",
       "      <td>1213</td>\n",
       "      <td>0</td>\n",
       "    </tr>\n",
       "    <tr>\n",
       "      <th>1</th>\n",
       "      <td>0</td>\n",
       "      <td>22.67</td>\n",
       "      <td>7.00</td>\n",
       "      <td>2</td>\n",
       "      <td>8</td>\n",
       "      <td>4</td>\n",
       "      <td>0.165</td>\n",
       "      <td>0</td>\n",
       "      <td>0</td>\n",
       "      <td>0</td>\n",
       "      <td>0</td>\n",
       "      <td>2</td>\n",
       "      <td>160</td>\n",
       "      <td>1</td>\n",
       "      <td>0</td>\n",
       "    </tr>\n",
       "  </tbody>\n",
       "</table>\n",
       "</div>"
      ],
      "text/plain": [
       "   A1     A2     A3  A4  A5  A6     A7  A8  A9  A10  A11  A12  A13   A14  A15\n",
       "0   1  22.08  11.46   2   4   4  1.585   0   0    0    1    2  100  1213    0\n",
       "1   0  22.67   7.00   2   8   4  0.165   0   0    0    0    2  160     1    0"
      ]
     },
     "execution_count": 1,
     "metadata": {},
     "output_type": "execute_result"
    }
   ],
   "source": [
    "import numpy as np\n",
    "import pandas as pd\n",
    "\n",
    "from sklearn.compose import ColumnTransformer\n",
    "from sklearn.datasets import fetch_openml\n",
    "from sklearn.pipeline import Pipeline\n",
    "from sklearn.impute import SimpleImputer\n",
    "from sklearn.preprocessing import StandardScaler, OneHotEncoder\n",
    "from sklearn.linear_model import LogisticRegression\n",
    "from sklearn.model_selection import train_test_split, GridSearchCV\n",
    "\n",
    "raw = pd.read_table('australian.dat', delim_whitespace=True, names=['A1', 'A2', 'A3', 'A4', 'A5', 'A6', 'A7', 'A8', 'A9', 'A10', 'A11', 'A12', 'A13', 'A14', 'A15'])\n",
    "raw.head(2)"
   ]
  },
  {
   "cell_type": "code",
   "execution_count": 3,
   "id": "6d821fd2",
   "metadata": {},
   "outputs": [],
   "source": [
    "X = raw.drop(columns = 'A15')\n",
    "y = raw['A15']"
   ]
  },
  {
   "cell_type": "markdown",
   "id": "52777ca9",
   "metadata": {},
   "source": [
    "### Use ColumnTransformer by selecting column by names"
   ]
  },
  {
   "cell_type": "code",
   "execution_count": 4,
   "id": "7939817e",
   "metadata": {},
   "outputs": [
    {
     "name": "stdout",
     "output_type": "stream",
     "text": [
      "model score: 0.891\n"
     ]
    }
   ],
   "source": [
    "# Define which columns should be encoded vs scaled\n",
    "columns_to_encode = ['A1', 'A4', 'A5', 'A6', 'A8', 'A9', 'A11', 'A12']\n",
    "columns_to_scale  = ['A2', 'A3', 'A7', 'A10', 'A13', 'A14']\n",
    "\n",
    "numeric_transformer = Pipeline(\n",
    "    steps=[(\"imputer\", SimpleImputer(strategy=\"median\")), (\"scaler\", StandardScaler())]\n",
    ")\n",
    "\n",
    "categorical_transformer = OneHotEncoder(handle_unknown=\"ignore\")\n",
    "\n",
    "preprocessor = ColumnTransformer(\n",
    "    transformers=[\n",
    "        (\"num\", numeric_transformer, columns_to_scale),\n",
    "        (\"cat\", categorical_transformer, columns_to_encode),\n",
    "    ]\n",
    ")\n",
    "\n",
    "# Append classifier to preprocessing pipeline.\n",
    "# Now we have a full prediction pipeline.\n",
    "clf = Pipeline(\n",
    "    steps=[(\"preprocessor\", preprocessor), (\"classifier\", LogisticRegression())]\n",
    ")\n",
    "\n",
    "X_train, X_test, y_train, y_test = train_test_split(X, y, test_size=0.2, random_state=42)\n",
    "\n",
    "clf.fit(X_train, y_train)\n",
    "print(f\"model score: {clf.score(X_test, y_test):.3f}\")"
   ]
  },
  {
   "cell_type": "code",
   "execution_count": 5,
   "id": "8e4902c6",
   "metadata": {},
   "outputs": [
    {
     "name": "stdout",
     "output_type": "stream",
     "text": [
      "              precision    recall  f1-score   support\n",
      "\n",
      "           0       0.87      0.93      0.90        73\n",
      "           1       0.92      0.85      0.88        65\n",
      "\n",
      "    accuracy                           0.89       138\n",
      "   macro avg       0.89      0.89      0.89       138\n",
      "weighted avg       0.89      0.89      0.89       138\n",
      "\n"
     ]
    }
   ],
   "source": [
    "from sklearn.metrics import classification_report\n",
    "\n",
    "y_pred = clf.predict(X_test)\n",
    "\n",
    "print(classification_report(y_test, y_pred))"
   ]
  },
  {
   "cell_type": "code",
   "execution_count": 9,
   "id": "0e48d3b7",
   "metadata": {},
   "outputs": [
    {
     "data": {
      "text/html": [
       "<style>#sk-13ff0d9d-c00a-4c50-9790-7d2e8756517d {color: black;background-color: white;}#sk-13ff0d9d-c00a-4c50-9790-7d2e8756517d pre{padding: 0;}#sk-13ff0d9d-c00a-4c50-9790-7d2e8756517d div.sk-toggleable {background-color: white;}#sk-13ff0d9d-c00a-4c50-9790-7d2e8756517d label.sk-toggleable__label {cursor: pointer;display: block;width: 100%;margin-bottom: 0;padding: 0.3em;box-sizing: border-box;text-align: center;}#sk-13ff0d9d-c00a-4c50-9790-7d2e8756517d div.sk-toggleable__content {max-height: 0;max-width: 0;overflow: hidden;text-align: left;background-color: #f0f8ff;}#sk-13ff0d9d-c00a-4c50-9790-7d2e8756517d div.sk-toggleable__content pre {margin: 0.2em;color: black;border-radius: 0.25em;background-color: #f0f8ff;}#sk-13ff0d9d-c00a-4c50-9790-7d2e8756517d input.sk-toggleable__control:checked~div.sk-toggleable__content {max-height: 200px;max-width: 100%;overflow: auto;}#sk-13ff0d9d-c00a-4c50-9790-7d2e8756517d div.sk-estimator input.sk-toggleable__control:checked~label.sk-toggleable__label {background-color: #d4ebff;}#sk-13ff0d9d-c00a-4c50-9790-7d2e8756517d div.sk-label input.sk-toggleable__control:checked~label.sk-toggleable__label {background-color: #d4ebff;}#sk-13ff0d9d-c00a-4c50-9790-7d2e8756517d input.sk-hidden--visually {border: 0;clip: rect(1px 1px 1px 1px);clip: rect(1px, 1px, 1px, 1px);height: 1px;margin: -1px;overflow: hidden;padding: 0;position: absolute;width: 1px;}#sk-13ff0d9d-c00a-4c50-9790-7d2e8756517d div.sk-estimator {font-family: monospace;background-color: #f0f8ff;border: 1px dotted black;border-radius: 0.25em;box-sizing: border-box;margin-bottom: 0.5em;}#sk-13ff0d9d-c00a-4c50-9790-7d2e8756517d div.sk-estimator:hover {background-color: #d4ebff;}#sk-13ff0d9d-c00a-4c50-9790-7d2e8756517d div.sk-parallel-item::after {content: \"\";width: 100%;border-bottom: 1px solid gray;flex-grow: 1;}#sk-13ff0d9d-c00a-4c50-9790-7d2e8756517d div.sk-label:hover label.sk-toggleable__label {background-color: #d4ebff;}#sk-13ff0d9d-c00a-4c50-9790-7d2e8756517d div.sk-serial::before {content: \"\";position: absolute;border-left: 1px solid gray;box-sizing: border-box;top: 2em;bottom: 0;left: 50%;}#sk-13ff0d9d-c00a-4c50-9790-7d2e8756517d div.sk-serial {display: flex;flex-direction: column;align-items: center;background-color: white;padding-right: 0.2em;padding-left: 0.2em;}#sk-13ff0d9d-c00a-4c50-9790-7d2e8756517d div.sk-item {z-index: 1;}#sk-13ff0d9d-c00a-4c50-9790-7d2e8756517d div.sk-parallel {display: flex;align-items: stretch;justify-content: center;background-color: white;}#sk-13ff0d9d-c00a-4c50-9790-7d2e8756517d div.sk-parallel::before {content: \"\";position: absolute;border-left: 1px solid gray;box-sizing: border-box;top: 2em;bottom: 0;left: 50%;}#sk-13ff0d9d-c00a-4c50-9790-7d2e8756517d div.sk-parallel-item {display: flex;flex-direction: column;position: relative;background-color: white;}#sk-13ff0d9d-c00a-4c50-9790-7d2e8756517d div.sk-parallel-item:first-child::after {align-self: flex-end;width: 50%;}#sk-13ff0d9d-c00a-4c50-9790-7d2e8756517d div.sk-parallel-item:last-child::after {align-self: flex-start;width: 50%;}#sk-13ff0d9d-c00a-4c50-9790-7d2e8756517d div.sk-parallel-item:only-child::after {width: 0;}#sk-13ff0d9d-c00a-4c50-9790-7d2e8756517d div.sk-dashed-wrapped {border: 1px dashed gray;margin: 0 0.4em 0.5em 0.4em;box-sizing: border-box;padding-bottom: 0.4em;background-color: white;position: relative;}#sk-13ff0d9d-c00a-4c50-9790-7d2e8756517d div.sk-label label {font-family: monospace;font-weight: bold;background-color: white;display: inline-block;line-height: 1.2em;}#sk-13ff0d9d-c00a-4c50-9790-7d2e8756517d div.sk-label-container {position: relative;z-index: 2;text-align: center;}#sk-13ff0d9d-c00a-4c50-9790-7d2e8756517d div.sk-container {display: inline-block;position: relative;}</style><div id=\"sk-13ff0d9d-c00a-4c50-9790-7d2e8756517d\" class\"sk-top-container\"><div class=\"sk-container\"><div class=\"sk-item sk-dashed-wrapped\"><div class=\"sk-label-container\"><div class=\"sk-label sk-toggleable\"><input class=\"sk-toggleable__control sk-hidden--visually\" id=\"2e2ead4e-89cb-4d26-b086-0312f004b513\" type=\"checkbox\" ><label class=\"sk-toggleable__label\" for=\"2e2ead4e-89cb-4d26-b086-0312f004b513\">Pipeline</label><div class=\"sk-toggleable__content\"><pre>Pipeline(steps=[('preprocessor',\n",
       "                 ColumnTransformer(transformers=[('num', StandardScaler(),\n",
       "                                                  ['A2', 'A3', 'A7', 'A10',\n",
       "                                                   'A13', 'A14']),\n",
       "                                                 ('cat',\n",
       "                                                  OneHotEncoder(handle_unknown='ignore'),\n",
       "                                                  ['A1', 'A4', 'A5', 'A6', 'A8',\n",
       "                                                   'A9', 'A11', 'A12'])])),\n",
       "                ('classifier', LogisticRegression())])</pre></div></div></div><div class=\"sk-serial\"><div class=\"sk-item sk-dashed-wrapped\"><div class=\"sk-label-container\"><div class=\"sk-label sk-toggleable\"><input class=\"sk-toggleable__control sk-hidden--visually\" id=\"dff1b627-9090-42e0-be3b-7a4f42514238\" type=\"checkbox\" ><label class=\"sk-toggleable__label\" for=\"dff1b627-9090-42e0-be3b-7a4f42514238\">preprocessor: ColumnTransformer</label><div class=\"sk-toggleable__content\"><pre>ColumnTransformer(transformers=[('num', StandardScaler(),\n",
       "                                 ['A2', 'A3', 'A7', 'A10', 'A13', 'A14']),\n",
       "                                ('cat', OneHotEncoder(handle_unknown='ignore'),\n",
       "                                 ['A1', 'A4', 'A5', 'A6', 'A8', 'A9', 'A11',\n",
       "                                  'A12'])])</pre></div></div></div><div class=\"sk-parallel\"><div class=\"sk-parallel-item\"><div class=\"sk-item\"><div class=\"sk-label-container\"><div class=\"sk-label sk-toggleable\"><input class=\"sk-toggleable__control sk-hidden--visually\" id=\"f6675232-7733-46f3-aaca-028fb1819bbb\" type=\"checkbox\" ><label class=\"sk-toggleable__label\" for=\"f6675232-7733-46f3-aaca-028fb1819bbb\">num</label><div class=\"sk-toggleable__content\"><pre>['A2', 'A3', 'A7', 'A10', 'A13', 'A14']</pre></div></div></div><div class=\"sk-serial\"><div class=\"sk-item\"><div class=\"sk-estimator sk-toggleable\"><input class=\"sk-toggleable__control sk-hidden--visually\" id=\"afc9e5c1-d5a6-46a6-8b73-108026a32731\" type=\"checkbox\" ><label class=\"sk-toggleable__label\" for=\"afc9e5c1-d5a6-46a6-8b73-108026a32731\">StandardScaler</label><div class=\"sk-toggleable__content\"><pre>StandardScaler()</pre></div></div></div></div></div></div><div class=\"sk-parallel-item\"><div class=\"sk-item\"><div class=\"sk-label-container\"><div class=\"sk-label sk-toggleable\"><input class=\"sk-toggleable__control sk-hidden--visually\" id=\"32a38d1d-1b7c-4986-aeca-79e4f0ac66b5\" type=\"checkbox\" ><label class=\"sk-toggleable__label\" for=\"32a38d1d-1b7c-4986-aeca-79e4f0ac66b5\">cat</label><div class=\"sk-toggleable__content\"><pre>['A1', 'A4', 'A5', 'A6', 'A8', 'A9', 'A11', 'A12']</pre></div></div></div><div class=\"sk-serial\"><div class=\"sk-item\"><div class=\"sk-estimator sk-toggleable\"><input class=\"sk-toggleable__control sk-hidden--visually\" id=\"8bf338d1-7e8f-4d5e-8a10-ebc312253f1c\" type=\"checkbox\" ><label class=\"sk-toggleable__label\" for=\"8bf338d1-7e8f-4d5e-8a10-ebc312253f1c\">OneHotEncoder</label><div class=\"sk-toggleable__content\"><pre>OneHotEncoder(handle_unknown='ignore')</pre></div></div></div></div></div></div></div></div><div class=\"sk-item\"><div class=\"sk-estimator sk-toggleable\"><input class=\"sk-toggleable__control sk-hidden--visually\" id=\"deec9e52-c080-4d2d-bc37-52a5b1f3e393\" type=\"checkbox\" ><label class=\"sk-toggleable__label\" for=\"deec9e52-c080-4d2d-bc37-52a5b1f3e393\">LogisticRegression</label><div class=\"sk-toggleable__content\"><pre>LogisticRegression()</pre></div></div></div></div></div></div></div>"
      ],
      "text/plain": [
       "Pipeline(steps=[('preprocessor',\n",
       "                 ColumnTransformer(transformers=[('num', StandardScaler(),\n",
       "                                                  ['A2', 'A3', 'A7', 'A10',\n",
       "                                                   'A13', 'A14']),\n",
       "                                                 ('cat',\n",
       "                                                  OneHotEncoder(handle_unknown='ignore'),\n",
       "                                                  ['A1', 'A4', 'A5', 'A6', 'A8',\n",
       "                                                   'A9', 'A11', 'A12'])])),\n",
       "                ('classifier', LogisticRegression())])"
      ]
     },
     "execution_count": 9,
     "metadata": {},
     "output_type": "execute_result"
    }
   ],
   "source": [
    "from sklearn import set_config\n",
    "\n",
    "set_config(display=\"diagram\")\n",
    "clf"
   ]
  },
  {
   "cell_type": "markdown",
   "id": "9f7cecbd",
   "metadata": {},
   "source": [
    "#### The simpleimputer is not really necessary, we can just skip it:"
   ]
  },
  {
   "cell_type": "code",
   "execution_count": 6,
   "id": "9ab09298",
   "metadata": {},
   "outputs": [
    {
     "name": "stdout",
     "output_type": "stream",
     "text": [
      "model score: 0.855\n"
     ]
    }
   ],
   "source": [
    "preprocessor = ColumnTransformer(\n",
    "    transformers=[\n",
    "        (\"num\", StandardScaler(), columns_to_scale),\n",
    "        (\"cat\", OneHotEncoder(handle_unknown=\"ignore\"), columns_to_encode),\n",
    "    ]\n",
    ")\n",
    "\n",
    "# Append classifier to preprocessing pipeline.\n",
    "# Now we have a full prediction pipeline.\n",
    "clf = Pipeline(\n",
    "    steps=[(\"preprocessor\", preprocessor), (\"classifier\", LogisticRegression())]\n",
    ")\n",
    "\n",
    "X_train, X_test, y_train, y_test = train_test_split(X, y, test_size=0.2, random_state=42)\n",
    "\n",
    "clf.fit(X_train, y_train)\n",
    "print(f\"model score: {clf.score(X_test, y_test):.3f}\")"
   ]
  },
  {
   "cell_type": "code",
   "execution_count": 7,
   "id": "0d1eef76",
   "metadata": {},
   "outputs": [
    {
     "name": "stdout",
     "output_type": "stream",
     "text": [
      "              precision    recall  f1-score   support\n",
      "\n",
      "           0       0.89      0.87      0.88        87\n",
      "           1       0.79      0.82      0.81        51\n",
      "\n",
      "    accuracy                           0.86       138\n",
      "   macro avg       0.84      0.85      0.85       138\n",
      "weighted avg       0.86      0.86      0.86       138\n",
      "\n"
     ]
    }
   ],
   "source": [
    "y_pred = clf.predict(X_test)\n",
    "\n",
    "print(classification_report(y_test, y_pred))"
   ]
  },
  {
   "cell_type": "code",
   "execution_count": 10,
   "id": "79cd929f",
   "metadata": {},
   "outputs": [
    {
     "data": {
      "text/html": [
       "<style>#sk-635ea783-d450-4ee8-8704-bf793eb9b185 {color: black;background-color: white;}#sk-635ea783-d450-4ee8-8704-bf793eb9b185 pre{padding: 0;}#sk-635ea783-d450-4ee8-8704-bf793eb9b185 div.sk-toggleable {background-color: white;}#sk-635ea783-d450-4ee8-8704-bf793eb9b185 label.sk-toggleable__label {cursor: pointer;display: block;width: 100%;margin-bottom: 0;padding: 0.3em;box-sizing: border-box;text-align: center;}#sk-635ea783-d450-4ee8-8704-bf793eb9b185 div.sk-toggleable__content {max-height: 0;max-width: 0;overflow: hidden;text-align: left;background-color: #f0f8ff;}#sk-635ea783-d450-4ee8-8704-bf793eb9b185 div.sk-toggleable__content pre {margin: 0.2em;color: black;border-radius: 0.25em;background-color: #f0f8ff;}#sk-635ea783-d450-4ee8-8704-bf793eb9b185 input.sk-toggleable__control:checked~div.sk-toggleable__content {max-height: 200px;max-width: 100%;overflow: auto;}#sk-635ea783-d450-4ee8-8704-bf793eb9b185 div.sk-estimator input.sk-toggleable__control:checked~label.sk-toggleable__label {background-color: #d4ebff;}#sk-635ea783-d450-4ee8-8704-bf793eb9b185 div.sk-label input.sk-toggleable__control:checked~label.sk-toggleable__label {background-color: #d4ebff;}#sk-635ea783-d450-4ee8-8704-bf793eb9b185 input.sk-hidden--visually {border: 0;clip: rect(1px 1px 1px 1px);clip: rect(1px, 1px, 1px, 1px);height: 1px;margin: -1px;overflow: hidden;padding: 0;position: absolute;width: 1px;}#sk-635ea783-d450-4ee8-8704-bf793eb9b185 div.sk-estimator {font-family: monospace;background-color: #f0f8ff;border: 1px dotted black;border-radius: 0.25em;box-sizing: border-box;margin-bottom: 0.5em;}#sk-635ea783-d450-4ee8-8704-bf793eb9b185 div.sk-estimator:hover {background-color: #d4ebff;}#sk-635ea783-d450-4ee8-8704-bf793eb9b185 div.sk-parallel-item::after {content: \"\";width: 100%;border-bottom: 1px solid gray;flex-grow: 1;}#sk-635ea783-d450-4ee8-8704-bf793eb9b185 div.sk-label:hover label.sk-toggleable__label {background-color: #d4ebff;}#sk-635ea783-d450-4ee8-8704-bf793eb9b185 div.sk-serial::before {content: \"\";position: absolute;border-left: 1px solid gray;box-sizing: border-box;top: 2em;bottom: 0;left: 50%;}#sk-635ea783-d450-4ee8-8704-bf793eb9b185 div.sk-serial {display: flex;flex-direction: column;align-items: center;background-color: white;padding-right: 0.2em;padding-left: 0.2em;}#sk-635ea783-d450-4ee8-8704-bf793eb9b185 div.sk-item {z-index: 1;}#sk-635ea783-d450-4ee8-8704-bf793eb9b185 div.sk-parallel {display: flex;align-items: stretch;justify-content: center;background-color: white;}#sk-635ea783-d450-4ee8-8704-bf793eb9b185 div.sk-parallel::before {content: \"\";position: absolute;border-left: 1px solid gray;box-sizing: border-box;top: 2em;bottom: 0;left: 50%;}#sk-635ea783-d450-4ee8-8704-bf793eb9b185 div.sk-parallel-item {display: flex;flex-direction: column;position: relative;background-color: white;}#sk-635ea783-d450-4ee8-8704-bf793eb9b185 div.sk-parallel-item:first-child::after {align-self: flex-end;width: 50%;}#sk-635ea783-d450-4ee8-8704-bf793eb9b185 div.sk-parallel-item:last-child::after {align-self: flex-start;width: 50%;}#sk-635ea783-d450-4ee8-8704-bf793eb9b185 div.sk-parallel-item:only-child::after {width: 0;}#sk-635ea783-d450-4ee8-8704-bf793eb9b185 div.sk-dashed-wrapped {border: 1px dashed gray;margin: 0 0.4em 0.5em 0.4em;box-sizing: border-box;padding-bottom: 0.4em;background-color: white;position: relative;}#sk-635ea783-d450-4ee8-8704-bf793eb9b185 div.sk-label label {font-family: monospace;font-weight: bold;background-color: white;display: inline-block;line-height: 1.2em;}#sk-635ea783-d450-4ee8-8704-bf793eb9b185 div.sk-label-container {position: relative;z-index: 2;text-align: center;}#sk-635ea783-d450-4ee8-8704-bf793eb9b185 div.sk-container {display: inline-block;position: relative;}</style><div id=\"sk-635ea783-d450-4ee8-8704-bf793eb9b185\" class\"sk-top-container\"><div class=\"sk-container\"><div class=\"sk-item sk-dashed-wrapped\"><div class=\"sk-label-container\"><div class=\"sk-label sk-toggleable\"><input class=\"sk-toggleable__control sk-hidden--visually\" id=\"3973e099-ee6f-4428-afc0-0a37a1c999d7\" type=\"checkbox\" ><label class=\"sk-toggleable__label\" for=\"3973e099-ee6f-4428-afc0-0a37a1c999d7\">Pipeline</label><div class=\"sk-toggleable__content\"><pre>Pipeline(steps=[('preprocessor',\n",
       "                 ColumnTransformer(transformers=[('num', StandardScaler(),\n",
       "                                                  ['A2', 'A3', 'A7', 'A10',\n",
       "                                                   'A13', 'A14']),\n",
       "                                                 ('cat',\n",
       "                                                  OneHotEncoder(handle_unknown='ignore'),\n",
       "                                                  ['A1', 'A4', 'A5', 'A6', 'A8',\n",
       "                                                   'A9', 'A11', 'A12'])])),\n",
       "                ('classifier', LogisticRegression())])</pre></div></div></div><div class=\"sk-serial\"><div class=\"sk-item sk-dashed-wrapped\"><div class=\"sk-label-container\"><div class=\"sk-label sk-toggleable\"><input class=\"sk-toggleable__control sk-hidden--visually\" id=\"c23ca444-1e67-4d7d-bc32-6b2e10962571\" type=\"checkbox\" ><label class=\"sk-toggleable__label\" for=\"c23ca444-1e67-4d7d-bc32-6b2e10962571\">preprocessor: ColumnTransformer</label><div class=\"sk-toggleable__content\"><pre>ColumnTransformer(transformers=[('num', StandardScaler(),\n",
       "                                 ['A2', 'A3', 'A7', 'A10', 'A13', 'A14']),\n",
       "                                ('cat', OneHotEncoder(handle_unknown='ignore'),\n",
       "                                 ['A1', 'A4', 'A5', 'A6', 'A8', 'A9', 'A11',\n",
       "                                  'A12'])])</pre></div></div></div><div class=\"sk-parallel\"><div class=\"sk-parallel-item\"><div class=\"sk-item\"><div class=\"sk-label-container\"><div class=\"sk-label sk-toggleable\"><input class=\"sk-toggleable__control sk-hidden--visually\" id=\"51b48c04-2928-4ea8-897c-528ff9e9337c\" type=\"checkbox\" ><label class=\"sk-toggleable__label\" for=\"51b48c04-2928-4ea8-897c-528ff9e9337c\">num</label><div class=\"sk-toggleable__content\"><pre>['A2', 'A3', 'A7', 'A10', 'A13', 'A14']</pre></div></div></div><div class=\"sk-serial\"><div class=\"sk-item\"><div class=\"sk-estimator sk-toggleable\"><input class=\"sk-toggleable__control sk-hidden--visually\" id=\"0db110a6-8216-4353-8993-b6a5ab09adcf\" type=\"checkbox\" ><label class=\"sk-toggleable__label\" for=\"0db110a6-8216-4353-8993-b6a5ab09adcf\">StandardScaler</label><div class=\"sk-toggleable__content\"><pre>StandardScaler()</pre></div></div></div></div></div></div><div class=\"sk-parallel-item\"><div class=\"sk-item\"><div class=\"sk-label-container\"><div class=\"sk-label sk-toggleable\"><input class=\"sk-toggleable__control sk-hidden--visually\" id=\"8ce06e78-431d-4bc8-93ca-56146e1bc6b4\" type=\"checkbox\" ><label class=\"sk-toggleable__label\" for=\"8ce06e78-431d-4bc8-93ca-56146e1bc6b4\">cat</label><div class=\"sk-toggleable__content\"><pre>['A1', 'A4', 'A5', 'A6', 'A8', 'A9', 'A11', 'A12']</pre></div></div></div><div class=\"sk-serial\"><div class=\"sk-item\"><div class=\"sk-estimator sk-toggleable\"><input class=\"sk-toggleable__control sk-hidden--visually\" id=\"67150c74-26f6-4e0f-a818-b3336b068bdf\" type=\"checkbox\" ><label class=\"sk-toggleable__label\" for=\"67150c74-26f6-4e0f-a818-b3336b068bdf\">OneHotEncoder</label><div class=\"sk-toggleable__content\"><pre>OneHotEncoder(handle_unknown='ignore')</pre></div></div></div></div></div></div></div></div><div class=\"sk-item\"><div class=\"sk-estimator sk-toggleable\"><input class=\"sk-toggleable__control sk-hidden--visually\" id=\"1243e5bd-fd11-4fc3-bbf7-49064ac98250\" type=\"checkbox\" ><label class=\"sk-toggleable__label\" for=\"1243e5bd-fd11-4fc3-bbf7-49064ac98250\">LogisticRegression</label><div class=\"sk-toggleable__content\"><pre>LogisticRegression()</pre></div></div></div></div></div></div></div>"
      ],
      "text/plain": [
       "Pipeline(steps=[('preprocessor',\n",
       "                 ColumnTransformer(transformers=[('num', StandardScaler(),\n",
       "                                                  ['A2', 'A3', 'A7', 'A10',\n",
       "                                                   'A13', 'A14']),\n",
       "                                                 ('cat',\n",
       "                                                  OneHotEncoder(handle_unknown='ignore'),\n",
       "                                                  ['A1', 'A4', 'A5', 'A6', 'A8',\n",
       "                                                   'A9', 'A11', 'A12'])])),\n",
       "                ('classifier', LogisticRegression())])"
      ]
     },
     "execution_count": 10,
     "metadata": {},
     "output_type": "execute_result"
    }
   ],
   "source": [
    "from sklearn import set_config\n",
    "\n",
    "set_config(display=\"diagram\")\n",
    "clf"
   ]
  },
  {
   "cell_type": "markdown",
   "id": "088bab20",
   "metadata": {},
   "source": [
    "#### Looks like Simpleimputer does something behind the scenes as these resultsa re different from the previous one"
   ]
  },
  {
   "cell_type": "markdown",
   "id": "c7d68bad",
   "metadata": {},
   "source": [
    "### Using the prediction pipeline in a grid search"
   ]
  },
  {
   "cell_type": "code",
   "execution_count": 12,
   "id": "f8761f78",
   "metadata": {},
   "outputs": [
    {
     "data": {
      "text/html": [
       "<style>#sk-24dbffd1-85fb-4ae5-9f86-27cb3d01aa80 {color: black;background-color: white;}#sk-24dbffd1-85fb-4ae5-9f86-27cb3d01aa80 pre{padding: 0;}#sk-24dbffd1-85fb-4ae5-9f86-27cb3d01aa80 div.sk-toggleable {background-color: white;}#sk-24dbffd1-85fb-4ae5-9f86-27cb3d01aa80 label.sk-toggleable__label {cursor: pointer;display: block;width: 100%;margin-bottom: 0;padding: 0.3em;box-sizing: border-box;text-align: center;}#sk-24dbffd1-85fb-4ae5-9f86-27cb3d01aa80 div.sk-toggleable__content {max-height: 0;max-width: 0;overflow: hidden;text-align: left;background-color: #f0f8ff;}#sk-24dbffd1-85fb-4ae5-9f86-27cb3d01aa80 div.sk-toggleable__content pre {margin: 0.2em;color: black;border-radius: 0.25em;background-color: #f0f8ff;}#sk-24dbffd1-85fb-4ae5-9f86-27cb3d01aa80 input.sk-toggleable__control:checked~div.sk-toggleable__content {max-height: 200px;max-width: 100%;overflow: auto;}#sk-24dbffd1-85fb-4ae5-9f86-27cb3d01aa80 div.sk-estimator input.sk-toggleable__control:checked~label.sk-toggleable__label {background-color: #d4ebff;}#sk-24dbffd1-85fb-4ae5-9f86-27cb3d01aa80 div.sk-label input.sk-toggleable__control:checked~label.sk-toggleable__label {background-color: #d4ebff;}#sk-24dbffd1-85fb-4ae5-9f86-27cb3d01aa80 input.sk-hidden--visually {border: 0;clip: rect(1px 1px 1px 1px);clip: rect(1px, 1px, 1px, 1px);height: 1px;margin: -1px;overflow: hidden;padding: 0;position: absolute;width: 1px;}#sk-24dbffd1-85fb-4ae5-9f86-27cb3d01aa80 div.sk-estimator {font-family: monospace;background-color: #f0f8ff;border: 1px dotted black;border-radius: 0.25em;box-sizing: border-box;margin-bottom: 0.5em;}#sk-24dbffd1-85fb-4ae5-9f86-27cb3d01aa80 div.sk-estimator:hover {background-color: #d4ebff;}#sk-24dbffd1-85fb-4ae5-9f86-27cb3d01aa80 div.sk-parallel-item::after {content: \"\";width: 100%;border-bottom: 1px solid gray;flex-grow: 1;}#sk-24dbffd1-85fb-4ae5-9f86-27cb3d01aa80 div.sk-label:hover label.sk-toggleable__label {background-color: #d4ebff;}#sk-24dbffd1-85fb-4ae5-9f86-27cb3d01aa80 div.sk-serial::before {content: \"\";position: absolute;border-left: 1px solid gray;box-sizing: border-box;top: 2em;bottom: 0;left: 50%;}#sk-24dbffd1-85fb-4ae5-9f86-27cb3d01aa80 div.sk-serial {display: flex;flex-direction: column;align-items: center;background-color: white;padding-right: 0.2em;padding-left: 0.2em;}#sk-24dbffd1-85fb-4ae5-9f86-27cb3d01aa80 div.sk-item {z-index: 1;}#sk-24dbffd1-85fb-4ae5-9f86-27cb3d01aa80 div.sk-parallel {display: flex;align-items: stretch;justify-content: center;background-color: white;}#sk-24dbffd1-85fb-4ae5-9f86-27cb3d01aa80 div.sk-parallel::before {content: \"\";position: absolute;border-left: 1px solid gray;box-sizing: border-box;top: 2em;bottom: 0;left: 50%;}#sk-24dbffd1-85fb-4ae5-9f86-27cb3d01aa80 div.sk-parallel-item {display: flex;flex-direction: column;position: relative;background-color: white;}#sk-24dbffd1-85fb-4ae5-9f86-27cb3d01aa80 div.sk-parallel-item:first-child::after {align-self: flex-end;width: 50%;}#sk-24dbffd1-85fb-4ae5-9f86-27cb3d01aa80 div.sk-parallel-item:last-child::after {align-self: flex-start;width: 50%;}#sk-24dbffd1-85fb-4ae5-9f86-27cb3d01aa80 div.sk-parallel-item:only-child::after {width: 0;}#sk-24dbffd1-85fb-4ae5-9f86-27cb3d01aa80 div.sk-dashed-wrapped {border: 1px dashed gray;margin: 0 0.4em 0.5em 0.4em;box-sizing: border-box;padding-bottom: 0.4em;background-color: white;position: relative;}#sk-24dbffd1-85fb-4ae5-9f86-27cb3d01aa80 div.sk-label label {font-family: monospace;font-weight: bold;background-color: white;display: inline-block;line-height: 1.2em;}#sk-24dbffd1-85fb-4ae5-9f86-27cb3d01aa80 div.sk-label-container {position: relative;z-index: 2;text-align: center;}#sk-24dbffd1-85fb-4ae5-9f86-27cb3d01aa80 div.sk-container {display: inline-block;position: relative;}</style><div id=\"sk-24dbffd1-85fb-4ae5-9f86-27cb3d01aa80\" class\"sk-top-container\"><div class=\"sk-container\"><div class=\"sk-item sk-dashed-wrapped\"><div class=\"sk-label-container\"><div class=\"sk-label sk-toggleable\"><input class=\"sk-toggleable__control sk-hidden--visually\" id=\"b6707fbb-283d-476d-beab-2c3785c9bbb0\" type=\"checkbox\" ><label class=\"sk-toggleable__label\" for=\"b6707fbb-283d-476d-beab-2c3785c9bbb0\">GridSearchCV</label><div class=\"sk-toggleable__content\"><pre>GridSearchCV(cv=10,\n",
       "             estimator=Pipeline(steps=[('preprocessor',\n",
       "                                        ColumnTransformer(transformers=[('num',\n",
       "                                                                         StandardScaler(),\n",
       "                                                                         ['A2',\n",
       "                                                                          'A3',\n",
       "                                                                          'A7',\n",
       "                                                                          'A10',\n",
       "                                                                          'A13',\n",
       "                                                                          'A14']),\n",
       "                                                                        ('cat',\n",
       "                                                                         OneHotEncoder(handle_unknown='ignore'),\n",
       "                                                                         ['A1',\n",
       "                                                                          'A4',\n",
       "                                                                          'A5',\n",
       "                                                                          'A6',\n",
       "                                                                          'A8',\n",
       "                                                                          'A9',\n",
       "                                                                          'A11',\n",
       "                                                                          'A12'])])),\n",
       "                                       ('classifier', LogisticRegression())]),\n",
       "             param_grid={'classifier__C': [0.1, 1.0, 10, 100]})</pre></div></div></div><div class=\"sk-parallel\"><div class=\"sk-parallel-item\"><div class=\"sk-item\"><div class=\"sk-serial\"><div class=\"sk-item\"><div class=\"sk-serial\"><div class=\"sk-item sk-dashed-wrapped\"><div class=\"sk-label-container\"><div class=\"sk-label sk-toggleable\"><input class=\"sk-toggleable__control sk-hidden--visually\" id=\"0a52f602-411c-443e-89d2-c84be75eafef\" type=\"checkbox\" ><label class=\"sk-toggleable__label\" for=\"0a52f602-411c-443e-89d2-c84be75eafef\">preprocessor: ColumnTransformer</label><div class=\"sk-toggleable__content\"><pre>ColumnTransformer(transformers=[('num', StandardScaler(),\n",
       "                                 ['A2', 'A3', 'A7', 'A10', 'A13', 'A14']),\n",
       "                                ('cat', OneHotEncoder(handle_unknown='ignore'),\n",
       "                                 ['A1', 'A4', 'A5', 'A6', 'A8', 'A9', 'A11',\n",
       "                                  'A12'])])</pre></div></div></div><div class=\"sk-parallel\"><div class=\"sk-parallel-item\"><div class=\"sk-item\"><div class=\"sk-label-container\"><div class=\"sk-label sk-toggleable\"><input class=\"sk-toggleable__control sk-hidden--visually\" id=\"a19b4ca7-6da2-49af-928e-668e9934e1d6\" type=\"checkbox\" ><label class=\"sk-toggleable__label\" for=\"a19b4ca7-6da2-49af-928e-668e9934e1d6\">num</label><div class=\"sk-toggleable__content\"><pre>['A2', 'A3', 'A7', 'A10', 'A13', 'A14']</pre></div></div></div><div class=\"sk-serial\"><div class=\"sk-item\"><div class=\"sk-estimator sk-toggleable\"><input class=\"sk-toggleable__control sk-hidden--visually\" id=\"1bbd576b-9204-492b-a5b5-1d79e10ad07b\" type=\"checkbox\" ><label class=\"sk-toggleable__label\" for=\"1bbd576b-9204-492b-a5b5-1d79e10ad07b\">StandardScaler</label><div class=\"sk-toggleable__content\"><pre>StandardScaler()</pre></div></div></div></div></div></div><div class=\"sk-parallel-item\"><div class=\"sk-item\"><div class=\"sk-label-container\"><div class=\"sk-label sk-toggleable\"><input class=\"sk-toggleable__control sk-hidden--visually\" id=\"4562ecde-939b-483e-aff6-9ea089eed0ff\" type=\"checkbox\" ><label class=\"sk-toggleable__label\" for=\"4562ecde-939b-483e-aff6-9ea089eed0ff\">cat</label><div class=\"sk-toggleable__content\"><pre>['A1', 'A4', 'A5', 'A6', 'A8', 'A9', 'A11', 'A12']</pre></div></div></div><div class=\"sk-serial\"><div class=\"sk-item\"><div class=\"sk-estimator sk-toggleable\"><input class=\"sk-toggleable__control sk-hidden--visually\" id=\"54916258-bec9-4753-a832-830030751b15\" type=\"checkbox\" ><label class=\"sk-toggleable__label\" for=\"54916258-bec9-4753-a832-830030751b15\">OneHotEncoder</label><div class=\"sk-toggleable__content\"><pre>OneHotEncoder(handle_unknown='ignore')</pre></div></div></div></div></div></div></div></div><div class=\"sk-item\"><div class=\"sk-estimator sk-toggleable\"><input class=\"sk-toggleable__control sk-hidden--visually\" id=\"3a18f843-80a5-4577-a093-ec804b0cb322\" type=\"checkbox\" ><label class=\"sk-toggleable__label\" for=\"3a18f843-80a5-4577-a093-ec804b0cb322\">LogisticRegression</label><div class=\"sk-toggleable__content\"><pre>LogisticRegression()</pre></div></div></div></div></div></div></div></div></div></div></div></div>"
      ],
      "text/plain": [
       "GridSearchCV(cv=10,\n",
       "             estimator=Pipeline(steps=[('preprocessor',\n",
       "                                        ColumnTransformer(transformers=[('num',\n",
       "                                                                         StandardScaler(),\n",
       "                                                                         ['A2',\n",
       "                                                                          'A3',\n",
       "                                                                          'A7',\n",
       "                                                                          'A10',\n",
       "                                                                          'A13',\n",
       "                                                                          'A14']),\n",
       "                                                                        ('cat',\n",
       "                                                                         OneHotEncoder(handle_unknown='ignore'),\n",
       "                                                                         ['A1',\n",
       "                                                                          'A4',\n",
       "                                                                          'A5',\n",
       "                                                                          'A6',\n",
       "                                                                          'A8',\n",
       "                                                                          'A9',\n",
       "                                                                          'A11',\n",
       "                                                                          'A12'])])),\n",
       "                                       ('classifier', LogisticRegression())]),\n",
       "             param_grid={'classifier__C': [0.1, 1.0, 10, 100]})"
      ]
     },
     "execution_count": 12,
     "metadata": {},
     "output_type": "execute_result"
    }
   ],
   "source": [
    "param_grid = {\"classifier__C\": [0.1, 1.0, 10, 100]}\n",
    "\n",
    "grid_search = GridSearchCV(clf, param_grid, cv=10)\n",
    "grid_search"
   ]
  },
  {
   "cell_type": "code",
   "execution_count": 14,
   "id": "0dca50fc",
   "metadata": {},
   "outputs": [
    {
     "name": "stdout",
     "output_type": "stream",
     "text": [
      "Best params:\n",
      "{'classifier__C': 0.1}\n"
     ]
    }
   ],
   "source": [
    "import warnings\n",
    "warnings.filterwarnings('ignore')\n",
    "\n",
    "grid_search.fit(X_train, y_train)\n",
    "\n",
    "print(\"Best params:\")\n",
    "print(grid_search.best_params_)"
   ]
  },
  {
   "cell_type": "code",
   "execution_count": 15,
   "id": "5245701e",
   "metadata": {},
   "outputs": [
    {
     "name": "stdout",
     "output_type": "stream",
     "text": [
      "Internal CV score: 0.852\n"
     ]
    }
   ],
   "source": [
    "print(f\"Internal CV score: {grid_search.best_score_:.3f}\")"
   ]
  },
  {
   "cell_type": "markdown",
   "id": "86bcb403",
   "metadata": {},
   "source": [
    "#### We can also introspect the top grid search results as a pandas dataframe:"
   ]
  },
  {
   "cell_type": "code",
   "execution_count": 17,
   "id": "36429c2d",
   "metadata": {},
   "outputs": [
    {
     "data": {
      "text/html": [
       "<div>\n",
       "<style scoped>\n",
       "    .dataframe tbody tr th:only-of-type {\n",
       "        vertical-align: middle;\n",
       "    }\n",
       "\n",
       "    .dataframe tbody tr th {\n",
       "        vertical-align: top;\n",
       "    }\n",
       "\n",
       "    .dataframe thead th {\n",
       "        text-align: right;\n",
       "    }\n",
       "</style>\n",
       "<table border=\"1\" class=\"dataframe\">\n",
       "  <thead>\n",
       "    <tr style=\"text-align: right;\">\n",
       "      <th></th>\n",
       "      <th>mean_test_score</th>\n",
       "      <th>std_test_score</th>\n",
       "      <th>param_classifier__C</th>\n",
       "    </tr>\n",
       "  </thead>\n",
       "  <tbody>\n",
       "    <tr>\n",
       "      <th>0</th>\n",
       "      <td>0.851526</td>\n",
       "      <td>0.052167</td>\n",
       "      <td>0.1</td>\n",
       "    </tr>\n",
       "    <tr>\n",
       "      <th>1</th>\n",
       "      <td>0.846104</td>\n",
       "      <td>0.053580</td>\n",
       "      <td>1.0</td>\n",
       "    </tr>\n",
       "    <tr>\n",
       "      <th>2</th>\n",
       "      <td>0.842500</td>\n",
       "      <td>0.053432</td>\n",
       "      <td>10</td>\n",
       "    </tr>\n",
       "    <tr>\n",
       "      <th>3</th>\n",
       "      <td>0.837078</td>\n",
       "      <td>0.047485</td>\n",
       "      <td>100</td>\n",
       "    </tr>\n",
       "  </tbody>\n",
       "</table>\n",
       "</div>"
      ],
      "text/plain": [
       "   mean_test_score  std_test_score param_classifier__C\n",
       "0         0.851526        0.052167                 0.1\n",
       "1         0.846104        0.053580                 1.0\n",
       "2         0.842500        0.053432                  10\n",
       "3         0.837078        0.047485                 100"
      ]
     },
     "execution_count": 17,
     "metadata": {},
     "output_type": "execute_result"
    }
   ],
   "source": [
    "cv_results = pd.DataFrame(grid_search.cv_results_)\n",
    "cv_results = cv_results.sort_values(\"mean_test_score\", ascending=False)\n",
    "cv_results[\n",
    "    [\n",
    "        \"mean_test_score\",\n",
    "        \"std_test_score\",\n",
    "        \"param_classifier__C\",\n",
    "    ]\n",
    "].head(5)"
   ]
  },
  {
   "cell_type": "code",
   "execution_count": null,
   "id": "9e0c5dca",
   "metadata": {},
   "outputs": [],
   "source": []
  }
 ],
 "metadata": {
  "kernelspec": {
   "display_name": "Python 3 (ipykernel)",
   "language": "python",
   "name": "python3"
  },
  "language_info": {
   "codemirror_mode": {
    "name": "ipython",
    "version": 3
   },
   "file_extension": ".py",
   "mimetype": "text/x-python",
   "name": "python",
   "nbconvert_exporter": "python",
   "pygments_lexer": "ipython3",
   "version": "3.8.12"
  }
 },
 "nbformat": 4,
 "nbformat_minor": 5
}
