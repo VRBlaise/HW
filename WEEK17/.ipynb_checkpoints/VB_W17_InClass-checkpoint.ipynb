{
 "cells": [
  {
   "cell_type": "markdown",
   "id": "b0633a85",
   "metadata": {},
   "source": [
    "### 1. Write simple (straightforward) definitions for the following parameters for RandomForestClassifier and indicate how they correlate with the precision and recall for the basic diabetes model we built in class."
   ]
  },
  {
   "cell_type": "code",
   "execution_count": 1,
   "id": "9c7aae02",
   "metadata": {},
   "outputs": [
    {
     "data": {
      "text/html": [
       "<div>\n",
       "<style scoped>\n",
       "    .dataframe tbody tr th:only-of-type {\n",
       "        vertical-align: middle;\n",
       "    }\n",
       "\n",
       "    .dataframe tbody tr th {\n",
       "        vertical-align: top;\n",
       "    }\n",
       "\n",
       "    .dataframe thead th {\n",
       "        text-align: right;\n",
       "    }\n",
       "</style>\n",
       "<table border=\"1\" class=\"dataframe\">\n",
       "  <thead>\n",
       "    <tr style=\"text-align: right;\">\n",
       "      <th></th>\n",
       "      <th>Pregnancies</th>\n",
       "      <th>Glucose</th>\n",
       "      <th>BloodPressure</th>\n",
       "      <th>SkinThickness</th>\n",
       "      <th>Insulin</th>\n",
       "      <th>BMI</th>\n",
       "      <th>DiabetesPedigreeFunction</th>\n",
       "      <th>Age</th>\n",
       "      <th>Outcome</th>\n",
       "    </tr>\n",
       "  </thead>\n",
       "  <tbody>\n",
       "    <tr>\n",
       "      <th>0</th>\n",
       "      <td>6</td>\n",
       "      <td>148</td>\n",
       "      <td>72</td>\n",
       "      <td>35</td>\n",
       "      <td>0</td>\n",
       "      <td>33.6</td>\n",
       "      <td>0.627</td>\n",
       "      <td>50</td>\n",
       "      <td>1</td>\n",
       "    </tr>\n",
       "    <tr>\n",
       "      <th>1</th>\n",
       "      <td>1</td>\n",
       "      <td>85</td>\n",
       "      <td>66</td>\n",
       "      <td>29</td>\n",
       "      <td>0</td>\n",
       "      <td>26.6</td>\n",
       "      <td>0.351</td>\n",
       "      <td>31</td>\n",
       "      <td>0</td>\n",
       "    </tr>\n",
       "  </tbody>\n",
       "</table>\n",
       "</div>"
      ],
      "text/plain": [
       "   Pregnancies  Glucose  BloodPressure  SkinThickness  Insulin   BMI  \\\n",
       "0            6      148             72             35        0  33.6   \n",
       "1            1       85             66             29        0  26.6   \n",
       "\n",
       "   DiabetesPedigreeFunction  Age  Outcome  \n",
       "0                     0.627   50        1  \n",
       "1                     0.351   31        0  "
      ]
     },
     "execution_count": 1,
     "metadata": {},
     "output_type": "execute_result"
    }
   ],
   "source": [
    "from sklearn.metrics import classification_report, plot_confusion_matrix, accuracy_score\n",
    "from sklearn.ensemble import RandomForestClassifier\n",
    "from sklearn.model_selection import train_test_split\n",
    "from sklearn.preprocessing import StandardScaler\n",
    "import pandas as pd\n",
    "\n",
    "diabetes_df = pd.read_csv(\"diabetes.csv\")\n",
    "diabetes_df.head(2)"
   ]
  },
  {
   "cell_type": "code",
   "execution_count": 2,
   "id": "b305fc67",
   "metadata": {},
   "outputs": [],
   "source": [
    "X = diabetes_df.drop('Outcome', axis=1)\n",
    "y = diabetes_df['Outcome']\n",
    "\n",
    "# Split into training and test set\n",
    "X_train, X_test, y_train, y_test = train_test_split(X, y, test_size = 0.2, random_state=42, stratify=y)\n",
    "\n",
    "#Standardize\n",
    "sc= StandardScaler()\n",
    "X_train=sc.fit_transform(X_train)\n",
    "X_test=sc.fit_transform(X_test)"
   ]
  },
  {
   "cell_type": "code",
   "execution_count": 7,
   "id": "5b02f11f",
   "metadata": {},
   "outputs": [
    {
     "data": {
      "text/plain": [
       "RandomForestClassifier(random_state=42)"
      ]
     },
     "execution_count": 7,
     "metadata": {},
     "output_type": "execute_result"
    }
   ],
   "source": [
    "rf = RandomForestClassifier(random_state = 42) # running it with default parameters first\n",
    "rf.fit(X_train, y_train)"
   ]
  },
  {
   "cell_type": "code",
   "execution_count": 8,
   "id": "89bad0f8",
   "metadata": {},
   "outputs": [],
   "source": [
    "y_pred = rf.predict(X_test)"
   ]
  },
  {
   "cell_type": "code",
   "execution_count": 19,
   "id": "99617486",
   "metadata": {},
   "outputs": [
    {
     "name": "stdout",
     "output_type": "stream",
     "text": [
      "Accuracy: 0.749\n",
      "--------------------------------------------------\n",
      "Classification report:\n",
      "              precision    recall  f1-score   support\n",
      "\n",
      "           0       0.78      0.86      0.82       150\n",
      "           1       0.68      0.54      0.60        81\n",
      "\n",
      "    accuracy                           0.75       231\n",
      "   macro avg       0.73      0.70      0.71       231\n",
      "weighted avg       0.74      0.75      0.74       231\n",
      "\n"
     ]
    }
   ],
   "source": [
    "print(f\"Accuracy: {accuracy_score(y_test, y_pred):.3f}\")\n",
    "print(\"--------------------------------------------------\")\n",
    "print(\"Classification report:\")\n",
    "print(classification_report(y_test, y_pred))"
   ]
  },
  {
   "cell_type": "markdown",
   "id": "eec7bbed",
   "metadata": {},
   "source": [
    "#### Explore Number of Trees"
   ]
  },
  {
   "cell_type": "markdown",
   "id": "813667da",
   "metadata": {},
   "source": [
    "Number of trees denote the number of decision trees we populate the forest with"
   ]
  },
  {
   "cell_type": "code",
   "execution_count": 3,
   "id": "b69bfd31",
   "metadata": {},
   "outputs": [],
   "source": [
    "from numpy import mean\n",
    "from numpy import arange\n",
    "from numpy import std\n",
    "from numpy import linspace\n",
    "from matplotlib import pyplot as plt\n",
    "from sklearn.model_selection import cross_val_score\n",
    "from sklearn.model_selection import RepeatedStratifiedKFold"
   ]
  },
  {
   "cell_type": "code",
   "execution_count": 27,
   "id": "e2c78f75",
   "metadata": {},
   "outputs": [
    {
     "data": {
      "image/png": "[encoded data removed]",
      "text/plain": [
       "<Figure size 432x288 with 1 Axes>"
      ]
     },
     "metadata": {
      "needs_background": "light"
     },
     "output_type": "display_data"
    }
   ],
   "source": [
    "# get a list of models to evaluate\n",
    "def get_models():\n",
    "    models = dict()\n",
    "    # define number of trees to consider\n",
    "    n_trees = [10, 50, 100, 500, 1000]\n",
    "    for n in n_trees:\n",
    "        models[str(n)] = RandomForestClassifier(n_estimators = n, random_state=42)\n",
    "    return models\n",
    " \n",
    "# evaluate a given model using cross-validation\n",
    "def evaluate_model(model, X, y):\n",
    "    # define the evaluation procedure\n",
    "    cv = RepeatedStratifiedKFold(n_splits=5, n_repeats=10, random_state=42)\n",
    "    # evaluate the model and collect the results\n",
    "    scores = cross_val_score(model, X, y, scoring='precision', cv=cv, n_jobs=-1)\n",
    "    return scores\n",
    " \n",
    "# get the models to evaluate\n",
    "models = get_models()\n",
    "\n",
    "# evaluate the models and store results\n",
    "results, names = list(), list()\n",
    "for name, model in models.items():\n",
    "    # evaluate the model\n",
    "    scores = evaluate_model(model, X_train, y_train) # X_train and y_train are randomized, so I prefer to use over original data\n",
    "    # store the results\n",
    "    results.append(scores)\n",
    "    names.append(name)\n",
    "\n",
    "# plot model performance for comparison\n",
    "plt.boxplot(results, labels=names, showmeans=True)\n",
    "plt.title('Effect of number of trees on precision')\n",
    "plt.xlabel('Number of trees')\n",
    "plt.ylabel('Precision')\n",
    "plt.show()"
   ]
  },
  {
   "cell_type": "markdown",
   "id": "b2d7daaf",
   "metadata": {},
   "source": [
    "##### The precision increases till a certain point if we increase the number of trees, the optimum being around 50 trees"
   ]
  },
  {
   "cell_type": "code",
   "execution_count": 28,
   "id": "1483b808",
   "metadata": {},
   "outputs": [
    {
     "data": {
      "image/png": "[encoded data removed]",
      "text/plain": [
       "<Figure size 432x288 with 1 Axes>"
      ]
     },
     "metadata": {
      "needs_background": "light"
     },
     "output_type": "display_data"
    }
   ],
   "source": [
    "# evaluate a given model using cross-validation\n",
    "def evaluate_model(model, X, y):\n",
    "    # define the evaluation procedure\n",
    "    cv = RepeatedStratifiedKFold(n_splits=5, n_repeats=10, random_state=42)\n",
    "    # evaluate the model and collect the results\n",
    "    scores = cross_val_score(model, X, y, scoring='recall', cv=cv, n_jobs=-1)\n",
    "    return scores\n",
    " \n",
    "# get the models to evaluate\n",
    "models = get_models()\n",
    "\n",
    "# evaluate the models and store results\n",
    "results, names = list(), list()\n",
    "for name, model in models.items():\n",
    "    # evaluate the model\n",
    "    scores = evaluate_model(model, X_train, y_train)\n",
    "    # store the results\n",
    "    results.append(scores)\n",
    "    names.append(name)\n",
    "\n",
    "# plot model performance for comparison\n",
    "plt.boxplot(results, labels=names, showmeans=True)\n",
    "plt.title('Effect of number of trees on recall')\n",
    "plt.xlabel('Number of trees')\n",
    "plt.ylabel('Recall')\n",
    "plt.show()"
   ]
  },
  {
   "cell_type": "markdown",
   "id": "ae02a35b",
   "metadata": {},
   "source": [
    "##### The recall also improves as we increase the number of trees, but the effect levels off at around 100 trees."
   ]
  },
  {
   "cell_type": "markdown",
   "id": "90285581",
   "metadata": {},
   "source": [
    "#### Effect of max_depth"
   ]
  },
  {
   "cell_type": "markdown",
   "id": "18a3c421",
   "metadata": {},
   "source": [
    "Maximal depth denotes the maximal allowed distance (in number of splits) from the top to bottom of each tree."
   ]
  },
  {
   "cell_type": "code",
   "execution_count": 31,
   "id": "f9f4162f",
   "metadata": {},
   "outputs": [
    {
     "data": {
      "image/png": "[encoded data removed]",
      "text/plain": [
       "<Figure size 432x288 with 1 Axes>"
      ]
     },
     "metadata": {
      "needs_background": "light"
     },
     "output_type": "display_data"
    }
   ],
   "source": [
    "def get_models():\n",
    "    models = dict()\n",
    "    # consider tree depths from 1 to 7 and None=full\n",
    "    depths = [i for i in range(1,20)] + [None]\n",
    "    for n in depths:\n",
    "        models[str(n)] = RandomForestClassifier(max_depth=n, random_state=42)\n",
    "    return models\n",
    "\n",
    "# evaluate a given model using cross-validation\n",
    "def evaluate_model(model, X, y):\n",
    "    # define the evaluation procedure\n",
    "    cv = RepeatedStratifiedKFold(n_splits=5, n_repeats=10, random_state=42)\n",
    "    # evaluate the model and collect the results\n",
    "    scores = cross_val_score(model, X, y, scoring='precision', cv=cv, n_jobs=-1)\n",
    "    return scores\n",
    " \n",
    "# get the models to evaluate\n",
    "models = get_models()\n",
    "\n",
    "# evaluate the models and store results\n",
    "results, names = list(), list()\n",
    "for name, model in models.items():\n",
    "    # evaluate the model\n",
    "    scores = evaluate_model(model, X_train, y_train) # X_train and y_train are randomized, so I prefer to use over original data\n",
    "    # store the results\n",
    "    results.append(scores)\n",
    "    names.append(name)\n",
    "\n",
    "# plot model performance for comparison\n",
    "plt.boxplot(results, labels=names, showmeans=True)\n",
    "plt.title('Effect of pruning on precision')\n",
    "plt.xlabel('Maximal depth')\n",
    "plt.ylabel('Precision')\n",
    "plt.show()"
   ]
  },
  {
   "cell_type": "markdown",
   "id": "84b516c3",
   "metadata": {},
   "source": [
    "##### The precision slightly decreases as we allow more depth. To be honest it is not entirely clear why it would be so..."
   ]
  },
  {
   "cell_type": "code",
   "execution_count": 32,
   "id": "91503cdf",
   "metadata": {},
   "outputs": [
    {
     "data": {
      "image/png": "[encoded data removed]",
      "text/plain": [
       "<Figure size 432x288 with 1 Axes>"
      ]
     },
     "metadata": {
      "needs_background": "light"
     },
     "output_type": "display_data"
    }
   ],
   "source": [
    "def evaluate_model(model, X, y):\n",
    "    # define the evaluation procedure\n",
    "    cv = RepeatedStratifiedKFold(n_splits=5, n_repeats=10, random_state=42)\n",
    "    # evaluate the model and collect the results\n",
    "    scores = cross_val_score(model, X, y, scoring='recall', cv=cv, n_jobs=-1)\n",
    "    return scores\n",
    " \n",
    "# get the models to evaluate\n",
    "models = get_models()\n",
    "\n",
    "# evaluate the models and store results\n",
    "results, names = list(), list()\n",
    "for name, model in models.items():\n",
    "    # evaluate the model\n",
    "    scores = evaluate_model(model, X_train, y_train)\n",
    "    # store the results\n",
    "    results.append(scores)\n",
    "    names.append(name)\n",
    "\n",
    "# plot model performance for comparison\n",
    "plt.boxplot(results, labels=names, showmeans=True)\n",
    "plt.title('Effect of pruning on recall')\n",
    "plt.xlabel('Maximal depth')\n",
    "plt.ylabel('Recall')\n",
    "plt.show()"
   ]
  },
  {
   "cell_type": "markdown",
   "id": "f2cf5fc8",
   "metadata": {},
   "source": [
    "##### Increasing the maximal depth increases recall untill it levels off around the value of 10."
   ]
  },
  {
   "cell_type": "markdown",
   "id": "df8c6e3d",
   "metadata": {},
   "source": [
    "#### Effect of min_samples_split"
   ]
  },
  {
   "cell_type": "markdown",
   "id": "071f36c4",
   "metadata": {},
   "source": [
    "min_samples_split represents the minimum number of samples required to split an internal node. This can vary between at least one sample at each node to all of the samples at each node. Increasing this parameter each tree in the forest becomes more constrained as it has to consider more samples at each node."
   ]
  },
  {
   "cell_type": "code",
   "execution_count": 13,
   "id": "53519d11",
   "metadata": {},
   "outputs": [],
   "source": [
    "def get_models():\n",
    "    models = dict()\n",
    "    min_samples_splits = linspace(0.1, 1.0, 10, endpoint=True)\n",
    "    for split in min_samples_splits:\n",
    "        models[str(round(split, 2))] = RandomForestClassifier(min_samples_split = split, random_state=42)\n",
    "    return models\n",
    "\n",
    "# evaluate a given model using cross-validation\n",
    "def evaluate_model(model, X, y):\n",
    "    # define the evaluation procedure\n",
    "    cv = RepeatedStratifiedKFold(n_splits=5, n_repeats=10, random_state=42)\n",
    "    # evaluate the model and collect the results\n",
    "    scores = cross_val_score(model, X, y, scoring='precision', cv=cv, n_jobs=-1)\n",
    "    return scores\n",
    " \n",
    "# get the models to evaluate\n",
    "models = get_models()\n",
    "\n",
    "# evaluate the models and store results\n",
    "results, names = list(), list()\n",
    "for name, model in models.items():\n",
    "    # evaluate the model\n",
    "    scores = evaluate_model(model, X_train, y_train) # X_train and y_train are randomized, so I prefer to use over original data\n",
    "    # store the results\n",
    "    results.append(scores)\n",
    "    names.append(name)"
   ]
  },
  {
   "cell_type": "code",
   "execution_count": 14,
   "id": "f54bc5fa",
   "metadata": {},
   "outputs": [
    {
     "data": {
      "image/png": "[encoded data removed]",
      "text/plain": [
       "<Figure size 936x216 with 1 Axes>"
      ]
     },
     "metadata": {
      "needs_background": "light"
     },
     "output_type": "display_data"
    }
   ],
   "source": [
    "# plot model performance for comparison\n",
    "plt.figure(figsize=(13, 3))\n",
    "plt.boxplot(results, labels=names, showmeans=True)\n",
    "plt.title('Effect of minimal sample splits on precision')\n",
    "plt.xlabel('Minimal sample splits')\n",
    "plt.ylabel('Precision')\n",
    "plt.show()"
   ]
  },
  {
   "cell_type": "markdown",
   "id": "45df3044",
   "metadata": {},
   "source": [
    "##### Precision increases slightly when increasing the minimal samples per split to 60%, after which it decreases sharply (above this we allow only one single split per tree)"
   ]
  },
  {
   "cell_type": "code",
   "execution_count": 15,
   "id": "086d717a",
   "metadata": {},
   "outputs": [
    {
     "data": {
      "image/png": "[encoded data removed]",
      "text/plain": [
       "<Figure size 936x216 with 1 Axes>"
      ]
     },
     "metadata": {
      "needs_background": "light"
     },
     "output_type": "display_data"
    }
   ],
   "source": [
    "# evaluate a given model using cross-validation\n",
    "def evaluate_model(model, X, y):\n",
    "    # define the evaluation procedure\n",
    "    cv = RepeatedStratifiedKFold(n_splits=5, n_repeats=10, random_state=42)\n",
    "    # evaluate the model and collect the results\n",
    "    scores = cross_val_score(model, X, y, scoring='recall', cv=cv, n_jobs=-1)\n",
    "    return scores\n",
    " \n",
    "# get the models to evaluate\n",
    "models = get_models()\n",
    "\n",
    "# evaluate the models and store results\n",
    "results, names = list(), list()\n",
    "for name, model in models.items():\n",
    "    # evaluate the model\n",
    "    scores = evaluate_model(model, X_train, y_train) # X_train and y_train are randomized, so I prefer to use over original data\n",
    "    # store the results\n",
    "    results.append(scores)\n",
    "    names.append(name)\n",
    "\n",
    "# plot model performance for comparison\n",
    "plt.figure(figsize=(13, 3))\n",
    "plt.boxplot(results, labels=names, showmeans=True)\n",
    "plt.title('Effect of minimal sample splits on recall')\n",
    "plt.xlabel('Minimal sample splits')\n",
    "plt.ylabel('Recall')\n",
    "plt.show()"
   ]
  },
  {
   "cell_type": "markdown",
   "id": "5d2cd313",
   "metadata": {},
   "source": [
    "##### Recall decreases monotonically as we increase the amount of samples in a node necessary to consider a split."
   ]
  },
  {
   "cell_type": "markdown",
   "id": "f3a264e5",
   "metadata": {},
   "source": [
    "#### Effect of min_samples_leaf"
   ]
  },
  {
   "cell_type": "markdown",
   "id": "2359cc57",
   "metadata": {},
   "source": [
    "Denotes the number of samples that must be present at least in every leaf of the tree."
   ]
  },
  {
   "cell_type": "code",
   "execution_count": 12,
   "id": "6a037da3",
   "metadata": {},
   "outputs": [],
   "source": [
    "def get_models():\n",
    "    models = dict()\n",
    "    min_samples_leaf = linspace(0.05, 0.5, 11, endpoint=True)    \n",
    "    for sample in min_samples_leaf:\n",
    "        models[str(round(sample, 2))] = RandomForestClassifier(min_samples_leaf = sample, random_state=42)\n",
    "    return models\n",
    "\n",
    "# evaluate a given model using cross-validation\n",
    "def evaluate_model(model, X, y):\n",
    "    # define the evaluation procedure\n",
    "    cv = RepeatedStratifiedKFold(n_splits=5, n_repeats=10, random_state=42)\n",
    "    # evaluate the model and collect the results\n",
    "    scores = cross_val_score(model, X, y, scoring='precision', cv=cv, n_jobs=-1)\n",
    "    return scores\n",
    " \n",
    "# get the models to evaluate\n",
    "models = get_models()\n",
    "\n",
    "# evaluate the models and store results\n",
    "results, names = list(), list()\n",
    "for name, model in models.items():\n",
    "    # evaluate the model\n",
    "    scores = evaluate_model(model, X_train, y_train) # X_train and y_train are randomized, so I prefer to use over original data\n",
    "    # store the results\n",
    "    results.append(scores)\n",
    "    names.append(name)"
   ]
  },
  {
   "cell_type": "code",
   "execution_count": 13,
   "id": "e224ee92",
   "metadata": {},
   "outputs": [
    {
     "data": {
      "image/png": "[encoded data removed]",
      "text/plain": [
       "<Figure size 936x216 with 1 Axes>"
      ]
     },
     "metadata": {
      "needs_background": "light"
     },
     "output_type": "display_data"
    }
   ],
   "source": [
    "# plot model performance for comparison\n",
    "plt.figure(figsize=(13, 3))\n",
    "plt.boxplot(results, labels=names, showmeans=True)\n",
    "plt.title('Effect of minimal samples per leaf on precision')\n",
    "plt.xlabel('Minimal samples per leaf')\n",
    "plt.ylabel('Precision')\n",
    "plt.show()"
   ]
  },
  {
   "cell_type": "markdown",
   "id": "9a8cd79a",
   "metadata": {},
   "source": [
    "##### Precision does not change as we increase the minimal samples per leaves up to 20%, after which it drops suddenly."
   ]
  },
  {
   "cell_type": "code",
   "execution_count": 14,
   "id": "ed6e35b6",
   "metadata": {},
   "outputs": [],
   "source": [
    "def evaluate_model(model, X, y):\n",
    "    # define the evaluation procedure\n",
    "    cv = RepeatedStratifiedKFold(n_splits=5, n_repeats=10, random_state=42)\n",
    "    # evaluate the model and collect the results\n",
    "    scores = cross_val_score(model, X, y, scoring='recall', cv=cv, n_jobs=-1)\n",
    "    return scores\n",
    " \n",
    "# get the models to evaluate\n",
    "models = get_models()\n",
    "\n",
    "# evaluate the models and store results\n",
    "results, names = list(), list()\n",
    "for name, model in models.items():\n",
    "    # evaluate the model\n",
    "    scores = evaluate_model(model, X_train, y_train) # X_train and y_train are randomized, so I prefer to use over original data\n",
    "    # store the results\n",
    "    results.append(scores)\n",
    "    names.append(name)"
   ]
  },
  {
   "cell_type": "code",
   "execution_count": 15,
   "id": "5e23c5dc",
   "metadata": {},
   "outputs": [
    {
     "data": {
      "image/png": "[encoded data removed]",
      "text/plain": [
       "<Figure size 936x216 with 1 Axes>"
      ]
     },
     "metadata": {
      "needs_background": "light"
     },
     "output_type": "display_data"
    }
   ],
   "source": [
    "# plot model performance for comparison\n",
    "plt.figure(figsize=(13, 3))\n",
    "plt.boxplot(results, labels=names, showmeans=True)\n",
    "plt.title('Effect of minimal samples per leaf on recall')\n",
    "plt.xlabel('Minimal samples per leaf')\n",
    "plt.ylabel('Recall')\n",
    "plt.show()"
   ]
  },
  {
   "cell_type": "markdown",
   "id": "8e22d715",
   "metadata": {},
   "source": [
    "##### Recall decreases as we increase the minimal samples per leaf."
   ]
  },
  {
   "cell_type": "markdown",
   "id": "1bf861ce",
   "metadata": {},
   "source": [
    "#### Effect of min_weight_fraction_leaf"
   ]
  },
  {
   "cell_type": "markdown",
   "id": "47a06d58",
   "metadata": {},
   "source": [
    "Similar to min sample leafs, but uses fractions instead"
   ]
  },
  {
   "cell_type": "code",
   "execution_count": 16,
   "id": "a80e6b07",
   "metadata": {},
   "outputs": [],
   "source": [
    "def get_models():\n",
    "    models = dict()\n",
    "    min_weight_fraction_leaf = linspace(0.05, 0.5, 11, endpoint=True)\n",
    "    for fraction in min_weight_fraction_leaf:\n",
    "        models[str(round(fraction, 2))] = RandomForestClassifier(min_weight_fraction_leaf = fraction, random_state=42)\n",
    "    return models\n",
    "\n",
    "# evaluate a given model using cross-validation\n",
    "def evaluate_model(model, X, y):\n",
    "    # define the evaluation procedure\n",
    "    cv = RepeatedStratifiedKFold(n_splits=5, n_repeats=10, random_state=42)\n",
    "    # evaluate the model and collect the results\n",
    "    scores = cross_val_score(model, X, y, scoring='precision', cv=cv, n_jobs=-1)\n",
    "    return scores\n",
    " \n",
    "# get the models to evaluate\n",
    "models = get_models()\n",
    "\n",
    "# evaluate the models and store results\n",
    "results, names = list(), list()\n",
    "for name, model in models.items():\n",
    "    # evaluate the model\n",
    "    scores = evaluate_model(model, X_train, y_train) # X_train and y_train are randomized, so I prefer to use over original data\n",
    "    # store the results\n",
    "    results.append(scores)\n",
    "    names.append(name)"
   ]
  },
  {
   "cell_type": "code",
   "execution_count": 17,
   "id": "ec8ed67b",
   "metadata": {},
   "outputs": [
    {
     "data": {
      "image/png": "[encoded data removed]",
      "text/plain": [
       "<Figure size 936x216 with 1 Axes>"
      ]
     },
     "metadata": {
      "needs_background": "light"
     },
     "output_type": "display_data"
    }
   ],
   "source": [
    "# plot model performance for comparison\n",
    "plt.figure(figsize=(13, 3))\n",
    "plt.boxplot(results, labels=names, showmeans=True)\n",
    "plt.title('Effect of minimal weigth fraction per leaf on precision')\n",
    "plt.xlabel('Minimal weigth fraction per leaf')\n",
    "plt.ylabel('Precision')\n",
    "plt.show()"
   ]
  },
  {
   "cell_type": "code",
   "execution_count": 18,
   "id": "60787419",
   "metadata": {},
   "outputs": [],
   "source": [
    "def evaluate_model(model, X, y):\n",
    "    # define the evaluation procedure\n",
    "    cv = RepeatedStratifiedKFold(n_splits=5, n_repeats=10, random_state=42)\n",
    "    # evaluate the model and collect the results\n",
    "    scores = cross_val_score(model, X, y, scoring='recall', cv=cv, n_jobs=-1)\n",
    "    return scores\n",
    " \n",
    "# get the models to evaluate\n",
    "models = get_models()\n",
    "\n",
    "# evaluate the models and store results\n",
    "results, names = list(), list()\n",
    "for name, model in models.items():\n",
    "    # evaluate the model\n",
    "    scores = evaluate_model(model, X_train, y_train) # X_train and y_train are randomized, so I prefer to use over original data\n",
    "    # store the results\n",
    "    results.append(scores)\n",
    "    names.append(name)"
   ]
  },
  {
   "cell_type": "code",
   "execution_count": 19,
   "id": "a68c5406",
   "metadata": {},
   "outputs": [
    {
     "data": {
      "image/png": "[encoded data removed]",
      "text/plain": [
       "<Figure size 936x216 with 1 Axes>"
      ]
     },
     "metadata": {
      "needs_background": "light"
     },
     "output_type": "display_data"
    }
   ],
   "source": [
    "# plot model performance for comparison\n",
    "plt.figure(figsize=(13, 3))\n",
    "plt.boxplot(results, labels=names, showmeans=True)\n",
    "plt.title('Effect of minimal weigth fraction per leaf on recall')\n",
    "plt.xlabel('Minimal weigth fraction per leaf')\n",
    "plt.ylabel('Recall')\n",
    "plt.show()"
   ]
  },
  {
   "cell_type": "markdown",
   "id": "ab09693f",
   "metadata": {},
   "source": [
    "##### Both for precision and recall the effect is the same as for the minimal samples per leaf, only the cutoff shifts a bit to higher ration."
   ]
  },
  {
   "cell_type": "markdown",
   "id": "a292f3a5",
   "metadata": {},
   "source": [
    "#### Effect of max_leaf_nodes"
   ]
  },
  {
   "cell_type": "markdown",
   "id": "8c267c6f",
   "metadata": {},
   "source": [
    "Sets the maximal allowed number of terminal nodes (summed for all branches of the tree)."
   ]
  },
  {
   "cell_type": "code",
   "execution_count": 21,
   "id": "b5389b48",
   "metadata": {},
   "outputs": [],
   "source": [
    "def get_models():\n",
    "    models = dict()\n",
    "    max_leaf_nodes = [3*i for i in range(1, 20)]\n",
    "    for nodes in max_leaf_nodes:\n",
    "        models[str(nodes)] = RandomForestClassifier(max_leaf_nodes = nodes, random_state=42)\n",
    "    return models\n",
    "\n",
    "# evaluate a given model using cross-validation\n",
    "def evaluate_model(model, X, y):\n",
    "    # define the evaluation procedure\n",
    "    cv = RepeatedStratifiedKFold(n_splits=5, n_repeats=10, random_state=42)\n",
    "    # evaluate the model and collect the results\n",
    "    scores = cross_val_score(model, X, y, scoring='precision', cv=cv, n_jobs=-1)\n",
    "    return scores\n",
    " \n",
    "# get the models to evaluate\n",
    "models = get_models()\n",
    "\n",
    "# evaluate the models and store results\n",
    "results, names = list(), list()\n",
    "for name, model in models.items():\n",
    "    # evaluate the model\n",
    "    scores = evaluate_model(model, X_train, y_train) # X_train and y_train are randomized, so I prefer to use over original data\n",
    "    # store the results\n",
    "    results.append(scores)\n",
    "    names.append(name)"
   ]
  },
  {
   "cell_type": "code",
   "execution_count": 22,
   "id": "400474f5",
   "metadata": {},
   "outputs": [
    {
     "data": {
      "image/png": "[encoded data removed]",
      "text/plain": [
       "<Figure size 1152x360 with 1 Axes>"
      ]
     },
     "metadata": {
      "needs_background": "light"
     },
     "output_type": "display_data"
    }
   ],
   "source": [
    "# plot model performance for comparison\n",
    "plt.figure(figsize=(16, 5))\n",
    "plt.boxplot(results, labels=names, showmeans=True)\n",
    "plt.title('Effect of maximal terminal nodes on precision')\n",
    "plt.xlabel('Number of maximal terminal nodes')\n",
    "plt.ylabel('Precision')\n",
    "plt.show()"
   ]
  },
  {
   "cell_type": "markdown",
   "id": "49cef70a",
   "metadata": {},
   "source": [
    "##### The number of maximal nodes does not have a clear effect on precision."
   ]
  },
  {
   "cell_type": "code",
   "execution_count": 23,
   "id": "3515d7d4",
   "metadata": {},
   "outputs": [],
   "source": [
    "# evaluate a given model using cross-validation\n",
    "def evaluate_model(model, X, y):\n",
    "    # define the evaluation procedure\n",
    "    cv = RepeatedStratifiedKFold(n_splits=5, n_repeats=10, random_state=42)\n",
    "    # evaluate the model and collect the results\n",
    "    scores = cross_val_score(model, X, y, scoring='recall', cv=cv, n_jobs=-1)\n",
    "    return scores\n",
    " \n",
    "# get the models to evaluate\n",
    "models = get_models()\n",
    "\n",
    "# evaluate the models and store results\n",
    "results, names = list(), list()\n",
    "for name, model in models.items():\n",
    "    # evaluate the model\n",
    "    scores = evaluate_model(model, X_train, y_train) # X_train and y_train are randomized, so I prefer to use over original data\n",
    "    # store the results\n",
    "    results.append(scores)\n",
    "    names.append(name)"
   ]
  },
  {
   "cell_type": "code",
   "execution_count": 24,
   "id": "a9b07444",
   "metadata": {},
   "outputs": [
    {
     "data": {
      "image/png": "[encoded data removed]",
      "text/plain": [
       "<Figure size 1152x360 with 1 Axes>"
      ]
     },
     "metadata": {
      "needs_background": "light"
     },
     "output_type": "display_data"
    }
   ],
   "source": [
    "# plot model performance for comparison\n",
    "plt.figure(figsize=(16, 5))\n",
    "plt.boxplot(results, labels=names, showmeans=True)\n",
    "plt.title('Effect of maximal terminal nodes on recall')\n",
    "plt.xlabel('Number of maximal terminal nodes')\n",
    "plt.ylabel('Recall')\n",
    "plt.show()"
   ]
  },
  {
   "cell_type": "markdown",
   "id": "6b325588",
   "metadata": {},
   "source": [
    "##### At the same time recall increases with increasing number of terminal nodes and reaches saturation around 20 nodes."
   ]
  },
  {
   "cell_type": "markdown",
   "id": "68124ee9",
   "metadata": {},
   "source": [
    "#### Effect of min_impurity_decrease"
   ]
  },
  {
   "cell_type": "markdown",
   "id": "076affeb",
   "metadata": {},
   "source": [
    "#### Calculation of impurity decrease\n",
    "\n",
    "Take the impurity of the right side of the split and weight it by the percentage of samples in the right split from the node.\n",
    "\n",
    "Take the impurity of the left side of the split and weight it by the percentage of samples in the left split from the node.\n",
    "\n",
    "Subtract both of those from the node impurity.\n",
    "\n",
    "Weight that amount by the percentage of samples in the node compared to the total number of samples."
   ]
  },
  {
   "cell_type": "code",
   "execution_count": 27,
   "id": "d979b568",
   "metadata": {},
   "outputs": [],
   "source": [
    "def get_models():\n",
    "    models = dict()\n",
    "    min_impurity_decrease = linspace(0.01, 0.2, 21, endpoint = True)\n",
    "    for decrease in min_impurity_decrease:\n",
    "        models[str(round(decrease, 2))] = RandomForestClassifier(min_impurity_decrease = decrease, random_state=42)\n",
    "    return models\n",
    "\n",
    "# evaluate a given model using cross-validation\n",
    "def evaluate_model(model, X, y):\n",
    "    # define the evaluation procedure\n",
    "    cv = RepeatedStratifiedKFold(n_splits=5, n_repeats=10, random_state=42)\n",
    "    # evaluate the model and collect the results\n",
    "    scores = cross_val_score(model, X, y, scoring='precision', cv=cv, n_jobs=-1)\n",
    "    return scores\n",
    " \n",
    "# get the models to evaluate\n",
    "models = get_models()\n",
    "\n",
    "# evaluate the models and store results\n",
    "results, names = list(), list()\n",
    "for name, model in models.items():\n",
    "    # evaluate the model\n",
    "    scores = evaluate_model(model, X_train, y_train) # X_train and y_train are randomized, so I prefer to use over original data\n",
    "    # store the results\n",
    "    results.append(scores)\n",
    "    names.append(name)"
   ]
  },
  {
   "cell_type": "code",
   "execution_count": 28,
   "id": "1d5af046",
   "metadata": {},
   "outputs": [
    {
     "data": {
      "image/png": "[encoded data removed]",
      "text/plain": [
       "<Figure size 1152x360 with 1 Axes>"
      ]
     },
     "metadata": {
      "needs_background": "light"
     },
     "output_type": "display_data"
    }
   ],
   "source": [
    "# plot model performance for comparison\n",
    "plt.figure(figsize=(16, 5))\n",
    "plt.boxplot(results, labels=names, showmeans=True)\n",
    "plt.title('Effect of minimal impurity decrease on precision')\n",
    "plt.xlabel('Minimal impurity decrease')\n",
    "plt.ylabel('Precision')\n",
    "plt.show()"
   ]
  },
  {
   "cell_type": "markdown",
   "id": "b5d87a95",
   "metadata": {},
   "source": [
    "##### Precision increases if we increase minimal impurity decrease, but it starts to decrease around 0.03 and cuts off to 0 around 0.07."
   ]
  },
  {
   "cell_type": "code",
   "execution_count": 29,
   "id": "ed3d4a84",
   "metadata": {},
   "outputs": [],
   "source": [
    "def evaluate_model(model, X, y):\n",
    "    # define the evaluation procedure\n",
    "    cv = RepeatedStratifiedKFold(n_splits=5, n_repeats=10, random_state=42)\n",
    "    # evaluate the model and collect the results\n",
    "    scores = cross_val_score(model, X, y, scoring='recall', cv=cv, n_jobs=-1)\n",
    "    return scores\n",
    " \n",
    "# get the models to evaluate\n",
    "models = get_models()\n",
    "\n",
    "# evaluate the models and store results\n",
    "results, names = list(), list()\n",
    "for name, model in models.items():\n",
    "    # evaluate the model\n",
    "    scores = evaluate_model(model, X_train, y_train) # X_train and y_train are randomized, so I prefer to use over original data\n",
    "    # store the results\n",
    "    results.append(scores)\n",
    "    names.append(name)"
   ]
  },
  {
   "cell_type": "code",
   "execution_count": 30,
   "id": "f0ced1cd",
   "metadata": {},
   "outputs": [
    {
     "data": {
      "image/png": "[encoded data removed]",
      "text/plain": [
       "<Figure size 1152x360 with 1 Axes>"
      ]
     },
     "metadata": {
      "needs_background": "light"
     },
     "output_type": "display_data"
    }
   ],
   "source": [
    "# plot model performance for comparison\n",
    "plt.figure(figsize=(16, 5))\n",
    "plt.boxplot(results, labels=names, showmeans=True)\n",
    "plt.title('Effect of minimal impurity decrease on recall')\n",
    "plt.xlabel('Minimal impurity decrease')\n",
    "plt.ylabel('Recall')\n",
    "plt.show()"
   ]
  },
  {
   "cell_type": "markdown",
   "id": "80b70fac",
   "metadata": {},
   "source": [
    "##### Increasing the minimal impurity decrease necessary decreases recall monotonically."
   ]
  },
  {
   "cell_type": "markdown",
   "id": "7024fd37",
   "metadata": {},
   "source": [
    "#### Effect of min_impurity_split"
   ]
  },
  {
   "cell_type": "markdown",
   "id": "32972722",
   "metadata": {},
   "source": [
    "Min impurity split is deprecated and has been replaced by min impurity decrease..."
   ]
  },
  {
   "cell_type": "markdown",
   "id": "f9a803f4",
   "metadata": {},
   "source": [
    "### 2. How does setting bootstrap=False influence the model performance? Note: the default is bootstrap=True. Explain why your results might be so."
   ]
  },
  {
   "cell_type": "code",
   "execution_count": 32,
   "id": "749bde83",
   "metadata": {},
   "outputs": [
    {
     "name": "stdout",
     "output_type": "stream",
     "text": [
      "Accuracy: 0.747\n",
      "--------------------------------------------------\n",
      "Classification report:\n",
      "              precision    recall  f1-score   support\n",
      "\n",
      "           0       0.79      0.83      0.81       100\n",
      "           1       0.65      0.59      0.62        54\n",
      "\n",
      "    accuracy                           0.75       154\n",
      "   macro avg       0.72      0.71      0.72       154\n",
      "weighted avg       0.74      0.75      0.74       154\n",
      "\n"
     ]
    }
   ],
   "source": [
    "rf = RandomForestClassifier(bootstrap = False, random_state = 42) # running it with default parameters first\n",
    "rf.fit(X_train, y_train)\n",
    "y_pred = rf.predict(X_test)\n",
    "\n",
    "print(f\"Accuracy: {accuracy_score(y_test, y_pred):.3f}\")\n",
    "print(\"--------------------------------------------------\")\n",
    "print(\"Classification report:\")\n",
    "print(classification_report(y_test, y_pred))"
   ]
  },
  {
   "cell_type": "markdown",
   "id": "31e729fb",
   "metadata": {},
   "source": [
    "Both recall and precision decreased slightly, which is not surprising in view that the whole dataset is used for every tree, making the trees less divergent"
   ]
  },
  {
   "cell_type": "code",
   "execution_count": null,
   "id": "c3b5d2ad",
   "metadata": {},
   "outputs": [],
   "source": []
  }
 ],
 "metadata": {
  "kernelspec": {
   "display_name": "Python 3 (ipykernel)",
   "language": "python",
   "name": "python3"
  },
  "language_info": {
   "codemirror_mode": {
    "name": "ipython",
    "version": 3
   },
   "file_extension": ".py",
   "mimetype": "text/x-python",
   "name": "python",
   "nbconvert_exporter": "python",
   "pygments_lexer": "ipython3",
   "version": "3.8.12"
  }
 },
 "nbformat": 4,
 "nbformat_minor": 5
}
