{
 "cells": [
  {
   "cell_type": "markdown",
   "id": "995ac2ec",
   "metadata": {},
   "source": [
    "### 1. Take one of the supervised learning models you have built recently and apply at least three dimensionality reduction techniques to it (separately). Be sure to create a short summary of each technique you use. Indicate how each changed the model performance"
   ]
  },
  {
   "cell_type": "code",
   "execution_count": 94,
   "id": "9632ff99",
   "metadata": {},
   "outputs": [
    {
     "data": {
      "text/html": [
       "<div>\n",
       "<style scoped>\n",
       "    .dataframe tbody tr th:only-of-type {\n",
       "        vertical-align: middle;\n",
       "    }\n",
       "\n",
       "    .dataframe tbody tr th {\n",
       "        vertical-align: top;\n",
       "    }\n",
       "\n",
       "    .dataframe thead th {\n",
       "        text-align: right;\n",
       "    }\n",
       "</style>\n",
       "<table border=\"1\" class=\"dataframe\">\n",
       "  <thead>\n",
       "    <tr style=\"text-align: right;\">\n",
       "      <th></th>\n",
       "      <th>A1</th>\n",
       "      <th>A2</th>\n",
       "      <th>A3</th>\n",
       "      <th>A4</th>\n",
       "      <th>A5</th>\n",
       "      <th>A6</th>\n",
       "      <th>A7</th>\n",
       "      <th>A8</th>\n",
       "      <th>A9</th>\n",
       "      <th>A10</th>\n",
       "      <th>A11</th>\n",
       "      <th>A12</th>\n",
       "      <th>A13</th>\n",
       "      <th>A14</th>\n",
       "      <th>A15</th>\n",
       "    </tr>\n",
       "  </thead>\n",
       "  <tbody>\n",
       "    <tr>\n",
       "      <th>0</th>\n",
       "      <td>1</td>\n",
       "      <td>22.08</td>\n",
       "      <td>11.46</td>\n",
       "      <td>2</td>\n",
       "      <td>4</td>\n",
       "      <td>4</td>\n",
       "      <td>1.585</td>\n",
       "      <td>0</td>\n",
       "      <td>0</td>\n",
       "      <td>0</td>\n",
       "      <td>1</td>\n",
       "      <td>2</td>\n",
       "      <td>100</td>\n",
       "      <td>1213</td>\n",
       "      <td>0</td>\n",
       "    </tr>\n",
       "    <tr>\n",
       "      <th>1</th>\n",
       "      <td>0</td>\n",
       "      <td>22.67</td>\n",
       "      <td>7.00</td>\n",
       "      <td>2</td>\n",
       "      <td>8</td>\n",
       "      <td>4</td>\n",
       "      <td>0.165</td>\n",
       "      <td>0</td>\n",
       "      <td>0</td>\n",
       "      <td>0</td>\n",
       "      <td>0</td>\n",
       "      <td>2</td>\n",
       "      <td>160</td>\n",
       "      <td>1</td>\n",
       "      <td>0</td>\n",
       "    </tr>\n",
       "  </tbody>\n",
       "</table>\n",
       "</div>"
      ],
      "text/plain": [
       "   A1     A2     A3  A4  A5  A6     A7  A8  A9  A10  A11  A12  A13   A14  A15\n",
       "0   1  22.08  11.46   2   4   4  1.585   0   0    0    1    2  100  1213    0\n",
       "1   0  22.67   7.00   2   8   4  0.165   0   0    0    0    2  160     1    0"
      ]
     },
     "execution_count": 94,
     "metadata": {},
     "output_type": "execute_result"
    }
   ],
   "source": [
    "import pandas as pd\n",
    "from sklearn.model_selection import train_test_split\n",
    "\n",
    "raw = pd.read_table('../WEEK17/australian.dat', delim_whitespace=True, names=['A1', 'A2', 'A3', 'A4', 'A5', 'A6', 'A7', 'A8', 'A9', 'A10', 'A11', 'A12', 'A13', 'A14', 'A15'])\n",
    "raw.head(2)"
   ]
  },
  {
   "cell_type": "code",
   "execution_count": 98,
   "id": "98eb3424",
   "metadata": {},
   "outputs": [
    {
     "name": "stdout",
     "output_type": "stream",
     "text": [
      "Best hyperparameters: {'classifier__max_depth': 6, 'classifier__max_features': 0.9, 'classifier__min_samples_leaf': 0.02, 'classifier__n_estimators': 100}\n"
     ]
    }
   ],
   "source": [
    "X = raw.drop(columns = 'A15')\n",
    "y = raw['A15']\n",
    "\n",
    "X_train, X_test, y_train, y_test = train_test_split(X, y, test_size=0.2, random_state=42)\n",
    "\n",
    "from sklearn.compose import ColumnTransformer\n",
    "from sklearn.pipeline import Pipeline\n",
    "from sklearn.preprocessing import StandardScaler, OneHotEncoder\n",
    "\n",
    "# Define which columns should be encoded vs scaled\n",
    "columns_to_encode = ['A1', 'A4', 'A5', 'A6', 'A8', 'A9', 'A11', 'A12']\n",
    "columns_to_scale  = ['A2', 'A3', 'A7', 'A10', 'A13', 'A14']\n",
    "\n",
    "# Instantiate encoder/scaler\n",
    "scaler = StandardScaler()\n",
    "ohe    = OneHotEncoder(sparse=False)\n",
    "\n",
    "numeric_transformer = StandardScaler()\n",
    "categorical_transformer = OneHotEncoder(handle_unknown=\"ignore\")\n",
    "\n",
    "preprocessor = ColumnTransformer(\n",
    "    transformers=[\n",
    "        (\"num\", numeric_transformer, columns_to_scale),\n",
    "        (\"cat\", categorical_transformer, columns_to_encode),\n",
    "    ]\n",
    ")\n",
    "\n",
    "from sklearn.metrics import classification_report, plot_confusion_matrix, roc_curve, auc, roc_auc_score\n",
    "from sklearn.ensemble import RandomForestClassifier\n",
    "from sklearn.model_selection import GridSearchCV\n",
    "import matplotlib.pyplot as plt\n",
    "\n",
    "clf = Pipeline(steps=[(\"preprocessor\", preprocessor), (\"classifier\", RandomForestClassifier(random_state = 42))])\n",
    "\n",
    "# instantiate grid search with DecisionTreeClassifier(dt): refit = True by default\n",
    "params_dt = {'classifier__n_estimators' : [50, 100], 'classifier__max_depth': [4, 5, 6], 'classifier__min_samples_leaf': [0.02, 0.04, 0.06, 0.08], 'classifier__max_features': [0.2, 0.4, 0.6, 0.8, 0.9]}\n",
    "grid_dt = GridSearchCV(estimator = clf, param_grid = params_dt, scoring = 'roc_auc', cv = 10, n_jobs = -1)\n",
    "\n",
    "grid_dt.fit(X_train, y_train)\n",
    "best_hyperparams = grid_dt.best_params_\n",
    "print(f'Best hyperparameters: {best_hyperparams}')"
   ]
  },
  {
   "cell_type": "code",
   "execution_count": 103,
   "id": "d07cc9fa",
   "metadata": {},
   "outputs": [
    {
     "name": "stdout",
     "output_type": "stream",
     "text": [
      "Test accuracy of the best model: 0.855\n",
      "              precision    recall  f1-score   support\n",
      "\n",
      "           0       0.89      0.89      0.89        87\n",
      "           1       0.80      0.80      0.80        51\n",
      "\n",
      "    accuracy                           0.86       138\n",
      "   macro avg       0.84      0.84      0.84       138\n",
      "weighted avg       0.86      0.86      0.86       138\n",
      "\n"
     ]
    }
   ],
   "source": [
    "best_model = RandomForestClassifier(n_estimators = 100, max_depth = 6, max_features = 0.9, min_samples_leaf = 0.02, random_state = 42)\n",
    "best_clf = Pipeline(steps=[(\"preprocessor\", preprocessor), (\"classifier\", best_model)])\n",
    "best_clf.fit(X_train, y_train)\n",
    "y_pred = best_clf.predict(X_test)\n",
    "\n",
    "test_accuracy = best_clf.score(X_test, y_test) # this one is accuracy, though...\n",
    "print(f'Test accuracy of the best model: {test_accuracy:.3f}')\n",
    "\n",
    "print(classification_report(y_test, y_pred))"
   ]
  },
  {
   "cell_type": "code",
   "execution_count": 104,
   "id": "c72e6c26",
   "metadata": {},
   "outputs": [
    {
     "data": {
      "image/png": "[encoded data removed]",
      "text/plain": [
       "<Figure size 432x288 with 1 Axes>"
      ]
     },
     "metadata": {
      "needs_background": "light"
     },
     "output_type": "display_data"
    }
   ],
   "source": [
    "# we can plot the ROC curve for the best model:\n",
    "\n",
    "y_pred_prob = best_clf.predict_proba(X_test)[:, 1]\n",
    "fpr, tpr, thresholds = roc_curve(y_test, y_pred_prob)\n",
    "_= plt.plot([0, 1], [0, 1], 'k--')\n",
    "_= plt.plot(fpr, tpr)\n",
    "_= plt.xlabel('False Positive Rate')\n",
    "_= plt.ylabel('True Positive Rate')\n",
    "_= plt.title('Random Forest ROC Curve')\n",
    "plt.show()"
   ]
  },
  {
   "cell_type": "code",
   "execution_count": 105,
   "id": "5987c922",
   "metadata": {},
   "outputs": [
    {
     "name": "stdout",
     "output_type": "stream",
     "text": [
      "The AUC score of the best model is: 0.923\n"
     ]
    }
   ],
   "source": [
    "print(f'The AUC score of the best model is: {roc_auc_score(y_test, y_pred_prob):.3f}')"
   ]
  },
  {
   "cell_type": "markdown",
   "id": "89d9f70c",
   "metadata": {},
   "source": [
    "#### Dimensionality reduction A: PCA (Principal Component Analysis)"
   ]
  },
  {
   "cell_type": "code",
   "execution_count": 110,
   "id": "3583a925",
   "metadata": {},
   "outputs": [
    {
     "name": "stdout",
     "output_type": "stream",
     "text": [
      "Best hyperparameters: {'classifier__max_depth': 5, 'classifier__max_features': 0.2, 'classifier__min_samples_leaf': 0.02, 'classifier__n_estimators': 100}\n"
     ]
    }
   ],
   "source": [
    "from sklearn.decomposition import PCA\n",
    "\n",
    "clf = Pipeline(steps=[(\"preprocessor\", preprocessor),(\"pca\", PCA(n_components = 0.95)) , (\"classifier\", RandomForestClassifier(random_state = 42))])\n",
    "\n",
    "# instantiate grid search with DecisionTreeClassifier(dt): refit = True by default\n",
    "params_dt = {'classifier__n_estimators' : [50, 100], 'classifier__max_depth': [4, 5, 6], 'classifier__min_samples_leaf': [0.02, 0.04, 0.06, 0.08], 'classifier__max_features': [0.2, 0.4, 0.6, 0.8, 0.9]}\n",
    "grid_dt = GridSearchCV(estimator = clf, param_grid = params_dt, scoring = 'roc_auc', cv = 10, n_jobs = -1)\n",
    "\n",
    "grid_dt.fit(X_train, y_train)\n",
    "best_hyperparams = grid_dt.best_params_\n",
    "print(f'Best hyperparameters: {best_hyperparams}')"
   ]
  },
  {
   "cell_type": "code",
   "execution_count": 111,
   "id": "58cf00cc",
   "metadata": {},
   "outputs": [
    {
     "name": "stdout",
     "output_type": "stream",
     "text": [
      "Test accuracy of the best model: 0.841\n",
      "              precision    recall  f1-score   support\n",
      "\n",
      "           0       0.88      0.86      0.87        87\n",
      "           1       0.77      0.80      0.79        51\n",
      "\n",
      "    accuracy                           0.84       138\n",
      "   macro avg       0.83      0.83      0.83       138\n",
      "weighted avg       0.84      0.84      0.84       138\n",
      "\n"
     ]
    }
   ],
   "source": [
    "best_model = RandomForestClassifier(n_estimators = 100, max_depth = 5, max_features = 0.2, min_samples_leaf = 0.02, random_state = 42)\n",
    "best_clf = Pipeline(steps=[(\"preprocessor\", preprocessor), (\"pca\", PCA(n_components = 0.95)), (\"classifier\", best_model)])\n",
    "best_clf.fit(X_train, y_train)\n",
    "y_pred = best_clf.predict(X_test)\n",
    "\n",
    "test_accuracy = best_clf.score(X_test, y_test) # this one is accuracy, though...\n",
    "print(f'Test accuracy of the best model: {test_accuracy:.3f}')\n",
    "\n",
    "print(classification_report(y_test, y_pred))"
   ]
  },
  {
   "cell_type": "code",
   "execution_count": 112,
   "id": "360d5205",
   "metadata": {},
   "outputs": [
    {
     "data": {
      "image/png": "[encoded data removed]",
      "text/plain": [
       "<Figure size 432x288 with 1 Axes>"
      ]
     },
     "metadata": {
      "needs_background": "light"
     },
     "output_type": "display_data"
    }
   ],
   "source": [
    "y_pred_prob = best_clf.predict_proba(X_test)[:, 1]\n",
    "fpr, tpr, thresholds = roc_curve(y_test, y_pred_prob)\n",
    "_= plt.plot([0, 1], [0, 1], 'k--')\n",
    "_= plt.plot(fpr, tpr)\n",
    "_= plt.xlabel('False Positive Rate')\n",
    "_= plt.ylabel('True Positive Rate')\n",
    "_= plt.title('Random Forest ROC Curve')\n",
    "plt.show()"
   ]
  },
  {
   "cell_type": "code",
   "execution_count": 113,
   "id": "8f80aba1",
   "metadata": {},
   "outputs": [
    {
     "name": "stdout",
     "output_type": "stream",
     "text": [
      "The AUC score of the best model is: 0.895\n"
     ]
    }
   ],
   "source": [
    "print(f'The AUC score of the best model is: {roc_auc_score(y_test, y_pred_prob):.3f}')"
   ]
  },
  {
   "cell_type": "code",
   "execution_count": null,
   "id": "8f35b355",
   "metadata": {},
   "outputs": [],
   "source": []
  },
  {
   "cell_type": "markdown",
   "id": "80c9f7c4",
   "metadata": {},
   "source": [
    "#### Dimensionality reduction B: LDA (Linear Discriminant Analysis)"
   ]
  },
  {
   "cell_type": "code",
   "execution_count": 114,
   "id": "f09fcc98",
   "metadata": {},
   "outputs": [
    {
     "name": "stdout",
     "output_type": "stream",
     "text": [
      "Best hyperparameters: {'classifier__max_depth': 4, 'classifier__max_features': 0.2, 'classifier__min_samples_leaf': 0.06, 'classifier__n_estimators': 50}\n"
     ]
    }
   ],
   "source": [
    "from sklearn.discriminant_analysis import LinearDiscriminantAnalysis as LDA\n",
    "\n",
    "clf = Pipeline(steps=[(\"preprocessor\", preprocessor),(\"lda\", LDA(n_components = 1)) , (\"classifier\", RandomForestClassifier(random_state = 42))])\n",
    "\n",
    "# instantiate grid search with DecisionTreeClassifier(dt): refit = True by default\n",
    "params_dt = {'classifier__n_estimators' : [50, 100], 'classifier__max_depth': [4, 5, 6], 'classifier__min_samples_leaf': [0.02, 0.04, 0.06, 0.08], 'classifier__max_features': [0.2, 0.4, 0.6, 0.8, 0.9]}\n",
    "grid_dt = GridSearchCV(estimator = clf, param_grid = params_dt, scoring = 'roc_auc', cv = 10, n_jobs = -1)\n",
    "\n",
    "grid_dt.fit(X_train, y_train)\n",
    "best_hyperparams = grid_dt.best_params_\n",
    "print(f'Best hyperparameters: {best_hyperparams}')"
   ]
  },
  {
   "cell_type": "code",
   "execution_count": 115,
   "id": "8cdaee07",
   "metadata": {},
   "outputs": [
    {
     "name": "stdout",
     "output_type": "stream",
     "text": [
      "Test accuracy of the best model: 0.877\n",
      "              precision    recall  f1-score   support\n",
      "\n",
      "           0       0.91      0.90      0.90        87\n",
      "           1       0.83      0.84      0.83        51\n",
      "\n",
      "    accuracy                           0.88       138\n",
      "   macro avg       0.87      0.87      0.87       138\n",
      "weighted avg       0.88      0.88      0.88       138\n",
      "\n"
     ]
    }
   ],
   "source": [
    "best_model = RandomForestClassifier(n_estimators = 50, max_depth = 4, max_features = 0.2, min_samples_leaf = 0.06, random_state = 42)\n",
    "best_clf = Pipeline(steps=[(\"preprocessor\", preprocessor), (\"pca\", LDA(n_components = 1)), (\"classifier\", best_model)])\n",
    "best_clf.fit(X_train, y_train)\n",
    "y_pred = best_clf.predict(X_test)\n",
    "\n",
    "test_accuracy = best_clf.score(X_test, y_test) # this one is accuracy, though...\n",
    "print(f'Test accuracy of the best model: {test_accuracy:.3f}')\n",
    "\n",
    "print(classification_report(y_test, y_pred))"
   ]
  },
  {
   "cell_type": "code",
   "execution_count": 116,
   "id": "f1962116",
   "metadata": {},
   "outputs": [
    {
     "data": {
      "image/png": "[encoded data removed]",
      "text/plain": [
       "<Figure size 432x288 with 1 Axes>"
      ]
     },
     "metadata": {
      "needs_background": "light"
     },
     "output_type": "display_data"
    }
   ],
   "source": [
    "y_pred_prob = best_clf.predict_proba(X_test)[:, 1]\n",
    "fpr, tpr, thresholds = roc_curve(y_test, y_pred_prob)\n",
    "_= plt.plot([0, 1], [0, 1], 'k--')\n",
    "_= plt.plot(fpr, tpr)\n",
    "_= plt.xlabel('False Positive Rate')\n",
    "_= plt.ylabel('True Positive Rate')\n",
    "_= plt.title('Random Forest ROC Curve')\n",
    "plt.show()"
   ]
  },
  {
   "cell_type": "code",
   "execution_count": 117,
   "id": "f86e97f2",
   "metadata": {},
   "outputs": [
    {
     "name": "stdout",
     "output_type": "stream",
     "text": [
      "The AUC score of the best model is: 0.913\n"
     ]
    }
   ],
   "source": [
    "print(f'The AUC score of the best model is: {roc_auc_score(y_test, y_pred_prob):.3f}')"
   ]
  },
  {
   "cell_type": "markdown",
   "id": "52a7046a",
   "metadata": {},
   "source": [
    "#### Dimensionality reduction B: Isomap embedding"
   ]
  },
  {
   "cell_type": "code",
   "execution_count": 123,
   "id": "b8b060e9",
   "metadata": {},
   "outputs": [
    {
     "name": "stdout",
     "output_type": "stream",
     "text": [
      "Best hyperparameters: {'classifier__max_depth': 5, 'classifier__max_features': 0.6, 'classifier__min_samples_leaf': 0.02, 'classifier__n_estimators': 100, 'isomap__n_components': 13}\n"
     ]
    }
   ],
   "source": [
    "from sklearn.manifold import Isomap\n",
    "\n",
    "clf = Pipeline(steps=[(\"preprocessor\", preprocessor),(\"isomap\", Isomap(n_components = 13)) , (\"classifier\", RandomForestClassifier(random_state = 42))])\n",
    "\n",
    "# instantiate grid search with DecisionTreeClassifier(dt): refit = True by default\n",
    "params_dt = {'isomap__n_components' : [10, 11, 12, 13], 'classifier__n_estimators' : [50, 100], 'classifier__max_depth': [4, 5, 6], 'classifier__min_samples_leaf': [0.02, 0.04, 0.06, 0.08], 'classifier__max_features': [0.2, 0.4, 0.6, 0.8, 0.9]}\n",
    "grid_dt = GridSearchCV(estimator = clf, param_grid = params_dt, scoring = 'roc_auc', cv = 10, n_jobs = -1)\n",
    "\n",
    "grid_dt.fit(X_train, y_train)\n",
    "best_hyperparams = grid_dt.best_params_\n",
    "print(f'Best hyperparameters: {best_hyperparams}')"
   ]
  },
  {
   "cell_type": "code",
   "execution_count": 120,
   "id": "60582ba0",
   "metadata": {},
   "outputs": [
    {
     "name": "stdout",
     "output_type": "stream",
     "text": [
      "Test accuracy of the best model: 0.841\n",
      "              precision    recall  f1-score   support\n",
      "\n",
      "           0       0.87      0.87      0.87        87\n",
      "           1       0.78      0.78      0.78        51\n",
      "\n",
      "    accuracy                           0.84       138\n",
      "   macro avg       0.83      0.83      0.83       138\n",
      "weighted avg       0.84      0.84      0.84       138\n",
      "\n"
     ]
    }
   ],
   "source": [
    "best_model = RandomForestClassifier(n_estimators = 100, max_depth = 5, max_features = 0.6, min_samples_leaf = 0.02, random_state = 42)\n",
    "best_clf = Pipeline(steps=[(\"preprocessor\", preprocessor), (\"isomap\", Isomap(n_components = 13)), (\"classifier\", best_model)])\n",
    "best_clf.fit(X_train, y_train)\n",
    "y_pred = best_clf.predict(X_test)\n",
    "\n",
    "test_accuracy = best_clf.score(X_test, y_test) # this one is accuracy, though...\n",
    "print(f'Test accuracy of the best model: {test_accuracy:.3f}')\n",
    "\n",
    "print(classification_report(y_test, y_pred))"
   ]
  },
  {
   "cell_type": "code",
   "execution_count": 121,
   "id": "ea37a3e0",
   "metadata": {},
   "outputs": [
    {
     "data": {
      "image/png": "[encoded data removed]",
      "text/plain": [
       "<Figure size 432x288 with 1 Axes>"
      ]
     },
     "metadata": {
      "needs_background": "light"
     },
     "output_type": "display_data"
    }
   ],
   "source": [
    "y_pred_prob = best_clf.predict_proba(X_test)[:, 1]\n",
    "fpr, tpr, thresholds = roc_curve(y_test, y_pred_prob)\n",
    "_= plt.plot([0, 1], [0, 1], 'k--')\n",
    "_= plt.plot(fpr, tpr)\n",
    "_= plt.xlabel('False Positive Rate')\n",
    "_= plt.ylabel('True Positive Rate')\n",
    "_= plt.title('Random Forest ROC Curve')\n",
    "plt.show()"
   ]
  },
  {
   "cell_type": "code",
   "execution_count": 122,
   "id": "95b0d680",
   "metadata": {},
   "outputs": [
    {
     "name": "stdout",
     "output_type": "stream",
     "text": [
      "The AUC score of the best model is: 0.864\n"
     ]
    }
   ],
   "source": [
    "print(f'The AUC score of the best model is: {roc_auc_score(y_test, y_pred_prob):.3f}')"
   ]
  },
  {
   "cell_type": "markdown",
   "id": "c52a8021",
   "metadata": {},
   "source": [
    "Summary: isomap tries to find lower dimensional embedding of the original dataset while maintaining distances between all points in the original dataset. With the n_components parameter we can set the number of features the transformed dataset should have.  Ideally we would iterate through multiple options to optimize, but this runs quite slowly, so I did only for a few values. This did not improve our score, in fact it became a bit worse. "
   ]
  },
  {
   "cell_type": "markdown",
   "id": "c0a7f28f",
   "metadata": {},
   "source": [
    "### 2. Write a function that will indicate if an inputted IPv4 address is accurate or not. IP addresses are valid if they have 4 values between 0 and 255 (inclusive), punctuated by periods."
   ]
  },
  {
   "cell_type": "code",
   "execution_count": 91,
   "id": "c4b64f8d",
   "metadata": {},
   "outputs": [
    {
     "data": {
      "text/plain": [
       "str"
      ]
     },
     "execution_count": 91,
     "metadata": {},
     "output_type": "execute_result"
    }
   ],
   "source": [
    "example = '255.126.0.33' # has to be between 0 and 255 inclusive\n",
    "type(example)"
   ]
  },
  {
   "cell_type": "code",
   "execution_count": 92,
   "id": "5e378d18",
   "metadata": {},
   "outputs": [],
   "source": [
    "def decider(example):\n",
    "    totallist = list(example)\n",
    "    valid = [str(i) for i in list(range(10))] + ['.']\n",
    "    \n",
    "    if all(element in valid for element in totallist):\n",
    "        tolist = example.split('.')\n",
    "        truthlist = []\n",
    "    \n",
    "        if len(tolist) == 4:\n",
    "            for i in range(len(tolist)):\n",
    "                truthlist.append(int(tolist[i]) not in list(range(256)))  \n",
    "            if any(truthlist):\n",
    "                print('This IP address is not valid!')\n",
    "            else:\n",
    "                print('Valid IP address!')\n",
    "        else:\n",
    "            print('Not valid format!')\n",
    "    else:\n",
    "        print('Not valid format!')"
   ]
  },
  {
   "cell_type": "code",
   "execution_count": 93,
   "id": "b399752a",
   "metadata": {},
   "outputs": [
    {
     "name": "stdout",
     "output_type": "stream",
     "text": [
      "Valid IP address!\n"
     ]
    }
   ],
   "source": [
    "decider(example)"
   ]
  }
 ],
 "metadata": {
  "kernelspec": {
   "display_name": "Python 3 (ipykernel)",
   "language": "python",
   "name": "python3"
  },
  "language_info": {
   "codemirror_mode": {
    "name": "ipython",
    "version": 3
   },
   "file_extension": ".py",
   "mimetype": "text/x-python",
   "name": "python",
   "nbconvert_exporter": "python",
   "pygments_lexer": "ipython3",
   "version": "3.8.12"
  }
 },
 "nbformat": 4,
 "nbformat_minor": 5
}
