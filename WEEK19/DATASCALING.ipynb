{
 "cells": [
  {
   "cell_type": "code",
   "execution_count": 1,
   "id": "c6aa9e7c",
   "metadata": {},
   "outputs": [
    {
     "name": "stdout",
     "output_type": "stream",
     "text": [
      "0.7359307359307359\n"
     ]
    }
   ],
   "source": [
    "from sklearn.linear_model import LogisticRegression\n",
    "from sklearn.preprocessing import StandardScaler\n",
    "from sklearn.model_selection import train_test_split\n",
    "import pandas as pd\n",
    "import numpy as np\n",
    "\n",
    "diabetes_df = pd.read_csv(\"../WEEK13/diabetes.csv\")\n",
    "\n",
    "X = diabetes_df.drop('Outcome', axis=1)\n",
    "y = diabetes_df['Outcome']\n",
    "\n",
    "# Split into training and test set\n",
    "X_train, X_test, y_train, y_test = train_test_split(X, y, test_size = 0.3, random_state=42, stratify=y)\n",
    "\n",
    "#Standardize\n",
    "sc= StandardScaler()\n",
    "X_train_sc=sc.fit_transform(X_train)\n",
    "X_test_sc=sc.fit_transform(X_test)\n",
    "\n",
    "#logistic regression\n",
    "clr = LogisticRegression(random_state=42).fit(X_train_sc,y_train)\n",
    "\n",
    "#predict\n",
    "y_predicted = clr.predict(X_test_sc)\n",
    "# print(y_predicted)\n",
    "\n",
    "print(clr.score(X_test_sc,y_test))"
   ]
  },
  {
   "cell_type": "code",
   "execution_count": 2,
   "id": "861a7677",
   "metadata": {},
   "outputs": [
    {
     "name": "stderr",
     "output_type": "stream",
     "text": [
      "C:\\ProgramData\\Anaconda3\\lib\\site-packages\\sklearn\\utils\\deprecation.py:87: FutureWarning: Function plot_confusion_matrix is deprecated; Function `plot_confusion_matrix` is deprecated in 1.0 and will be removed in 1.2. Use one of the class methods: ConfusionMatrixDisplay.from_predictions or ConfusionMatrixDisplay.from_estimator.\n",
      "  warnings.warn(msg, category=FutureWarning)\n"
     ]
    },
    {
     "data": {
      "text/plain": [
       "<sklearn.metrics._plot.confusion_matrix.ConfusionMatrixDisplay at 0x21319383df0>"
      ]
     },
     "execution_count": 2,
     "metadata": {},
     "output_type": "execute_result"
    },
    {
     "data": {
      "image/png": "[encoded data removed]",
      "text/plain": [
       "<Figure size 432x288 with 2 Axes>"
      ]
     },
     "metadata": {
      "needs_background": "light"
     },
     "output_type": "display_data"
    }
   ],
   "source": [
    "from sklearn.metrics import plot_confusion_matrix\n",
    "plot_confusion_matrix(clr, X_test_sc, y_test)"
   ]
  },
  {
   "cell_type": "markdown",
   "id": "7daf14a0",
   "metadata": {},
   "source": [
    "### Truncated SVD"
   ]
  },
  {
   "cell_type": "markdown",
   "id": "43e1e9a7",
   "metadata": {},
   "source": [
    "This transformer performs linear dimensionality reduction by means of truncated singular value decomposition (SVD). Contrary to PCA, this estimator does not center the data before computing the singular value decomposition. This means it can work with sparse matrices efficiently."
   ]
  },
  {
   "cell_type": "code",
   "execution_count": 3,
   "id": "b9c56d05",
   "metadata": {},
   "outputs": [
    {
     "data": {
      "text/plain": [
       "0.70995670995671"
      ]
     },
     "execution_count": 3,
     "metadata": {},
     "output_type": "execute_result"
    }
   ],
   "source": [
    "from sklearn.decomposition import TruncatedSVD\n",
    "\n",
    "svd = TruncatedSVD(n_components = 6)\n",
    "X_train_SVD = svd.fit_transform(X_train)\n",
    "X_test_SVD  =svd.fit_transform(X_test)\n",
    "\n",
    "clr = LogisticRegression(random_state = 42)\n",
    "clr.fit(X_train_SVD, y_train)\n",
    "\n",
    "clr.score(X_test_SVD, y_test)"
   ]
  },
  {
   "cell_type": "code",
   "execution_count": 4,
   "id": "0ec06934",
   "metadata": {},
   "outputs": [
    {
     "name": "stderr",
     "output_type": "stream",
     "text": [
      "C:\\ProgramData\\Anaconda3\\lib\\site-packages\\sklearn\\utils\\deprecation.py:87: FutureWarning: Function plot_confusion_matrix is deprecated; Function `plot_confusion_matrix` is deprecated in 1.0 and will be removed in 1.2. Use one of the class methods: ConfusionMatrixDisplay.from_predictions or ConfusionMatrixDisplay.from_estimator.\n",
      "  warnings.warn(msg, category=FutureWarning)\n"
     ]
    },
    {
     "data": {
      "text/plain": [
       "<sklearn.metrics._plot.confusion_matrix.ConfusionMatrixDisplay at 0x2131938a0d0>"
      ]
     },
     "execution_count": 4,
     "metadata": {},
     "output_type": "execute_result"
    },
    {
     "data": {
      "image/png": "[encoded data removed]",
      "text/plain": [
       "<Figure size 432x288 with 2 Axes>"
      ]
     },
     "metadata": {
      "needs_background": "light"
     },
     "output_type": "display_data"
    }
   ],
   "source": [
    "plot_confusion_matrix(clr, X_test_SVD, y_test)"
   ]
  },
  {
   "cell_type": "markdown",
   "id": "112f2e1c",
   "metadata": {},
   "source": [
    "If the quantity we are working with is normal, it should be standardized, otherwise it should be normalized, even if the input variables are only combined linearly.\n",
    "\n",
    "Also ensure that the scale of the output variable matches the scale of the activation function at the output layer of the network. Standardization might be a way, but it is even better to chose a proper output activation function."
   ]
  },
  {
   "cell_type": "markdown",
   "id": "0de5ed5d",
   "metadata": {},
   "source": [
    "### Data Normalization"
   ]
  },
  {
   "cell_type": "markdown",
   "id": "5056ec2d",
   "metadata": {},
   "source": [
    "y = (x - min) / (max - min)"
   ]
  },
  {
   "cell_type": "markdown",
   "id": "edef123f",
   "metadata": {},
   "source": [
    "MimMaxScaler in ScikitLearn does this for us"
   ]
  },
  {
   "cell_type": "code",
   "execution_count": 5,
   "id": "51d46e5f",
   "metadata": {},
   "outputs": [],
   "source": [
    "import numpy as np\n",
    "data = np.random.randint(0, 100, size = 1000).reshape(-1, 1)"
   ]
  },
  {
   "cell_type": "code",
   "execution_count": 6,
   "id": "8f5da090",
   "metadata": {},
   "outputs": [],
   "source": [
    "from sklearn.preprocessing import MinMaxScaler\n",
    "\n",
    "# create scaler\n",
    "scaler = MinMaxScaler()\n",
    "# fit scaler on data\n",
    "scaler.fit(data)\n",
    "# apply transform or can use fit_transform in one step\n",
    "normalized = scaler.transform(data)\n",
    "# inverse transform\n",
    "inverse = scaler.inverse_transform(normalized)"
   ]
  },
  {
   "cell_type": "code",
   "execution_count": 7,
   "id": "09181213",
   "metadata": {},
   "outputs": [
    {
     "data": {
      "text/plain": [
       "array([[0.92929293],\n",
       "       [0.93939394],\n",
       "       [0.80808081]])"
      ]
     },
     "execution_count": 7,
     "metadata": {},
     "output_type": "execute_result"
    }
   ],
   "source": [
    "normalized[:3]"
   ]
  },
  {
   "cell_type": "markdown",
   "id": "84ab2d60",
   "metadata": {},
   "source": [
    "### Data Standardization"
   ]
  },
  {
   "cell_type": "markdown",
   "id": "d24c28bb",
   "metadata": {},
   "source": [
    "Data standardization involves rescaling the distribution of values so that the mean of the values is 0 and the standard deviation is 1. Standardization assumes that the observation has a Gaussian distribution."
   ]
  },
  {
   "cell_type": "markdown",
   "id": "32f8643d",
   "metadata": {},
   "source": [
    "y = (x - mean) / standard_deviation"
   ]
  },
  {
   "cell_type": "markdown",
   "id": "44e1c6ba",
   "metadata": {},
   "source": [
    "### Regression Problem"
   ]
  },
  {
   "cell_type": "code",
   "execution_count": 8,
   "id": "68359232",
   "metadata": {},
   "outputs": [],
   "source": [
    "from sklearn.datasets import make_regression\n",
    "from matplotlib import pyplot as plt\n",
    "\n",
    "# generate regression\n",
    "X, y = make_regression(n_samples = 1000, n_features = 8, noise = 0.1, random_state = 42) # variables have Gaussian distribution"
   ]
  },
  {
   "cell_type": "markdown",
   "id": "d63d78d4",
   "metadata": {},
   "source": [
    "### Multilayer perceptron with unscaled data"
   ]
  },
  {
   "cell_type": "code",
   "execution_count": 9,
   "id": "c72f1c1b",
   "metadata": {},
   "outputs": [],
   "source": [
    "from sklearn.model_selection import train_test_split\n",
    "\n",
    "X_train, X_test, y_train, y_test = train_test_split(X, y, test_size=0.2, random_state=42)"
   ]
  },
  {
   "cell_type": "code",
   "execution_count": 10,
   "id": "574a6ab5",
   "metadata": {},
   "outputs": [],
   "source": [
    "from sklearn.preprocessing import StandardScaler\n",
    "\n",
    "scaler = StandardScaler()\n",
    "scaler.fit(X_train)\n",
    "X_train  = scaler.transform(X_train)\n",
    "X_test = scaler.transform(X_test)"
   ]
  },
  {
   "cell_type": "code",
   "execution_count": 11,
   "id": "f4c248c8",
   "metadata": {},
   "outputs": [],
   "source": [
    "from keras import Sequential\n",
    "from keras.layers import Dense\n",
    "\n",
    "model = Sequential()\n",
    "model.add(Dense(25, input_dim = 8, activation = 'relu', kernel_initializer = 'he_uniform'))\n",
    "model.add(Dense(1, activation = 'linear'))"
   ]
  },
  {
   "cell_type": "code",
   "execution_count": 12,
   "id": "b18e08a6",
   "metadata": {},
   "outputs": [],
   "source": [
    "model.compile(loss='mean_squared_error', optimizer = 'adam')"
   ]
  },
  {
   "cell_type": "code",
   "execution_count": 13,
   "id": "2e73c340",
   "metadata": {},
   "outputs": [
    {
     "name": "stdout",
     "output_type": "stream",
     "text": [
      "Epoch 1/150\n",
      "25/25 [==============================] - 0s 4ms/step - loss: 30172.1973 - val_loss: 29283.0020\n",
      "Epoch 2/150\n",
      "25/25 [==============================] - 0s 1ms/step - loss: 30074.4219 - val_loss: 29190.2227\n",
      "Epoch 3/150\n",
      "25/25 [==============================] - 0s 1ms/step - loss: 29975.0234 - val_loss: 29099.0566\n",
      "Epoch 4/150\n",
      "25/25 [==============================] - 0s 1ms/step - loss: 29873.4199 - val_loss: 29001.1309\n",
      "Epoch 5/150\n",
      "25/25 [==============================] - 0s 1ms/step - loss: 29763.0723 - val_loss: 28897.3027\n",
      "Epoch 6/150\n",
      "25/25 [==============================] - 0s 1ms/step - loss: 29645.1953 - val_loss: 28781.2871\n",
      "Epoch 7/150\n",
      "25/25 [==============================] - 0s 1ms/step - loss: 29516.9473 - val_loss: 28649.8457\n",
      "Epoch 8/150\n",
      "25/25 [==============================] - 0s 1ms/step - loss: 29371.4141 - val_loss: 28508.2031\n",
      "Epoch 9/150\n",
      "25/25 [==============================] - 0s 1ms/step - loss: 29212.9746 - val_loss: 28345.3926\n",
      "Epoch 10/150\n",
      "25/25 [==============================] - 0s 1ms/step - loss: 29033.5898 - val_loss: 28166.4355\n",
      "Epoch 11/150\n",
      "25/25 [==============================] - 0s 1ms/step - loss: 28834.2695 - val_loss: 27965.4941\n",
      "Epoch 12/150\n",
      "25/25 [==============================] - 0s 2ms/step - loss: 28609.2598 - val_loss: 27746.6953\n",
      "Epoch 13/150\n",
      "25/25 [==============================] - 0s 1ms/step - loss: 28365.3145 - val_loss: 27503.3906\n",
      "Epoch 14/150\n",
      "25/25 [==============================] - 0s 1ms/step - loss: 28095.8242 - val_loss: 27238.2695\n",
      "Epoch 15/150\n",
      "25/25 [==============================] - 0s 1ms/step - loss: 27805.7852 - val_loss: 26938.7051\n",
      "Epoch 16/150\n",
      "25/25 [==============================] - 0s 1ms/step - loss: 27484.1895 - val_loss: 26628.1953\n",
      "Epoch 17/150\n",
      "25/25 [==============================] - 0s 1ms/step - loss: 27148.4551 - val_loss: 26284.7520\n",
      "Epoch 18/150\n",
      "25/25 [==============================] - 0s 1ms/step - loss: 26780.0742 - val_loss: 25924.3281\n",
      "Epoch 19/150\n",
      "25/25 [==============================] - 0s 1ms/step - loss: 26390.6543 - val_loss: 25543.6445\n",
      "Epoch 20/150\n",
      "25/25 [==============================] - 0s 1ms/step - loss: 25982.3281 - val_loss: 25130.0195\n",
      "Epoch 21/150\n",
      "25/25 [==============================] - 0s 1ms/step - loss: 25543.1094 - val_loss: 24701.3242\n",
      "Epoch 22/150\n",
      "25/25 [==============================] - 0s 1ms/step - loss: 25086.7227 - val_loss: 24248.4707\n",
      "Epoch 23/150\n",
      "25/25 [==============================] - 0s 1ms/step - loss: 24607.3027 - val_loss: 23775.6992\n",
      "Epoch 24/150\n",
      "25/25 [==============================] - 0s 1ms/step - loss: 24111.3320 - val_loss: 23279.4043\n",
      "Epoch 25/150\n",
      "25/25 [==============================] - 0s 1ms/step - loss: 23592.0957 - val_loss: 22769.2031\n",
      "Epoch 26/150\n",
      "25/25 [==============================] - 0s 1ms/step - loss: 23053.1270 - val_loss: 22255.2852\n",
      "Epoch 27/150\n",
      "25/25 [==============================] - 0s 1ms/step - loss: 22509.5977 - val_loss: 21714.9805\n",
      "Epoch 28/150\n",
      "25/25 [==============================] - 0s 1ms/step - loss: 21949.1074 - val_loss: 21157.1543\n",
      "Epoch 29/150\n",
      "25/25 [==============================] - 0s 1ms/step - loss: 21368.7734 - val_loss: 20602.5820\n",
      "Epoch 30/150\n",
      "25/25 [==============================] - 0s 1ms/step - loss: 20793.1445 - val_loss: 20018.4277\n",
      "Epoch 31/150\n",
      "25/25 [==============================] - 0s 1ms/step - loss: 20193.8867 - val_loss: 19441.9512\n",
      "Epoch 32/150\n",
      "25/25 [==============================] - 0s 1ms/step - loss: 19585.9980 - val_loss: 18868.1992\n",
      "Epoch 33/150\n",
      "25/25 [==============================] - 0s 1ms/step - loss: 18986.1699 - val_loss: 18270.6133\n",
      "Epoch 34/150\n",
      "25/25 [==============================] - 0s 1ms/step - loss: 18375.8281 - val_loss: 17666.6270\n",
      "Epoch 35/150\n",
      "25/25 [==============================] - 0s 1ms/step - loss: 17751.9043 - val_loss: 17077.6816\n",
      "Epoch 36/150\n",
      "25/25 [==============================] - 0s 1ms/step - loss: 17138.7871 - val_loss: 16481.6230\n",
      "Epoch 37/150\n",
      "25/25 [==============================] - 0s 1ms/step - loss: 16516.1016 - val_loss: 15891.5322\n",
      "Epoch 38/150\n",
      "25/25 [==============================] - 0s 1ms/step - loss: 15909.5723 - val_loss: 15284.6660\n",
      "Epoch 39/150\n",
      "25/25 [==============================] - 0s 1ms/step - loss: 15290.6201 - val_loss: 14690.9072\n",
      "Epoch 40/150\n",
      "25/25 [==============================] - 0s 1ms/step - loss: 14682.5186 - val_loss: 14102.8496\n",
      "Epoch 41/150\n",
      "25/25 [==============================] - 0s 1ms/step - loss: 14074.4854 - val_loss: 13527.1367\n",
      "Epoch 42/150\n",
      "25/25 [==============================] - 0s 1ms/step - loss: 13482.2129 - val_loss: 12943.2988\n",
      "Epoch 43/150\n",
      "25/25 [==============================] - 0s 1ms/step - loss: 12890.8867 - val_loss: 12374.7754\n",
      "Epoch 44/150\n",
      "25/25 [==============================] - 0s 1ms/step - loss: 12311.9189 - val_loss: 11810.7041\n",
      "Epoch 45/150\n",
      "25/25 [==============================] - 0s 1ms/step - loss: 11733.2676 - val_loss: 11277.8623\n",
      "Epoch 46/150\n",
      "25/25 [==============================] - 0s 1ms/step - loss: 11184.4834 - val_loss: 10726.8252\n",
      "Epoch 47/150\n",
      "25/25 [==============================] - 0s 1ms/step - loss: 10630.7529 - val_loss: 10204.6328\n",
      "Epoch 48/150\n",
      "25/25 [==============================] - 0s 1ms/step - loss: 10091.4189 - val_loss: 9696.9082\n",
      "Epoch 49/150\n",
      "25/25 [==============================] - 0s 1ms/step - loss: 9571.0908 - val_loss: 9195.7236\n",
      "Epoch 50/150\n",
      "25/25 [==============================] - 0s 1ms/step - loss: 9064.4941 - val_loss: 8702.6367\n",
      "Epoch 51/150\n",
      "25/25 [==============================] - 0s 1ms/step - loss: 8568.9824 - val_loss: 8229.2461\n",
      "Epoch 52/150\n",
      "25/25 [==============================] - 0s 1ms/step - loss: 8094.1108 - val_loss: 7768.5215\n",
      "Epoch 53/150\n",
      "25/25 [==============================] - 0s 1ms/step - loss: 7630.9292 - val_loss: 7325.2002\n",
      "Epoch 54/150\n",
      "25/25 [==============================] - 0s 1ms/step - loss: 7185.9263 - val_loss: 6898.3242\n",
      "Epoch 55/150\n",
      "25/25 [==============================] - 0s 1ms/step - loss: 6758.0557 - val_loss: 6488.3945\n",
      "Epoch 56/150\n",
      "25/25 [==============================] - 0s 1ms/step - loss: 6341.6055 - val_loss: 6107.4839\n",
      "Epoch 57/150\n",
      "25/25 [==============================] - 0s 1ms/step - loss: 5954.2192 - val_loss: 5722.5176\n",
      "Epoch 58/150\n",
      "25/25 [==============================] - 0s 1ms/step - loss: 5572.1792 - val_loss: 5366.8594\n",
      "Epoch 59/150\n",
      "25/25 [==============================] - 0s 1ms/step - loss: 5211.9614 - val_loss: 5025.2559\n",
      "Epoch 60/150\n",
      "25/25 [==============================] - 0s 1ms/step - loss: 4871.6147 - val_loss: 4689.4648\n",
      "Epoch 61/150\n",
      "25/25 [==============================] - 0s 1ms/step - loss: 4541.5996 - val_loss: 4377.5264\n",
      "Epoch 62/150\n",
      "25/25 [==============================] - 0s 1ms/step - loss: 4234.1279 - val_loss: 4075.5693\n",
      "Epoch 63/150\n",
      "25/25 [==============================] - 0s 1ms/step - loss: 3938.7827 - val_loss: 3795.8413\n",
      "Epoch 64/150\n",
      "25/25 [==============================] - 0s 1ms/step - loss: 3661.0801 - val_loss: 3530.0500\n",
      "Epoch 65/150\n",
      "25/25 [==============================] - 0s 1ms/step - loss: 3399.5244 - val_loss: 3280.1331\n",
      "Epoch 66/150\n",
      "25/25 [==============================] - 0s 1ms/step - loss: 3150.8206 - val_loss: 3052.8105\n",
      "Epoch 67/150\n",
      "25/25 [==============================] - 0s 1ms/step - loss: 2924.0444 - val_loss: 2829.6284\n",
      "Epoch 68/150\n",
      "25/25 [==============================] - 0s 1ms/step - loss: 2707.6733 - val_loss: 2620.1135\n",
      "Epoch 69/150\n",
      "25/25 [==============================] - 0s 1ms/step - loss: 2505.6443 - val_loss: 2427.7107\n",
      "Epoch 70/150\n",
      "25/25 [==============================] - 0s 1ms/step - loss: 2317.1045 - val_loss: 2250.6348\n",
      "Epoch 71/150\n",
      "25/25 [==============================] - 0s 1ms/step - loss: 2144.7717 - val_loss: 2080.7493\n",
      "Epoch 72/150\n",
      "25/25 [==============================] - 0s 1ms/step - loss: 1981.4108 - val_loss: 1930.8517\n",
      "Epoch 73/150\n",
      "25/25 [==============================] - 0s 1ms/step - loss: 1834.2494 - val_loss: 1788.1410\n",
      "Epoch 74/150\n",
      "25/25 [==============================] - 0s 1ms/step - loss: 1697.4600 - val_loss: 1656.1757\n",
      "Epoch 75/150\n",
      "25/25 [==============================] - 0s 1ms/step - loss: 1569.9487 - val_loss: 1538.6926\n",
      "Epoch 76/150\n",
      "25/25 [==============================] - 0s 1ms/step - loss: 1456.7616 - val_loss: 1426.6652\n",
      "Epoch 77/150\n"
     ]
    },
    {
     "name": "stdout",
     "output_type": "stream",
     "text": [
      "25/25 [==============================] - 0s 1ms/step - loss: 1350.9382 - val_loss: 1324.9133\n",
      "Epoch 78/150\n",
      "25/25 [==============================] - 0s 1ms/step - loss: 1253.8998 - val_loss: 1235.6360\n",
      "Epoch 79/150\n",
      "25/25 [==============================] - 0s 1ms/step - loss: 1167.2825 - val_loss: 1153.6146\n",
      "Epoch 80/150\n",
      "25/25 [==============================] - 0s 1ms/step - loss: 1088.6669 - val_loss: 1078.1017\n",
      "Epoch 81/150\n",
      "25/25 [==============================] - 0s 1ms/step - loss: 1018.3698 - val_loss: 1008.6779\n",
      "Epoch 82/150\n",
      "25/25 [==============================] - 0s 1ms/step - loss: 951.9091 - val_loss: 949.3829\n",
      "Epoch 83/150\n",
      "25/25 [==============================] - 0s 1ms/step - loss: 895.8240 - val_loss: 893.1281\n",
      "Epoch 84/150\n",
      "25/25 [==============================] - 0s 1ms/step - loss: 842.8062 - val_loss: 844.5678\n",
      "Epoch 85/150\n",
      "25/25 [==============================] - 0s 1ms/step - loss: 796.5488 - val_loss: 799.8147\n",
      "Epoch 86/150\n",
      "25/25 [==============================] - 0s 1ms/step - loss: 754.1151 - val_loss: 761.3217\n",
      "Epoch 87/150\n",
      "25/25 [==============================] - 0s 1ms/step - loss: 717.8066 - val_loss: 725.4172\n",
      "Epoch 88/150\n",
      "25/25 [==============================] - 0s 1ms/step - loss: 683.1642 - val_loss: 696.6031\n",
      "Epoch 89/150\n",
      "25/25 [==============================] - 0s 1ms/step - loss: 655.4130 - val_loss: 666.4348\n",
      "Epoch 90/150\n",
      "25/25 [==============================] - 0s 1ms/step - loss: 628.8018 - val_loss: 640.5623\n",
      "Epoch 91/150\n",
      "25/25 [==============================] - 0s 1ms/step - loss: 604.6777 - val_loss: 619.4871\n",
      "Epoch 92/150\n",
      "25/25 [==============================] - 0s 1ms/step - loss: 583.7341 - val_loss: 600.9545\n",
      "Epoch 93/150\n",
      "25/25 [==============================] - 0s 1ms/step - loss: 565.8330 - val_loss: 583.4617\n",
      "Epoch 94/150\n",
      "25/25 [==============================] - 0s 1ms/step - loss: 549.9680 - val_loss: 567.4625\n",
      "Epoch 95/150\n",
      "25/25 [==============================] - 0s 1ms/step - loss: 535.0624 - val_loss: 554.0281\n",
      "Epoch 96/150\n",
      "25/25 [==============================] - 0s 1ms/step - loss: 522.2195 - val_loss: 541.7178\n",
      "Epoch 97/150\n",
      "25/25 [==============================] - 0s 1ms/step - loss: 510.6772 - val_loss: 531.0020\n",
      "Epoch 98/150\n",
      "25/25 [==============================] - 0s 1ms/step - loss: 500.5448 - val_loss: 521.4283\n",
      "Epoch 99/150\n",
      "25/25 [==============================] - 0s 1ms/step - loss: 491.5090 - val_loss: 513.1105\n",
      "Epoch 100/150\n",
      "25/25 [==============================] - 0s 1ms/step - loss: 483.1755 - val_loss: 505.8169\n",
      "Epoch 101/150\n",
      "25/25 [==============================] - 0s 1ms/step - loss: 476.0057 - val_loss: 499.1919\n",
      "Epoch 102/150\n",
      "25/25 [==============================] - 0s 1ms/step - loss: 469.7427 - val_loss: 492.2716\n",
      "Epoch 103/150\n",
      "25/25 [==============================] - 0s 1ms/step - loss: 463.6686 - val_loss: 486.6608\n",
      "Epoch 104/150\n",
      "25/25 [==============================] - 0s 1ms/step - loss: 458.2562 - val_loss: 481.8012\n",
      "Epoch 105/150\n",
      "25/25 [==============================] - 0s 1ms/step - loss: 453.3678 - val_loss: 477.6245\n",
      "Epoch 106/150\n",
      "25/25 [==============================] - 0s 1ms/step - loss: 449.0125 - val_loss: 473.6595\n",
      "Epoch 107/150\n",
      "25/25 [==============================] - 0s 1ms/step - loss: 445.1020 - val_loss: 469.5652\n",
      "Epoch 108/150\n",
      "25/25 [==============================] - 0s 1ms/step - loss: 441.0752 - val_loss: 466.1161\n",
      "Epoch 109/150\n",
      "25/25 [==============================] - 0s 1ms/step - loss: 437.8256 - val_loss: 462.0734\n",
      "Epoch 110/150\n",
      "25/25 [==============================] - 0s 1ms/step - loss: 434.1577 - val_loss: 459.1400\n",
      "Epoch 111/150\n",
      "25/25 [==============================] - 0s 1ms/step - loss: 431.4717 - val_loss: 455.9323\n",
      "Epoch 112/150\n",
      "25/25 [==============================] - 0s 1ms/step - loss: 428.1124 - val_loss: 453.3399\n",
      "Epoch 113/150\n",
      "25/25 [==============================] - 0s 2ms/step - loss: 425.5787 - val_loss: 450.4073\n",
      "Epoch 114/150\n",
      "25/25 [==============================] - 0s 1ms/step - loss: 422.7998 - val_loss: 448.0588\n",
      "Epoch 115/150\n",
      "25/25 [==============================] - 0s 1ms/step - loss: 420.2218 - val_loss: 445.6784\n",
      "Epoch 116/150\n",
      "25/25 [==============================] - 0s 1ms/step - loss: 417.6772 - val_loss: 443.1533\n",
      "Epoch 117/150\n",
      "25/25 [==============================] - 0s 1ms/step - loss: 415.3993 - val_loss: 440.8196\n",
      "Epoch 118/150\n",
      "25/25 [==============================] - 0s 2ms/step - loss: 412.9075 - val_loss: 438.4867\n",
      "Epoch 119/150\n",
      "25/25 [==============================] - 0s 1ms/step - loss: 410.6758 - val_loss: 436.0848\n",
      "Epoch 120/150\n",
      "25/25 [==============================] - 0s 1ms/step - loss: 408.5088 - val_loss: 434.0295\n",
      "Epoch 121/150\n",
      "25/25 [==============================] - 0s 1ms/step - loss: 406.2535 - val_loss: 431.7856\n",
      "Epoch 122/150\n",
      "25/25 [==============================] - 0s 1ms/step - loss: 404.1007 - val_loss: 429.6700\n",
      "Epoch 123/150\n",
      "25/25 [==============================] - 0s 1ms/step - loss: 402.1750 - val_loss: 427.5309\n",
      "Epoch 124/150\n",
      "25/25 [==============================] - 0s 1ms/step - loss: 400.1082 - val_loss: 425.4432\n",
      "Epoch 125/150\n",
      "25/25 [==============================] - 0s 1ms/step - loss: 397.9408 - val_loss: 423.2953\n",
      "Epoch 126/150\n",
      "25/25 [==============================] - 0s 1ms/step - loss: 395.8415 - val_loss: 421.1226\n",
      "Epoch 127/150\n",
      "25/25 [==============================] - 0s 1ms/step - loss: 393.7839 - val_loss: 419.0312\n",
      "Epoch 128/150\n",
      "25/25 [==============================] - 0s 1ms/step - loss: 391.7021 - val_loss: 416.9385\n",
      "Epoch 129/150\n",
      "25/25 [==============================] - 0s 1ms/step - loss: 389.8113 - val_loss: 414.7364\n",
      "Epoch 130/150\n",
      "25/25 [==============================] - 0s 1ms/step - loss: 387.7798 - val_loss: 412.6672\n",
      "Epoch 131/150\n",
      "25/25 [==============================] - 0s 1ms/step - loss: 385.5841 - val_loss: 410.7447\n",
      "Epoch 132/150\n",
      "25/25 [==============================] - 0s 1ms/step - loss: 383.7990 - val_loss: 408.7971\n",
      "Epoch 133/150\n",
      "25/25 [==============================] - 0s 1ms/step - loss: 381.7027 - val_loss: 406.4429\n",
      "Epoch 134/150\n",
      "25/25 [==============================] - 0s 1ms/step - loss: 379.6165 - val_loss: 404.2840\n",
      "Epoch 135/150\n",
      "25/25 [==============================] - 0s 1ms/step - loss: 377.5100 - val_loss: 402.2136\n",
      "Epoch 136/150\n",
      "25/25 [==============================] - 0s 1ms/step - loss: 375.4702 - val_loss: 400.0855\n",
      "Epoch 137/150\n",
      "25/25 [==============================] - 0s 1ms/step - loss: 373.5669 - val_loss: 398.1070\n",
      "Epoch 138/150\n",
      "25/25 [==============================] - 0s 1ms/step - loss: 371.4598 - val_loss: 395.9381\n",
      "Epoch 139/150\n",
      "25/25 [==============================] - 0s 1ms/step - loss: 369.2845 - val_loss: 393.6822\n",
      "Epoch 140/150\n",
      "25/25 [==============================] - 0s 1ms/step - loss: 367.4265 - val_loss: 391.8463\n",
      "Epoch 141/150\n",
      "25/25 [==============================] - 0s 1ms/step - loss: 365.3046 - val_loss: 389.6288\n",
      "Epoch 142/150\n",
      "25/25 [==============================] - 0s 1ms/step - loss: 363.2395 - val_loss: 387.6082\n",
      "Epoch 143/150\n",
      "25/25 [==============================] - 0s 1ms/step - loss: 361.1613 - val_loss: 385.3694\n",
      "Epoch 144/150\n",
      "25/25 [==============================] - 0s 1ms/step - loss: 359.3072 - val_loss: 383.3027\n",
      "Epoch 145/150\n",
      "25/25 [==============================] - 0s 1ms/step - loss: 357.1342 - val_loss: 381.0518\n",
      "Epoch 146/150\n",
      "25/25 [==============================] - 0s 1ms/step - loss: 355.1079 - val_loss: 378.9506\n",
      "Epoch 147/150\n",
      "25/25 [==============================] - 0s 1ms/step - loss: 353.0410 - val_loss: 376.9023\n",
      "Epoch 148/150\n",
      "25/25 [==============================] - 0s 1ms/step - loss: 351.0902 - val_loss: 374.9222\n",
      "Epoch 149/150\n",
      "25/25 [==============================] - 0s 1ms/step - loss: 348.9291 - val_loss: 372.5035\n",
      "Epoch 150/150\n",
      "25/25 [==============================] - 0s 1ms/step - loss: 346.6964 - val_loss: 370.0794\n"
     ]
    }
   ],
   "source": [
    "history = model.fit(X_train, y_train, validation_data = (X_test, y_test), epochs = 150)"
   ]
  },
  {
   "cell_type": "code",
   "execution_count": 14,
   "id": "6d64d100",
   "metadata": {},
   "outputs": [
    {
     "name": "stdout",
     "output_type": "stream",
     "text": [
      "25/25 [==============================] - 0s 832us/step - loss: 345.2152\n",
      "7/7 [==============================] - 0s 831us/step - loss: 370.0794\n",
      "345.2152404785156 370.07940673828125\n"
     ]
    }
   ],
   "source": [
    "train_mse = model.evaluate(X_train, y_train)\n",
    "test_mse = model.evaluate(X_test, y_test)\n",
    "\n",
    "print(train_mse, test_mse)"
   ]
  },
  {
   "cell_type": "code",
   "execution_count": 15,
   "id": "eab0c75c",
   "metadata": {},
   "outputs": [
    {
     "data": {
      "image/png": "[encoded data removed]",
      "text/plain": [
       "<Figure size 432x288 with 1 Axes>"
      ]
     },
     "metadata": {
      "needs_background": "light"
     },
     "output_type": "display_data"
    }
   ],
   "source": [
    "# plot loss during training\n",
    "_= plt.title('Mean Squared Error')\n",
    "_= plt.plot(history.history['loss'], label='train') # accesses the loss function for the training set\n",
    "_= plt.plot(history.history['val_loss'], label='test') # accesses the loss function for the test set\n",
    "_= plt.legend()\n",
    "_= plt.show()"
   ]
  },
  {
   "cell_type": "markdown",
   "id": "fc19f480",
   "metadata": {},
   "source": [
    "Now how to interpret this?"
   ]
  },
  {
   "cell_type": "markdown",
   "id": "cafaac44",
   "metadata": {},
   "source": [
    "### Multilayer Perceptron With Scaled Output Variables"
   ]
  },
  {
   "cell_type": "code",
   "execution_count": 16,
   "id": "82fc35de",
   "metadata": {},
   "outputs": [],
   "source": [
    "scaler = StandardScaler()\n",
    "scaler.fit(y_train.reshape(-1, 1))\n",
    "y_train_sc = scaler.transform(y_train.reshape(-1, 1))\n",
    "y_test_sc = scaler.transform(y_test.reshape(-1, 1)) # rescaling helps with fitting, but the resulting error becomes harder to interpret\n",
    "# calculate the error on the inverse transformed data"
   ]
  },
  {
   "cell_type": "code",
   "execution_count": 17,
   "id": "c53d4139",
   "metadata": {},
   "outputs": [
    {
     "name": "stdout",
     "output_type": "stream",
     "text": [
      "Epoch 1/80\n",
      "25/25 [==============================] - 0s 3ms/step - loss: 2.4530 - val_loss: 2.4111\n",
      "Epoch 2/80\n",
      "25/25 [==============================] - 0s 1ms/step - loss: 1.8299 - val_loss: 1.8379\n",
      "Epoch 3/80\n",
      "25/25 [==============================] - 0s 1ms/step - loss: 1.3792 - val_loss: 1.3941\n",
      "Epoch 4/80\n",
      "25/25 [==============================] - 0s 1ms/step - loss: 1.0394 - val_loss: 1.0617\n",
      "Epoch 5/80\n",
      "25/25 [==============================] - 0s 1ms/step - loss: 0.7879 - val_loss: 0.8088\n",
      "Epoch 6/80\n",
      "25/25 [==============================] - 0s 1ms/step - loss: 0.6000 - val_loss: 0.6158\n",
      "Epoch 7/80\n",
      "25/25 [==============================] - 0s 1ms/step - loss: 0.4592 - val_loss: 0.4705\n",
      "Epoch 8/80\n",
      "25/25 [==============================] - 0s 1ms/step - loss: 0.3575 - val_loss: 0.3692\n",
      "Epoch 9/80\n",
      "25/25 [==============================] - 0s 1ms/step - loss: 0.2848 - val_loss: 0.2940\n",
      "Epoch 10/80\n",
      "25/25 [==============================] - 0s 1ms/step - loss: 0.2351 - val_loss: 0.2389\n",
      "Epoch 11/80\n",
      "25/25 [==============================] - 0s 1ms/step - loss: 0.1985 - val_loss: 0.2022\n",
      "Epoch 12/80\n",
      "25/25 [==============================] - 0s 1ms/step - loss: 0.1720 - val_loss: 0.1770\n",
      "Epoch 13/80\n",
      "25/25 [==============================] - 0s 1ms/step - loss: 0.1524 - val_loss: 0.1550\n",
      "Epoch 14/80\n",
      "25/25 [==============================] - 0s 1ms/step - loss: 0.1362 - val_loss: 0.1400\n",
      "Epoch 15/80\n",
      "25/25 [==============================] - 0s 1ms/step - loss: 0.1226 - val_loss: 0.1247\n",
      "Epoch 16/80\n",
      "25/25 [==============================] - 0s 1ms/step - loss: 0.1107 - val_loss: 0.1138\n",
      "Epoch 17/80\n",
      "25/25 [==============================] - 0s 1ms/step - loss: 0.1002 - val_loss: 0.1036\n",
      "Epoch 18/80\n",
      "25/25 [==============================] - 0s 1ms/step - loss: 0.0909 - val_loss: 0.0933\n",
      "Epoch 19/80\n",
      "25/25 [==============================] - 0s 1ms/step - loss: 0.0827 - val_loss: 0.0865\n",
      "Epoch 20/80\n",
      "25/25 [==============================] - 0s 1ms/step - loss: 0.0751 - val_loss: 0.0781\n",
      "Epoch 21/80\n",
      "25/25 [==============================] - 0s 1ms/step - loss: 0.0685 - val_loss: 0.0729\n",
      "Epoch 22/80\n",
      "25/25 [==============================] - 0s 1ms/step - loss: 0.0627 - val_loss: 0.0671\n",
      "Epoch 23/80\n",
      "25/25 [==============================] - 0s 1ms/step - loss: 0.0574 - val_loss: 0.0621\n",
      "Epoch 24/80\n",
      "25/25 [==============================] - 0s 1ms/step - loss: 0.0528 - val_loss: 0.0572\n",
      "Epoch 25/80\n",
      "25/25 [==============================] - 0s 1ms/step - loss: 0.0483 - val_loss: 0.0531\n",
      "Epoch 26/80\n",
      "25/25 [==============================] - 0s 1ms/step - loss: 0.0447 - val_loss: 0.0503\n",
      "Epoch 27/80\n",
      "25/25 [==============================] - 0s 1ms/step - loss: 0.0412 - val_loss: 0.0465\n",
      "Epoch 28/80\n",
      "25/25 [==============================] - 0s 1ms/step - loss: 0.0383 - val_loss: 0.0441\n",
      "Epoch 29/80\n",
      "25/25 [==============================] - 0s 1ms/step - loss: 0.0357 - val_loss: 0.0415\n",
      "Epoch 30/80\n",
      "25/25 [==============================] - 0s 1ms/step - loss: 0.0332 - val_loss: 0.0395\n",
      "Epoch 31/80\n",
      "25/25 [==============================] - 0s 1ms/step - loss: 0.0312 - val_loss: 0.0371\n",
      "Epoch 32/80\n",
      "25/25 [==============================] - 0s 1ms/step - loss: 0.0293 - val_loss: 0.0357\n",
      "Epoch 33/80\n",
      "25/25 [==============================] - 0s 1ms/step - loss: 0.0276 - val_loss: 0.0340\n",
      "Epoch 34/80\n",
      "25/25 [==============================] - 0s 1ms/step - loss: 0.0260 - val_loss: 0.0319\n",
      "Epoch 35/80\n",
      "25/25 [==============================] - 0s 1ms/step - loss: 0.0247 - val_loss: 0.0312\n",
      "Epoch 36/80\n",
      "25/25 [==============================] - 0s 1ms/step - loss: 0.0236 - val_loss: 0.0298\n",
      "Epoch 37/80\n",
      "25/25 [==============================] - 0s 1ms/step - loss: 0.0224 - val_loss: 0.0292\n",
      "Epoch 38/80\n",
      "25/25 [==============================] - 0s 1ms/step - loss: 0.0213 - val_loss: 0.0279\n",
      "Epoch 39/80\n",
      "25/25 [==============================] - 0s 1ms/step - loss: 0.0205 - val_loss: 0.0272\n",
      "Epoch 40/80\n",
      "25/25 [==============================] - 0s 1ms/step - loss: 0.0197 - val_loss: 0.0265\n",
      "Epoch 41/80\n",
      "25/25 [==============================] - 0s 1ms/step - loss: 0.0189 - val_loss: 0.0254\n",
      "Epoch 42/80\n",
      "25/25 [==============================] - 0s 1ms/step - loss: 0.0183 - val_loss: 0.0250\n",
      "Epoch 43/80\n",
      "25/25 [==============================] - 0s 1ms/step - loss: 0.0175 - val_loss: 0.0244\n",
      "Epoch 44/80\n",
      "25/25 [==============================] - 0s 2ms/step - loss: 0.0170 - val_loss: 0.0239\n",
      "Epoch 45/80\n",
      "25/25 [==============================] - 0s 1ms/step - loss: 0.0164 - val_loss: 0.0233\n",
      "Epoch 46/80\n",
      "25/25 [==============================] - 0s 1ms/step - loss: 0.0160 - val_loss: 0.0229\n",
      "Epoch 47/80\n",
      "25/25 [==============================] - 0s 1ms/step - loss: 0.0156 - val_loss: 0.0225\n",
      "Epoch 48/80\n",
      "25/25 [==============================] - 0s 1ms/step - loss: 0.0151 - val_loss: 0.0218\n",
      "Epoch 49/80\n",
      "25/25 [==============================] - 0s 1ms/step - loss: 0.0148 - val_loss: 0.0216\n",
      "Epoch 50/80\n",
      "25/25 [==============================] - 0s 1ms/step - loss: 0.0144 - val_loss: 0.0215\n",
      "Epoch 51/80\n",
      "25/25 [==============================] - 0s 1ms/step - loss: 0.0141 - val_loss: 0.0211\n",
      "Epoch 52/80\n",
      "25/25 [==============================] - 0s 1ms/step - loss: 0.0138 - val_loss: 0.0208\n",
      "Epoch 53/80\n",
      "25/25 [==============================] - 0s 2ms/step - loss: 0.0135 - val_loss: 0.0205\n",
      "Epoch 54/80\n",
      "25/25 [==============================] - 0s 1ms/step - loss: 0.0133 - val_loss: 0.0203\n",
      "Epoch 55/80\n",
      "25/25 [==============================] - 0s 1ms/step - loss: 0.0131 - val_loss: 0.0199\n",
      "Epoch 56/80\n",
      "25/25 [==============================] - 0s 1ms/step - loss: 0.0128 - val_loss: 0.0199\n",
      "Epoch 57/80\n",
      "25/25 [==============================] - 0s 1ms/step - loss: 0.0126 - val_loss: 0.0196\n",
      "Epoch 58/80\n",
      "25/25 [==============================] - 0s 1ms/step - loss: 0.0124 - val_loss: 0.0194\n",
      "Epoch 59/80\n",
      "25/25 [==============================] - 0s 1ms/step - loss: 0.0122 - val_loss: 0.0191\n",
      "Epoch 60/80\n",
      "25/25 [==============================] - 0s 1ms/step - loss: 0.0120 - val_loss: 0.0190\n",
      "Epoch 61/80\n",
      "25/25 [==============================] - 0s 1ms/step - loss: 0.0119 - val_loss: 0.0187\n",
      "Epoch 62/80\n",
      "25/25 [==============================] - 0s 1ms/step - loss: 0.0116 - val_loss: 0.0186\n",
      "Epoch 63/80\n",
      "25/25 [==============================] - 0s 1ms/step - loss: 0.0115 - val_loss: 0.0184\n",
      "Epoch 64/80\n",
      "25/25 [==============================] - 0s 1ms/step - loss: 0.0114 - val_loss: 0.0182\n",
      "Epoch 65/80\n",
      "25/25 [==============================] - 0s 1ms/step - loss: 0.0112 - val_loss: 0.0181\n",
      "Epoch 66/80\n",
      "25/25 [==============================] - 0s 1ms/step - loss: 0.0109 - val_loss: 0.0178\n",
      "Epoch 67/80\n",
      "25/25 [==============================] - 0s 1ms/step - loss: 0.0108 - val_loss: 0.0176\n",
      "Epoch 68/80\n",
      "25/25 [==============================] - 0s 1ms/step - loss: 0.0107 - val_loss: 0.0176\n",
      "Epoch 69/80\n",
      "25/25 [==============================] - 0s 1ms/step - loss: 0.0105 - val_loss: 0.0174\n",
      "Epoch 70/80\n",
      "25/25 [==============================] - 0s 1ms/step - loss: 0.0104 - val_loss: 0.0172\n",
      "Epoch 71/80\n",
      "25/25 [==============================] - 0s 1ms/step - loss: 0.0102 - val_loss: 0.0169\n",
      "Epoch 72/80\n",
      "25/25 [==============================] - 0s 1ms/step - loss: 0.0101 - val_loss: 0.0168\n",
      "Epoch 73/80\n",
      "25/25 [==============================] - 0s 2ms/step - loss: 0.0099 - val_loss: 0.0166\n",
      "Epoch 74/80\n",
      "25/25 [==============================] - 0s 2ms/step - loss: 0.0098 - val_loss: 0.0164\n",
      "Epoch 75/80\n",
      "25/25 [==============================] - 0s 2ms/step - loss: 0.0097 - val_loss: 0.0163\n",
      "Epoch 76/80\n",
      "25/25 [==============================] - 0s 1ms/step - loss: 0.0095 - val_loss: 0.0161\n",
      "Epoch 77/80\n",
      "25/25 [==============================] - 0s 1ms/step - loss: 0.0094 - val_loss: 0.0159\n",
      "Epoch 78/80\n",
      "25/25 [==============================] - 0s 1ms/step - loss: 0.0093 - val_loss: 0.0158\n",
      "Epoch 79/80\n",
      "25/25 [==============================] - 0s 1ms/step - loss: 0.0092 - val_loss: 0.0156\n",
      "Epoch 80/80\n",
      "25/25 [==============================] - 0s 1ms/step - loss: 0.0090 - val_loss: 0.0155\n",
      "25/25 [==============================] - 0s 789us/step - loss: 0.0089\n",
      "7/7 [==============================] - 0s 643us/step - loss: 0.0155\n",
      "0.008875574916601181 0.015504739247262478\n"
     ]
    },
    {
     "data": {
      "image/png": "[encoded data removed]",
      "text/plain": [
       "<Figure size 432x288 with 1 Axes>"
      ]
     },
     "metadata": {
      "needs_background": "light"
     },
     "output_type": "display_data"
    }
   ],
   "source": [
    "model = Sequential()\n",
    "model.add(Dense(25, input_dim = 8, activation = 'relu', kernel_initializer = 'he_uniform'))\n",
    "model.add(Dense(1, activation = 'linear'))\n",
    "model.compile(loss='mean_squared_error', optimizer = 'adam')\n",
    "history = model.fit(X_train, y_train_sc, validation_data = (X_test, y_test_sc), epochs = 80)\n",
    "\n",
    "train_mse = model.evaluate(X_train, y_train_sc)\n",
    "test_mse = model.evaluate(X_test, y_test_sc)\n",
    "print(train_mse, test_mse)\n",
    "\n",
    "# plot loss during training\n",
    "_= plt.title('Mean Squared Error')\n",
    "_= plt.plot(history.history['loss'], label='train') # accesses the loss function for the training set\n",
    "_= plt.plot(history.history['val_loss'], label='test') # accesses the loss function for the test set\n",
    "_= plt.legend()\n",
    "_= plt.show()"
   ]
  },
  {
   "cell_type": "markdown",
   "id": "4443c08a",
   "metadata": {},
   "source": [
    "This led to much faster learning"
   ]
  },
  {
   "cell_type": "markdown",
   "id": "5b72f216",
   "metadata": {},
   "source": [
    "### Multilayer Perceptron With Scaled Input Variables"
   ]
  },
  {
   "cell_type": "markdown",
   "id": "31b9975c",
   "metadata": {},
   "source": [
    "The first step is to define a function to create the same 1,000 data samples, split them into train and test sets, and apply the data scaling methods specified via input arguments.\n",
    "\n",
    "Next, we can define a function to fit an MLP model on a given dataset and return the mean squared error for the fit model on the test dataset.\n",
    "\n",
    "Neural networks are trained using a stochastic learning algorithm. This means that the same model fit on the same data may result in a different performance.\n",
    "\n",
    "We can address this in our experiment by repeating the evaluation of each model configuration, in this case a choice of data scaling, multiple times and report performance as the mean of the error scores across all of the runs. We will repeat each run 30 times to ensure the mean is statistically robust.\n",
    "\n",
    "We can run the experiment and evaluate the same model on the same dataset three different ways: \n",
    "- No scaling of inputs, standardized outputs.\n",
    "- Normalized inputs, standardized outputs.\n",
    "- Standardized inputs, standardized outputs.\n",
    "\n",
    "The mean and standard deviation of the error for each configuration is reported, then box and whisker plots are created to summarize the error scores for each configuration."
   ]
  },
  {
   "cell_type": "code",
   "execution_count": 18,
   "id": "ad2390b2",
   "metadata": {},
   "outputs": [],
   "source": [
    "# prepare dataset with input and output scalers, can be none\n",
    "def get_dataset(input_scaler, output_scaler):\n",
    "    # generate dataset\n",
    "    X, y = make_regression(n_samples=1000, n_features=20, noise=0.1, random_state=1)\n",
    "    \n",
    "    # split into train and test\n",
    "    trainX, testX, trainy, testy = train_test_split(X, y, test_size=0.3, random_state=42)\n",
    "    \n",
    "    # scale inputs\n",
    "    if input_scaler is not None:\n",
    "        # fit scaler\n",
    "        input_scaler.fit(trainX)\n",
    "        # transform training dataset\n",
    "        trainX = input_scaler.transform(trainX)\n",
    "        # transform test dataset\n",
    "        testX = input_scaler.transform(testX)\n",
    "        \n",
    "    if output_scaler is not None:\n",
    "        # reshape 1d arrays to 2d arrays\n",
    "        trainy = trainy.reshape(-1, 1)\n",
    "        testy = testy.reshape(-1, 1)\n",
    "        # fit scaler on training dataset\n",
    "        output_scaler.fit(trainy)\n",
    "        # transform training dataset\n",
    "        trainy = output_scaler.transform(trainy)\n",
    "        # transform test dataset\n",
    "        testy = output_scaler.transform(testy)\n",
    "    return trainX, trainy, testX, testy\n",
    " \n",
    "# fit and evaluate mse of model on test set\n",
    "def evaluate_model(trainX, trainy, testX, testy):\n",
    "    # define model\n",
    "    model = Sequential()\n",
    "    model.add(Dense(25, input_dim=20, activation='relu', kernel_initializer='he_uniform'))\n",
    "    model.add(Dense(1, activation='linear'))\n",
    "    # compile model\n",
    "    model.compile(loss='mean_squared_error', optimizer = 'adam')\n",
    "    # fit model\n",
    "    model.fit(trainX, trainy, epochs=100, verbose=0)\n",
    "    # evaluate the model\n",
    "    test_mse = model.evaluate(testX, testy, verbose=0)\n",
    "    return test_mse\n",
    " \n",
    "# evaluate model multiple times with given input and output scalers\n",
    "def repeated_evaluation(input_scaler, output_scaler, n_repeats=30):\n",
    "    # get dataset\n",
    "    trainX, trainy, testX, testy = get_dataset(input_scaler, output_scaler)\n",
    "    # repeated evaluation of model\n",
    "    results = list()\n",
    "    for _ in range(n_repeats):\n",
    "        test_mse = evaluate_model(trainX, trainy, testX, testy)\n",
    "        results.append(test_mse)\n",
    "    return results\n",
    " \n",
    "# unscaled inputs\n",
    "results_unscaled_inputs = repeated_evaluation(None, StandardScaler())\n",
    "# normalized inputs\n",
    "results_normalized_inputs = repeated_evaluation(MinMaxScaler(), StandardScaler())\n",
    "# standardized inputs\n",
    "results_standardized_inputs = repeated_evaluation(StandardScaler(), StandardScaler())"
   ]
  },
  {
   "cell_type": "code",
   "execution_count": 19,
   "id": "be452e16",
   "metadata": {},
   "outputs": [
    {
     "name": "stdout",
     "output_type": "stream",
     "text": [
      "Unscaled: 0.022, 0.006\n",
      "Normalized: 0.058, 0.021\n",
      "Standardized: 0.024, 0.005\n"
     ]
    },
    {
     "data": {
      "image/png": "[encoded data removed]",
      "text/plain": [
       "<Figure size 432x288 with 1 Axes>"
      ]
     },
     "metadata": {
      "needs_background": "light"
     },
     "output_type": "display_data"
    }
   ],
   "source": [
    "# summarize results\n",
    "print(f'Unscaled: {np.mean(results_unscaled_inputs):.3f}, {np.std(results_unscaled_inputs):.3f}')\n",
    "print(f'Normalized: {np.mean(results_normalized_inputs):.3f}, {np.std(results_normalized_inputs):.3f}')\n",
    "print(f'Standardized: {np.mean(results_standardized_inputs):.3f}, {np.std(results_standardized_inputs):.3f}')\n",
    "# plot results\n",
    "results = [results_unscaled_inputs, results_normalized_inputs, results_standardized_inputs]\n",
    "labels = ['unscaled', 'normalized', 'standardized']\n",
    "plt.boxplot(results, labels=labels)\n",
    "plt.show()"
   ]
  },
  {
   "cell_type": "markdown",
   "id": "dd4dffd7",
   "metadata": {},
   "source": [
    "This looks quite different from the original submission. But why does it look like this when normalized?"
   ]
  },
  {
   "cell_type": "code",
   "execution_count": 20,
   "id": "077335ea",
   "metadata": {},
   "outputs": [],
   "source": [
    "uns = MinMaxScaler().fit(np.array(results_unscaled_inputs).reshape(-1, 1))\n",
    "uns_trans = uns.transform(np.array(results_unscaled_inputs).reshape(-1, 1))\n",
    "\n",
    "norm = MinMaxScaler().fit(np.array(results_normalized_inputs).reshape(-1, 1))\n",
    "norm_trans = norm.transform(np.array(results_normalized_inputs).reshape(-1, 1))\n",
    "\n",
    "stand = MinMaxScaler().fit(np.array(results_standardized_inputs).reshape(-1, 1))\n",
    "stand_trans = stand.transform(np.array(results_standardized_inputs).reshape(-1, 1))"
   ]
  },
  {
   "cell_type": "code",
   "execution_count": 21,
   "id": "c8447489",
   "metadata": {},
   "outputs": [
    {
     "data": {
      "text/plain": [
       "array([[0.51704112, 0.42233887, 0.29555638, 0.23070444, 0.21831246,\n",
       "        0.38736836, 0.3974102 , 0.        , 0.15666055, 0.33216959,\n",
       "        0.43045277, 0.41377832, 0.39872178, 0.47793161, 0.36453961,\n",
       "        0.5423698 , 0.72513584, 0.65170145, 0.21953338, 0.49489989,\n",
       "        0.46860833, 0.2743864 , 0.74003194, 0.5816745 , 0.68794981,\n",
       "        1.        , 0.36068085, 0.4336109 , 0.10650159, 0.15426976]])"
      ]
     },
     "execution_count": 21,
     "metadata": {},
     "output_type": "execute_result"
    }
   ],
   "source": [
    "uns_trans.reshape(1, -1)"
   ]
  },
  {
   "cell_type": "code",
   "execution_count": 22,
   "id": "e4f87b7d",
   "metadata": {},
   "outputs": [
    {
     "name": "stdout",
     "output_type": "stream",
     "text": [
      "Unscaled: 0.416, 0.208\n",
      "Normalized: 0.350, 0.237\n",
      "Standardized: 0.415, 0.243\n"
     ]
    },
    {
     "data": {
      "image/png": "[encoded data removed]",
      "text/plain": [
       "<Figure size 432x288 with 1 Axes>"
      ]
     },
     "metadata": {
      "needs_background": "light"
     },
     "output_type": "display_data"
    }
   ],
   "source": [
    "print(f'Unscaled: {np.mean(uns_trans.reshape(1, -1)):.3f}, {np.std(uns_trans.reshape(1, -1)):.3f}')\n",
    "print(f'Normalized: {np.mean(norm_trans.reshape(1, -1)):.3f}, {np.std(norm_trans.reshape(1, -1)):.3f}')\n",
    "print(f'Standardized: {np.mean(stand_trans.reshape(1, -1)):.3f}, {np.std(stand_trans.reshape(1, -1)):.3f}')\n",
    "# plot results\n",
    "results = [uns_trans.reshape(1, -1)[0], norm_trans.reshape(1, -1)[0], stand_trans.reshape(1, -1)[0]]\n",
    "labels = ['unscaled', 'normalized', 'standardized']\n",
    "plt.boxplot(results, labels=labels)\n",
    "plt.show()"
   ]
  },
  {
   "cell_type": "markdown",
   "id": "a1313c4a",
   "metadata": {},
   "source": [
    "The means cannot be compared directly, but the spreads yes: normalization alone and itself does no good."
   ]
  },
  {
   "cell_type": "markdown",
   "id": "4b690963",
   "metadata": {},
   "source": [
    "### Evaluate the learning speed"
   ]
  },
  {
   "cell_type": "markdown",
   "id": "3ac09496",
   "metadata": {},
   "source": [
    "#### Normalized input"
   ]
  },
  {
   "cell_type": "code",
   "execution_count": 23,
   "id": "b5200aa0",
   "metadata": {},
   "outputs": [],
   "source": [
    "scaler = MinMaxScaler()\n",
    "scaler.fit(X_train)\n",
    "X_train_nm = scaler.transform(X_train)\n",
    "X_test_nm = scaler.transform(X_test) # rescaling helps with fitting, but the resulting error becomes harder to interpret\n",
    "# calculate the error on the inverse transformed data"
   ]
  },
  {
   "cell_type": "code",
   "execution_count": 24,
   "id": "03e6ff6c",
   "metadata": {},
   "outputs": [
    {
     "name": "stdout",
     "output_type": "stream",
     "text": [
      "Epoch 1/150\n",
      "25/25 [==============================] - 0s 4ms/step - loss: 1.1781 - val_loss: 0.9588\n",
      "Epoch 2/150\n",
      "25/25 [==============================] - 0s 1ms/step - loss: 0.9807 - val_loss: 0.9442\n",
      "Epoch 3/150\n",
      "25/25 [==============================] - 0s 1ms/step - loss: 0.9516 - val_loss: 0.9149\n",
      "Epoch 4/150\n",
      "25/25 [==============================] - 0s 2ms/step - loss: 0.9201 - val_loss: 0.8927\n",
      "Epoch 5/150\n",
      "25/25 [==============================] - 0s 2ms/step - loss: 0.8919 - val_loss: 0.8714\n",
      "Epoch 6/150\n",
      "25/25 [==============================] - 0s 2ms/step - loss: 0.8636 - val_loss: 0.8515\n",
      "Epoch 7/150\n",
      "25/25 [==============================] - 0s 2ms/step - loss: 0.8392 - val_loss: 0.8339\n",
      "Epoch 8/150\n",
      "25/25 [==============================] - 0s 2ms/step - loss: 0.8151 - val_loss: 0.8207\n",
      "Epoch 9/150\n",
      "25/25 [==============================] - 0s 2ms/step - loss: 0.7946 - val_loss: 0.8043\n",
      "Epoch 10/150\n",
      "25/25 [==============================] - 0s 2ms/step - loss: 0.7743 - val_loss: 0.7953\n",
      "Epoch 11/150\n",
      "25/25 [==============================] - 0s 2ms/step - loss: 0.7548 - val_loss: 0.7811\n",
      "Epoch 12/150\n",
      "25/25 [==============================] - 0s 2ms/step - loss: 0.7389 - val_loss: 0.7669\n",
      "Epoch 13/150\n",
      "25/25 [==============================] - 0s 2ms/step - loss: 0.7220 - val_loss: 0.7556\n",
      "Epoch 14/150\n",
      "25/25 [==============================] - 0s 2ms/step - loss: 0.7044 - val_loss: 0.7437\n",
      "Epoch 15/150\n",
      "25/25 [==============================] - 0s 2ms/step - loss: 0.6900 - val_loss: 0.7366\n",
      "Epoch 16/150\n",
      "25/25 [==============================] - 0s 2ms/step - loss: 0.6752 - val_loss: 0.7211\n",
      "Epoch 17/150\n",
      "25/25 [==============================] - 0s 2ms/step - loss: 0.6615 - val_loss: 0.7090\n",
      "Epoch 18/150\n",
      "25/25 [==============================] - 0s 2ms/step - loss: 0.6459 - val_loss: 0.6956\n",
      "Epoch 19/150\n",
      "25/25 [==============================] - 0s 2ms/step - loss: 0.6322 - val_loss: 0.6873\n",
      "Epoch 20/150\n",
      "25/25 [==============================] - 0s 2ms/step - loss: 0.6182 - val_loss: 0.6673\n",
      "Epoch 21/150\n",
      "25/25 [==============================] - 0s 2ms/step - loss: 0.6046 - val_loss: 0.6640\n",
      "Epoch 22/150\n",
      "25/25 [==============================] - 0s 2ms/step - loss: 0.5930 - val_loss: 0.6429\n",
      "Epoch 23/150\n",
      "25/25 [==============================] - 0s 2ms/step - loss: 0.5781 - val_loss: 0.6365\n",
      "Epoch 24/150\n",
      "25/25 [==============================] - 0s 2ms/step - loss: 0.5667 - val_loss: 0.6156\n",
      "Epoch 25/150\n",
      "25/25 [==============================] - 0s 2ms/step - loss: 0.5532 - val_loss: 0.6106\n",
      "Epoch 26/150\n",
      "25/25 [==============================] - 0s 2ms/step - loss: 0.5420 - val_loss: 0.5937\n",
      "Epoch 27/150\n",
      "25/25 [==============================] - 0s 2ms/step - loss: 0.5286 - val_loss: 0.5868\n",
      "Epoch 28/150\n",
      "25/25 [==============================] - 0s 2ms/step - loss: 0.5149 - val_loss: 0.5658\n",
      "Epoch 29/150\n",
      "25/25 [==============================] - 0s 2ms/step - loss: 0.5063 - val_loss: 0.5557\n",
      "Epoch 30/150\n",
      "25/25 [==============================] - 0s 2ms/step - loss: 0.4908 - val_loss: 0.5434\n",
      "Epoch 31/150\n",
      "25/25 [==============================] - 0s 2ms/step - loss: 0.4785 - val_loss: 0.5336\n",
      "Epoch 32/150\n",
      "25/25 [==============================] - 0s 2ms/step - loss: 0.4671 - val_loss: 0.5134\n",
      "Epoch 33/150\n",
      "25/25 [==============================] - 0s 1ms/step - loss: 0.4534 - val_loss: 0.5059\n",
      "Epoch 34/150\n",
      "25/25 [==============================] - 0s 2ms/step - loss: 0.4421 - val_loss: 0.4922\n",
      "Epoch 35/150\n",
      "25/25 [==============================] - 0s 2ms/step - loss: 0.4291 - val_loss: 0.4823\n",
      "Epoch 36/150\n",
      "25/25 [==============================] - 0s 2ms/step - loss: 0.4193 - val_loss: 0.4598\n",
      "Epoch 37/150\n",
      "25/25 [==============================] - 0s 2ms/step - loss: 0.4040 - val_loss: 0.4483\n",
      "Epoch 38/150\n",
      "25/25 [==============================] - 0s 2ms/step - loss: 0.3920 - val_loss: 0.4357\n",
      "Epoch 39/150\n",
      "25/25 [==============================] - 0s 2ms/step - loss: 0.3802 - val_loss: 0.4191\n",
      "Epoch 40/150\n",
      "25/25 [==============================] - 0s 2ms/step - loss: 0.3677 - val_loss: 0.4071\n",
      "Epoch 41/150\n",
      "25/25 [==============================] - 0s 2ms/step - loss: 0.3553 - val_loss: 0.3951\n",
      "Epoch 42/150\n",
      "25/25 [==============================] - 0s 2ms/step - loss: 0.3437 - val_loss: 0.3791\n",
      "Epoch 43/150\n",
      "25/25 [==============================] - 0s 2ms/step - loss: 0.3306 - val_loss: 0.3639\n",
      "Epoch 44/150\n",
      "25/25 [==============================] - 0s 2ms/step - loss: 0.3185 - val_loss: 0.3518\n",
      "Epoch 45/150\n",
      "25/25 [==============================] - 0s 2ms/step - loss: 0.3059 - val_loss: 0.3452\n",
      "Epoch 46/150\n",
      "25/25 [==============================] - 0s 2ms/step - loss: 0.2928 - val_loss: 0.3232\n",
      "Epoch 47/150\n",
      "25/25 [==============================] - 0s 2ms/step - loss: 0.2800 - val_loss: 0.3075\n",
      "Epoch 48/150\n",
      "25/25 [==============================] - 0s 1ms/step - loss: 0.2682 - val_loss: 0.2941\n",
      "Epoch 49/150\n",
      "25/25 [==============================] - 0s 2ms/step - loss: 0.2556 - val_loss: 0.2907\n",
      "Epoch 50/150\n",
      "25/25 [==============================] - 0s 2ms/step - loss: 0.2464 - val_loss: 0.2656\n",
      "Epoch 51/150\n",
      "25/25 [==============================] - 0s 2ms/step - loss: 0.2311 - val_loss: 0.2558\n",
      "Epoch 52/150\n",
      "25/25 [==============================] - 0s 2ms/step - loss: 0.2170 - val_loss: 0.2389\n",
      "Epoch 53/150\n",
      "25/25 [==============================] - 0s 2ms/step - loss: 0.2084 - val_loss: 0.2292\n",
      "Epoch 54/150\n",
      "25/25 [==============================] - 0s 2ms/step - loss: 0.1955 - val_loss: 0.2165\n",
      "Epoch 55/150\n",
      "25/25 [==============================] - 0s 1ms/step - loss: 0.1822 - val_loss: 0.1993\n",
      "Epoch 56/150\n",
      "25/25 [==============================] - 0s 2ms/step - loss: 0.1715 - val_loss: 0.1901\n",
      "Epoch 57/150\n",
      "25/25 [==============================] - 0s 2ms/step - loss: 0.1589 - val_loss: 0.1795\n",
      "Epoch 58/150\n",
      "25/25 [==============================] - 0s 2ms/step - loss: 0.1489 - val_loss: 0.1652\n",
      "Epoch 59/150\n",
      "25/25 [==============================] - 0s 1ms/step - loss: 0.1371 - val_loss: 0.1526\n",
      "Epoch 60/150\n",
      "25/25 [==============================] - 0s 2ms/step - loss: 0.1270 - val_loss: 0.1394\n",
      "Epoch 61/150\n",
      "25/25 [==============================] - 0s 2ms/step - loss: 0.1170 - val_loss: 0.1277\n",
      "Epoch 62/150\n",
      "25/25 [==============================] - 0s 2ms/step - loss: 0.1068 - val_loss: 0.1166\n",
      "Epoch 63/150\n",
      "25/25 [==============================] - 0s 1ms/step - loss: 0.0992 - val_loss: 0.1063\n",
      "Epoch 64/150\n",
      "25/25 [==============================] - 0s 2ms/step - loss: 0.0892 - val_loss: 0.0972\n",
      "Epoch 65/150\n",
      "25/25 [==============================] - 0s 2ms/step - loss: 0.0810 - val_loss: 0.0877\n",
      "Epoch 66/150\n",
      "25/25 [==============================] - 0s 2ms/step - loss: 0.0733 - val_loss: 0.0834\n",
      "Epoch 67/150\n",
      "25/25 [==============================] - 0s 2ms/step - loss: 0.0670 - val_loss: 0.0727\n",
      "Epoch 68/150\n",
      "25/25 [==============================] - 0s 2ms/step - loss: 0.0595 - val_loss: 0.0654\n",
      "Epoch 69/150\n",
      "25/25 [==============================] - 0s 1ms/step - loss: 0.0536 - val_loss: 0.0583\n",
      "Epoch 70/150\n",
      "25/25 [==============================] - 0s 2ms/step - loss: 0.0479 - val_loss: 0.0519\n",
      "Epoch 71/150\n",
      "25/25 [==============================] - 0s 2ms/step - loss: 0.0426 - val_loss: 0.0458\n",
      "Epoch 72/150\n",
      "25/25 [==============================] - 0s 2ms/step - loss: 0.0374 - val_loss: 0.0406\n",
      "Epoch 73/150\n",
      "25/25 [==============================] - 0s 2ms/step - loss: 0.0332 - val_loss: 0.0358\n",
      "Epoch 74/150\n",
      "25/25 [==============================] - 0s 2ms/step - loss: 0.0294 - val_loss: 0.0314\n",
      "Epoch 75/150\n",
      "25/25 [==============================] - 0s 2ms/step - loss: 0.0257 - val_loss: 0.0281\n",
      "Epoch 76/150\n",
      "25/25 [==============================] - 0s 2ms/step - loss: 0.0225 - val_loss: 0.0251\n",
      "Epoch 77/150\n",
      "25/25 [==============================] - 0s 2ms/step - loss: 0.0199 - val_loss: 0.0211\n",
      "Epoch 78/150\n",
      "25/25 [==============================] - 0s 2ms/step - loss: 0.0173 - val_loss: 0.0189\n",
      "Epoch 79/150\n",
      "25/25 [==============================] - 0s 2ms/step - loss: 0.0151 - val_loss: 0.0162\n",
      "Epoch 80/150\n",
      "25/25 [==============================] - 0s 2ms/step - loss: 0.0130 - val_loss: 0.0147\n",
      "Epoch 81/150\n",
      "25/25 [==============================] - 0s 2ms/step - loss: 0.0111 - val_loss: 0.0121\n",
      "Epoch 82/150\n",
      "25/25 [==============================] - 0s 2ms/step - loss: 0.0094 - val_loss: 0.0101\n",
      "Epoch 83/150\n"
     ]
    },
    {
     "name": "stdout",
     "output_type": "stream",
     "text": [
      "25/25 [==============================] - 0s 2ms/step - loss: 0.0081 - val_loss: 0.0089\n",
      "Epoch 84/150\n",
      "25/25 [==============================] - 0s 2ms/step - loss: 0.0069 - val_loss: 0.0073\n",
      "Epoch 85/150\n",
      "25/25 [==============================] - 0s 2ms/step - loss: 0.0058 - val_loss: 0.0063\n",
      "Epoch 86/150\n",
      "25/25 [==============================] - 0s 1ms/step - loss: 0.0049 - val_loss: 0.0053\n",
      "Epoch 87/150\n",
      "25/25 [==============================] - 0s 1ms/step - loss: 0.0041 - val_loss: 0.0045\n",
      "Epoch 88/150\n",
      "25/25 [==============================] - 0s 1ms/step - loss: 0.0035 - val_loss: 0.0039\n",
      "Epoch 89/150\n",
      "25/25 [==============================] - 0s 1ms/step - loss: 0.0030 - val_loss: 0.0032\n",
      "Epoch 90/150\n",
      "25/25 [==============================] - 0s 2ms/step - loss: 0.0027 - val_loss: 0.0027\n",
      "Epoch 91/150\n",
      "25/25 [==============================] - 0s 1ms/step - loss: 0.0021 - val_loss: 0.0023\n",
      "Epoch 92/150\n",
      "25/25 [==============================] - 0s 2ms/step - loss: 0.0018 - val_loss: 0.0019\n",
      "Epoch 93/150\n",
      "25/25 [==============================] - 0s 2ms/step - loss: 0.0015 - val_loss: 0.0016\n",
      "Epoch 94/150\n",
      "25/25 [==============================] - 0s 1ms/step - loss: 0.0012 - val_loss: 0.0013\n",
      "Epoch 95/150\n",
      "25/25 [==============================] - 0s 1ms/step - loss: 0.0010 - val_loss: 0.0011\n",
      "Epoch 96/150\n",
      "25/25 [==============================] - 0s 2ms/step - loss: 8.9053e-04 - val_loss: 9.4792e-04\n",
      "Epoch 97/150\n",
      "25/25 [==============================] - 0s 2ms/step - loss: 7.4708e-04 - val_loss: 8.0828e-04\n",
      "Epoch 98/150\n",
      "25/25 [==============================] - 0s 1ms/step - loss: 6.3840e-04 - val_loss: 6.9323e-04\n",
      "Epoch 99/150\n",
      "25/25 [==============================] - 0s 2ms/step - loss: 5.5102e-04 - val_loss: 6.0718e-04\n",
      "Epoch 100/150\n",
      "25/25 [==============================] - 0s 2ms/step - loss: 4.9392e-04 - val_loss: 5.0844e-04\n",
      "Epoch 101/150\n",
      "25/25 [==============================] - 0s 1ms/step - loss: 4.1990e-04 - val_loss: 4.4648e-04\n",
      "Epoch 102/150\n",
      "25/25 [==============================] - 0s 2ms/step - loss: 3.8344e-04 - val_loss: 3.9280e-04\n",
      "Epoch 103/150\n",
      "25/25 [==============================] - 0s 1ms/step - loss: 3.3211e-04 - val_loss: 3.4301e-04\n",
      "Epoch 104/150\n",
      "25/25 [==============================] - 0s 2ms/step - loss: 2.9566e-04 - val_loss: 3.0713e-04\n",
      "Epoch 105/150\n",
      "25/25 [==============================] - 0s 1ms/step - loss: 2.7015e-04 - val_loss: 2.7749e-04\n",
      "Epoch 106/150\n",
      "25/25 [==============================] - 0s 1ms/step - loss: 2.5511e-04 - val_loss: 2.6473e-04\n",
      "Epoch 107/150\n",
      "25/25 [==============================] - 0s 2ms/step - loss: 2.3773e-04 - val_loss: 2.3307e-04\n",
      "Epoch 108/150\n",
      "25/25 [==============================] - 0s 1ms/step - loss: 2.2384e-04 - val_loss: 2.1642e-04\n",
      "Epoch 109/150\n",
      "25/25 [==============================] - 0s 2ms/step - loss: 2.0515e-04 - val_loss: 2.0486e-04\n",
      "Epoch 110/150\n",
      "25/25 [==============================] - 0s 1ms/step - loss: 1.9818e-04 - val_loss: 2.1260e-04\n",
      "Epoch 111/150\n",
      "25/25 [==============================] - 0s 1ms/step - loss: 1.8814e-04 - val_loss: 1.9689e-04\n",
      "Epoch 112/150\n",
      "25/25 [==============================] - 0s 1ms/step - loss: 1.8602e-04 - val_loss: 1.7428e-04\n",
      "Epoch 113/150\n",
      "25/25 [==============================] - 0s 1ms/step - loss: 1.7419e-04 - val_loss: 1.6890e-04\n",
      "Epoch 114/150\n",
      "25/25 [==============================] - 0s 1ms/step - loss: 1.6939e-04 - val_loss: 1.6811e-04\n",
      "Epoch 115/150\n",
      "25/25 [==============================] - 0s 1ms/step - loss: 1.6858e-04 - val_loss: 1.5846e-04\n",
      "Epoch 116/150\n",
      "25/25 [==============================] - 0s 2ms/step - loss: 1.6037e-04 - val_loss: 1.5208e-04\n",
      "Epoch 117/150\n",
      "25/25 [==============================] - 0s 2ms/step - loss: 1.6001e-04 - val_loss: 1.5458e-04\n",
      "Epoch 118/150\n",
      "25/25 [==============================] - 0s 1ms/step - loss: 1.5518e-04 - val_loss: 1.4630e-04\n",
      "Epoch 119/150\n",
      "25/25 [==============================] - 0s 1ms/step - loss: 1.5162e-04 - val_loss: 1.4353e-04\n",
      "Epoch 120/150\n",
      "25/25 [==============================] - 0s 1ms/step - loss: 1.4909e-04 - val_loss: 1.4016e-04\n",
      "Epoch 121/150\n",
      "25/25 [==============================] - 0s 1ms/step - loss: 1.4777e-04 - val_loss: 1.3823e-04\n",
      "Epoch 122/150\n",
      "25/25 [==============================] - 0s 1ms/step - loss: 1.4708e-04 - val_loss: 1.4235e-04\n",
      "Epoch 123/150\n",
      "25/25 [==============================] - 0s 1ms/step - loss: 1.4560e-04 - val_loss: 1.6046e-04\n",
      "Epoch 124/150\n",
      "25/25 [==============================] - 0s 2ms/step - loss: 1.4451e-04 - val_loss: 1.3087e-04\n",
      "Epoch 125/150\n",
      "25/25 [==============================] - 0s 2ms/step - loss: 1.3668e-04 - val_loss: 1.3484e-04\n",
      "Epoch 126/150\n",
      "25/25 [==============================] - 0s 2ms/step - loss: 1.3520e-04 - val_loss: 1.2846e-04\n",
      "Epoch 127/150\n",
      "25/25 [==============================] - 0s 2ms/step - loss: 1.3113e-04 - val_loss: 1.2572e-04\n",
      "Epoch 128/150\n",
      "25/25 [==============================] - 0s 1ms/step - loss: 1.3306e-04 - val_loss: 1.2292e-04\n",
      "Epoch 129/150\n",
      "25/25 [==============================] - 0s 2ms/step - loss: 1.2711e-04 - val_loss: 1.2370e-04\n",
      "Epoch 130/150\n",
      "25/25 [==============================] - 0s 2ms/step - loss: 1.2681e-04 - val_loss: 1.2534e-04\n",
      "Epoch 131/150\n",
      "25/25 [==============================] - 0s 2ms/step - loss: 1.2521e-04 - val_loss: 1.2175e-04\n",
      "Epoch 132/150\n",
      "25/25 [==============================] - 0s 2ms/step - loss: 1.2380e-04 - val_loss: 1.2421e-04\n",
      "Epoch 133/150\n",
      "25/25 [==============================] - 0s 2ms/step - loss: 1.2093e-04 - val_loss: 1.2304e-04\n",
      "Epoch 134/150\n",
      "25/25 [==============================] - 0s 2ms/step - loss: 1.2054e-04 - val_loss: 1.1672e-04\n",
      "Epoch 135/150\n",
      "25/25 [==============================] - 0s 1ms/step - loss: 1.1669e-04 - val_loss: 1.1536e-04\n",
      "Epoch 136/150\n",
      "25/25 [==============================] - 0s 1ms/step - loss: 1.1606e-04 - val_loss: 1.2406e-04\n",
      "Epoch 137/150\n",
      "25/25 [==============================] - 0s 1ms/step - loss: 1.1844e-04 - val_loss: 1.1254e-04\n",
      "Epoch 138/150\n",
      "25/25 [==============================] - 0s 1ms/step - loss: 1.1463e-04 - val_loss: 1.2158e-04\n",
      "Epoch 139/150\n",
      "25/25 [==============================] - 0s 1ms/step - loss: 1.1451e-04 - val_loss: 1.2060e-04\n",
      "Epoch 140/150\n",
      "25/25 [==============================] - 0s 2ms/step - loss: 1.1122e-04 - val_loss: 1.1250e-04\n",
      "Epoch 141/150\n",
      "25/25 [==============================] - 0s 2ms/step - loss: 1.0898e-04 - val_loss: 1.0735e-04\n",
      "Epoch 142/150\n",
      "25/25 [==============================] - 0s 2ms/step - loss: 1.0982e-04 - val_loss: 1.0704e-04\n",
      "Epoch 143/150\n",
      "25/25 [==============================] - 0s 2ms/step - loss: 1.0509e-04 - val_loss: 1.0766e-04\n",
      "Epoch 144/150\n",
      "25/25 [==============================] - 0s 1ms/step - loss: 1.0518e-04 - val_loss: 1.1019e-04\n",
      "Epoch 145/150\n",
      "25/25 [==============================] - 0s 1ms/step - loss: 1.0262e-04 - val_loss: 1.0817e-04\n",
      "Epoch 146/150\n",
      "25/25 [==============================] - 0s 1ms/step - loss: 1.0168e-04 - val_loss: 1.0970e-04\n",
      "Epoch 147/150\n",
      "25/25 [==============================] - 0s 1ms/step - loss: 1.0142e-04 - val_loss: 1.0229e-04\n",
      "Epoch 148/150\n",
      "25/25 [==============================] - 0s 1ms/step - loss: 9.8545e-05 - val_loss: 1.1051e-04\n",
      "Epoch 149/150\n",
      "25/25 [==============================] - 0s 2ms/step - loss: 9.8195e-05 - val_loss: 1.0173e-04\n",
      "Epoch 150/150\n",
      "25/25 [==============================] - 0s 1ms/step - loss: 9.5639e-05 - val_loss: 9.8005e-05\n",
      "25/25 [==============================] - 0s 944us/step - loss: 9.2614e-05\n",
      "7/7 [==============================] - 0s 665us/step - loss: 9.8005e-05\n",
      "9.26135471672751e-05 9.800509724300355e-05\n"
     ]
    },
    {
     "data": {
      "image/png": "[encoded data removed]",
      "text/plain": [
       "<Figure size 432x288 with 1 Axes>"
      ]
     },
     "metadata": {
      "needs_background": "light"
     },
     "output_type": "display_data"
    }
   ],
   "source": [
    "model = Sequential()\n",
    "model.add(Dense(25, input_dim = 8, activation = 'relu', kernel_initializer = 'he_uniform'))\n",
    "model.add(Dense(1, activation = 'linear'))\n",
    "model.compile(loss='mean_squared_error', optimizer = 'adam')\n",
    "history = model.fit(X_train_nm, y_train_sc, validation_data = (X_test_nm, y_test_sc), epochs = 150)\n",
    "\n",
    "train_mse = model.evaluate(X_train_nm, y_train_sc)\n",
    "test_mse = model.evaluate(X_test_nm, y_test_sc)\n",
    "print(train_mse, test_mse)\n",
    "\n",
    "# plot loss during training\n",
    "_= plt.title('Mean Squared Error')\n",
    "_= plt.plot(history.history['loss'], label='train') # accesses the loss function for the training set\n",
    "_= plt.plot(history.history['val_loss'], label='test') # accesses the loss function for the test set\n",
    "_= plt.legend()\n",
    "_= plt.show()"
   ]
  },
  {
   "cell_type": "markdown",
   "id": "b08d61dd",
   "metadata": {},
   "source": [
    "Interestingly this looks worse than with unscaled input"
   ]
  },
  {
   "cell_type": "markdown",
   "id": "c335e366",
   "metadata": {},
   "source": [
    "#### Standardized input"
   ]
  },
  {
   "cell_type": "code",
   "execution_count": 26,
   "id": "624a5579",
   "metadata": {},
   "outputs": [],
   "source": [
    "scaler = StandardScaler()\n",
    "scaler.fit(X_train)\n",
    "X_train_sc = scaler.transform(X_train)\n",
    "X_test_sc = scaler.transform(X_test)"
   ]
  },
  {
   "cell_type": "code",
   "execution_count": 28,
   "id": "a447c749",
   "metadata": {},
   "outputs": [
    {
     "name": "stdout",
     "output_type": "stream",
     "text": [
      "Epoch 1/80\n",
      "25/25 [==============================] - 0s 3ms/step - loss: 7.8815 - val_loss: 7.0612\n",
      "Epoch 2/80\n",
      "25/25 [==============================] - 0s 1ms/step - loss: 6.1055 - val_loss: 5.5433\n",
      "Epoch 3/80\n",
      "25/25 [==============================] - 0s 1ms/step - loss: 4.8407 - val_loss: 4.4174\n",
      "Epoch 4/80\n",
      "25/25 [==============================] - 0s 1ms/step - loss: 3.8970 - val_loss: 3.5656\n",
      "Epoch 5/80\n",
      "25/25 [==============================] - 0s 1ms/step - loss: 3.1630 - val_loss: 2.9220\n",
      "Epoch 6/80\n",
      "25/25 [==============================] - 0s 1ms/step - loss: 2.5937 - val_loss: 2.3961\n",
      "Epoch 7/80\n",
      "25/25 [==============================] - 0s 1ms/step - loss: 2.1325 - val_loss: 1.9668\n",
      "Epoch 8/80\n",
      "25/25 [==============================] - 0s 1ms/step - loss: 1.7541 - val_loss: 1.6112\n",
      "Epoch 9/80\n",
      "25/25 [==============================] - 0s 1ms/step - loss: 1.4408 - val_loss: 1.3228\n",
      "Epoch 10/80\n",
      "25/25 [==============================] - 0s 1ms/step - loss: 1.1840 - val_loss: 1.0832\n",
      "Epoch 11/80\n",
      "25/25 [==============================] - 0s 1ms/step - loss: 0.9679 - val_loss: 0.8876\n",
      "Epoch 12/80\n",
      "25/25 [==============================] - 0s 1ms/step - loss: 0.7942 - val_loss: 0.7234\n",
      "Epoch 13/80\n",
      "25/25 [==============================] - 0s 1ms/step - loss: 0.6495 - val_loss: 0.5906\n",
      "Epoch 14/80\n",
      "25/25 [==============================] - 0s 1ms/step - loss: 0.5350 - val_loss: 0.4837\n",
      "Epoch 15/80\n",
      "25/25 [==============================] - 0s 1ms/step - loss: 0.4409 - val_loss: 0.4034\n",
      "Epoch 16/80\n",
      "25/25 [==============================] - 0s 1ms/step - loss: 0.3714 - val_loss: 0.3389\n",
      "Epoch 17/80\n",
      "25/25 [==============================] - 0s 1ms/step - loss: 0.3168 - val_loss: 0.2920\n",
      "Epoch 18/80\n",
      "25/25 [==============================] - 0s 1ms/step - loss: 0.2745 - val_loss: 0.2573\n",
      "Epoch 19/80\n",
      "25/25 [==============================] - 0s 1ms/step - loss: 0.2430 - val_loss: 0.2296\n",
      "Epoch 20/80\n",
      "25/25 [==============================] - 0s 1ms/step - loss: 0.2189 - val_loss: 0.2089\n",
      "Epoch 21/80\n",
      "25/25 [==============================] - 0s 1ms/step - loss: 0.1995 - val_loss: 0.1943\n",
      "Epoch 22/80\n",
      "25/25 [==============================] - 0s 1ms/step - loss: 0.1841 - val_loss: 0.1807\n",
      "Epoch 23/80\n",
      "25/25 [==============================] - 0s 1ms/step - loss: 0.1707 - val_loss: 0.1701\n",
      "Epoch 24/80\n",
      "25/25 [==============================] - 0s 1ms/step - loss: 0.1594 - val_loss: 0.1602\n",
      "Epoch 25/80\n",
      "25/25 [==============================] - 0s 1ms/step - loss: 0.1496 - val_loss: 0.1523\n",
      "Epoch 26/80\n",
      "25/25 [==============================] - 0s 1ms/step - loss: 0.1405 - val_loss: 0.1445\n",
      "Epoch 27/80\n",
      "25/25 [==============================] - 0s 1ms/step - loss: 0.1324 - val_loss: 0.1363\n",
      "Epoch 28/80\n",
      "25/25 [==============================] - 0s 1ms/step - loss: 0.1249 - val_loss: 0.1297\n",
      "Epoch 29/80\n",
      "25/25 [==============================] - 0s 1ms/step - loss: 0.1181 - val_loss: 0.1233\n",
      "Epoch 30/80\n",
      "25/25 [==============================] - 0s 1ms/step - loss: 0.1114 - val_loss: 0.1166\n",
      "Epoch 31/80\n",
      "25/25 [==============================] - 0s 1ms/step - loss: 0.1055 - val_loss: 0.1109\n",
      "Epoch 32/80\n",
      "25/25 [==============================] - 0s 1ms/step - loss: 0.0998 - val_loss: 0.1053\n",
      "Epoch 33/80\n",
      "25/25 [==============================] - 0s 1ms/step - loss: 0.0945 - val_loss: 0.1002\n",
      "Epoch 34/80\n",
      "25/25 [==============================] - 0s 1ms/step - loss: 0.0897 - val_loss: 0.0952\n",
      "Epoch 35/80\n",
      "25/25 [==============================] - 0s 1ms/step - loss: 0.0852 - val_loss: 0.0908\n",
      "Epoch 36/80\n",
      "25/25 [==============================] - 0s 1ms/step - loss: 0.0810 - val_loss: 0.0858\n",
      "Epoch 37/80\n",
      "25/25 [==============================] - 0s 1ms/step - loss: 0.0769 - val_loss: 0.0823\n",
      "Epoch 38/80\n",
      "25/25 [==============================] - 0s 1ms/step - loss: 0.0733 - val_loss: 0.0782\n",
      "Epoch 39/80\n",
      "25/25 [==============================] - 0s 1ms/step - loss: 0.0698 - val_loss: 0.0746\n",
      "Epoch 40/80\n",
      "25/25 [==============================] - 0s 1ms/step - loss: 0.0666 - val_loss: 0.0714\n",
      "Epoch 41/80\n",
      "25/25 [==============================] - 0s 1ms/step - loss: 0.0636 - val_loss: 0.0685\n",
      "Epoch 42/80\n",
      "25/25 [==============================] - 0s 1ms/step - loss: 0.0609 - val_loss: 0.0653\n",
      "Epoch 43/80\n",
      "25/25 [==============================] - 0s 1ms/step - loss: 0.0582 - val_loss: 0.0626\n",
      "Epoch 44/80\n",
      "25/25 [==============================] - 0s 1ms/step - loss: 0.0558 - val_loss: 0.0598\n",
      "Epoch 45/80\n",
      "25/25 [==============================] - 0s 1ms/step - loss: 0.0534 - val_loss: 0.0574\n",
      "Epoch 46/80\n",
      "25/25 [==============================] - 0s 1ms/step - loss: 0.0512 - val_loss: 0.0553\n",
      "Epoch 47/80\n",
      "25/25 [==============================] - 0s 1ms/step - loss: 0.0493 - val_loss: 0.0532\n",
      "Epoch 48/80\n",
      "25/25 [==============================] - 0s 1ms/step - loss: 0.0474 - val_loss: 0.0511\n",
      "Epoch 49/80\n",
      "25/25 [==============================] - 0s 1ms/step - loss: 0.0455 - val_loss: 0.0489\n",
      "Epoch 50/80\n",
      "25/25 [==============================] - 0s 1ms/step - loss: 0.0438 - val_loss: 0.0476\n",
      "Epoch 51/80\n",
      "25/25 [==============================] - 0s 1ms/step - loss: 0.0425 - val_loss: 0.0459\n",
      "Epoch 52/80\n",
      "25/25 [==============================] - 0s 1ms/step - loss: 0.0406 - val_loss: 0.0443\n",
      "Epoch 53/80\n",
      "25/25 [==============================] - 0s 1ms/step - loss: 0.0393 - val_loss: 0.0425\n",
      "Epoch 54/80\n",
      "25/25 [==============================] - 0s 1ms/step - loss: 0.0379 - val_loss: 0.0413\n",
      "Epoch 55/80\n",
      "25/25 [==============================] - 0s 1ms/step - loss: 0.0366 - val_loss: 0.0399\n",
      "Epoch 56/80\n",
      "25/25 [==============================] - 0s 1ms/step - loss: 0.0355 - val_loss: 0.0386\n",
      "Epoch 57/80\n",
      "25/25 [==============================] - 0s 1ms/step - loss: 0.0343 - val_loss: 0.0374\n",
      "Epoch 58/80\n",
      "25/25 [==============================] - 0s 1ms/step - loss: 0.0334 - val_loss: 0.0363\n",
      "Epoch 59/80\n",
      "25/25 [==============================] - 0s 1ms/step - loss: 0.0324 - val_loss: 0.0354\n",
      "Epoch 60/80\n",
      "25/25 [==============================] - 0s 1ms/step - loss: 0.0314 - val_loss: 0.0343\n",
      "Epoch 61/80\n",
      "25/25 [==============================] - 0s 1ms/step - loss: 0.0305 - val_loss: 0.0332\n",
      "Epoch 62/80\n",
      "25/25 [==============================] - 0s 1ms/step - loss: 0.0297 - val_loss: 0.0323\n",
      "Epoch 63/80\n",
      "25/25 [==============================] - 0s 1ms/step - loss: 0.0289 - val_loss: 0.0314\n",
      "Epoch 64/80\n",
      "25/25 [==============================] - 0s 1ms/step - loss: 0.0281 - val_loss: 0.0307\n",
      "Epoch 65/80\n",
      "25/25 [==============================] - 0s 1ms/step - loss: 0.0273 - val_loss: 0.0297\n",
      "Epoch 66/80\n",
      "25/25 [==============================] - 0s 1ms/step - loss: 0.0266 - val_loss: 0.0291\n",
      "Epoch 67/80\n",
      "25/25 [==============================] - 0s 1ms/step - loss: 0.0259 - val_loss: 0.0284\n",
      "Epoch 68/80\n",
      "25/25 [==============================] - 0s 1ms/step - loss: 0.0254 - val_loss: 0.0278\n",
      "Epoch 69/80\n",
      "25/25 [==============================] - 0s 1ms/step - loss: 0.0248 - val_loss: 0.0271\n",
      "Epoch 70/80\n",
      "25/25 [==============================] - 0s 1ms/step - loss: 0.0241 - val_loss: 0.0265\n",
      "Epoch 71/80\n",
      "25/25 [==============================] - 0s 1ms/step - loss: 0.0236 - val_loss: 0.0259\n",
      "Epoch 72/80\n",
      "25/25 [==============================] - 0s 1ms/step - loss: 0.0231 - val_loss: 0.0252\n",
      "Epoch 73/80\n",
      "25/25 [==============================] - 0s 1ms/step - loss: 0.0226 - val_loss: 0.0249\n",
      "Epoch 74/80\n",
      "25/25 [==============================] - 0s 1ms/step - loss: 0.0222 - val_loss: 0.0242\n",
      "Epoch 75/80\n",
      "25/25 [==============================] - 0s 1ms/step - loss: 0.0216 - val_loss: 0.0239\n",
      "Epoch 76/80\n",
      "25/25 [==============================] - 0s 1ms/step - loss: 0.0211 - val_loss: 0.0234\n",
      "Epoch 77/80\n",
      "25/25 [==============================] - 0s 1ms/step - loss: 0.0207 - val_loss: 0.0229\n",
      "Epoch 78/80\n",
      "25/25 [==============================] - 0s 1ms/step - loss: 0.0203 - val_loss: 0.0224\n",
      "Epoch 79/80\n",
      "25/25 [==============================] - 0s 1ms/step - loss: 0.0199 - val_loss: 0.0220\n",
      "Epoch 80/80\n",
      "25/25 [==============================] - 0s 1ms/step - loss: 0.0195 - val_loss: 0.0217\n",
      "25/25 [==============================] - 0s 810us/step - loss: 0.0191\n",
      "7/7 [==============================] - 0s 831us/step - loss: 0.0217\n",
      "0.019110294058918953 0.021653244271874428\n"
     ]
    },
    {
     "data": {
      "image/png": "[encoded data removed]",
      "text/plain": [
       "<Figure size 432x288 with 1 Axes>"
      ]
     },
     "metadata": {
      "needs_background": "light"
     },
     "output_type": "display_data"
    }
   ],
   "source": [
    "model = Sequential()\n",
    "model.add(Dense(25, input_dim = 8, activation = 'relu', kernel_initializer = 'he_uniform'))\n",
    "model.add(Dense(1, activation = 'linear'))\n",
    "model.compile(loss='mean_squared_error', optimizer = 'adam')\n",
    "history = model.fit(X_train_sc, y_train_sc, validation_data = (X_test_sc, y_test_sc), epochs = 80)\n",
    "\n",
    "train_mse = model.evaluate(X_train_sc, y_train_sc)\n",
    "test_mse = model.evaluate(X_test_sc, y_test_sc)\n",
    "print(train_mse, test_mse)\n",
    "\n",
    "# plot loss during training\n",
    "_= plt.title('Mean Squared Error')\n",
    "_= plt.plot(history.history['loss'], label='train') # accesses the loss function for the training set\n",
    "_= plt.plot(history.history['val_loss'], label='test') # accesses the loss function for the test set\n",
    "_= plt.legend()\n",
    "_= plt.show()"
   ]
  },
  {
   "cell_type": "markdown",
   "id": "b5f95adc",
   "metadata": {},
   "source": [
    "Standardizing both is about the sam as standardizing only the output..."
   ]
  },
  {
   "cell_type": "code",
   "execution_count": null,
   "id": "64735af3",
   "metadata": {},
   "outputs": [],
   "source": []
  }
 ],
 "metadata": {
  "kernelspec": {
   "display_name": "Python 3 (ipykernel)",
   "language": "python",
   "name": "python3"
  },
  "language_info": {
   "codemirror_mode": {
    "name": "ipython",
    "version": 3
   },
   "file_extension": ".py",
   "mimetype": "text/x-python",
   "name": "python",
   "nbconvert_exporter": "python",
   "pygments_lexer": "ipython3",
   "version": "3.8.12"
  }
 },
 "nbformat": 4,
 "nbformat_minor": 5
}
