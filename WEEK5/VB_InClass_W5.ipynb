{
 "cells": [
  {
   "cell_type": "markdown",
   "id": "9e43295d",
   "metadata": {},
   "source": [
    "1, Function to rearrange digits"
   ]
  },
  {
   "cell_type": "code",
   "execution_count": 1,
   "id": "eb6929b1",
   "metadata": {},
   "outputs": [],
   "source": [
    "def myfunc(inp = 111111):\n",
    "    inp = input('Enter please a numner: ')\n",
    "    inp_digits = []\n",
    "    \n",
    "    for i in inp:\n",
    "        inp_digits.append(i)\n",
    "    inp_digits.sort(reverse = True)\n",
    "    \n",
    "    out = ''\n",
    "    for i in inp_digits:\n",
    "        out = out + i\n",
    "        \n",
    "    return out\n",
    "    \n",
    "# now the question is if I do not give an input, why does it not use the default?   "
   ]
  },
  {
   "cell_type": "code",
   "execution_count": 9,
   "id": "9e8f9ca2",
   "metadata": {},
   "outputs": [
    {
     "name": "stdout",
     "output_type": "stream",
     "text": [
      "Enter please a numner: \n"
     ]
    },
    {
     "data": {
      "text/plain": [
       "''"
      ]
     },
     "execution_count": 9,
     "metadata": {},
     "output_type": "execute_result"
    }
   ],
   "source": [
    "myfunc()"
   ]
  },
  {
   "cell_type": "markdown",
   "id": "9f9e5320",
   "metadata": {},
   "source": [
    "2, Jeopard"
   ]
  },
  {
   "cell_type": "code",
   "execution_count": 10,
   "id": "29f3bc50",
   "metadata": {},
   "outputs": [
    {
     "data": {
      "text/html": [
       "<div>\n",
       "<style scoped>\n",
       "    .dataframe tbody tr th:only-of-type {\n",
       "        vertical-align: middle;\n",
       "    }\n",
       "\n",
       "    .dataframe tbody tr th {\n",
       "        vertical-align: top;\n",
       "    }\n",
       "\n",
       "    .dataframe thead th {\n",
       "        text-align: right;\n",
       "    }\n",
       "</style>\n",
       "<table border=\"1\" class=\"dataframe\">\n",
       "  <thead>\n",
       "    <tr style=\"text-align: right;\">\n",
       "      <th></th>\n",
       "      <th>Show Number</th>\n",
       "      <th>Air Date</th>\n",
       "      <th>Round</th>\n",
       "      <th>Category</th>\n",
       "      <th>Value</th>\n",
       "      <th>Question</th>\n",
       "      <th>Answer</th>\n",
       "    </tr>\n",
       "  </thead>\n",
       "  <tbody>\n",
       "    <tr>\n",
       "      <th>0</th>\n",
       "      <td>4680</td>\n",
       "      <td>12/31/2004</td>\n",
       "      <td>Jeopardy!</td>\n",
       "      <td>HISTORY</td>\n",
       "      <td>$200</td>\n",
       "      <td>For the last 8 years of his life, Galileo was ...</td>\n",
       "      <td>Copernicus</td>\n",
       "    </tr>\n",
       "    <tr>\n",
       "      <th>1</th>\n",
       "      <td>4680</td>\n",
       "      <td>12/31/2004</td>\n",
       "      <td>Jeopardy!</td>\n",
       "      <td>ESPN's TOP 10 ALL-TIME ATHLETES</td>\n",
       "      <td>$200</td>\n",
       "      <td>No. 2: 1912 Olympian; football star at Carlisl...</td>\n",
       "      <td>Jim Thorpe</td>\n",
       "    </tr>\n",
       "    <tr>\n",
       "      <th>2</th>\n",
       "      <td>4680</td>\n",
       "      <td>12/31/2004</td>\n",
       "      <td>Jeopardy!</td>\n",
       "      <td>EVERYBODY TALKS ABOUT IT...</td>\n",
       "      <td>$200</td>\n",
       "      <td>The city of Yuma in this state has a record av...</td>\n",
       "      <td>Arizona</td>\n",
       "    </tr>\n",
       "    <tr>\n",
       "      <th>3</th>\n",
       "      <td>4680</td>\n",
       "      <td>12/31/2004</td>\n",
       "      <td>Jeopardy!</td>\n",
       "      <td>THE COMPANY LINE</td>\n",
       "      <td>$200</td>\n",
       "      <td>In 1963, live on \"The Art Linkletter Show\", th...</td>\n",
       "      <td>McDonald's</td>\n",
       "    </tr>\n",
       "    <tr>\n",
       "      <th>4</th>\n",
       "      <td>4680</td>\n",
       "      <td>12/31/2004</td>\n",
       "      <td>Jeopardy!</td>\n",
       "      <td>EPITAPHS &amp; TRIBUTES</td>\n",
       "      <td>$200</td>\n",
       "      <td>Signer of the Dec. of Indep., framer of the Co...</td>\n",
       "      <td>John Adams</td>\n",
       "    </tr>\n",
       "  </tbody>\n",
       "</table>\n",
       "</div>"
      ],
      "text/plain": [
       "   Show Number    Air Date      Round                         Category  Value  \\\n",
       "0         4680  12/31/2004  Jeopardy!                          HISTORY  $200    \n",
       "1         4680  12/31/2004  Jeopardy!  ESPN's TOP 10 ALL-TIME ATHLETES  $200    \n",
       "2         4680  12/31/2004  Jeopardy!      EVERYBODY TALKS ABOUT IT...  $200    \n",
       "3         4680  12/31/2004  Jeopardy!                 THE COMPANY LINE  $200    \n",
       "4         4680  12/31/2004  Jeopardy!              EPITAPHS & TRIBUTES  $200    \n",
       "\n",
       "                                            Question      Answer  \n",
       "0  For the last 8 years of his life, Galileo was ...  Copernicus  \n",
       "1  No. 2: 1912 Olympian; football star at Carlisl...  Jim Thorpe  \n",
       "2  The city of Yuma in this state has a record av...     Arizona  \n",
       "3  In 1963, live on \"The Art Linkletter Show\", th...  McDonald's  \n",
       "4  Signer of the Dec. of Indep., framer of the Co...  John Adams  "
      ]
     },
     "execution_count": 10,
     "metadata": {},
     "output_type": "execute_result"
    }
   ],
   "source": [
    "import pandas as pd\n",
    "\n",
    "jeopard = 'C:/Users/balazs.varga/Documents/BALAZS/USE/REPOS/DSC/HOMEWORK/WEEK5/JEOPARDY_CSV.CSV'\n",
    "\n",
    "df = pd.read_csv(jeopard)\n",
    "df.head()"
   ]
  },
  {
   "cell_type": "code",
   "execution_count": 11,
   "id": "1bd54808",
   "metadata": {},
   "outputs": [
    {
     "name": "stdout",
     "output_type": "stream",
     "text": [
      "216930\n"
     ]
    }
   ],
   "source": [
    "n_of_rows = len(df.index)\n",
    "print(n_of_rows)\n",
    "#looks like these are questions appearing in shows"
   ]
  },
  {
   "cell_type": "code",
   "execution_count": 12,
   "id": "3180fad4",
   "metadata": {},
   "outputs": [
    {
     "name": "stdout",
     "output_type": "stream",
     "text": [
      "3640\n"
     ]
    }
   ],
   "source": [
    "nunique_shows = df['Show Number'].nunique()\n",
    "print(nunique_shows)\n"
   ]
  },
  {
   "cell_type": "markdown",
   "id": "93028813",
   "metadata": {},
   "source": [
    "# How many different prices there are?"
   ]
  },
  {
   "cell_type": "code",
   "execution_count": 13,
   "id": "768bd4de",
   "metadata": {},
   "outputs": [
    {
     "name": "stdout",
     "output_type": "stream",
     "text": [
      "146\n"
     ]
    }
   ],
   "source": [
    "nunique_price = df.iloc[:, 4].nunique()\n",
    "print(nunique_price)\n",
    "# OK this might be boring"
   ]
  },
  {
   "cell_type": "code",
   "execution_count": 14,
   "id": "30dda6ad",
   "metadata": {},
   "outputs": [
    {
     "name": "stdout",
     "output_type": "stream",
     "text": [
      "1984-09-10 00:00:00\n",
      "2012-01-27 00:00:00\n"
     ]
    }
   ],
   "source": [
    "# lets try to find out how long these things were aired\n",
    "df.iloc[:,1] = pd.to_datetime(df.iloc[:,1])\n",
    "beginning = df.iloc[:, 1].min()\n",
    "end = df.iloc[:, 1].max()\n",
    "\n",
    "print(beginning)\n",
    "print(end)\n"
   ]
  },
  {
   "cell_type": "markdown",
   "id": "99f732de",
   "metadata": {},
   "source": [
    "3, Let's create some graphs"
   ]
  },
  {
   "cell_type": "code",
   "execution_count": 127,
   "id": "ca10ab11",
   "metadata": {},
   "outputs": [
    {
     "data": {
      "image/png": "[encoded data removed]",
      "text/plain": [
       "<Figure size 432x288 with 1 Axes>"
      ]
     },
     "metadata": {
      "needs_background": "light"
     },
     "output_type": "display_data"
    }
   ],
   "source": [
    "# lets see if there is a correlation between the value of the price and their counts amongst the 10 most frequent prices\n",
    "\n",
    "import matplotlib.pyplot as plt\n",
    "\n",
    "dropped = df.drop(columns = [' Category', ' Question', ' Answer', ' Air Date', ' Round'])\n",
    "dropped[' Value'] = [x[1:-1] for x in dropped[' Value']]\n",
    "#seems like have to drop the $ sign before trying to convert to numeric\n",
    "\n",
    "counts = dropped.groupby(dropped[' Value']).count().set_axis(['Counts'], axis = 1)\n",
    "merged = pd.merge(dropped, counts, on = ' Value').drop_duplicates(subset = ' Value')\n",
    "merged[' Value'] = pd.to_numeric(merged[' Value'], errors = 'coerce')\n",
    "merged = merged.dropna()\n",
    "merged = merged.sort_values(by = 'Counts', ascending = False)\n",
    "selected = merged.iloc[0:9, :].copy()\n",
    "\n",
    "selected\n",
    "\n",
    "plt.scatter(selected[' Value'], selected['Counts'])\n",
    "plt.xlabel('Value in $')\n",
    "plt.ylabel('Counts')\n",
    "plt.show()\n"
   ]
  }
 ],
 "metadata": {
  "kernelspec": {
   "display_name": "Python 3 (ipykernel)",
   "language": "python",
   "name": "python3"
  },
  "language_info": {
   "codemirror_mode": {
    "name": "ipython",
    "version": 3
   },
   "file_extension": ".py",
   "mimetype": "text/x-python",
   "name": "python",
   "nbconvert_exporter": "python",
   "pygments_lexer": "ipython3",
   "version": "3.8.11"
  }
 },
 "nbformat": 4,
 "nbformat_minor": 5
}
