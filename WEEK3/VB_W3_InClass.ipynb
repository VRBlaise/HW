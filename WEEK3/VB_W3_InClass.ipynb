{
 "cells": [
  {
   "cell_type": "code",
   "execution_count": 2,
   "id": "09cf0142",
   "metadata": {},
   "outputs": [
    {
     "name": "stdout",
     "output_type": "stream",
     "text": [
      "a + b = 4\n",
      "a - b = 0\n",
      "a*b = 4\n"
     ]
    }
   ],
   "source": [
    "def basic(a,b):\n",
    "    results = [a + b,a - b,a*b]\n",
    "    tags = ['a + b = ','a - b = ', 'a*b = ']\n",
    "    \n",
    "    for index,value in enumerate(results):\n",
    "        if value == 0:\n",
    "            results[index] = 'zero\n",
    "            #value = 'zero'\n",
    "            \n",
    "    for index, value in enumerate(tags):\n",
    "        print(tags[index] + str(results[index]))\n",
    "    \n",
    "basic(2,2)"
   ]
  },
  {
   "cell_type": "code",
   "execution_count": null,
   "id": "bd427890",
   "metadata": {},
   "outputs": [],
   "source": []
  }
 ],
 "metadata": {
  "kernelspec": {
   "display_name": "Python 3 (ipykernel)",
   "language": "python",
   "name": "python3"
  },
  "language_info": {
   "codemirror_mode": {
    "name": "ipython",
    "version": 3
   },
   "file_extension": ".py",
   "mimetype": "text/x-python",
   "name": "python",
   "nbconvert_exporter": "python",
   "pygments_lexer": "ipython3",
   "version": "3.8.11"
  }
 },
 "nbformat": 4,
 "nbformat_minor": 5
}
