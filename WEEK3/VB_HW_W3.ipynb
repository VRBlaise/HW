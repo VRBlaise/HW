{
 "cells": [
  {
   "cell_type": "markdown",
   "metadata": {},
   "source": [
    "### Homework 3 Numpy Arrays\n",
    "\n",
    "1. Open `cars.csv` in jupyter and look at the data. (Double click `cars.csv` to open in a new tab).\n",
    "2. We are converting each **column** into an numpy array.\n",
    "3. Notice we have text, integer and float data. \n",
    "4. Take care not to overwrite your starter code."
   ]
  },
  {
   "cell_type": "code",
   "execution_count": 3,
   "metadata": {},
   "outputs": [],
   "source": [
    "#Starter code. Do NOT modify this cell\n",
    "import pandas as pd\n",
    "import numpy as np\n",
    "\n",
    "# Read in dataset\n",
    "df = pd.read_csv('cars.csv',delimiter=';')\n",
    "\n",
    "# Convert each column to an np.array\n",
    "car = df.Car.to_numpy()\n",
    "mpg = df.MPG.to_numpy()\n",
    "cylinders = df.Cylinders.to_numpy()\n",
    "displacement = df.Displacement.to_numpy()\n",
    "horsepower = df.Horsepower.to_numpy()\n",
    "weight = df.Weight.to_numpy()\n",
    "acceleration = df.Acceleration.to_numpy()\n",
    "model = df.Model.to_numpy()\n",
    "origin = df.Origin.to_numpy()\n",
    "\n",
    "# create an array of headers\n",
    "headers = np.array(['Car', 'MPG', 'Cylinders', 'Displacement', 'Horsepower', 'Weight','Acceleration', 'Model', 'Origin'])\n"
   ]
  },
  {
   "cell_type": "markdown",
   "metadata": {},
   "source": [
    "1. How can you get help on `np.array`?\n",
    "\n",
    "Call `dir()` on `np.array`. \n",
    "\n",
    "Call `dir()` on `car`.\n",
    "\n",
    "Note the difference. `car` has methods and attributes we can use."
   ]
  },
  {
   "cell_type": "code",
   "execution_count": 4,
   "metadata": {},
   "outputs": [
    {
     "name": "stdout",
     "output_type": "stream",
     "text": [
      "Help on built-in function array in module numpy:\n",
      "\n",
      "array(...)\n",
      "    array(object, dtype=None, *, copy=True, order='K', subok=False, ndmin=0,\n",
      "          like=None)\n",
      "    \n",
      "    Create an array.\n",
      "    \n",
      "    Parameters\n",
      "    ----------\n",
      "    object : array_like\n",
      "        An array, any object exposing the array interface, an object whose\n",
      "        __array__ method returns an array, or any (nested) sequence.\n",
      "    dtype : data-type, optional\n",
      "        The desired data-type for the array.  If not given, then the type will\n",
      "        be determined as the minimum type required to hold the objects in the\n",
      "        sequence.\n",
      "    copy : bool, optional\n",
      "        If true (default), then the object is copied.  Otherwise, a copy will\n",
      "        only be made if __array__ returns a copy, if obj is a nested sequence,\n",
      "        or if a copy is needed to satisfy any of the other requirements\n",
      "        (`dtype`, `order`, etc.).\n",
      "    order : {'K', 'A', 'C', 'F'}, optional\n",
      "        Specify the memory layout of the array. If object is not an array, the\n",
      "        newly created array will be in C order (row major) unless 'F' is\n",
      "        specified, in which case it will be in Fortran order (column major).\n",
      "        If object is an array the following holds.\n",
      "    \n",
      "        ===== ========= ===================================================\n",
      "        order  no copy                     copy=True\n",
      "        ===== ========= ===================================================\n",
      "        'K'   unchanged F & C order preserved, otherwise most similar order\n",
      "        'A'   unchanged F order if input is F and not C, otherwise C order\n",
      "        'C'   C order   C order\n",
      "        'F'   F order   F order\n",
      "        ===== ========= ===================================================\n",
      "    \n",
      "        When ``copy=False`` and a copy is made for other reasons, the result is\n",
      "        the same as if ``copy=True``, with some exceptions for `A`, see the\n",
      "        Notes section. The default order is 'K'.\n",
      "    subok : bool, optional\n",
      "        If True, then sub-classes will be passed-through, otherwise\n",
      "        the returned array will be forced to be a base-class array (default).\n",
      "    ndmin : int, optional\n",
      "        Specifies the minimum number of dimensions that the resulting\n",
      "        array should have.  Ones will be pre-pended to the shape as\n",
      "        needed to meet this requirement.\n",
      "    like : array_like\n",
      "        Reference object to allow the creation of arrays which are not\n",
      "        NumPy arrays. If an array-like passed in as ``like`` supports\n",
      "        the ``__array_function__`` protocol, the result will be defined\n",
      "        by it. In this case, it ensures the creation of an array object\n",
      "        compatible with that passed in via this argument.\n",
      "    \n",
      "        .. note::\n",
      "            The ``like`` keyword is an experimental feature pending on\n",
      "            acceptance of :ref:`NEP 35 <NEP35>`.\n",
      "    \n",
      "        .. versionadded:: 1.20.0\n",
      "    \n",
      "    Returns\n",
      "    -------\n",
      "    out : ndarray\n",
      "        An array object satisfying the specified requirements.\n",
      "    \n",
      "    See Also\n",
      "    --------\n",
      "    empty_like : Return an empty array with shape and type of input.\n",
      "    ones_like : Return an array of ones with shape and type of input.\n",
      "    zeros_like : Return an array of zeros with shape and type of input.\n",
      "    full_like : Return a new array with shape of input filled with value.\n",
      "    empty : Return a new uninitialized array.\n",
      "    ones : Return a new array setting values to one.\n",
      "    zeros : Return a new array setting values to zero.\n",
      "    full : Return a new array of given shape filled with value.\n",
      "    \n",
      "    \n",
      "    Notes\n",
      "    -----\n",
      "    When order is 'A' and `object` is an array in neither 'C' nor 'F' order,\n",
      "    and a copy is forced by a change in dtype, then the order of the result is\n",
      "    not necessarily 'C' as expected. This is likely a bug.\n",
      "    \n",
      "    Examples\n",
      "    --------\n",
      "    >>> np.array([1, 2, 3])\n",
      "    array([1, 2, 3])\n",
      "    \n",
      "    Upcasting:\n",
      "    \n",
      "    >>> np.array([1, 2, 3.0])\n",
      "    array([ 1.,  2.,  3.])\n",
      "    \n",
      "    More than one dimension:\n",
      "    \n",
      "    >>> np.array([[1, 2], [3, 4]])\n",
      "    array([[1, 2],\n",
      "           [3, 4]])\n",
      "    \n",
      "    Minimum dimensions 2:\n",
      "    \n",
      "    >>> np.array([1, 2, 3], ndmin=2)\n",
      "    array([[1, 2, 3]])\n",
      "    \n",
      "    Type provided:\n",
      "    \n",
      "    >>> np.array([1, 2, 3], dtype=complex)\n",
      "    array([ 1.+0.j,  2.+0.j,  3.+0.j])\n",
      "    \n",
      "    Data-type consisting of more than one element:\n",
      "    \n",
      "    >>> x = np.array([(1,2),(3,4)],dtype=[('a','<i4'),('b','<i4')])\n",
      "    >>> x['a']\n",
      "    array([1, 3])\n",
      "    \n",
      "    Creating an array from sub-classes:\n",
      "    \n",
      "    >>> np.array(np.mat('1 2; 3 4'))\n",
      "    array([[1, 2],\n",
      "           [3, 4]])\n",
      "    \n",
      "    >>> np.array(np.mat('1 2; 3 4'), subok=True)\n",
      "    matrix([[1, 2],\n",
      "            [3, 4]])\n",
      "\n"
     ]
    }
   ],
   "source": [
    "help(np.array)\n"
   ]
  },
  {
   "cell_type": "code",
   "execution_count": 5,
   "metadata": {},
   "outputs": [
    {
     "data": {
      "text/plain": [
       "['__call__',\n",
       " '__class__',\n",
       " '__delattr__',\n",
       " '__dir__',\n",
       " '__doc__',\n",
       " '__eq__',\n",
       " '__format__',\n",
       " '__ge__',\n",
       " '__getattribute__',\n",
       " '__gt__',\n",
       " '__hash__',\n",
       " '__init__',\n",
       " '__init_subclass__',\n",
       " '__le__',\n",
       " '__lt__',\n",
       " '__module__',\n",
       " '__name__',\n",
       " '__ne__',\n",
       " '__new__',\n",
       " '__qualname__',\n",
       " '__reduce__',\n",
       " '__reduce_ex__',\n",
       " '__repr__',\n",
       " '__self__',\n",
       " '__setattr__',\n",
       " '__sizeof__',\n",
       " '__str__',\n",
       " '__subclasshook__',\n",
       " '__text_signature__']"
      ]
     },
     "execution_count": 5,
     "metadata": {},
     "output_type": "execute_result"
    }
   ],
   "source": [
    "dir(np.array)"
   ]
  },
  {
   "cell_type": "code",
   "execution_count": 6,
   "metadata": {},
   "outputs": [
    {
     "data": {
      "text/plain": [
       "['T',\n",
       " '__abs__',\n",
       " '__add__',\n",
       " '__and__',\n",
       " '__array__',\n",
       " '__array_finalize__',\n",
       " '__array_function__',\n",
       " '__array_interface__',\n",
       " '__array_prepare__',\n",
       " '__array_priority__',\n",
       " '__array_struct__',\n",
       " '__array_ufunc__',\n",
       " '__array_wrap__',\n",
       " '__bool__',\n",
       " '__class__',\n",
       " '__complex__',\n",
       " '__contains__',\n",
       " '__copy__',\n",
       " '__deepcopy__',\n",
       " '__delattr__',\n",
       " '__delitem__',\n",
       " '__dir__',\n",
       " '__divmod__',\n",
       " '__doc__',\n",
       " '__eq__',\n",
       " '__float__',\n",
       " '__floordiv__',\n",
       " '__format__',\n",
       " '__ge__',\n",
       " '__getattribute__',\n",
       " '__getitem__',\n",
       " '__gt__',\n",
       " '__hash__',\n",
       " '__iadd__',\n",
       " '__iand__',\n",
       " '__ifloordiv__',\n",
       " '__ilshift__',\n",
       " '__imatmul__',\n",
       " '__imod__',\n",
       " '__imul__',\n",
       " '__index__',\n",
       " '__init__',\n",
       " '__init_subclass__',\n",
       " '__int__',\n",
       " '__invert__',\n",
       " '__ior__',\n",
       " '__ipow__',\n",
       " '__irshift__',\n",
       " '__isub__',\n",
       " '__iter__',\n",
       " '__itruediv__',\n",
       " '__ixor__',\n",
       " '__le__',\n",
       " '__len__',\n",
       " '__lshift__',\n",
       " '__lt__',\n",
       " '__matmul__',\n",
       " '__mod__',\n",
       " '__mul__',\n",
       " '__ne__',\n",
       " '__neg__',\n",
       " '__new__',\n",
       " '__or__',\n",
       " '__pos__',\n",
       " '__pow__',\n",
       " '__radd__',\n",
       " '__rand__',\n",
       " '__rdivmod__',\n",
       " '__reduce__',\n",
       " '__reduce_ex__',\n",
       " '__repr__',\n",
       " '__rfloordiv__',\n",
       " '__rlshift__',\n",
       " '__rmatmul__',\n",
       " '__rmod__',\n",
       " '__rmul__',\n",
       " '__ror__',\n",
       " '__rpow__',\n",
       " '__rrshift__',\n",
       " '__rshift__',\n",
       " '__rsub__',\n",
       " '__rtruediv__',\n",
       " '__rxor__',\n",
       " '__setattr__',\n",
       " '__setitem__',\n",
       " '__setstate__',\n",
       " '__sizeof__',\n",
       " '__str__',\n",
       " '__sub__',\n",
       " '__subclasshook__',\n",
       " '__truediv__',\n",
       " '__xor__',\n",
       " 'all',\n",
       " 'any',\n",
       " 'argmax',\n",
       " 'argmin',\n",
       " 'argpartition',\n",
       " 'argsort',\n",
       " 'astype',\n",
       " 'base',\n",
       " 'byteswap',\n",
       " 'choose',\n",
       " 'clip',\n",
       " 'compress',\n",
       " 'conj',\n",
       " 'conjugate',\n",
       " 'copy',\n",
       " 'ctypes',\n",
       " 'cumprod',\n",
       " 'cumsum',\n",
       " 'data',\n",
       " 'diagonal',\n",
       " 'dot',\n",
       " 'dtype',\n",
       " 'dump',\n",
       " 'dumps',\n",
       " 'fill',\n",
       " 'flags',\n",
       " 'flat',\n",
       " 'flatten',\n",
       " 'getfield',\n",
       " 'imag',\n",
       " 'item',\n",
       " 'itemset',\n",
       " 'itemsize',\n",
       " 'max',\n",
       " 'mean',\n",
       " 'min',\n",
       " 'nbytes',\n",
       " 'ndim',\n",
       " 'newbyteorder',\n",
       " 'nonzero',\n",
       " 'partition',\n",
       " 'prod',\n",
       " 'ptp',\n",
       " 'put',\n",
       " 'ravel',\n",
       " 'real',\n",
       " 'repeat',\n",
       " 'reshape',\n",
       " 'resize',\n",
       " 'round',\n",
       " 'searchsorted',\n",
       " 'setfield',\n",
       " 'setflags',\n",
       " 'shape',\n",
       " 'size',\n",
       " 'sort',\n",
       " 'squeeze',\n",
       " 'std',\n",
       " 'strides',\n",
       " 'sum',\n",
       " 'swapaxes',\n",
       " 'take',\n",
       " 'tobytes',\n",
       " 'tofile',\n",
       " 'tolist',\n",
       " 'tostring',\n",
       " 'trace',\n",
       " 'transpose',\n",
       " 'var',\n",
       " 'view']"
      ]
     },
     "execution_count": 6,
     "metadata": {},
     "output_type": "execute_result"
    }
   ],
   "source": [
    "dir(car)"
   ]
  },
  {
   "cell_type": "markdown",
   "metadata": {},
   "source": [
    "2. What are the numpy datatypes for the `car`,`mpg`, `horsepower` and `origin` arrays? (Hint: Not `type(car)` and use `print()` to print the numpy type.)"
   ]
  },
  {
   "cell_type": "code",
   "execution_count": 7,
   "metadata": {},
   "outputs": [
    {
     "name": "stdout",
     "output_type": "stream",
     "text": [
      "object\n",
      "float64\n"
     ]
    }
   ],
   "source": [
    "print(car.dtype)\n",
    "print(mpg.dtype)"
   ]
  },
  {
   "cell_type": "code",
   "execution_count": 8,
   "metadata": {},
   "outputs": [
    {
     "name": "stdout",
     "output_type": "stream",
     "text": [
      "float64\n",
      "object\n"
     ]
    }
   ],
   "source": [
    "print(horsepower.dtype)\n",
    "print(origin.dtype)"
   ]
  },
  {
   "cell_type": "markdown",
   "metadata": {},
   "source": [
    "3. `numpy` is often imported as `np`. What is this action called? Why might you do this? "
   ]
  },
  {
   "cell_type": "markdown",
   "metadata": {},
   "source": [
    "It is aliasing and it makes a code simpler to put together as lenghty names can be referred by their aliases."
   ]
  },
  {
   "cell_type": "markdown",
   "metadata": {},
   "source": [
    "4. Each of the arrays (cars, mpg, cylinders, etc..) has how many dimensions? Show how to find this using code. "
   ]
  },
  {
   "cell_type": "code",
   "execution_count": 9,
   "metadata": {},
   "outputs": [
    {
     "name": "stdout",
     "output_type": "stream",
     "text": [
      "1\n",
      "1\n",
      "1\n",
      "1\n",
      "1\n",
      "1\n",
      "1\n",
      "1\n",
      "1\n"
     ]
    }
   ],
   "source": [
    "print(car.ndim)\n",
    "print(mpg.ndim)\n",
    "print(cylinders.ndim)\n",
    "print(displacement.ndim)\n",
    "print(horsepower.ndim)\n",
    "print(weight.ndim)\n",
    "print(acceleration.ndim)\n",
    "print(model.ndim)\n",
    "print(origin.ndim)"
   ]
  },
  {
   "cell_type": "markdown",
   "metadata": {},
   "source": [
    "Looks like all of them have only 1 dimension..."
   ]
  },
  {
   "cell_type": "markdown",
   "metadata": {},
   "source": [
    "5. Show how to:\n",
    "\n",
    "- multiply the `mpg` array by 12.\n",
    "- divide the `mpg` array by 3.\n",
    "- raise the `mpg` array to the power of 4.\n",
    "- take the square root of the `mpg` array."
   ]
  },
  {
   "cell_type": "code",
   "execution_count": 10,
   "metadata": {
    "scrolled": true
   },
   "outputs": [
    {
     "name": "stdout",
     "output_type": "stream",
     "text": [
      "[4.24264069 3.87298335 4.24264069 4.         4.12310563 3.87298335\n",
      " 3.74165739 3.74165739 3.74165739 3.87298335 0.         0.\n",
      " 0.         0.         0.         3.87298335 3.74165739 0.\n",
      " 3.87298335 3.74165739 4.89897949 4.69041576 4.24264069 4.58257569\n",
      " 5.19615242 5.09901951 5.         4.89897949 5.         5.09901951\n",
      " 4.58257569 3.16227766 3.16227766 3.31662479 3.         5.19615242\n",
      " 5.29150262 5.         5.         0.         4.35889894 4.\n",
      " 4.12310563 4.35889894 4.24264069 3.74165739 3.74165739 3.74165739\n",
      " 3.74165739 3.46410162 3.60555128 3.60555128 4.24264069 4.69041576\n",
      " 4.35889894 4.24264069 4.79583152 5.29150262 5.47722558 5.47722558\n",
      " 5.56776436 5.91607978 5.19615242 5.09901951 4.89897949 5.\n",
      " 4.79583152 4.47213595 4.58257569 3.60555128 3.74165739 3.87298335\n",
      " 3.74165739 4.12310563 3.31662479 3.60555128 3.46410162 3.60555128\n",
      " 4.35889894 3.87298335 3.60555128 3.60555128 3.74165739 4.24264069\n",
      " 4.69041576 4.58257569 5.09901951 4.69041576 5.29150262 4.79583152\n",
      " 5.29150262 5.19615242 3.60555128 3.74165739 3.60555128 3.74165739\n",
      " 3.87298335 3.46410162 3.60555128 3.60555128 3.74165739 3.60555128\n",
      " 3.46410162 3.60555128 4.24264069 4.         4.24264069 4.24264069\n",
      " 4.79583152 5.09901951 3.31662479 3.46410162 3.60555128 3.46410162\n",
      " 4.24264069 4.47213595 4.58257569 4.69041576 4.24264069 4.35889894\n",
      " 4.58257569 5.09901951 3.87298335 4.         5.38516481 4.89897949\n",
      " 4.47213595 4.35889894 3.87298335 4.89897949 4.47213595 3.31662479\n",
      " 4.47213595 4.58257569 4.35889894 3.87298335 5.56776436 5.09901951\n",
      " 5.65685425 5.         4.         4.         4.24264069 4.\n",
      " 3.60555128 3.74165739 3.74165739 3.74165739 5.38516481 5.09901951\n",
      " 5.09901951 5.56776436 5.65685425 5.29150262 4.89897949 5.09901951\n",
      " 4.89897949 5.09901951 5.56776436 4.35889894 4.24264069 3.87298335\n",
      " 3.87298335 4.         3.87298335 4.         3.74165739 4.12310563\n",
      " 4.         3.87298335 4.24264069 4.58257569 4.47213595 3.60555128\n",
      " 5.38516481 4.79583152 4.47213595 4.79583152 4.89897949 5.\n",
      " 4.89897949 4.24264069 5.38516481 4.35889894 4.79583152 4.79583152\n",
      " 4.69041576 5.         5.74456265 5.29150262 5.         5.\n",
      " 5.09901951 5.19615242 4.18330013 4.         3.93700394 3.80788655\n",
      " 4.69041576 4.69041576 4.89897949 4.74341649 5.38516481 4.94974747\n",
      " 5.38516481 5.74456265 4.47213595 4.24264069 4.30116263 4.18330013\n",
      " 5.43139025 5.65685425 5.29150262 5.14781507 4.47213595 3.60555128\n",
      " 4.35889894 4.35889894 4.0620192  4.0620192  3.60555128 3.60555128\n",
      " 3.60555128 5.61248608 5.47722558 6.         5.04975247 5.78791845\n",
      " 4.18330013 4.12310563 3.93700394 3.87298335 4.18330013 4.52769257\n",
      " 4.35889894 4.30116263 4.         3.93700394 3.93700394 4.\n",
      " 5.38516481 4.94974747 5.09901951 5.04975247 5.52268051 5.78791845\n",
      " 5.47722558 5.52268051 4.69041576 4.63680925 4.63680925 6.56505902\n",
      " 6.00832755 5.72712843 6.27694193 6.00832755 4.4609416  4.40454311\n",
      " 4.49444101 4.38178046 4.52769257 4.49444101 5.00999002 4.52769257\n",
      " 4.40454311 4.53872229 4.5607017  4.31277173 4.25440948 4.38178046\n",
      " 4.20713679 4.25440948 4.18330013 5.47722558 5.24404424 5.21536192\n",
      " 5.55877684 4.59347363 4.81663783 4.87852437 4.88876262 4.50555213\n",
      " 4.12310563 4.64758002 4.02492236 5.61248608 5.43139025 4.63680925\n",
      " 4.44971909 4.72228758 4.49444101 4.53872229 4.12310563 4.19523539\n",
      " 4.0620192  4.2661458  4.11096096 3.93700394 4.38178046 4.30116263\n",
      " 5.6480085  5.83952053 5.9749477  5.23450093 5.03984127 4.79583152\n",
      " 5.21536192 4.88876262 5.84807661 5.87367006 5.63914887 6.10737259\n",
      " 5.32916504 5.36656315 5.17687164 5.78791845 6.44204936 6.17251974\n",
      " 5.66568619 6.09918027 5.29150262 5.13809303 4.92950302 4.37035468\n",
      " 5.85662019 5.45893763 5.59464029 6.08276253 5.67450438 6.82641927\n",
      " 5.28204506 6.38748777 6.65582452 6.58786764 6.03324125 5.47722558\n",
      " 6.67832314 6.39531078 5.81377674 5.45893763 5.71839138 4.86826458\n",
      " 5.91607978 4.85798312 5.69209979 5.21536192 5.15751878 5.07937004\n",
      " 4.84767986 5.47722558 6.25299928 6.244998   5.9245253  5.6833089\n",
      " 6.08276253 6.14003257 5.83952053 5.89067059 5.86515132 5.46808925\n",
      " 5.74456265 5.87367006 5.80517011 5.69209979 5.73585216 5.62138773\n",
      " 5.30094331 0.         5.54075807 5.03984127 4.91934955 4.73286383\n",
      " 5.15751878 4.49444101 4.19523539 5.29150262 5.19615242 5.83095189\n",
      " 5.56776436 5.38516481 5.19615242 4.89897949 4.79583152 6.\n",
      " 6.08276253 5.56776436 6.164414   6.         6.         6.\n",
      " 5.83095189 6.164414   5.65685425 6.164414   5.         6.164414\n",
      " 5.09901951 4.69041576 5.65685425 6.         5.19615242 5.19615242\n",
      " 6.63324958 5.65685425 5.29150262 5.56776436]\n"
     ]
    }
   ],
   "source": [
    "#print(mpg)\n",
    "#print(mpg*12)\n",
    "#print(mpg/3)\n",
    "#print(mpg**4)\n",
    "print(mpg**0.5)"
   ]
  },
  {
   "cell_type": "markdown",
   "metadata": {},
   "source": [
    "6. What is the ___ of `horsepower`?\n",
    "- sum\n",
    "- min\n",
    "- max\n",
    "- median\n",
    "- Optional: mode (May need to google help)"
   ]
  },
  {
   "cell_type": "code",
   "execution_count": 11,
   "metadata": {},
   "outputs": [
    {
     "name": "stdout",
     "output_type": "stream",
     "text": [
      "42033.0\n",
      "0.0\n",
      "230.0\n",
      "93.5\n",
      "150.0\n"
     ]
    }
   ],
   "source": [
    "import statistics as st\n",
    "\n",
    "operations = [sum, min, max, st.median, st.mode]\n",
    "for i in operations:\n",
    "    print(i(horsepower))"
   ]
  },
  {
   "cell_type": "markdown",
   "metadata": {},
   "source": [
    "7. Select a subset of `acceleration`. \n",
    "\n",
    "- Select only the first 5 elements.\n",
    "- Select every other element (new selection)."
   ]
  },
  {
   "cell_type": "code",
   "execution_count": 12,
   "metadata": {},
   "outputs": [
    {
     "name": "stdout",
     "output_type": "stream",
     "text": [
      "[12.  11.5 11.  12.  10.5 10. ]\n"
     ]
    }
   ],
   "source": [
    "subset1 = acceleration[:6]\n",
    "subset2 = acceleration[6:]\n",
    "\n",
    "print(subset1)"
   ]
  },
  {
   "cell_type": "markdown",
   "metadata": {},
   "source": [
    "8. Show how to select the number `99` in the array below. "
   ]
  },
  {
   "cell_type": "code",
   "execution_count": 13,
   "metadata": {},
   "outputs": [],
   "source": [
    "select_99 = np.array([[1,2,3],\n",
    "                      [4,5,99]])"
   ]
  },
  {
   "cell_type": "code",
   "execution_count": 14,
   "metadata": {},
   "outputs": [
    {
     "name": "stdout",
     "output_type": "stream",
     "text": [
      "99\n"
     ]
    }
   ],
   "source": [
    "selected = select_99[1,2]\n",
    "print(selected)"
   ]
  },
  {
   "cell_type": "markdown",
   "metadata": {},
   "source": [
    "9. Select the last element in each subarray (do this with one operation.)"
   ]
  },
  {
   "cell_type": "code",
   "execution_count": 15,
   "metadata": {},
   "outputs": [
    {
     "name": "stdout",
     "output_type": "stream",
     "text": [
      "[3 6 9]\n"
     ]
    }
   ],
   "source": [
    "select_more = np.array([[1,2,3],\n",
    "                      [4,5,6],\n",
    "                      [7,8,9]])\n",
    "\n",
    "selected_more = select_more[(0,1,2),(2,2,2)]\n",
    "print(selected_more)\n",
    "# returns array([3, 6, 9])"
   ]
  },
  {
   "cell_type": "code",
   "execution_count": null,
   "metadata": {},
   "outputs": [],
   "source": []
  },
  {
   "cell_type": "markdown",
   "metadata": {},
   "source": [
    "10. Use the built-in `np.lookfor()` function to search for `'log'`.\n",
    "\n",
    "Use the function you find and apply it to `mpg`."
   ]
  },
  {
   "cell_type": "code",
   "execution_count": 16,
   "metadata": {},
   "outputs": [
    {
     "name": "stdout",
     "output_type": "stream",
     "text": [
      "[2.89037176 2.7080502  2.89037176 2.77258872 2.83321334 2.7080502\n",
      " 2.63905733 2.63905733 2.63905733 2.7080502        -inf       -inf\n",
      "       -inf       -inf       -inf 2.7080502  2.63905733       -inf\n",
      " 2.7080502  2.63905733 3.17805383 3.09104245 2.89037176 3.04452244\n",
      " 3.29583687 3.25809654 3.21887582 3.17805383 3.21887582 3.25809654\n",
      " 3.04452244 2.30258509 2.30258509 2.39789527 2.19722458 3.29583687\n",
      " 3.33220451 3.21887582 3.21887582       -inf 2.94443898 2.77258872\n",
      " 2.83321334 2.94443898 2.89037176 2.63905733 2.63905733 2.63905733\n",
      " 2.63905733 2.48490665 2.56494936 2.56494936 2.89037176 3.09104245\n",
      " 2.94443898 2.89037176 3.13549422 3.33220451 3.40119738 3.40119738\n",
      " 3.4339872  3.55534806 3.29583687 3.25809654 3.17805383 3.21887582\n",
      " 3.13549422 2.99573227 3.04452244 2.56494936 2.63905733 2.7080502\n",
      " 2.63905733 2.83321334 2.39789527 2.56494936 2.48490665 2.56494936\n",
      " 2.94443898 2.7080502  2.56494936 2.56494936 2.63905733 2.89037176\n",
      " 3.09104245 3.04452244 3.25809654 3.09104245 3.33220451 3.13549422\n",
      " 3.33220451 3.29583687 2.56494936 2.63905733 2.56494936 2.63905733\n",
      " 2.7080502  2.48490665 2.56494936 2.56494936 2.63905733 2.56494936\n",
      " 2.48490665 2.56494936 2.89037176 2.77258872 2.89037176 2.89037176\n",
      " 3.13549422 3.25809654 2.39789527 2.48490665 2.56494936 2.48490665\n",
      " 2.89037176 2.99573227 3.04452244 3.09104245 2.89037176 2.94443898\n",
      " 3.04452244 3.25809654 2.7080502  2.77258872 3.36729583 3.17805383\n",
      " 2.99573227 2.94443898 2.7080502  3.17805383 2.99573227 2.39789527\n",
      " 2.99573227 3.04452244 2.94443898 2.7080502  3.4339872  3.25809654\n",
      " 3.4657359  3.21887582 2.77258872 2.77258872 2.89037176 2.77258872\n",
      " 2.56494936 2.63905733 2.63905733 2.63905733 3.36729583 3.25809654\n",
      " 3.25809654 3.4339872  3.4657359  3.33220451 3.17805383 3.25809654\n",
      " 3.17805383 3.25809654 3.4339872  2.94443898 2.89037176 2.7080502\n",
      " 2.7080502  2.77258872 2.7080502  2.77258872 2.63905733 2.83321334\n",
      " 2.77258872 2.7080502  2.89037176 3.04452244 2.99573227 2.56494936\n",
      " 3.36729583 3.13549422 2.99573227 3.13549422 3.17805383 3.21887582\n",
      " 3.17805383 2.89037176 3.36729583 2.94443898 3.13549422 3.13549422\n",
      " 3.09104245 3.21887582 3.49650756 3.33220451 3.21887582 3.21887582\n",
      " 3.25809654 3.29583687 2.86220088 2.77258872 2.74084002 2.67414865\n",
      " 3.09104245 3.09104245 3.17805383 3.11351531 3.36729583 3.19867312\n",
      " 3.36729583 3.49650756 2.99573227 2.89037176 2.91777073 2.86220088\n",
      " 3.38439026 3.4657359  3.33220451 3.27714473 2.99573227 2.56494936\n",
      " 2.94443898 2.94443898 2.80336038 2.80336038 2.56494936 2.56494936\n",
      " 2.56494936 3.44998755 3.40119738 3.58351894 3.23867845 3.51154544\n",
      " 2.86220088 2.83321334 2.74084002 2.7080502  2.86220088 3.02042489\n",
      " 2.94443898 2.91777073 2.77258872 2.74084002 2.74084002 2.77258872\n",
      " 3.36729583 3.19867312 3.25809654 3.23867845 3.41772668 3.51154544\n",
      " 3.40119738 3.41772668 3.09104245 3.06805294 3.06805294 3.763523\n",
      " 3.58629287 3.49042852 3.67376582 3.58629287 2.99071973 2.96527307\n",
      " 3.0056826  2.95491028 3.02042489 3.0056826  3.22286785 3.02042489\n",
      " 2.96527307 3.02529108 3.03495299 2.92316158 2.89591194 2.95491028\n",
      " 2.87356464 2.89591194 2.86220088 3.40119738 3.314186   3.30321697\n",
      " 3.43075618 3.04927304 3.14415228 3.16968558 3.17387846 3.01062089\n",
      " 2.83321334 3.07269331 2.78501124 3.44998755 3.38439026 3.06805294\n",
      " 2.98568194 3.10458668 3.0056826  3.02529108 2.83321334 2.8678989\n",
      " 2.80336038 2.90142159 2.82731362 2.74084002 2.95491028 2.91777073\n",
      " 3.46260601 3.52929738 3.57515069 3.31054301 3.23474917 3.13549422\n",
      " 3.30321697 3.17387846 3.53222564 3.54095932 3.45946629 3.61899333\n",
      " 3.34638915 3.36037539 3.28840189 3.51154544 3.72569343 3.64021428\n",
      " 3.46885603 3.61630876 3.33220451 3.27336401 3.19047635 2.94968834\n",
      " 3.53514535 3.39450839 3.4436181  3.61091791 3.47196645 3.84160054\n",
      " 3.32862669 3.70868208 3.79098468 3.77045944 3.59456877 3.40119738\n",
      " 3.79773386 3.71113006 3.5204608  3.39450839 3.48737508 3.16547505\n",
      " 3.55534806 3.16124671 3.47815842 3.30321697 3.28091122 3.25037449\n",
      " 3.15700042 3.40119738 3.66612247 3.66356165 3.55820113 3.47506723\n",
      " 3.61091791 3.62966009 3.52929738 3.54673969 3.53805656 3.39785848\n",
      " 3.49650756 3.54095932 3.51749784 3.47815842 3.49347266 3.45315712\n",
      " 3.33576958       -inf 3.42426265 3.23474917 3.18635263 3.10906096\n",
      " 3.28091122 3.0056826  2.8678989  3.33220451 3.29583687 3.52636052\n",
      " 3.4339872  3.36729583 3.29583687 3.17805383 3.13549422 3.58351894\n",
      " 3.61091791 3.4339872  3.63758616 3.58351894 3.58351894 3.58351894\n",
      " 3.52636052 3.63758616 3.4657359  3.63758616 3.21887582 3.63758616\n",
      " 3.25809654 3.09104245 3.4657359  3.58351894 3.29583687 3.29583687\n",
      " 3.78418963 3.4657359  3.33220451 3.4339872 ]\n"
     ]
    },
    {
     "name": "stderr",
     "output_type": "stream",
     "text": [
      "C:\\Users\\BALAZS~1.VAR\\AppData\\Local\\Temp/ipykernel_7584/452171526.py:2: RuntimeWarning: divide by zero encountered in log\n",
      "  print(np.log(mpg))\n"
     ]
    }
   ],
   "source": [
    "#print(np.lookfor('log'))\n",
    "print(np.log(mpg))"
   ]
  },
  {
   "cell_type": "markdown",
   "metadata": {},
   "source": [
    "11. You your google skills to find the unique items in `origin`. (This may not have been covered in the readings.)"
   ]
  },
  {
   "cell_type": "code",
   "execution_count": 17,
   "metadata": {},
   "outputs": [
    {
     "name": "stdout",
     "output_type": "stream",
     "text": [
      "[0 5 6]\n"
     ]
    }
   ],
   "source": [
    "#type(origin)\n",
    "origin_test = [0,6,5,0,6,5]\n",
    "uniques = np.unique(origin_test)\n",
    "print(uniques)"
   ]
  },
  {
   "cell_type": "markdown",
   "metadata": {},
   "source": [
    "12. \n",
    "- Create a 2D array and print its shape as well as ndim. (Any shape is fine)\n",
    "\n",
    "- Create a 3D array and print its shape as well as ndim.\n",
    "\n",
    "- Create a 4D array and print its shape as well as ndim. *It's hard to visualize 4-Dimensions but numpy can do it with ease!*"
   ]
  },
  {
   "cell_type": "code",
   "execution_count": 18,
   "metadata": {},
   "outputs": [
    {
     "name": "stdout",
     "output_type": "stream",
     "text": [
      "2 (2, 2)\n",
      "3 (1, 3, 3)\n",
      "4 (1, 1, 3, 3)\n"
     ]
    }
   ],
   "source": [
    "a = np.array([[0,1],[1,0]])\n",
    "print(a.ndim, a.shape)\n",
    "b = np.array([[[1,0,0], [0,1,0], [0,0,1]]])\n",
    "print(b.ndim, b.shape)\n",
    "c = np.array([[[1,0,0], [0,1,0], [0,0,1]]], ndmin = 4)\n",
    "print(c.ndim, c.shape)"
   ]
  },
  {
   "cell_type": "markdown",
   "metadata": {},
   "source": [
    "13.Use boolean indexing to create an array of `True/False` using `origin` and the value 'US'."
   ]
  },
  {
   "cell_type": "code",
   "execution_count": 26,
   "metadata": {
    "scrolled": true
   },
   "outputs": [
    {
     "name": "stdout",
     "output_type": "stream",
     "text": [
      "[ True  True  True  True  True  True  True  True  True  True False  True\n",
      "  True  True  True  True  True  True  True  True False  True  True  True\n",
      " False False False False False False  True  True  True  True  True False\n",
      "  True False  True False  True  True  True  True  True  True  True  True\n",
      "  True  True  True  True  True  True  True  True  True False False False\n",
      " False False False  True False  True False  True  True  True  True  True\n",
      "  True  True  True  True  True  True False  True  True  True  True False\n",
      " False False False  True False False  True False  True  True  True  True\n",
      "  True  True  True  True  True  True  True  True  True  True  True  True\n",
      "  True False  True  True  True  True  True False  True False False  True\n",
      "  True False  True  True False False False False  True False False  True\n",
      "  True  True  True  True False  True False  True  True  True  True  True\n",
      "  True  True  True  True False False False False False  True False False\n",
      " False False False  True  True  True  True  True  True  True  True  True\n",
      "  True  True  True  True  True  True False  True  True  True False False\n",
      " False  True False  True False False False False False False False  True\n",
      "  True False  True  True  True  True  True  True  True  True  True  True\n",
      " False False  True  True  True  True False False False  True False  True\n",
      " False False False  True  True  True  True False  True False  True False\n",
      "  True  True  True  True  True  True  True  True  True  True  True  True\n",
      " False  True False  True  True  True False False False False False False\n",
      "  True False False False  True  True  True  True  True  True  True  True\n",
      "  True  True  True  True  True  True  True  True  True  True False False\n",
      "  True False  True  True False False False False False False False  True\n",
      "  True  True  True  True  True  True  True  True  True  True  True  True\n",
      " False False  True  True False  True False  True  True  True False False\n",
      "  True  True  True  True False False  True False  True  True  True  True\n",
      " False False False False False False  True False False False False False\n",
      " False False False False False False False  True False  True  True  True\n",
      "  True  True False  True False False False False False  True  True  True\n",
      " False False False False False False False False False False False  True\n",
      "  True  True  True  True  True  True  True  True  True  True  True False\n",
      " False False  True  True False False False False False False  True  True\n",
      "  True  True False  True  True  True False  True  True  True]\n",
      "<class 'list'>\n"
     ]
    }
   ],
   "source": [
    "z = np.array(df.Origin == 'US')\n",
    "print(z)\n",
    "print(type(([df.Origin == 'US'])))"
   ]
  },
  {
   "cell_type": "markdown",
   "metadata": {},
   "source": [
    "14. Apply your index (from above) to the `car` array. You should now only see cars that are of US origin. "
   ]
  },
  {
   "cell_type": "code",
   "execution_count": 28,
   "metadata": {},
   "outputs": [
    {
     "name": "stdout",
     "output_type": "stream",
     "text": [
      "['Chevrolet Chevelle Malibu' 'Buick Skylark 320' 'Plymouth Satellite'\n",
      " 'AMC Rebel SST' 'Ford Torino' 'Ford Galaxie 500' 'Chevrolet Impala'\n",
      " 'Plymouth Fury iii' 'Pontiac Catalina' 'AMC Ambassador DPL'\n",
      " 'Chevrolet Chevelle Concours (sw)' 'Ford Torino (sw)'\n",
      " 'Plymouth Satellite (sw)' 'AMC Rebel SST (sw)' 'Dodge Challenger SE'\n",
      " \"Plymouth 'Cuda 340\" 'Ford Mustang Boss 302' 'Chevrolet Monte Carlo'\n",
      " 'Buick Estate Wagon (sw)' 'Plymouth Duster' 'AMC Hornet' 'Ford Maverick'\n",
      " 'AMC Gremlin' 'Ford F250' 'Chevy C20' 'Dodge D200' 'Hi 1200D'\n",
      " 'Chevrolet Vega 2300' 'Ford Pinto' 'AMC Gremlin'\n",
      " 'Plymouth Satellite Custom' 'Chevrolet Chevelle Malibu' 'Ford Torino 500'\n",
      " 'AMC Matador' 'Chevrolet Impala' 'Pontiac Catalina Brougham'\n",
      " 'Ford Galaxie 500' 'Plymouth Fury iii' 'Dodge Monaco (sw)'\n",
      " 'Ford Country Squire (sw)' 'Pontiac Safari (sw)'\n",
      " 'AMC Hornet Sportabout (sw)' 'Chevrolet Vega (sw)' 'Pontiac Firebird'\n",
      " 'Ford Mustang' 'Mercury Capri 2000' 'Plymouth Cricket'\n",
      " 'Dodge Colt Hardtop' 'Chevrolet Vega' 'Ford Pinto Runabout'\n",
      " 'Chevrolet Impala' 'Pontiac Catalina' 'Plymouth Fury III'\n",
      " 'Ford Galaxie 500' 'AMC Ambassador SST' 'Mercury Marquis'\n",
      " 'Buick LeSabre Custom' 'Oldsmobile Delta 88 Royale'\n",
      " 'Chrysler Newport Royal' 'AMC Matador (sw)'\n",
      " 'Chevrolet Chevelle Concours (sw)' 'Ford Gran Torino (sw)'\n",
      " 'Plymouth Satellite Custom (sw)' 'Ford Pinto (sw)' 'Dodge Colt (sw)'\n",
      " 'Buick Century 350' 'AMC Matador' 'Chevrolet Malibu' 'Ford Gran Torino'\n",
      " 'Dodge Coronet Custom' 'Mercury Marquis Brougham'\n",
      " 'Chevrolet Caprice Classic' 'Ford LTD' 'Plymouth Fury Gran Sedan'\n",
      " 'Chrysler New Yorker Brougham' 'Buick Electra 225 Custom'\n",
      " 'AMC Ambassador Brougham' 'Plymouth Valiant' 'Chevrolet Nova Custom'\n",
      " 'AMC Hornet' 'Ford Maverick' 'Plymouth Duster' 'Chevrolet Impala'\n",
      " 'Ford Country' 'Plymouth Custom Suburb' 'Oldsmobile Vista Cruiser'\n",
      " 'AMC Gremlin' 'Chevrolet Vega' 'Ford Pinto' 'Mercury Capri v6'\n",
      " 'Chevrolet Monte Carlo S' 'Pontiac Grand Prix' 'Dodge Dart Custom'\n",
      " 'Oldsmobile Omega' 'Plymouth Duster' 'Ford Maverick' 'AMC Hornet'\n",
      " 'Chevrolet Nova' 'Ford Pinto' 'Chevrolet Vega'\n",
      " 'Chevrolet Chevelle Malibu Classic' 'AMC Matador'\n",
      " 'Plymouth Satellite Sebring' 'Ford Gran Torino'\n",
      " 'Buick Century Luxus (sw)' 'Dodge Coronet Custom (sw)'\n",
      " 'Ford Gran Torino (sw)' 'AMC Matador (sw)' 'Dodge Colt'\n",
      " 'Plymouth Valiant Custom' 'Chevrolet Nova' 'Mercury Monarch'\n",
      " 'Ford Maverick' 'Pontiac Catalina' 'Chevrolet Bel Air'\n",
      " 'Plymouth Grand Fury' 'Ford LTD' 'Buick Century'\n",
      " 'Chevrolete Chevelle Malibu' 'AMC Matador' 'Plymouth Fury'\n",
      " 'Buick Skyhawk' 'Chevrolet Monza 2+2' 'Ford Mustang II' 'Ford Pinto'\n",
      " 'AMC Gremlin' 'Pontiac Astro' 'Ford Pinto' 'AMC Pacer' 'Capri ii'\n",
      " 'Dodge Colt' 'Chevrolet Chevelle Malibu Classic' 'Dodge Coronet Brougham'\n",
      " 'AMC Matador' 'Ford Gran Torino' 'Plymouth Valiant' 'Chevrolet Nova'\n",
      " 'Ford Maverick' 'AMC Hornet' 'Chevrolet Chevette' 'Chevrolet Woody'\n",
      " 'Dodge Aspen SE' 'Ford Grenada ghia' 'Pontiac Ventura SJ' 'AMC Pacer d/l'\n",
      " 'Ford Pinto' 'Plymouth Volare Premier v8' 'Cadillac Seville'\n",
      " 'Chevrolet C10' 'Ford F108' 'Dodge D100' 'Buick Opel Isuzu Deluxe'\n",
      " 'Plymouth Arrow GS' 'Chevrolet Caprice Classic'\n",
      " 'Oldsmobile Cutlass Supreme' 'Dodge Monaco Brougham'\n",
      " 'Mercury Cougar Brougham' 'Chevrolet Concours' 'Buick Skylark'\n",
      " 'Plymouth Volare Custom' 'Ford Grenada' 'Pontiac Grand Prix LJ'\n",
      " 'Chevrolet Monte Carlo Landau' 'Chrysler Cordoba' 'Ford Thunderbird'\n",
      " 'Pontiac Sunbird Coupe' 'Ford Mustang II 2+2' 'Chevrolet Chevette'\n",
      " 'Dodge Colt m/m' 'Ford Fiesta' 'Oldsmobile Cutlass Salon Brougham'\n",
      " 'Dodge Diplomat' 'Mercury Monarch ghia' 'Pontiac Phoenix LJ'\n",
      " 'Chevrolet Malibu' 'Ford Fairmont (auto)' 'Ford Fairmont (man)'\n",
      " 'Plymouth Volare' 'AMC Concord' 'Buick Century Special' 'Mercury Zephyr'\n",
      " 'Dodge Aspen' 'AMC Concord d/l' 'Chevrolet Monte Carlo Landau'\n",
      " 'Buick Regal Sport Coupe (turbo)' 'Ford Futura' 'Dodge Magnum XE'\n",
      " 'Chevrolet Chevette' 'Dodge Omni' 'Plymouth Sapporo'\n",
      " 'Oldsmobile Starfire SX' 'Pontiac Lemans V6' 'Mercury Zephyr 6'\n",
      " 'Ford Fairmont 4' 'AMC Concord DL 6' 'Dodge Aspen 6'\n",
      " 'Chevrolet Caprice Classic' 'Ford LTD Landau' 'Mercury Grand Marquis'\n",
      " 'Dodge St. Regis' 'Buick Estate Wagon (sw)' 'Ford Country Squire (sw)'\n",
      " 'Chevrolet Malibu Classic (sw)' 'Chrysler Lebaron Town @ Country (sw)'\n",
      " 'Dodge Colt Hatchback Custom' 'AMC Spirit DL' 'Cadillac Eldorado'\n",
      " 'Oldsmobile Cutlass Salon Brougham' 'Plymouth Horizon'\n",
      " 'Plymouth Horizon TC3' 'Buick Skylark Limited' 'Chevrolet Citation'\n",
      " 'Oldsmobile Omega Brougham' 'Pontiac Phoenix' 'Chevrolet Chevette'\n",
      " 'Chevrolet Citation' 'Ford Fairmont' 'AMC Concord' 'Dodge Aspen'\n",
      " 'Dodge Colt' 'Ford Mustang Cobra' 'Plymouth Reliant' 'Buick Skylark'\n",
      " 'Dodge Aries Wagon (sw)' 'Chevrolet Citation' 'Plymouth Reliant'\n",
      " 'Plymouth Champ' 'Plymouth Horizon 4' 'Ford Escort 4W' 'Ford Escort 2H'\n",
      " 'Buick Century' 'Oldsmobile Cutlass LS' 'Ford Grenada gl'\n",
      " 'Chrysler Lebaron Salon' 'Chevrolet Cavalier' 'Chevrolet Cavalier Wagon'\n",
      " 'Chevrolet Cavalier 2-door' 'Pontiac J2000 SE Hatchback' 'Dodge Aries SE'\n",
      " 'Pontiac Phoenix' 'Ford Fairmont Futura' 'AMC Concord DL'\n",
      " 'Plymouth Horizon Miser' 'Mercury Lynx l' 'Buick Century Limited'\n",
      " 'Oldsmobile Cutlass Ciera (diesel)' 'Chrysler Lebaron Medallion'\n",
      " 'Ford Grenada l' 'Dodge Charger 2.2' 'Chevrolet Camaro' 'Ford Mustang GL'\n",
      " 'Dodge Rampage' 'Ford Ranger' 'Chevy S-10']\n"
     ]
    }
   ],
   "source": [
    "USCAR = car[z]\n",
    "print(USCAR)"
   ]
  },
  {
   "cell_type": "markdown",
   "metadata": {},
   "source": [
    "**The remaining questions are OPTIONAL**: The readings did not address all of these so you may have to use some \"Google-Fu\". "
   ]
  },
  {
   "cell_type": "markdown",
   "metadata": {},
   "source": [
    "1.What is an identity matrix? \n",
    "Create an identiy matrix of size 5 using an np method. "
   ]
  },
  {
   "cell_type": "code",
   "execution_count": 29,
   "metadata": {},
   "outputs": [
    {
     "data": {
      "text/plain": [
       "array([[1., 0., 0., 0., 0.],\n",
       "       [0., 1., 0., 0., 0.],\n",
       "       [0., 0., 1., 0., 0.],\n",
       "       [0., 0., 0., 1., 0.],\n",
       "       [0., 0., 0., 0., 1.]])"
      ]
     },
     "execution_count": 29,
     "metadata": {},
     "output_type": "execute_result"
    }
   ],
   "source": [
    "np.identity(5)"
   ]
  },
  {
   "cell_type": "markdown",
   "metadata": {},
   "source": [
    "2. Transpose the following array. "
   ]
  },
  {
   "cell_type": "code",
   "execution_count": 33,
   "metadata": {},
   "outputs": [],
   "source": [
    "transpose_me = np.array([[1,2,3],\n",
    "                      [4,5,6],\n",
    "                      [7,8,9]])\n"
   ]
  },
  {
   "cell_type": "code",
   "execution_count": 34,
   "metadata": {},
   "outputs": [
    {
     "data": {
      "text/plain": [
       "array([[1, 4, 7],\n",
       "       [2, 5, 8],\n",
       "       [3, 6, 9]])"
      ]
     },
     "execution_count": 34,
     "metadata": {},
     "output_type": "execute_result"
    }
   ],
   "source": [
    "np.transpose(transpose_me)"
   ]
  },
  {
   "cell_type": "markdown",
   "metadata": {},
   "source": [
    "3. Why does this multiplication operation fail? "
   ]
  },
  {
   "cell_type": "code",
   "execution_count": null,
   "metadata": {},
   "outputs": [],
   "source": [
    "arr1 = np.array([[1,2,3],\n",
    "                      [4,5,6],\n",
    "                      [7,8,9]])\n",
    "arr2 = np.array([[1,2,3],\n",
    "                      [4,5,6]])\n",
    "\n",
    "arr1 * arr2"
   ]
  },
  {
   "cell_type": "markdown",
   "metadata": {},
   "source": [
    "Dimensions do not match"
   ]
  },
  {
   "cell_type": "markdown",
   "metadata": {},
   "source": [
    "Use numpy to answer the following questions. "
   ]
  },
  {
   "cell_type": "markdown",
   "metadata": {},
   "source": [
    "4. What is the average horsepower for `Europe` cars? (Hint: create boolean index of 'US' apply it to horsepower and perform the calculation.)"
   ]
  },
  {
   "cell_type": "code",
   "execution_count": 38,
   "metadata": {},
   "outputs": [
    {
     "data": {
      "text/plain": [
       "78.78082191780823"
      ]
     },
     "execution_count": 38,
     "metadata": {},
     "output_type": "execute_result"
    }
   ],
   "source": [
    "E = np.array(origin == 'Europe')\n",
    "horsepower[E].mean()"
   ]
  },
  {
   "cell_type": "markdown",
   "metadata": {},
   "source": [
    "5. On average are Japanse cars more fuel efficient than US cars? "
   ]
  },
  {
   "cell_type": "code",
   "execution_count": 42,
   "metadata": {},
   "outputs": [
    {
     "data": {
      "text/plain": [
       "True"
      ]
     },
     "execution_count": 42,
     "metadata": {},
     "output_type": "execute_result"
    }
   ],
   "source": [
    "mpg[np.array(origin == 'US')].mean() < mpg[np.array(origin == 'Japan')].mean()"
   ]
  },
  {
   "cell_type": "markdown",
   "metadata": {},
   "source": [
    "6. What is the correlation coefficient of `mpg` and `weight`? What is a correlaton coefficient?"
   ]
  },
  {
   "cell_type": "code",
   "execution_count": 43,
   "metadata": {},
   "outputs": [
    {
     "data": {
      "text/plain": [
       "array([[ 1.        , -0.78750994],\n",
       "       [-0.78750994,  1.        ]])"
      ]
     },
     "execution_count": 43,
     "metadata": {},
     "output_type": "execute_result"
    }
   ],
   "source": [
    "np.corrcoef(mpg, weight)\n",
    "#I really doubt this is we are looking for..."
   ]
  },
  {
   "cell_type": "markdown",
   "metadata": {},
   "source": [
    "7. Why might you prefer an `np.array()` over a Python `list`? And when is a Python `list` preferred? "
   ]
  },
  {
   "cell_type": "markdown",
   "metadata": {},
   "source": [
    "arrays consume less memory and elementwise operations take much less time (5-10 X) than using lists. Lists are still preferred if working with different kinds of datatypes."
   ]
  },
  {
   "cell_type": "code",
   "execution_count": null,
   "metadata": {},
   "outputs": [],
   "source": []
  }
 ],
 "metadata": {
  "kernelspec": {
   "display_name": "Python 3",
   "language": "python",
   "name": "python3"
  },
  "language_info": {
   "codemirror_mode": {
    "name": "ipython",
    "version": 3
   },
   "file_extension": ".py",
   "mimetype": "text/x-python",
   "name": "python",
   "nbconvert_exporter": "python",
   "pygments_lexer": "ipython3",
   "version": "3.8.8"
  }
 },
 "nbformat": 4,
 "nbformat_minor": 4
}
