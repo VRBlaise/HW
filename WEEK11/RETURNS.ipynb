{
 "cells": [
  {
   "cell_type": "code",
   "execution_count": 6,
   "id": "e7b29be1",
   "metadata": {},
   "outputs": [
    {
     "name": "stdout",
     "output_type": "stream",
     "text": [
      "2.711517122929317\n",
      "7.352325107938882\n",
      "19.93595542351942\n",
      "54.056684492828495\n",
      "146.57562561109216\n",
      "397.4423186485534\n",
      "1077.6716523922823\n",
      "2922.125138357205\n",
      "7923.392347997762\n",
      "21484.414023283058\n"
     ]
    }
   ],
   "source": [
    "for i in range(1, 11):\n",
    "    print(1.005**(200*i))"
   ]
  },
  {
   "cell_type": "code",
   "execution_count": 8,
   "id": "f5915ea1",
   "metadata": {},
   "outputs": [
    {
     "name": "stdout",
     "output_type": "stream",
     "text": [
      "1.8204829007178753\n",
      "3.3141579918061694\n",
      "6.033367954360624\n",
      "10.983643194652702\n",
      "19.995534623451498\n",
      "36.40152887270569\n",
      "66.26836087274874\n",
      "120.64041782744059\n",
      "219.6238177903155\n",
      "399.8214048776477\n"
     ]
    }
   ],
   "source": [
    "for i in range(1, 11):\n",
    "    print(1.003**(200*i))"
   ]
  },
  {
   "cell_type": "code",
   "execution_count": 10,
   "id": "df00fecb",
   "metadata": {},
   "outputs": [
    {
     "name": "stdout",
     "output_type": "stream",
     "text": [
      "1.49122888122306\n",
      "2.2237635761937793\n",
      "3.3161404698320402\n",
      "4.945124442806145\n",
      "7.374312390354616\n",
      "10.996787615657864\n",
      "16.398727293145075\n",
      "24.45425575483879\n",
      "36.46689245043083\n",
      "54.380483230537614\n"
     ]
    }
   ],
   "source": [
    "for i in range(1, 11):\n",
    "    print(1.002**(200*i))"
   ]
  },
  {
   "cell_type": "code",
   "execution_count": null,
   "id": "1a757404",
   "metadata": {},
   "outputs": [],
   "source": []
  }
 ],
 "metadata": {
  "kernelspec": {
   "display_name": "Python 3 (ipykernel)",
   "language": "python",
   "name": "python3"
  },
  "language_info": {
   "codemirror_mode": {
    "name": "ipython",
    "version": 3
   },
   "file_extension": ".py",
   "mimetype": "text/x-python",
   "name": "python",
   "nbconvert_exporter": "python",
   "pygments_lexer": "ipython3",
   "version": "3.8.12"
  }
 },
 "nbformat": 4,
 "nbformat_minor": 5
}
