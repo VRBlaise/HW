{
 "cells": [
  {
   "cell_type": "code",
   "execution_count": 29,
   "id": "7c598aed",
   "metadata": {},
   "outputs": [
    {
     "name": "stdout",
     "output_type": "stream",
     "text": [
      "Please enter an integer between 1 and 100:\n",
      "500\n"
     ]
    }
   ],
   "source": [
    "def new_function(n = input(\"Please enter an integer between 1 and 100:\\n\")):\n",
    "    if not (1 <= n <= 100) or type(n) != int:\n",
    "        print('Wrong choice')\n",
    "#        n = input(\"Wrong choice, please try again: \\n\")\n",
    "#Clearly this does not do what it should, what is wrong with it?\n",
    "    \n",
    "    "
   ]
  },
  {
   "cell_type": "code",
   "execution_count": 30,
   "id": "bd65e897",
   "metadata": {},
   "outputs": [],
   "source": [
    "def try_again(n):\n",
    "    if not (1 <= n <= 100) or type(n) != int:\n",
    "        print(\"Error\")\n",
    "    elif n%2 != 0:\n",
    "        print(\"Weird\")\n",
    "    elif n%2 == 0 and n in range(2,6):\n",
    "        print(\"Not Weird\")\n",
    "    else:\n",
    "        print(\"Weird\")\n",
    "        \n",
    "    \n",
    "    "
   ]
  },
  {
   "cell_type": "code",
   "execution_count": 28,
   "id": "361c47b9",
   "metadata": {},
   "outputs": [
    {
     "name": "stdout",
     "output_type": "stream",
     "text": [
      "Weird\n"
     ]
    }
   ],
   "source": [
    "try_again(20)"
   ]
  },
  {
   "cell_type": "code",
   "execution_count": null,
   "id": "e764d446",
   "metadata": {},
   "outputs": [],
   "source": []
  }
 ],
 "metadata": {
  "kernelspec": {
   "display_name": "Python 3 (ipykernel)",
   "language": "python",
   "name": "python3"
  },
  "language_info": {
   "codemirror_mode": {
    "name": "ipython",
    "version": 3
   },
   "file_extension": ".py",
   "mimetype": "text/x-python",
   "name": "python",
   "nbconvert_exporter": "python",
   "pygments_lexer": "ipython3",
   "version": "3.8.11"
  }
 },
 "nbformat": 4,
 "nbformat_minor": 5
}
