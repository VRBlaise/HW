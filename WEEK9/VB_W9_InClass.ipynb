{
 "cells": [
  {
   "cell_type": "markdown",
   "id": "bb749a76",
   "metadata": {},
   "source": [
    "### 1a) Linear and Rank Correlation"
   ]
  },
  {
   "cell_type": "markdown",
   "id": "7c703919",
   "metadata": {},
   "source": [
    "#### Linear correlation compares the values of data and returns a value close to 1 if the relatioship between the two datasets seems to be close to linear. Rank correlation first ranks the data (and for the sake of calculating the correlation it discards the values), then performs a linear correlation on the ranks. If the relationship between the values is perfectly monotonic, then rank correlation will be 1 or -1 depending on the direction. It does not tell though how far the function describing the relationship would diverge from linear."
   ]
  },
  {
   "cell_type": "markdown",
   "id": "da6676ed",
   "metadata": {},
   "source": [
    "### 1b) Scatterplot"
   ]
  },
  {
   "cell_type": "code",
   "execution_count": 1,
   "id": "3ce8002b",
   "metadata": {},
   "outputs": [],
   "source": [
    "import pandas as pd\n",
    "import numpy as np\n",
    "import scipy.stats as ss\n",
    "import matplotlib.pyplot as plt"
   ]
  },
  {
   "cell_type": "code",
   "execution_count": 2,
   "id": "5cdbc841",
   "metadata": {},
   "outputs": [
    {
     "data": {
      "text/html": [
       "<div>\n",
       "<style scoped>\n",
       "    .dataframe tbody tr th:only-of-type {\n",
       "        vertical-align: middle;\n",
       "    }\n",
       "\n",
       "    .dataframe tbody tr th {\n",
       "        vertical-align: top;\n",
       "    }\n",
       "\n",
       "    .dataframe thead th {\n",
       "        text-align: right;\n",
       "    }\n",
       "</style>\n",
       "<table border=\"1\" class=\"dataframe\">\n",
       "  <thead>\n",
       "    <tr style=\"text-align: right;\">\n",
       "      <th></th>\n",
       "      <th>id</th>\n",
       "      <th>latitude</th>\n",
       "      <th>longitude</th>\n",
       "      <th>price</th>\n",
       "      <th>minimum_nights</th>\n",
       "      <th>number_of_reviews</th>\n",
       "      <th>reviews_per_month</th>\n",
       "      <th>calculated_host_listings_count</th>\n",
       "      <th>availability_365</th>\n",
       "    </tr>\n",
       "  </thead>\n",
       "  <tbody>\n",
       "    <tr>\n",
       "      <th>0</th>\n",
       "      <td>36666</td>\n",
       "      <td>17.74786</td>\n",
       "      <td>-88.02398</td>\n",
       "      <td>141</td>\n",
       "      <td>3</td>\n",
       "      <td>250</td>\n",
       "      <td>2.0</td>\n",
       "      <td>5</td>\n",
       "      <td>225</td>\n",
       "    </tr>\n",
       "  </tbody>\n",
       "</table>\n",
       "</div>"
      ],
      "text/plain": [
       "      id  latitude  longitude  price  minimum_nights  number_of_reviews  \\\n",
       "0  36666  17.74786  -88.02398    141               3                250   \n",
       "\n",
       "   reviews_per_month  calculated_host_listings_count  availability_365  \n",
       "0                2.0                               5               225  "
      ]
     },
     "execution_count": 2,
     "metadata": {},
     "output_type": "execute_result"
    }
   ],
   "source": [
    "belize = pd.read_csv('belize_airbnb_listings.csv')\n",
    "b_con = belize.drop(columns = {'name', 'host_name', 'host_id', 'neighbourhood_group', 'neighbourhood', 'room_type', 'last_review'})\n",
    "b_con = b_con.dropna()\n",
    "b_con.head(1)"
   ]
  },
  {
   "cell_type": "code",
   "execution_count": 4,
   "id": "f9147e31",
   "metadata": {},
   "outputs": [
    {
     "data": {
      "image/png": "[encoded data removed]",
      "text/plain": [
       "<Figure size 432x288 with 1 Axes>"
      ]
     },
     "metadata": {},
     "output_type": "display_data"
    }
   ],
   "source": [
    "plt.style.use('ggplot')\n",
    "\n",
    "fig, ax = plt.subplots()\n",
    "ax.scatter(b_con['availability_365'], b_con['calculated_host_listings_count'], label = 'Data points' )\n",
    "ax.set_xlabel('Availability')\n",
    "ax.set_ylabel('Calculated host listings count')\n",
    "ax.legend(facecolor = 'white')\n",
    "plt.show()"
   ]
  },
  {
   "cell_type": "markdown",
   "id": "94156fcb",
   "metadata": {},
   "source": [
    "### 1c) Correlation"
   ]
  },
  {
   "cell_type": "code",
   "execution_count": 7,
   "id": "8f259913",
   "metadata": {},
   "outputs": [
    {
     "data": {
      "text/plain": [
       "0.1665929327135948"
      ]
     },
     "execution_count": 7,
     "metadata": {},
     "output_type": "execute_result"
    }
   ],
   "source": [
    "corre = b_con['availability_365'].corr(b_con['calculated_host_listings_count'])\n",
    "corre"
   ]
  },
  {
   "cell_type": "markdown",
   "id": "1606275a",
   "metadata": {},
   "source": [
    "#### There is no or very week correlation between these two parameters"
   ]
  },
  {
   "cell_type": "code",
   "execution_count": null,
   "id": "88d68715",
   "metadata": {},
   "outputs": [],
   "source": []
  },
  {
   "cell_type": "markdown",
   "id": "1bc40b3b",
   "metadata": {},
   "source": [
    "### 2) Boxplot and Whiskerplot"
   ]
  },
  {
   "cell_type": "code",
   "execution_count": 9,
   "id": "cc2c6f95",
   "metadata": {},
   "outputs": [
    {
     "data": {
      "text/plain": [
       "count     1810.000000\n",
       "mean       301.879558\n",
       "std        430.191846\n",
       "min         20.000000\n",
       "25%        121.000000\n",
       "50%        199.000000\n",
       "75%        328.000000\n",
       "max      11788.000000\n",
       "Name: price, dtype: float64"
      ]
     },
     "execution_count": 9,
     "metadata": {},
     "output_type": "execute_result"
    }
   ],
   "source": [
    "b_con['price'].describe()"
   ]
  },
  {
   "cell_type": "code",
   "execution_count": 22,
   "id": "ff3eb597",
   "metadata": {},
   "outputs": [
    {
     "data": {
      "image/png": "[encoded data removed]",
      "text/plain": [
       "<Figure size 720x504 with 1 Axes>"
      ]
     },
     "metadata": {},
     "output_type": "display_data"
    }
   ],
   "source": [
    "fig = plt.figure(figsize = (10, 7))\n",
    "ax = fig.add_subplot(1,1,1)\n",
    "bp = ax.boxplot(b_con['price'])\n",
    "\n",
    "plt.title(\"Box Plot of Airbnb Prices in Belize\")\n",
    "plt.show()\n"
   ]
  },
  {
   "cell_type": "markdown",
   "id": "d687acad",
   "metadata": {},
   "source": [
    "#### I made it as ugly as it can be... As for the data, it looks like a vast majority of prices are concentrated in the 121-328 region (this is the interquartile range), but there are a number of outliers above 438 (3rd Q + 1.5 x IQR) as far up as 11788 dollars (it would be much even in coffee beans, let alone dollars)."
   ]
  },
  {
   "cell_type": "code",
   "execution_count": null,
   "id": "600e0ffb",
   "metadata": {},
   "outputs": [],
   "source": []
  }
 ],
 "metadata": {
  "kernelspec": {
   "display_name": "Python 3 (ipykernel)",
   "language": "python",
   "name": "python3"
  },
  "language_info": {
   "codemirror_mode": {
    "name": "ipython",
    "version": 3
   },
   "file_extension": ".py",
   "mimetype": "text/x-python",
   "name": "python",
   "nbconvert_exporter": "python",
   "pygments_lexer": "ipython3",
   "version": "3.8.12"
  }
 },
 "nbformat": 4,
 "nbformat_minor": 5
}
