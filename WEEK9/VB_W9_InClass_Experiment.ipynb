{
 "cells": [
  {
   "cell_type": "code",
   "execution_count": 76,
   "id": "7b562ba3",
   "metadata": {},
   "outputs": [],
   "source": [
    "import pandas as pd\n",
    "import numpy as np\n",
    "import scipy.stats as ss\n",
    "import matplotlib.pyplot as plt\n",
    "import seaborn as sns"
   ]
  },
  {
   "cell_type": "code",
   "execution_count": 77,
   "id": "01a5ec24",
   "metadata": {},
   "outputs": [
    {
     "data": {
      "text/html": [
       "<div>\n",
       "<style scoped>\n",
       "    .dataframe tbody tr th:only-of-type {\n",
       "        vertical-align: middle;\n",
       "    }\n",
       "\n",
       "    .dataframe tbody tr th {\n",
       "        vertical-align: top;\n",
       "    }\n",
       "\n",
       "    .dataframe thead th {\n",
       "        text-align: right;\n",
       "    }\n",
       "</style>\n",
       "<table border=\"1\" class=\"dataframe\">\n",
       "  <thead>\n",
       "    <tr style=\"text-align: right;\">\n",
       "      <th></th>\n",
       "      <th>id</th>\n",
       "      <th>latitude</th>\n",
       "      <th>longitude</th>\n",
       "      <th>price</th>\n",
       "      <th>minimum_nights</th>\n",
       "      <th>number_of_reviews</th>\n",
       "      <th>reviews_per_month</th>\n",
       "      <th>calculated_host_listings_count</th>\n",
       "      <th>availability_365</th>\n",
       "    </tr>\n",
       "  </thead>\n",
       "  <tbody>\n",
       "    <tr>\n",
       "      <th>0</th>\n",
       "      <td>36666</td>\n",
       "      <td>17.74786</td>\n",
       "      <td>-88.02398</td>\n",
       "      <td>141</td>\n",
       "      <td>3</td>\n",
       "      <td>250</td>\n",
       "      <td>2.0</td>\n",
       "      <td>5</td>\n",
       "      <td>225</td>\n",
       "    </tr>\n",
       "  </tbody>\n",
       "</table>\n",
       "</div>"
      ],
      "text/plain": [
       "      id  latitude  longitude  price  minimum_nights  number_of_reviews  \\\n",
       "0  36666  17.74786  -88.02398    141               3                250   \n",
       "\n",
       "   reviews_per_month  calculated_host_listings_count  availability_365  \n",
       "0                2.0                               5               225  "
      ]
     },
     "execution_count": 77,
     "metadata": {},
     "output_type": "execute_result"
    }
   ],
   "source": [
    "belize = pd.read_csv('belize_airbnb_listings.csv')\n",
    "b_con = belize.drop(columns = {'name', 'host_name', 'host_id', 'neighbourhood_group', 'neighbourhood', 'room_type', 'last_review'})\n",
    "b_con = b_con.dropna()\n",
    "b_con.head(1)"
   ]
  },
  {
   "cell_type": "code",
   "execution_count": 78,
   "id": "9848e7dc",
   "metadata": {},
   "outputs": [
    {
     "data": {
      "text/plain": [
       "0.8496655400224561"
      ]
     },
     "execution_count": 78,
     "metadata": {},
     "output_type": "execute_result"
    }
   ],
   "source": [
    "np.corrcoef(b_con['number_of_reviews'], b_con['reviews_per_month'])[0,1]"
   ]
  },
  {
   "cell_type": "code",
   "execution_count": 79,
   "id": "3d9a6430",
   "metadata": {},
   "outputs": [
    {
     "data": {
      "text/plain": [
       "0.8496655400224563"
      ]
     },
     "execution_count": 79,
     "metadata": {},
     "output_type": "execute_result"
    }
   ],
   "source": [
    "ss.pearsonr(b_con['number_of_reviews'], b_con['reviews_per_month'])[0]"
   ]
  },
  {
   "cell_type": "code",
   "execution_count": 80,
   "id": "b45f8f0d",
   "metadata": {},
   "outputs": [
    {
     "data": {
      "text/plain": [
       "0.8916017342328019"
      ]
     },
     "execution_count": 80,
     "metadata": {},
     "output_type": "execute_result"
    }
   ],
   "source": [
    "ss.spearmanr(b_con['number_of_reviews'], b_con['reviews_per_month'])[0]\n",
    "ss.spearmanr(b_con['number_of_reviews'], b_con['reviews_per_month']).correlation"
   ]
  },
  {
   "cell_type": "code",
   "execution_count": 81,
   "id": "55005e75",
   "metadata": {},
   "outputs": [
    {
     "data": {
      "text/plain": [
       "0.7478140384936347"
      ]
     },
     "execution_count": 81,
     "metadata": {},
     "output_type": "execute_result"
    }
   ],
   "source": [
    "ss.kendalltau(b_con['number_of_reviews'], b_con['reviews_per_month'])[0]\n",
    "ss.kendalltau(b_con['number_of_reviews'], b_con['reviews_per_month']).correlation"
   ]
  },
  {
   "cell_type": "code",
   "execution_count": 82,
   "id": "04cf4fd6",
   "metadata": {},
   "outputs": [
    {
     "data": {
      "text/plain": [
       "(0.8496655400224563, 0.0)"
      ]
     },
     "execution_count": 82,
     "metadata": {},
     "output_type": "execute_result"
    }
   ],
   "source": [
    "r, p = ss.pearsonr(b_con['number_of_reviews'], b_con['reviews_per_month'])\n",
    "r, p"
   ]
  },
  {
   "cell_type": "code",
   "execution_count": 83,
   "id": "10cfa601",
   "metadata": {},
   "outputs": [
    {
     "data": {
      "text/plain": [
       "0.8496655400224561"
      ]
     },
     "execution_count": 83,
     "metadata": {},
     "output_type": "execute_result"
    }
   ],
   "source": [
    "b_con['number_of_reviews'].corr(b_con['reviews_per_month'])"
   ]
  },
  {
   "cell_type": "code",
   "execution_count": 84,
   "id": "531f5484",
   "metadata": {},
   "outputs": [
    {
     "data": {
      "text/plain": [
       "0.8916017342328019"
      ]
     },
     "execution_count": 84,
     "metadata": {},
     "output_type": "execute_result"
    }
   ],
   "source": [
    "b_con['number_of_reviews'].corr(b_con['reviews_per_month'], method = 'spearman')"
   ]
  },
  {
   "cell_type": "code",
   "execution_count": 85,
   "id": "a00d2042",
   "metadata": {},
   "outputs": [
    {
     "data": {
      "text/plain": [
       "0.7478140384936347"
      ]
     },
     "execution_count": 85,
     "metadata": {},
     "output_type": "execute_result"
    }
   ],
   "source": [
    "b_con['number_of_reviews'].corr(b_con['reviews_per_month'], method = 'kendall')"
   ]
  },
  {
   "cell_type": "code",
   "execution_count": 86,
   "id": "0a024cab",
   "metadata": {},
   "outputs": [],
   "source": [
    "result = ss.linregress(b_con['number_of_reviews'], b_con['reviews_per_month'])"
   ]
  },
  {
   "cell_type": "code",
   "execution_count": 87,
   "id": "b6e8dd33",
   "metadata": {},
   "outputs": [
    {
     "data": {
      "text/plain": [
       "LinregressResult(slope=0.015943596104859067, intercept=0.18211458243670464, rvalue=0.849665540022456, pvalue=0.0, stderr=0.0002327099429686509, intercept_stderr=0.00971551520601244)"
      ]
     },
     "execution_count": 87,
     "metadata": {},
     "output_type": "execute_result"
    }
   ],
   "source": [
    "result"
   ]
  },
  {
   "cell_type": "code",
   "execution_count": 88,
   "id": "658f4a55",
   "metadata": {},
   "outputs": [
    {
     "data": {
      "text/plain": [
       "0.015943596104859067"
      ]
     },
     "execution_count": 88,
     "metadata": {},
     "output_type": "execute_result"
    }
   ],
   "source": [
    "result.slope"
   ]
  },
  {
   "cell_type": "code",
   "execution_count": 89,
   "id": "e3c9dd18",
   "metadata": {},
   "outputs": [
    {
     "data": {
      "text/plain": [
       "0.18211458243670464"
      ]
     },
     "execution_count": 89,
     "metadata": {},
     "output_type": "execute_result"
    }
   ],
   "source": [
    "result.intercept"
   ]
  },
  {
   "cell_type": "code",
   "execution_count": 90,
   "id": "70705d71",
   "metadata": {},
   "outputs": [
    {
     "data": {
      "text/plain": [
       "0.0"
      ]
     },
     "execution_count": 90,
     "metadata": {},
     "output_type": "execute_result"
    }
   ],
   "source": [
    "result.pvalue"
   ]
  },
  {
   "cell_type": "code",
   "execution_count": 91,
   "id": "bf8f7229",
   "metadata": {},
   "outputs": [
    {
     "data": {
      "text/plain": [
       "0.849665540022456"
      ]
     },
     "execution_count": 91,
     "metadata": {},
     "output_type": "execute_result"
    }
   ],
   "source": [
    "result.rvalue"
   ]
  },
  {
   "cell_type": "code",
   "execution_count": 92,
   "id": "0e012fb2",
   "metadata": {},
   "outputs": [
    {
     "data": {
      "text/plain": [
       "array([[ 1.        ,  0.84966554, -0.0142113 ],\n",
       "       [ 0.84966554,  1.        , -0.03247795],\n",
       "       [-0.0142113 , -0.03247795,  1.        ]])"
      ]
     },
     "execution_count": 92,
     "metadata": {},
     "output_type": "execute_result"
    }
   ],
   "source": [
    "np.corrcoef([b_con['number_of_reviews'], b_con['reviews_per_month'], b_con['availability_365']])"
   ]
  },
  {
   "cell_type": "code",
   "execution_count": 93,
   "id": "0ecd8e69",
   "metadata": {},
   "outputs": [],
   "source": [
    "transp = np.array([b_con['number_of_reviews'], b_con['reviews_per_month'], b_con['availability_365']]).T"
   ]
  },
  {
   "cell_type": "code",
   "execution_count": 94,
   "id": "3bf7ef2b",
   "metadata": {},
   "outputs": [
    {
     "data": {
      "text/plain": [
       "array([[ 1.        ,  0.84966554, -0.0142113 ],\n",
       "       [ 0.84966554,  1.        , -0.03247795],\n",
       "       [-0.0142113 , -0.03247795,  1.        ]])"
      ]
     },
     "execution_count": 94,
     "metadata": {},
     "output_type": "execute_result"
    }
   ],
   "source": [
    "np.corrcoef(transp, rowvar = False)"
   ]
  },
  {
   "cell_type": "code",
   "execution_count": 95,
   "id": "0283cb5b",
   "metadata": {},
   "outputs": [
    {
     "data": {
      "text/html": [
       "<div>\n",
       "<style scoped>\n",
       "    .dataframe tbody tr th:only-of-type {\n",
       "        vertical-align: middle;\n",
       "    }\n",
       "\n",
       "    .dataframe tbody tr th {\n",
       "        vertical-align: top;\n",
       "    }\n",
       "\n",
       "    .dataframe thead th {\n",
       "        text-align: right;\n",
       "    }\n",
       "</style>\n",
       "<table border=\"1\" class=\"dataframe\">\n",
       "  <thead>\n",
       "    <tr style=\"text-align: right;\">\n",
       "      <th></th>\n",
       "      <th>id</th>\n",
       "      <th>latitude</th>\n",
       "      <th>longitude</th>\n",
       "      <th>price</th>\n",
       "      <th>minimum_nights</th>\n",
       "      <th>number_of_reviews</th>\n",
       "      <th>reviews_per_month</th>\n",
       "      <th>calculated_host_listings_count</th>\n",
       "      <th>availability_365</th>\n",
       "    </tr>\n",
       "  </thead>\n",
       "  <tbody>\n",
       "    <tr>\n",
       "      <th>0</th>\n",
       "      <td>36666</td>\n",
       "      <td>17.74786</td>\n",
       "      <td>-88.02398</td>\n",
       "      <td>141</td>\n",
       "      <td>3</td>\n",
       "      <td>250</td>\n",
       "      <td>2.0</td>\n",
       "      <td>5</td>\n",
       "      <td>225</td>\n",
       "    </tr>\n",
       "  </tbody>\n",
       "</table>\n",
       "</div>"
      ],
      "text/plain": [
       "      id  latitude  longitude  price  minimum_nights  number_of_reviews  \\\n",
       "0  36666  17.74786  -88.02398    141               3                250   \n",
       "\n",
       "   reviews_per_month  calculated_host_listings_count  availability_365  \n",
       "0                2.0                               5               225  "
      ]
     },
     "execution_count": 95,
     "metadata": {},
     "output_type": "execute_result"
    }
   ],
   "source": [
    "b_con.head(1)"
   ]
  },
  {
   "cell_type": "code",
   "execution_count": 96,
   "id": "b20064ae",
   "metadata": {},
   "outputs": [],
   "source": [
    "xy = b_con.drop(columns = {'id', 'latitude', 'longitude', 'price', 'minimum_nights', 'calculated_host_listings_count', 'availability_365'})"
   ]
  },
  {
   "cell_type": "code",
   "execution_count": 97,
   "id": "ea6f1890",
   "metadata": {},
   "outputs": [],
   "source": [
    "corr_matrix = xy.corr()"
   ]
  },
  {
   "cell_type": "code",
   "execution_count": 98,
   "id": "2713c25c",
   "metadata": {},
   "outputs": [
    {
     "data": {
      "text/html": [
       "<div>\n",
       "<style scoped>\n",
       "    .dataframe tbody tr th:only-of-type {\n",
       "        vertical-align: middle;\n",
       "    }\n",
       "\n",
       "    .dataframe tbody tr th {\n",
       "        vertical-align: top;\n",
       "    }\n",
       "\n",
       "    .dataframe thead th {\n",
       "        text-align: right;\n",
       "    }\n",
       "</style>\n",
       "<table border=\"1\" class=\"dataframe\">\n",
       "  <thead>\n",
       "    <tr style=\"text-align: right;\">\n",
       "      <th></th>\n",
       "      <th>number_of_reviews</th>\n",
       "      <th>reviews_per_month</th>\n",
       "    </tr>\n",
       "  </thead>\n",
       "  <tbody>\n",
       "    <tr>\n",
       "      <th>number_of_reviews</th>\n",
       "      <td>1.000000</td>\n",
       "      <td>0.849666</td>\n",
       "    </tr>\n",
       "    <tr>\n",
       "      <th>reviews_per_month</th>\n",
       "      <td>0.849666</td>\n",
       "      <td>1.000000</td>\n",
       "    </tr>\n",
       "  </tbody>\n",
       "</table>\n",
       "</div>"
      ],
      "text/plain": [
       "                   number_of_reviews  reviews_per_month\n",
       "number_of_reviews           1.000000           0.849666\n",
       "reviews_per_month           0.849666           1.000000"
      ]
     },
     "execution_count": 98,
     "metadata": {},
     "output_type": "execute_result"
    }
   ],
   "source": [
    "corr_matrix"
   ]
  },
  {
   "cell_type": "code",
   "execution_count": 99,
   "id": "37d947bb",
   "metadata": {},
   "outputs": [
    {
     "data": {
      "text/plain": [
       "number_of_reviews   -0.415392\n",
       "reviews_per_month   -0.121845\n",
       "dtype: float64"
      ]
     },
     "execution_count": 99,
     "metadata": {},
     "output_type": "execute_result"
    }
   ],
   "source": [
    "xy.corrwith(b_con['id'])"
   ]
  },
  {
   "cell_type": "code",
   "execution_count": 100,
   "id": "780fd176",
   "metadata": {},
   "outputs": [],
   "source": [
    "x = np.array(b_con['number_of_reviews'])\n",
    "y = np.array(b_con['reviews_per_month'])"
   ]
  },
  {
   "cell_type": "code",
   "execution_count": 101,
   "id": "ff61ea76",
   "metadata": {},
   "outputs": [],
   "source": [
    "x_rank = ss.rankdata(x)\n",
    "y_rank = ss.rankdata(y)"
   ]
  },
  {
   "cell_type": "code",
   "execution_count": 102,
   "id": "448a0f79",
   "metadata": {},
   "outputs": [
    {
     "data": {
      "text/plain": [
       "array([1808. , 1810. , 1407. , ...,  493.5,  129.5,  129.5])"
      ]
     },
     "execution_count": 102,
     "metadata": {},
     "output_type": "execute_result"
    }
   ],
   "source": [
    "x_rank"
   ]
  },
  {
   "cell_type": "code",
   "execution_count": 103,
   "id": "43c8b270",
   "metadata": {},
   "outputs": [
    {
     "data": {
      "text/plain": [
       "array([[250.  ,   2.  , 225.  ],\n",
       "       [316.  ,   2.46, 164.  ],\n",
       "       [ 30.  ,   0.78, 364.  ],\n",
       "       ...,\n",
       "       [  3.  ,   3.  , 334.  ],\n",
       "       [  1.  ,   0.91, 364.  ],\n",
       "       [  1.  ,   1.  , 323.  ]])"
      ]
     },
     "execution_count": 103,
     "metadata": {},
     "output_type": "execute_result"
    }
   ],
   "source": [
    "transp"
   ]
  },
  {
   "cell_type": "code",
   "execution_count": 104,
   "id": "2930178a",
   "metadata": {},
   "outputs": [],
   "source": [
    "corr_matrix, r_matrix = ss.spearmanr(transp) #multidimensional is OK"
   ]
  },
  {
   "cell_type": "code",
   "execution_count": 105,
   "id": "b262567d",
   "metadata": {},
   "outputs": [
    {
     "data": {
      "text/plain": [
       "array([[ 1.        ,  0.89160173, -0.04465703],\n",
       "       [ 0.89160173,  1.        , -0.04502418],\n",
       "       [-0.04465703, -0.04502418,  1.        ]])"
      ]
     },
     "execution_count": 105,
     "metadata": {},
     "output_type": "execute_result"
    }
   ],
   "source": [
    "corr_matrix"
   ]
  },
  {
   "cell_type": "code",
   "execution_count": 106,
   "id": "8588629d",
   "metadata": {},
   "outputs": [
    {
     "data": {
      "text/plain": [
       "array([[0.       , 0.       , 0.0574951],\n",
       "       [0.       , 0.       , 0.055472 ],\n",
       "       [0.0574951, 0.055472 , 0.       ]])"
      ]
     },
     "execution_count": 106,
     "metadata": {},
     "output_type": "execute_result"
    }
   ],
   "source": [
    "r_matrix"
   ]
  },
  {
   "cell_type": "code",
   "execution_count": 107,
   "id": "3141be84",
   "metadata": {},
   "outputs": [],
   "source": [
    "tau, p = ss.kendalltau(x,y) #flattens multidimensional arrays"
   ]
  },
  {
   "cell_type": "code",
   "execution_count": 108,
   "id": "5a9acdd4",
   "metadata": {},
   "outputs": [
    {
     "data": {
      "text/html": [
       "<div>\n",
       "<style scoped>\n",
       "    .dataframe tbody tr th:only-of-type {\n",
       "        vertical-align: middle;\n",
       "    }\n",
       "\n",
       "    .dataframe tbody tr th {\n",
       "        vertical-align: top;\n",
       "    }\n",
       "\n",
       "    .dataframe thead th {\n",
       "        text-align: right;\n",
       "    }\n",
       "</style>\n",
       "<table border=\"1\" class=\"dataframe\">\n",
       "  <thead>\n",
       "    <tr style=\"text-align: right;\">\n",
       "      <th></th>\n",
       "      <th>number_of_reviews</th>\n",
       "      <th>reviews_per_month</th>\n",
       "    </tr>\n",
       "  </thead>\n",
       "  <tbody>\n",
       "    <tr>\n",
       "      <th>number_of_reviews</th>\n",
       "      <td>1.000000</td>\n",
       "      <td>0.891602</td>\n",
       "    </tr>\n",
       "    <tr>\n",
       "      <th>reviews_per_month</th>\n",
       "      <td>0.891602</td>\n",
       "      <td>1.000000</td>\n",
       "    </tr>\n",
       "  </tbody>\n",
       "</table>\n",
       "</div>"
      ],
      "text/plain": [
       "                   number_of_reviews  reviews_per_month\n",
       "number_of_reviews           1.000000           0.891602\n",
       "reviews_per_month           0.891602           1.000000"
      ]
     },
     "execution_count": 108,
     "metadata": {},
     "output_type": "execute_result"
    }
   ],
   "source": [
    "xy.corr(method = 'spearman')"
   ]
  },
  {
   "cell_type": "code",
   "execution_count": 109,
   "id": "ed409e3e",
   "metadata": {},
   "outputs": [
    {
     "data": {
      "text/html": [
       "<div>\n",
       "<style scoped>\n",
       "    .dataframe tbody tr th:only-of-type {\n",
       "        vertical-align: middle;\n",
       "    }\n",
       "\n",
       "    .dataframe tbody tr th {\n",
       "        vertical-align: top;\n",
       "    }\n",
       "\n",
       "    .dataframe thead th {\n",
       "        text-align: right;\n",
       "    }\n",
       "</style>\n",
       "<table border=\"1\" class=\"dataframe\">\n",
       "  <thead>\n",
       "    <tr style=\"text-align: right;\">\n",
       "      <th></th>\n",
       "      <th>number_of_reviews</th>\n",
       "      <th>reviews_per_month</th>\n",
       "    </tr>\n",
       "  </thead>\n",
       "  <tbody>\n",
       "    <tr>\n",
       "      <th>number_of_reviews</th>\n",
       "      <td>1.000000</td>\n",
       "      <td>0.747814</td>\n",
       "    </tr>\n",
       "    <tr>\n",
       "      <th>reviews_per_month</th>\n",
       "      <td>0.747814</td>\n",
       "      <td>1.000000</td>\n",
       "    </tr>\n",
       "  </tbody>\n",
       "</table>\n",
       "</div>"
      ],
      "text/plain": [
       "                   number_of_reviews  reviews_per_month\n",
       "number_of_reviews           1.000000           0.747814\n",
       "reviews_per_month           0.747814           1.000000"
      ]
     },
     "execution_count": 109,
     "metadata": {},
     "output_type": "execute_result"
    }
   ],
   "source": [
    "xy.corr(method = 'kendall')"
   ]
  },
  {
   "cell_type": "code",
   "execution_count": 117,
   "id": "f3e0e485",
   "metadata": {},
   "outputs": [
    {
     "data": {
      "text/html": [
       "<div>\n",
       "<style scoped>\n",
       "    .dataframe tbody tr th:only-of-type {\n",
       "        vertical-align: middle;\n",
       "    }\n",
       "\n",
       "    .dataframe tbody tr th {\n",
       "        vertical-align: top;\n",
       "    }\n",
       "\n",
       "    .dataframe thead th {\n",
       "        text-align: right;\n",
       "    }\n",
       "</style>\n",
       "<table border=\"1\" class=\"dataframe\">\n",
       "  <thead>\n",
       "    <tr style=\"text-align: right;\">\n",
       "      <th></th>\n",
       "      <th>number_of_reviews</th>\n",
       "      <th>reviews_per_month</th>\n",
       "    </tr>\n",
       "  </thead>\n",
       "  <tbody>\n",
       "    <tr>\n",
       "      <th>0</th>\n",
       "      <td>250</td>\n",
       "      <td>2.0</td>\n",
       "    </tr>\n",
       "  </tbody>\n",
       "</table>\n",
       "</div>"
      ],
      "text/plain": [
       "   number_of_reviews  reviews_per_month\n",
       "0                250                2.0"
      ]
     },
     "execution_count": 117,
     "metadata": {},
     "output_type": "execute_result"
    }
   ],
   "source": [
    "xy.head(1)"
   ]
  },
  {
   "cell_type": "code",
   "execution_count": 121,
   "id": "7efa2da5",
   "metadata": {},
   "outputs": [
    {
     "data": {
      "text/plain": [
       "'Regression line: y =  0.02x +  0.18, r = 0.85'"
      ]
     },
     "execution_count": 121,
     "metadata": {},
     "output_type": "execute_result"
    }
   ],
   "source": [
    "slope, intercept, r, p, stderr = ss.linregress(xy)\n",
    "line = f'Regression line: y = {slope: .2f}x + {intercept: .2f}, r = {r:.2f}'\n",
    "line"
   ]
  },
  {
   "cell_type": "code",
   "execution_count": 122,
   "id": "841555ba",
   "metadata": {},
   "outputs": [
    {
     "data": {
      "image/png": "[encoded data removed]",
      "text/plain": [
       "<Figure size 432x288 with 1 Axes>"
      ]
     },
     "metadata": {},
     "output_type": "display_data"
    }
   ],
   "source": [
    "plt.style.use('ggplot')\n",
    "\n",
    "fig, ax = plt.subplots()\n",
    "ax.plot(xy['number_of_reviews'], xy['reviews_per_month'], linewidth = 0, marker = 'v', label = 'Data points' )\n",
    "ax.plot(x, intercept + slope*x, label = line)\n",
    "ax.set_xlabel('x')\n",
    "ax.set_ylabel('y')\n",
    "ax.legend(facecolor = 'white')\n",
    "plt.show()"
   ]
  },
  {
   "cell_type": "code",
   "execution_count": 130,
   "id": "0c10ee51",
   "metadata": {},
   "outputs": [
    {
     "data": {
      "text/html": [
       "<div>\n",
       "<style scoped>\n",
       "    .dataframe tbody tr th:only-of-type {\n",
       "        vertical-align: middle;\n",
       "    }\n",
       "\n",
       "    .dataframe tbody tr th {\n",
       "        vertical-align: top;\n",
       "    }\n",
       "\n",
       "    .dataframe thead th {\n",
       "        text-align: right;\n",
       "    }\n",
       "</style>\n",
       "<table border=\"1\" class=\"dataframe\">\n",
       "  <thead>\n",
       "    <tr style=\"text-align: right;\">\n",
       "      <th></th>\n",
       "      <th>price</th>\n",
       "      <th>number_of_reviews</th>\n",
       "      <th>reviews_per_month</th>\n",
       "    </tr>\n",
       "  </thead>\n",
       "  <tbody>\n",
       "    <tr>\n",
       "      <th>0</th>\n",
       "      <td>141</td>\n",
       "      <td>250</td>\n",
       "      <td>2.0</td>\n",
       "    </tr>\n",
       "  </tbody>\n",
       "</table>\n",
       "</div>"
      ],
      "text/plain": [
       "   price  number_of_reviews  reviews_per_month\n",
       "0    141                250                2.0"
      ]
     },
     "execution_count": 130,
     "metadata": {},
     "output_type": "execute_result"
    }
   ],
   "source": [
    "xyz = b_con.drop(columns = {'id', 'latitude', 'longitude', 'minimum_nights', 'calculated_host_listings_count', 'availability_365'})\n",
    "xyz.head(1)"
   ]
  },
  {
   "cell_type": "code",
   "execution_count": 135,
   "id": "e7115e92",
   "metadata": {},
   "outputs": [
    {
     "data": {
      "text/html": [
       "<div>\n",
       "<style scoped>\n",
       "    .dataframe tbody tr th:only-of-type {\n",
       "        vertical-align: middle;\n",
       "    }\n",
       "\n",
       "    .dataframe tbody tr th {\n",
       "        vertical-align: top;\n",
       "    }\n",
       "\n",
       "    .dataframe thead th {\n",
       "        text-align: right;\n",
       "    }\n",
       "</style>\n",
       "<table border=\"1\" class=\"dataframe\">\n",
       "  <thead>\n",
       "    <tr style=\"text-align: right;\">\n",
       "      <th></th>\n",
       "      <th>price</th>\n",
       "      <th>number_of_reviews</th>\n",
       "      <th>reviews_per_month</th>\n",
       "    </tr>\n",
       "  </thead>\n",
       "  <tbody>\n",
       "    <tr>\n",
       "      <th>price</th>\n",
       "      <td>1.00</td>\n",
       "      <td>-0.13</td>\n",
       "      <td>-0.16</td>\n",
       "    </tr>\n",
       "    <tr>\n",
       "      <th>number_of_reviews</th>\n",
       "      <td>-0.13</td>\n",
       "      <td>1.00</td>\n",
       "      <td>0.85</td>\n",
       "    </tr>\n",
       "    <tr>\n",
       "      <th>reviews_per_month</th>\n",
       "      <td>-0.16</td>\n",
       "      <td>0.85</td>\n",
       "      <td>1.00</td>\n",
       "    </tr>\n",
       "  </tbody>\n",
       "</table>\n",
       "</div>"
      ],
      "text/plain": [
       "                   price  number_of_reviews  reviews_per_month\n",
       "price               1.00              -0.13              -0.16\n",
       "number_of_reviews  -0.13               1.00               0.85\n",
       "reviews_per_month  -0.16               0.85               1.00"
      ]
     },
     "execution_count": 135,
     "metadata": {},
     "output_type": "execute_result"
    }
   ],
   "source": [
    "corr_matrix = xyz.corr().round(2)\n",
    "corr_matrix"
   ]
  },
  {
   "cell_type": "code",
   "execution_count": 145,
   "id": "1fad0fde",
   "metadata": {},
   "outputs": [
    {
     "data": {
      "image/png": "[encoded data removed]",
      "text/plain": [
       "<Figure size 432x288 with 2 Axes>"
      ]
     },
     "metadata": {},
     "output_type": "display_data"
    }
   ],
   "source": [
    "fig, ax = plt.subplots()\n",
    "im = ax.imshow(corr_matrix)\n",
    "im.set_clim(-1, 1)\n",
    "ax.grid(False)\n",
    "ax.xaxis.set(ticks = (0,1,2), ticklabels = ('x', 'y', 'z'))\n",
    "ax.yaxis.set(ticks = (0,1,2), ticklabels = ('x', 'y', 'z'))\n",
    "ax.set_ylim(2.5, -0.5)\n",
    "for i in range(3):\n",
    "    for j in range(3):\n",
    "        ax.text(j, i, corr_matrix.iloc[i,j], ha = 'center', va = 'center', color = 'r')\n",
    "cbar = ax.figure.colorbar(im, ax = ax, format = '% .2f')\n",
    "plt.show()"
   ]
  },
  {
   "cell_type": "code",
   "execution_count": null,
   "id": "803d0bd9",
   "metadata": {},
   "outputs": [],
   "source": []
  }
 ],
 "metadata": {
  "kernelspec": {
   "display_name": "Python 3 (ipykernel)",
   "language": "python",
   "name": "python3"
  },
  "language_info": {
   "codemirror_mode": {
    "name": "ipython",
    "version": 3
   },
   "file_extension": ".py",
   "mimetype": "text/x-python",
   "name": "python",
   "nbconvert_exporter": "python",
   "pygments_lexer": "ipython3",
   "version": "3.8.12"
  }
 },
 "nbformat": 4,
 "nbformat_minor": 5
}
