{
 "cells": [
  {
   "cell_type": "markdown",
   "id": "9312ff51",
   "metadata": {},
   "source": [
    "### 1, Look up SMOTE oversampling"
   ]
  },
  {
   "cell_type": "markdown",
   "id": "42e46b2f",
   "metadata": {},
   "source": [
    "#### a. Describe what it is in your own words in markdown"
   ]
  },
  {
   "cell_type": "markdown",
   "id": "cb5313d6",
   "metadata": {},
   "source": [
    "Synthetic Minority Oversampling Technique, or SMOTE is a technique that is useful when developing predictive models on classification datasets that have a pronounced class imbalance. This situation is problematic because most learning techniques ignore the minority class. In such a case the minority class could be oversampled or synthetically augmented.\n",
    "\n",
    "First, a random example from the minority class is chosen. Then k of the nearest neighbors for that example are found. A randomly selected neighbor is chosen and a synthetic example is created lying on the line connecting these two in feature space.\n",
    "\n",
    "Ususally it is employed together with undersampling of the majority class.\n",
    "\n"
   ]
  },
  {
   "cell_type": "markdown",
   "id": "bf4b7907",
   "metadata": {},
   "source": [
    "#### b. Use this technique with the diabetes dataset. Comment on the model performance compared to other methods. Make sure you are clear about why you chose the performance metric you did."
   ]
  },
  {
   "cell_type": "code",
   "execution_count": 1,
   "id": "e04d4ddd",
   "metadata": {},
   "outputs": [
    {
     "data": {
      "text/html": [
       "<div>\n",
       "<style scoped>\n",
       "    .dataframe tbody tr th:only-of-type {\n",
       "        vertical-align: middle;\n",
       "    }\n",
       "\n",
       "    .dataframe tbody tr th {\n",
       "        vertical-align: top;\n",
       "    }\n",
       "\n",
       "    .dataframe thead th {\n",
       "        text-align: right;\n",
       "    }\n",
       "</style>\n",
       "<table border=\"1\" class=\"dataframe\">\n",
       "  <thead>\n",
       "    <tr style=\"text-align: right;\">\n",
       "      <th></th>\n",
       "      <th>Pregnancies</th>\n",
       "      <th>Glucose</th>\n",
       "      <th>BloodPressure</th>\n",
       "      <th>SkinThickness</th>\n",
       "      <th>Insulin</th>\n",
       "      <th>BMI</th>\n",
       "      <th>DiabetesPedigreeFunction</th>\n",
       "      <th>Age</th>\n",
       "      <th>Outcome</th>\n",
       "    </tr>\n",
       "  </thead>\n",
       "  <tbody>\n",
       "    <tr>\n",
       "      <th>0</th>\n",
       "      <td>6</td>\n",
       "      <td>148</td>\n",
       "      <td>72</td>\n",
       "      <td>35</td>\n",
       "      <td>0</td>\n",
       "      <td>33.6</td>\n",
       "      <td>0.627</td>\n",
       "      <td>50</td>\n",
       "      <td>1</td>\n",
       "    </tr>\n",
       "    <tr>\n",
       "      <th>1</th>\n",
       "      <td>1</td>\n",
       "      <td>85</td>\n",
       "      <td>66</td>\n",
       "      <td>29</td>\n",
       "      <td>0</td>\n",
       "      <td>26.6</td>\n",
       "      <td>0.351</td>\n",
       "      <td>31</td>\n",
       "      <td>0</td>\n",
       "    </tr>\n",
       "  </tbody>\n",
       "</table>\n",
       "</div>"
      ],
      "text/plain": [
       "   Pregnancies  Glucose  BloodPressure  SkinThickness  Insulin   BMI  \\\n",
       "0            6      148             72             35        0  33.6   \n",
       "1            1       85             66             29        0  26.6   \n",
       "\n",
       "   DiabetesPedigreeFunction  Age  Outcome  \n",
       "0                     0.627   50        1  \n",
       "1                     0.351   31        0  "
      ]
     },
     "execution_count": 1,
     "metadata": {},
     "output_type": "execute_result"
    }
   ],
   "source": [
    "import imblearn\n",
    "import numpy as np\n",
    "import pandas as pd\n",
    "import seaborn as sns\n",
    "import matplotlib.pyplot as plt\n",
    "\n",
    "\n",
    "diabetes_path = 'C:/Users/balazs.varga/Documents/BALAZS/USE/REPOS/HW/WEEK13/diabetes.csv'\n",
    "diabetes = pd.read_csv(diabetes_path)\n",
    "\n",
    "diabetes.head(2)"
   ]
  },
  {
   "cell_type": "code",
   "execution_count": 2,
   "id": "4dd602a0",
   "metadata": {},
   "outputs": [],
   "source": [
    "y = diabetes['Outcome']\n",
    "X = diabetes.drop(columns = ['Outcome'])"
   ]
  },
  {
   "cell_type": "code",
   "execution_count": 3,
   "id": "a9ed9699",
   "metadata": {},
   "outputs": [],
   "source": [
    "from sklearn.linear_model import LogisticRegression\n",
    "from sklearn.model_selection import train_test_split\n",
    "from sklearn.preprocessing import StandardScaler\n",
    "\n",
    "X_train, X_test, y_train, y_test = train_test_split(X,y, test_size=0.3, random_state=42, stratify=y)\n",
    "\n",
    "#Standardize\n",
    "sc = StandardScaler()\n",
    "X_train_scaler = sc.fit_transform(X_train)\n",
    "X_test_scaler = sc.fit_transform(X_test)\n"
   ]
  },
  {
   "cell_type": "code",
   "execution_count": 6,
   "id": "41358376",
   "metadata": {},
   "outputs": [
    {
     "data": {
      "text/plain": [
       "0.7508641975308642"
      ]
     },
     "execution_count": 6,
     "metadata": {},
     "output_type": "execute_result"
    }
   ],
   "source": [
    "oversample = imblearn.over_sampling.SMOTE()\n",
    "X_resampled, y_resampled = oversample.fit_resample(X_train_scaler, y_train)\n",
    "\n",
    "#train using resampled data\n",
    "model = LogisticRegression(random_state=42)\n",
    "model.fit(X_resampled, y_resampled)\n",
    "\n",
    "#calculate accuracy\n",
    "from sklearn.metrics import balanced_accuracy_score\n",
    "y_pred = model.predict(X_test_scaler)\n",
    "balanced_accuracy_score(y_test, y_pred)"
   ]
  },
  {
   "cell_type": "code",
   "execution_count": 7,
   "id": "a9d2e639",
   "metadata": {},
   "outputs": [
    {
     "name": "stdout",
     "output_type": "stream",
     "text": [
      "                   pre       rec       spe        f1       geo       iba       sup\n",
      "\n",
      "          0       0.84      0.77      0.73      0.81      0.75      0.57       150\n",
      "          1       0.63      0.73      0.77      0.68      0.75      0.56        81\n",
      "\n",
      "avg / total       0.77      0.76      0.74      0.76      0.75      0.56       231\n",
      "\n"
     ]
    }
   ],
   "source": [
    "from imblearn.metrics import classification_report_imbalanced\n",
    "print(classification_report_imbalanced(y_test, y_pred))\n",
    "#a technique for improving recall is to resample because it gives us a \n",
    "#better understanding of the postives, thus improving our true positive rate"
   ]
  },
  {
   "cell_type": "code",
   "execution_count": 8,
   "id": "649f279d",
   "metadata": {},
   "outputs": [
    {
     "data": {
      "text/plain": [
       "0.6859259259259259"
      ]
     },
     "execution_count": 8,
     "metadata": {},
     "output_type": "execute_result"
    }
   ],
   "source": [
    "# the same without resampling:\n",
    "\n",
    "model = LogisticRegression(random_state=42)\n",
    "model.fit(X_train_scaler, y_train)\n",
    "\n",
    "#calculate accuracy\n",
    "from sklearn.metrics import balanced_accuracy_score\n",
    "y_pred = model.predict(X_test_scaler)\n",
    "balanced_accuracy_score(y_test, y_pred)"
   ]
  },
  {
   "cell_type": "code",
   "execution_count": 9,
   "id": "9582e949",
   "metadata": {},
   "outputs": [
    {
     "name": "stdout",
     "output_type": "stream",
     "text": [
      "                   pre       rec       spe        f1       geo       iba       sup\n",
      "\n",
      "          0       0.77      0.85      0.52      0.81      0.67      0.46       150\n",
      "          1       0.66      0.52      0.85      0.58      0.67      0.43        81\n",
      "\n",
      "avg / total       0.73      0.74      0.64      0.73      0.67      0.45       231\n",
      "\n"
     ]
    }
   ],
   "source": [
    "print(classification_report_imbalanced(y_test, y_pred))"
   ]
  },
  {
   "cell_type": "markdown",
   "id": "6558c120",
   "metadata": {},
   "source": [
    "The most important metric for us in this case is recall, because we are doing resampling in order to better understand the positive (undersampled) outcome (has diabetes). There is a significant improvement in recall of positives (from 0.52 to 0.73) after resampling, even though recall of negatives suffers as a result."
   ]
  },
  {
   "cell_type": "markdown",
   "id": "29df8ae8",
   "metadata": {},
   "source": [
    "### 2. Create a function called rec_digit_sum that takes in an integer. This function is the recursive sum of all the digits in a number. Given n, take the sum of all the digits in n. If the resulting value has more than one digit, continue calling the function in this way until a single-digit number is produced. The input will be a non-negative integer, and this should work for extremely large values as well as for single-digit inputs."
   ]
  },
  {
   "cell_type": "code",
   "execution_count": 10,
   "id": "71ac5840",
   "metadata": {},
   "outputs": [],
   "source": [
    "def rec_digit_sum(n):\n",
    "    try:\n",
    "        if not n%1 == 0:\n",
    "            raise ValueError('This function works only with integers')\n",
    "    except ValueError as ve:\n",
    "        print(ve)\n",
    "    else:\n",
    "        digit_sum = 0\n",
    "        for digit in str(n):\n",
    "            digit_sum += int(digit)        \n",
    "        return digit_sum if len(str(digit_sum)) == 1 else rec_digit_sum(digit_sum)"
   ]
  },
  {
   "cell_type": "code",
   "execution_count": 11,
   "id": "b685eb95",
   "metadata": {},
   "outputs": [
    {
     "data": {
      "text/plain": [
       "9"
      ]
     },
     "execution_count": 11,
     "metadata": {},
     "output_type": "execute_result"
    }
   ],
   "source": [
    "rec_digit_sum(1098765945)"
   ]
  },
  {
   "cell_type": "code",
   "execution_count": null,
   "id": "a9b1ce44",
   "metadata": {},
   "outputs": [],
   "source": []
  }
 ],
 "metadata": {
  "kernelspec": {
   "display_name": "Python 3 (ipykernel)",
   "language": "python",
   "name": "python3"
  },
  "language_info": {
   "codemirror_mode": {
    "name": "ipython",
    "version": 3
   },
   "file_extension": ".py",
   "mimetype": "text/x-python",
   "name": "python",
   "nbconvert_exporter": "python",
   "pygments_lexer": "ipython3",
   "version": "3.8.12"
  }
 },
 "nbformat": 4,
 "nbformat_minor": 5
}
