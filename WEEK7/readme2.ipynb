{
 "cells": [
  {
   "cell_type": "markdown",
   "id": "212fd53b",
   "metadata": {},
   "source": [
    "![Joining_data](https://github.com/VRBlaise/DSC/blob/main/HOMEWORK/WEEK7/Joining%20Data%20in%20SQL.png)"
   ]
  },
  {
   "cell_type": "markdown",
   "id": "1f8f1772",
   "metadata": {},
   "source": [
    "![Intermediate_SQL](https://github.com/VRBlaise/DSC/blob/main/HOMEWORK/WEEK7/Intermediate%20SQL.png)"
   ]
  },
  {
   "cell_type": "markdown",
   "id": "d39c4780",
   "metadata": {},
   "source": [
    "### Auto-incrementing"
   ]
  },
  {
   "cell_type": "markdown",
   "id": "39dc9901",
   "metadata": {},
   "source": [
    "#### In the case when a unique number (a unique identifier or key value for example) needs to be defined at the addition of new entries to a database, this can be done choosing autto-increment for the corresponding column values when defining the database. This will automatically create a new unique value (usually starting from 1) for every and each new entry."
   ]
  },
  {
   "cell_type": "markdown",
   "id": "eb51e8d1",
   "metadata": {},
   "source": [
    "### Subqueries vs Joins"
   ]
  },
  {
   "cell_type": "markdown",
   "id": "e73d1b14",
   "metadata": {},
   "source": [
    "#### Subqueries standalone pieces of code that function independently and usually return a scalar value, which then can be used in the main quiry. Joins do not stand alone and return rows that are combined based on the match condition specified"
   ]
  },
  {
   "cell_type": "code",
   "execution_count": null,
   "id": "69410881",
   "metadata": {},
   "outputs": [],
   "source": []
  }
 ],
 "metadata": {
  "kernelspec": {
   "display_name": "Python 3 (ipykernel)",
   "language": "python",
   "name": "python3"
  },
  "language_info": {
   "codemirror_mode": {
    "name": "ipython",
    "version": 3
   },
   "file_extension": ".py",
   "mimetype": "text/x-python",
   "name": "python",
   "nbconvert_exporter": "python",
   "pygments_lexer": "ipython3",
   "version": "3.8.12"
  }
 },
 "nbformat": 4,
 "nbformat_minor": 5
}
