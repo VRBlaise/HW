{
 "cells": [
  {
   "cell_type": "markdown",
   "id": "deef8721",
   "metadata": {},
   "source": [
    "#### 1, Stores ERD diagram:"
   ]
  },
  {
   "cell_type": "markdown",
   "id": "a267292a",
   "metadata": {},
   "source": [
    "![Stores_data_ERD](https://github.com/VRBlaise/DSC/blob/main/HOMEWORK/WEEK7/Stores_Data_structure.PNG)"
   ]
  },
  {
   "cell_type": "markdown",
   "id": "a1955bb9",
   "metadata": {},
   "source": [
    "#### 2, Ways data can be 'dirty':"
   ]
  },
  {
   "cell_type": "markdown",
   "id": "c84e46fb",
   "metadata": {},
   "source": [
    "##### a, missing values in columns or rows. Can drop rows or can approximate the missing value\n"
   ]
  },
  {
   "cell_type": "markdown",
   "id": "f69172f5",
   "metadata": {},
   "source": [
    "##### b, some values might be of wrong type e.g. string instead of integer. Data types for each column might need to be normalized"
   ]
  },
  {
   "cell_type": "markdown",
   "id": "3c2fb1b5",
   "metadata": {},
   "source": [
    "##### c, there might be unecessary spaces , comas etc that need to be removed"
   ]
  },
  {
   "cell_type": "markdown",
   "id": "9102673c",
   "metadata": {},
   "source": [
    "##### d, column names might be inappropriate. These can be renamed"
   ]
  },
  {
   "cell_type": "markdown",
   "id": "027793f9",
   "metadata": {},
   "source": [
    "##### e, there might be duplicates, that need to be dropped"
   ]
  },
  {
   "cell_type": "markdown",
   "id": "94297c5c",
   "metadata": {},
   "source": [
    "##### f, there might be outdated data"
   ]
  },
  {
   "cell_type": "markdown",
   "id": "cd495c54",
   "metadata": {},
   "source": [
    "#### 3, APIs:"
   ]
  },
  {
   "cell_type": "markdown",
   "id": "87c0dd52",
   "metadata": {},
   "source": [
    "##### IEX stock/financial API- https://iexcloud.io/docs/api/"
   ]
  },
  {
   "cell_type": "markdown",
   "id": "98ed6123",
   "metadata": {},
   "source": [
    "##### Crypto API- https://coinmarketcap.com/api/"
   ]
  },
  {
   "cell_type": "code",
   "execution_count": null,
   "id": "32ad3aef",
   "metadata": {},
   "outputs": [],
   "source": []
  }
 ],
 "metadata": {
  "kernelspec": {
   "display_name": "Python 3 (ipykernel)",
   "language": "python",
   "name": "python3"
  },
  "language_info": {
   "codemirror_mode": {
    "name": "ipython",
    "version": 3
   },
   "file_extension": ".py",
   "mimetype": "text/x-python",
   "name": "python",
   "nbconvert_exporter": "python",
   "pygments_lexer": "ipython3",
   "version": "3.8.11"
  }
 },
 "nbformat": 4,
 "nbformat_minor": 5
}
