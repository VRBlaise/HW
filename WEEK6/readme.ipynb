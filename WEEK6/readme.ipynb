{
 "cells": [
  {
   "cell_type": "markdown",
   "id": "7b72c521",
   "metadata": {},
   "source": [
    "### What is RDBMS and SQL?"
   ]
  },
  {
   "cell_type": "markdown",
   "id": "410c5abd",
   "metadata": {},
   "source": [
    "##### A relational database management system (RDBMS) is a type of database that stores data in tables, which makes it easier to be used in relation to other datasets(also stored in tables). The multitude of tables in which the data is stored are called ‘relations’. The tables are divided into rows (records) and columns (fields).Columns are made up of one specific data type, but any data type can be used.\n"
   ]
  },
  {
   "cell_type": "markdown",
   "id": "949244c5",
   "metadata": {},
   "source": [
    "##### SQL stands for Structured Query Language and is used to communicate with databases and is the standard language for relational database management systems."
   ]
  },
  {
   "cell_type": "markdown",
   "id": "c27e4217",
   "metadata": {},
   "source": [
    "![Intro_SQL_Certificate](https://github.com/VRBlaise/DSC/blob/main/HOMEWORK/WEEK6/IntroSQL_Certificate.png)"
   ]
  },
  {
   "cell_type": "code",
   "execution_count": null,
   "id": "1c8d1fd7",
   "metadata": {},
   "outputs": [],
   "source": []
  }
 ],
 "metadata": {
  "kernelspec": {
   "display_name": "Python 3 (ipykernel)",
   "language": "python",
   "name": "python3"
  },
  "language_info": {
   "codemirror_mode": {
    "name": "ipython",
    "version": 3
   },
   "file_extension": ".py",
   "mimetype": "text/x-python",
   "name": "python",
   "nbconvert_exporter": "python",
   "pygments_lexer": "ipython3",
   "version": "3.8.12"
  }
 },
 "nbformat": 4,
 "nbformat_minor": 5
}
