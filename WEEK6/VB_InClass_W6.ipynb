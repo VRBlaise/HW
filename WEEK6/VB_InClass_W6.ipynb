{
 "cells": [
  {
   "cell_type": "markdown",
   "id": "1ae2a856",
   "metadata": {},
   "source": [
    "## 1, Import jeopardy"
   ]
  },
  {
   "cell_type": "code",
   "execution_count": 5,
   "id": "493cb0b6",
   "metadata": {},
   "outputs": [
    {
     "data": {
      "text/html": [
       "<div>\n",
       "<style scoped>\n",
       "    .dataframe tbody tr th:only-of-type {\n",
       "        vertical-align: middle;\n",
       "    }\n",
       "\n",
       "    .dataframe tbody tr th {\n",
       "        vertical-align: top;\n",
       "    }\n",
       "\n",
       "    .dataframe thead th {\n",
       "        text-align: right;\n",
       "    }\n",
       "</style>\n",
       "<table border=\"1\" class=\"dataframe\">\n",
       "  <thead>\n",
       "    <tr style=\"text-align: right;\">\n",
       "      <th></th>\n",
       "      <th>Show Number</th>\n",
       "      <th>Air Date</th>\n",
       "      <th>Round</th>\n",
       "      <th>Category</th>\n",
       "      <th>Value</th>\n",
       "      <th>Question</th>\n",
       "      <th>Answer</th>\n",
       "    </tr>\n",
       "  </thead>\n",
       "  <tbody>\n",
       "    <tr>\n",
       "      <th>0</th>\n",
       "      <td>4680</td>\n",
       "      <td>12/31/2004</td>\n",
       "      <td>Jeopardy!</td>\n",
       "      <td>HISTORY</td>\n",
       "      <td>$200</td>\n",
       "      <td>For the last 8 years of his life, Galileo was ...</td>\n",
       "      <td>Copernicus</td>\n",
       "    </tr>\n",
       "    <tr>\n",
       "      <th>1</th>\n",
       "      <td>4680</td>\n",
       "      <td>12/31/2004</td>\n",
       "      <td>Jeopardy!</td>\n",
       "      <td>ESPN's TOP 10 ALL-TIME ATHLETES</td>\n",
       "      <td>$200</td>\n",
       "      <td>No. 2: 1912 Olympian; football star at Carlisl...</td>\n",
       "      <td>Jim Thorpe</td>\n",
       "    </tr>\n",
       "  </tbody>\n",
       "</table>\n",
       "</div>"
      ],
      "text/plain": [
       "   Show Number    Air Date      Round                         Category  Value  \\\n",
       "0         4680  12/31/2004  Jeopardy!                          HISTORY  $200    \n",
       "1         4680  12/31/2004  Jeopardy!  ESPN's TOP 10 ALL-TIME ATHLETES  $200    \n",
       "\n",
       "                                            Question      Answer  \n",
       "0  For the last 8 years of his life, Galileo was ...  Copernicus  \n",
       "1  No. 2: 1912 Olympian; football star at Carlisl...  Jim Thorpe  "
      ]
     },
     "execution_count": 5,
     "metadata": {},
     "output_type": "execute_result"
    }
   ],
   "source": [
    "import pandas as pd\n",
    "\n",
    "jeopard = 'C:/Users/balazs.varga/Documents/BALAZS/USE/REPOS/DSC/HOMEWORK/WEEK6/JEOPARDY_CSV.CSV'\n",
    "\n",
    "df = pd.read_csv(jeopard)\n",
    "df.head(2)"
   ]
  },
  {
   "cell_type": "markdown",
   "id": "eb5a91fb",
   "metadata": {},
   "source": [
    "#### a, Number of rows"
   ]
  },
  {
   "cell_type": "code",
   "execution_count": 128,
   "id": "f6e38361",
   "metadata": {},
   "outputs": [
    {
     "name": "stdout",
     "output_type": "stream",
     "text": [
      "Number of rows: 216930\n",
      "Number of unique questions: 216123\n",
      "Number of unique shows: 3640\n",
      "Number of air dates: 3640\n"
     ]
    }
   ],
   "source": [
    "print('Number of rows: ' + str(len(df.index)))\n",
    "print('Number of unique questions: ' + str(df[' Question'].nunique()))\n",
    "print('Number of unique shows: ' + str(df['Show Number'].nunique()))\n",
    "print('Number of air dates: ' + str(df[' Air Date'].nunique()))"
   ]
  },
  {
   "cell_type": "markdown",
   "id": "9e8f7105",
   "metadata": {},
   "source": [
    "#### Looks like every row represents a question that appeared in the show. Every \"true\" question is unique, but \"cues\" are also listed and not unique. For certain applications we might wish to remove rows containing cues, but as far as I can tell it is not necessary to answer these questions. Will drop duplicate rows, though, if there are any. If I understand 'grain' properly, here it would be daily as there are some months where shows were on a daily basis."
   ]
  },
  {
   "cell_type": "markdown",
   "id": "c66c46b5",
   "metadata": {},
   "source": [
    "#### b, as a bare minimum it should not contain duplicate rows. there are no duplicate rows here. For point d, the presence of \"cues\" is a problem as the frequency relates to true questions only, will drop them there. For the rest it does not make a difference"
   ]
  },
  {
   "cell_type": "markdown",
   "id": "63ea2b9b",
   "metadata": {},
   "source": [
    "#### c, number of unique shows per year, first need to convert date to proper fromat"
   ]
  },
  {
   "cell_type": "code",
   "execution_count": 121,
   "id": "a83df308",
   "metadata": {},
   "outputs": [
    {
     "name": "stdout",
     "output_type": "stream",
     "text": [
      "            Show Number\n",
      " Air Date              \n",
      "1984-12-31           23\n",
      "1985-12-31           16\n",
      "1986-12-31           25\n",
      "1987-12-31           22\n",
      "1988-12-31           22\n",
      "1989-12-31           36\n",
      "1990-12-31           73\n",
      "1991-12-31           24\n",
      "1992-12-31           32\n",
      "1993-12-31           35\n",
      "1994-12-31           19\n",
      "1995-12-31           19\n",
      "1996-12-31           83\n",
      "1997-12-31          221\n",
      "1998-12-31          223\n",
      "1999-12-31          229\n",
      "2000-12-31          225\n",
      "2001-12-31          203\n",
      "2002-12-31          114\n",
      "2003-12-31          158\n",
      "2004-12-31          220\n",
      "2005-12-31          225\n",
      "2006-12-31          230\n",
      "2007-12-31          231\n",
      "2008-12-31          232\n",
      "2009-12-31          226\n",
      "2010-12-31          231\n",
      "2011-12-31          224\n",
      "2012-12-31           19\n",
      "Index(['Show Number'], dtype='object')\n"
     ]
    }
   ],
   "source": [
    "df[' Air Date'] = pd.to_datetime(df[' Air Date'])\n",
    "\n",
    "grouped_year = df.groupby(pd.Grouper(key = ' Air Date', freq = 'Y')).nunique().drop(columns = [' Round', ' Category', ' Value', ' Question', ' Answer',\n",
    "       'Month'])\n",
    "print(grouped_year)\n",
    "print(grouped_year.columns)"
   ]
  },
  {
   "cell_type": "markdown",
   "id": "87c9ed45",
   "metadata": {},
   "source": [
    "#### d, frequency of categories used"
   ]
  },
  {
   "cell_type": "code",
   "execution_count": 146,
   "id": "5ef38824",
   "metadata": {},
   "outputs": [
    {
     "data": {
      "text/html": [
       "<div>\n",
       "<style scoped>\n",
       "    .dataframe tbody tr th:only-of-type {\n",
       "        vertical-align: middle;\n",
       "    }\n",
       "\n",
       "    .dataframe tbody tr th {\n",
       "        vertical-align: top;\n",
       "    }\n",
       "\n",
       "    .dataframe thead th {\n",
       "        text-align: right;\n",
       "    }\n",
       "</style>\n",
       "<table border=\"1\" class=\"dataframe\">\n",
       "  <thead>\n",
       "    <tr style=\"text-align: right;\">\n",
       "      <th></th>\n",
       "      <th>Number of Occurencies</th>\n",
       "    </tr>\n",
       "    <tr>\n",
       "      <th>Category</th>\n",
       "      <th></th>\n",
       "    </tr>\n",
       "  </thead>\n",
       "  <tbody>\n",
       "    <tr>\n",
       "      <th>BEFORE &amp; AFTER</th>\n",
       "      <td>547</td>\n",
       "    </tr>\n",
       "    <tr>\n",
       "      <th>SCIENCE</th>\n",
       "      <td>519</td>\n",
       "    </tr>\n",
       "    <tr>\n",
       "      <th>LITERATURE</th>\n",
       "      <td>496</td>\n",
       "    </tr>\n",
       "    <tr>\n",
       "      <th>AMERICAN HISTORY</th>\n",
       "      <td>418</td>\n",
       "    </tr>\n",
       "    <tr>\n",
       "      <th>POTPOURRI</th>\n",
       "      <td>401</td>\n",
       "    </tr>\n",
       "    <tr>\n",
       "      <th>...</th>\n",
       "      <td>...</td>\n",
       "    </tr>\n",
       "    <tr>\n",
       "      <th>POTPOURRI...NO FOOLIN'</th>\n",
       "      <td>1</td>\n",
       "    </tr>\n",
       "    <tr>\n",
       "      <th>BRITISH PAINTERS</th>\n",
       "      <td>1</td>\n",
       "    </tr>\n",
       "    <tr>\n",
       "      <th>MIDWAY ISLAND</th>\n",
       "      <td>1</td>\n",
       "    </tr>\n",
       "    <tr>\n",
       "      <th>THE OXFORD ENGLISH DICTIONARY</th>\n",
       "      <td>1</td>\n",
       "    </tr>\n",
       "    <tr>\n",
       "      <th>EXPLORING</th>\n",
       "      <td>1</td>\n",
       "    </tr>\n",
       "  </tbody>\n",
       "</table>\n",
       "<p>27983 rows × 1 columns</p>\n",
       "</div>"
      ],
      "text/plain": [
       "                               Number of Occurencies\n",
       "Category                                            \n",
       "BEFORE & AFTER                                   547\n",
       "SCIENCE                                          519\n",
       "LITERATURE                                       496\n",
       "AMERICAN HISTORY                                 418\n",
       "POTPOURRI                                        401\n",
       "...                                              ...\n",
       "POTPOURRI...NO FOOLIN'                             1\n",
       "BRITISH PAINTERS                                   1\n",
       "MIDWAY ISLAND                                      1\n",
       "THE OXFORD ENGLISH DICTIONARY                      1\n",
       "EXPLORING                                          1\n",
       "\n",
       "[27983 rows x 1 columns]"
      ]
     },
     "execution_count": 146,
     "metadata": {},
     "output_type": "execute_result"
    }
   ],
   "source": [
    "df.drop_duplicates(subset = ' Question')\n",
    "cat_freq = df[' Category'].value_counts().to_frame().rename({' Category':'Number of Occurencies'}, axis = 1)\n",
    "cat_freq.index.name = 'Category'\n",
    "cat_freq"
   ]
  },
  {
   "cell_type": "markdown",
   "id": "1dde73ff",
   "metadata": {},
   "source": [
    "#### e, month with most number of shows. There are two answers to this: discrete (which gives multiple candidates) and cumulative (using month as category, disregarding the year):"
   ]
  },
  {
   "cell_type": "code",
   "execution_count": 142,
   "id": "28a17ac1",
   "metadata": {},
   "outputs": [
    {
     "name": "stdout",
     "output_type": "stream",
     "text": [
      "            Show Number   Round   Category   Value   Question   Answer  Month\n",
      " Air Date                                                                    \n",
      "1997-10-31           23       3        286      17       1292     1261      1\n",
      "1997-12-31           23       3        281      20       1361     1336      1\n",
      "1998-12-31           23       3        290      20       1332     1293      1\n",
      "1999-03-31           23       3        292      19       1360     1307      1\n",
      "1999-12-31           23       3        293      20       1366     1318      1\n",
      "2001-01-31           23       3        295      17       1378     1332      1\n",
      "2001-10-31           23       3        295      25       1369     1323      1\n",
      "2002-10-31           23       3        295      25       1398     1343      1\n",
      "2003-01-31           23       3        295      27       1350     1313      1\n",
      "2004-03-31           23       3        295      21       1382     1340      1\n",
      "2004-12-31           23       3        297      32       1377     1344      1\n",
      "2005-03-31           23       3        299      28       1403     1369      1\n",
      "2006-03-31           23       3        292      25       1377     1349      1\n",
      "2006-05-31           23       3        297      23       1395     1351      1\n",
      "2007-01-31           23       3        298      26       1379     1344      1\n",
      "2007-05-31           23       3        295      22       1397     1350      1\n",
      "2007-10-31           23       3        294      26       1370     1308      1\n",
      "2008-01-31           23       3        297      23       1390     1347      1\n",
      "2008-10-31           23       3        296      24       1401     1368      1\n",
      "2008-12-31           23       3        296      26       1394     1348      1\n",
      "2009-12-31           23       3        297      28       1369     1343      1\n",
      "2010-03-31           23       3        298      20       1373     1349      1\n",
      "2010-12-31           23       3        296      28       1373     1340      1\n",
      "2011-03-31           23       3        299      23       1373     1351      1\n"
     ]
    }
   ],
   "source": [
    "grouped_unique_month = df.groupby(pd.Grouper(key = ' Air Date', freq = 'M')).nunique()\n",
    "\n",
    "print(grouped_unique_month[grouped_unique_month['Show Number'] == grouped_unique_month['Show Number'].max()])"
   ]
  },
  {
   "cell_type": "code",
   "execution_count": 143,
   "id": "52153f64",
   "metadata": {},
   "outputs": [
    {
     "name": "stdout",
     "output_type": "stream",
     "text": [
      "       Show Number   Round   Category   Value   Question   Answer\n",
      "Month                                                            \n",
      "11             434      85       5470     591      25672    25108\n"
     ]
    }
   ],
   "source": [
    "grouped_unique_month['Month'] = pd.DatetimeIndex(grouped_unique_month.index).month\n",
    "grouped_month = grouped_unique_month.groupby('Month')\n",
    "\n",
    "find_frequencies = grouped_month.sum()\n",
    "print(find_frequencies[find_frequencies['Show Number'] == find_frequencies['Show Number'].max()])\n"
   ]
  },
  {
   "cell_type": "markdown",
   "id": "e481569c",
   "metadata": {},
   "source": [
    "### f, most frequent answers and corresponding questions"
   ]
  },
  {
   "cell_type": "code",
   "execution_count": 144,
   "id": "b76527e2",
   "metadata": {},
   "outputs": [
    {
     "name": "stdout",
     "output_type": "stream",
     "text": [
      "Number of rows: 216930\n",
      "The most frequent answers are: ['China' 'Australia' 'Japan']\n",
      "\n",
      "           Number of occurencies\n",
      "China                        216\n",
      "Australia                    215\n",
      "Japan                        196\n"
     ]
    }
   ],
   "source": [
    "print('Number of rows: ' + str(len(df.index)))\n",
    "\n",
    "answer_occurencies = df[' Answer'].value_counts().head(3).to_frame().rename({' Answer' : 'Number of occurencies'}, axis=1)\n",
    "answers = (df[' Answer'].value_counts().head(3).index.values)\n",
    "\n",
    "print('The most frequent answers are: ' + str(answers) + '\\n')\n",
    "print(answer_occurencies)"
   ]
  },
  {
   "cell_type": "code",
   "execution_count": 145,
   "id": "4a253627",
   "metadata": {},
   "outputs": [
    {
     "name": "stdout",
     "output_type": "stream",
     "text": [
      "404       In February 1904 this country attacked the Rus...\n",
      "560       A 1994 festival honoring this country featured...\n",
      "598       In 1958 this country launched its second 5-yea...\n",
      "688       Large aboriginal populations live in this coun...\n",
      "874       Sanma aisu is fish-flavored ice cream & taco a...\n",
      "                                ...                        \n",
      "215568                                                Kirin\n",
      "215912    Because of a policy adopted in 1979, this coun...\n",
      "216044    Norfolk Island & the Republic of Kiribati use ...\n",
      "216150    Colorful patches called p'u-fang used to indic...\n",
      "216660            In Asia: Prime Minister Junichiro Koizumi\n",
      "Name:  Question, Length: 627, dtype: object\n"
     ]
    }
   ],
   "source": [
    "filtered_df = df[df[' Answer'].isin(answers)]\n",
    "corresponding_questions = df[df[' Answer'].isin(answers)][' Question']\n",
    "print(corresponding_questions)"
   ]
  },
  {
   "cell_type": "markdown",
   "id": "3c270c67",
   "metadata": {},
   "source": [
    "## 2, Most frequent categories"
   ]
  },
  {
   "cell_type": "code",
   "execution_count": 151,
   "id": "a89e897d",
   "metadata": {},
   "outputs": [
    {
     "data": {
      "text/html": [
       "<div>\n",
       "<style scoped>\n",
       "    .dataframe tbody tr th:only-of-type {\n",
       "        vertical-align: middle;\n",
       "    }\n",
       "\n",
       "    .dataframe tbody tr th {\n",
       "        vertical-align: top;\n",
       "    }\n",
       "\n",
       "    .dataframe thead th {\n",
       "        text-align: right;\n",
       "    }\n",
       "</style>\n",
       "<table border=\"1\" class=\"dataframe\">\n",
       "  <thead>\n",
       "    <tr style=\"text-align: right;\">\n",
       "      <th></th>\n",
       "      <th>Number of Occurencies</th>\n",
       "    </tr>\n",
       "    <tr>\n",
       "      <th>Category</th>\n",
       "      <th></th>\n",
       "    </tr>\n",
       "  </thead>\n",
       "  <tbody>\n",
       "    <tr>\n",
       "      <th>BEFORE &amp; AFTER</th>\n",
       "      <td>547</td>\n",
       "    </tr>\n",
       "    <tr>\n",
       "      <th>SCIENCE</th>\n",
       "      <td>519</td>\n",
       "    </tr>\n",
       "    <tr>\n",
       "      <th>LITERATURE</th>\n",
       "      <td>496</td>\n",
       "    </tr>\n",
       "    <tr>\n",
       "      <th>AMERICAN HISTORY</th>\n",
       "      <td>418</td>\n",
       "    </tr>\n",
       "    <tr>\n",
       "      <th>POTPOURRI</th>\n",
       "      <td>401</td>\n",
       "    </tr>\n",
       "  </tbody>\n",
       "</table>\n",
       "</div>"
      ],
      "text/plain": [
       "                  Number of Occurencies\n",
       "Category                               \n",
       "BEFORE & AFTER                      547\n",
       "SCIENCE                             519\n",
       "LITERATURE                          496\n",
       "AMERICAN HISTORY                    418\n",
       "POTPOURRI                           401"
      ]
     },
     "execution_count": 151,
     "metadata": {},
     "output_type": "execute_result"
    }
   ],
   "source": [
    "import seaborn as sns\n",
    "import matplotlib.pyplot as plt\n",
    "\n",
    "most_frequent = cat_freq.head(5)\n",
    "most_frequent"
   ]
  },
  {
   "cell_type": "code",
   "execution_count": 155,
   "id": "d48c1544",
   "metadata": {},
   "outputs": [
    {
     "data": {
      "image/png": "[encoded data removed]",
      "text/plain": [
       "<Figure size 432x288 with 1 Axes>"
      ]
     },
     "metadata": {
      "needs_background": "light"
     },
     "output_type": "display_data"
    }
   ],
   "source": [
    "g = sns.barplot(data = most_frequent, x = most_frequent.index, y = most_frequent['Number of Occurencies'])\n",
    "plt.xticks(rotation = 90)\n",
    "\n",
    "plt.show()\n"
   ]
  },
  {
   "cell_type": "code",
   "execution_count": null,
   "id": "0a308a4f",
   "metadata": {},
   "outputs": [],
   "source": []
  }
 ],
 "metadata": {
  "kernelspec": {
   "display_name": "Python 3 (ipykernel)",
   "language": "python",
   "name": "python3"
  },
  "language_info": {
   "codemirror_mode": {
    "name": "ipython",
    "version": 3
   },
   "file_extension": ".py",
   "mimetype": "text/x-python",
   "name": "python",
   "nbconvert_exporter": "python",
   "pygments_lexer": "ipython3",
   "version": "3.8.11"
  }
 },
 "nbformat": 4,
 "nbformat_minor": 5
}
