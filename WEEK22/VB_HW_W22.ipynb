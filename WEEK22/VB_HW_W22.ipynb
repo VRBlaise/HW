{
 "cells": [
  {
   "cell_type": "markdown",
   "id": "0e5f92ca",
   "metadata": {},
   "source": [
    "### 1.\tCreate a python function to scrape Yelp data for 50 restaurants close to you OR Craigslist for the top 50 items of any topic interesting to you. Think about what data you want to scrape aside from the name and location. You must pick at least three other fields. You can use beautiful soup, selenium, scrapy, and/or splinter as possible."
   ]
  },
  {
   "cell_type": "code",
   "execution_count": 11,
   "id": "d1cb003b",
   "metadata": {},
   "outputs": [],
   "source": [
    "from bs4 import BeautifulSoup as bs\n",
    "import pandas as pd\n",
    "import requests\n",
    "import time\n",
    "import csv\n",
    "import re"
   ]
  },
  {
   "cell_type": "markdown",
   "id": "bd364357",
   "metadata": {},
   "source": [
    "Idea: Scrape through craigslist and find all categories in the job-listings and extract the url for them. Original idea wa sto look inly at the science category, but that had only 3 listings, so that is not viable."
   ]
  },
  {
   "cell_type": "code",
   "execution_count": 25,
   "id": "48f24364",
   "metadata": {},
   "outputs": [],
   "source": [
    "url = 'https://stlouis.craigslist.org'\n",
    "page=requests.get(url)\n",
    "soup = bs(page.text,'html.parser')\n",
    "\n",
    "count = 0\n",
    "urls = []\n",
    "for i in soup.find_all('div', class_ = 'jobs'):\n",
    "    while count < 50:\n",
    "        count +=1\n",
    "        for a in i.find_all('a', href = True):\n",
    "                new_url = url + str(a['href'])\n",
    "                if new_url not in urls:\n",
    "                    urls.append(new_url)"
   ]
  },
  {
   "cell_type": "code",
   "execution_count": 26,
   "id": "9a50ebdd",
   "metadata": {},
   "outputs": [
    {
     "name": "stdout",
     "output_type": "stream",
     "text": [
      "42\n",
      "['https://stlouis.craigslist.org/search/jjj', 'https://stlouis.craigslist.org/search/acc', 'https://stlouis.craigslist.org/search/ofc', 'https://stlouis.craigslist.org/search/egr', 'https://stlouis.craigslist.org/search/med', 'https://stlouis.craigslist.org/search/sci', 'https://stlouis.craigslist.org/search/bus', 'https://stlouis.craigslist.org/search/csr', 'https://stlouis.craigslist.org/search/edu', 'https://stlouis.craigslist.org/search/etc', 'https://stlouis.craigslist.org/search/fbh', 'https://stlouis.craigslist.org/search/lab', 'https://stlouis.craigslist.org/search/gov', 'https://stlouis.craigslist.org/search/hum', 'https://stlouis.craigslist.org/search/lgl', 'https://stlouis.craigslist.org/search/mnu', 'https://stlouis.craigslist.org/search/mar', 'https://stlouis.craigslist.org/search/hea', 'https://stlouis.craigslist.org/search/npo', 'https://stlouis.craigslist.org/search/rej', 'https://stlouis.craigslist.org/search/ret', 'https://stlouis.craigslist.org/search/sls', 'https://stlouis.craigslist.org/search/spa', 'https://stlouis.craigslist.org/search/sec', 'https://stlouis.craigslist.org/search/trd', 'https://stlouis.craigslist.org/search/sof', 'https://stlouis.craigslist.org/search/sad', 'https://stlouis.craigslist.org/search/tch', 'https://stlouis.craigslist.org/search/trp', 'https://stlouis.craigslist.org/search/tfr', 'https://stlouis.craigslist.org/search/web', 'https://stlouis.craigslist.org/search/wri', 'https://stlouis.craigslist.org/search/ggg', 'https://stlouis.craigslist.org/search/cpg', 'https://stlouis.craigslist.org/search/crg', 'https://stlouis.craigslist.org/search/cwg', 'https://stlouis.craigslist.org/search/dmg', 'https://stlouis.craigslist.org/search/evg', 'https://stlouis.craigslist.org/search/lbg', 'https://stlouis.craigslist.org/search/tlg', 'https://stlouis.craigslist.org/search/wrg', 'https://stlouis.craigslist.org/search/rrr']\n"
     ]
    }
   ],
   "source": [
    "print(len(urls))\n",
    "print(urls)"
   ]
  },
  {
   "cell_type": "code",
   "execution_count": 32,
   "id": "46f86038",
   "metadata": {},
   "outputs": [
    {
     "name": "stdout",
     "output_type": "stream",
     "text": [
      "<a class=\"result-title hdrlnk\" data-id=\"7456594060\" href=\"https://stlouis.craigslist.org/lab/d/collinsville-experienced-fiber-optic/7456594060.html\" id=\"postid_7456594060\">Experienced! Fiber Optic Splicer Needed</a>\n",
      "<a class=\"result-title hdrlnk\" data-id=\"7456483191\" href=\"https://stlouis.craigslist.org/acc/d/saint-louis-staff-accountant/7456483191.html\" id=\"postid_7456483191\">Staff Accountant</a>\n",
      "<a class=\"result-title hdrlnk\" data-id=\"7456483173\" href=\"https://stlouis.craigslist.org/ofc/d/saint-louis-lease-administrator/7456483173.html\" id=\"postid_7456483173\">Lease Administrator</a>\n",
      "<a class=\"result-title hdrlnk\" data-id=\"7456564595\" href=\"https://stlouis.craigslist.org/egr/d/saint-louis-dental-front-office-south/7456564595.html\" id=\"postid_7456564595\">Dental Front Office South County</a>\n",
      "<a class=\"result-title hdrlnk\" data-id=\"7456026667\" href=\"https://stlouis.craigslist.org/med/d/saint-louis-full-time-experienced/7456026667.html\" id=\"postid_7456026667\">FULL TIME EXPERIENCED SEAMSTRESS</a>\n",
      "<a class=\"result-title hdrlnk\" data-id=\"7455707559\" href=\"https://stlouis.craigslist.org/sci/d/saint-louis-junior-chemist/7455707559.html\" id=\"postid_7455707559\">Junior Chemist</a>\n",
      "<a class=\"result-title hdrlnk\" data-id=\"7456210043\" href=\"https://stlouis.craigslist.org/bus/d/saint-louis-construction-project-manager/7456210043.html\" id=\"postid_7456210043\">Construction Project Manager</a>\n",
      "<a class=\"result-title hdrlnk\" data-id=\"7456548050\" href=\"https://stlouis.craigslist.org/csr/d/saint-charles-customer-service/7456548050.html\" id=\"postid_7456548050\">Customer Service Representative</a>\n",
      "<a class=\"result-title hdrlnk\" data-id=\"7456586505\" href=\"https://stlouis.craigslist.org/edu/d/saint-louis-toddler-twos-teacher/7456586505.html\" id=\"postid_7456586505\">Toddler / Two's Teacher</a>\n",
      "<a class=\"result-title hdrlnk\" data-id=\"7456561688\" href=\"https://stlouis.craigslist.org/etc/d/saint-peters-doordash-drivers-get-paid/7456561688.html\" id=\"postid_7456561688\">DoorDash Drivers Get Paid Around $22/hr in St. Louis</a>\n",
      "<a class=\"result-title hdrlnk\" data-id=\"7456528005\" href=\"https://stlouis.craigslist.org/fbh/d/saint-peters-doordash-drivers-get-paid/7456528005.html\" id=\"postid_7456528005\">DoorDash Drivers Get Paid Around $22/hr in St. Louis</a>\n",
      "<a class=\"result-title hdrlnk\" data-id=\"7456588005\" href=\"https://stlouis.craigslist.org/lab/d/saint-peters-doordash-drivers-get-paid/7456588005.html\" id=\"postid_7456588005\">DoorDash Drivers Get Paid Around $22/hr in St. Louis</a>\n",
      "<a class=\"result-title hdrlnk\" data-id=\"7449789085\" href=\"https://stlouis.craigslist.org/gov/d/saint-louis-up-to-week-interview-today/7449789085.html\" id=\"postid_7449789085\">Up to $750-1420/Week! INTERVIEW TODAY! WORK TOMORROW! </a>\n",
      "<a class=\"result-title hdrlnk\" data-id=\"7454947231\" href=\"https://stlouis.craigslist.org/hum/d/saint-peters-hr-assistant/7454947231.html\" id=\"postid_7454947231\">HR Assistant</a>\n",
      "<a class=\"result-title hdrlnk\" data-id=\"7456572577\" href=\"https://stlouis.craigslist.org/lgl/d/fallon-attorney/7456572577.html\" id=\"postid_7456572577\">ATTORNEY</a>\n",
      "<a class=\"result-title hdrlnk\" data-id=\"7456573057\" href=\"https://stlouis.craigslist.org/mnu/d/chesterfield-earn-1777-hr-join-westrock/7456573057.html\" id=\"postid_7456573057\">Earn $17.77/hr! Join WestRock as a Assistant Machine Operator</a>\n",
      "<a class=\"result-title hdrlnk\" data-id=\"7456346910\" href=\"https://stlouis.craigslist.org/mar/d/saint-louis-important-campaign-jobs-hr/7456346910.html\" id=\"postid_7456346910\">Important Campaign Jobs! $24-$26/hr! CALL NOW! </a>\n",
      "<a class=\"result-title hdrlnk\" data-id=\"7456567098\" href=\"https://stlouis.craigslist.org/hea/d/saint-louis-dental-hygienist-south/7456567098.html\" id=\"postid_7456567098\">Dental Hygienist South County</a>\n",
      "<a class=\"result-title hdrlnk\" data-id=\"7456346911\" href=\"https://stlouis.craigslist.org/npo/d/saint-louis-important-campaign-jobs-hr/7456346911.html\" id=\"postid_7456346911\">Important Campaign Jobs! $24-$26/hr! CALL NOW! </a>\n",
      "<a class=\"result-title hdrlnk\" data-id=\"7455944024\" href=\"https://stlouis.craigslist.org/rej/d/saint-louis-maintenance-supervisor/7455944024.html\" id=\"postid_7455944024\">Maintenance Supervisor- Element Concord</a>\n",
      "<a class=\"result-title hdrlnk\" data-id=\"7456533977\" href=\"https://stlouis.craigslist.org/ret/d/saint-louis-thrift-store-all-positions/7456533977.html\" id=\"postid_7456533977\">Thrift store ALL POSITIONS cashier, processing, fulltime, part time</a>\n",
      "<a class=\"result-title hdrlnk\" data-id=\"7456583358\" href=\"https://stlouis.craigslist.org/sls/d/saint-louis-sell-fiber-internet-today/7456583358.html\" id=\"postid_7456583358\">SELL FIBER INTERNET TODAY!</a>\n",
      "<a class=\"result-title hdrlnk\" data-id=\"7456490020\" href=\"https://stlouis.craigslist.org/spa/d/fallon-hiring-managers-and-stylists-per/7456490020.html\" id=\"postid_7456490020\">HIRING! MANAGERS AND STYLISTS $25-$35 PER HOUR</a>\n",
      "<a class=\"result-title hdrlnk\" data-id=\"7453459616\" href=\"https://stlouis.craigslist.org/sec/d/belleville-security-officer-armed-and/7453459616.html\" id=\"postid_7453459616\">Security Officer - Armed and unarmed</a>\n",
      "<a class=\"result-title hdrlnk\" data-id=\"7456529716\" href=\"https://stlouis.craigslist.org/trd/d/saint-louis-appliance-tech-wanted-paid/7456529716.html\" id=\"postid_7456529716\">Appliance Tech Wanted | Paid Daily</a>\n",
      "<a class=\"result-title hdrlnk\" data-id=\"7455902942\" href=\"https://columbiamo.craigslist.org/sof/d/jefferson-city-computer-programmer-net/7455902942.html\" id=\"postid_7455902942\">Computer Programmer (C#, .NET, Windows, DevExpress, ArcGIS, ArcMap)</a>\n",
      "<a class=\"result-title hdrlnk\" data-id=\"7454977373\" href=\"https://stlouis.craigslist.org/sad/d/saint-charles-blue-origin-meet-and/7454977373.html\" id=\"postid_7454977373\">Blue Origin Meet And Greet In St. Louis, MO</a>\n",
      "<a class=\"result-title hdrlnk\" data-id=\"7456181230\" href=\"https://stlouis.craigslist.org/tch/d/ballwin-remote-cellphone-repair/7456181230.html\" id=\"postid_7456181230\">Remote Cellphone Repair Technician</a>\n",
      "<a class=\"result-title hdrlnk\" data-id=\"7456595291\" href=\"https://stlouis.craigslist.org/trp/d/saint-louis-cdl-truck-driver-no-touch/7456595291.html\" id=\"postid_7456595291\">CDL A Truck Driver - No Touch Freight - $1,378 Weekly!</a>\n",
      "<a class=\"result-title hdrlnk\" data-id=\"7453815284\" href=\"https://stlouis.craigslist.org/tfr/d/saint-louis-now-casting-singles-for-fun/7453815284.html\" id=\"postid_7453815284\">NOW CASTING SINGLES for a Fun, Groundbreaking DATING SHOW!</a>\n",
      "None\n",
      "<a class=\"result-title hdrlnk\" data-id=\"7456381551\" href=\"https://stlouis.craigslist.org/wri/d/fenton-moving-helpers/7456381551.html\" id=\"postid_7456381551\">Moving Helpers</a>\n",
      "<a class=\"result-title hdrlnk\" data-id=\"7456587203\" href=\"https://stlouis.craigslist.org/evg/d/saint-louis-looking-for-youthfull-fun/7456587203.html\" id=\"postid_7456587203\">LOOKING FOR YOUTHFULL FUN, UPBEAT PEOPLE TO WORK.</a>\n",
      "<a class=\"result-title hdrlnk\" data-id=\"7455317289\" href=\"https://stlouis.craigslist.org/cpg/d/saint-louis-music-fashion-data/7455317289.html\" id=\"postid_7455317289\">Music v. Fashion Data Collection Project</a>\n",
      "<a class=\"result-title hdrlnk\" data-id=\"7456482335\" href=\"https://stlouis.craigslist.org/crg/d/saint-charles-wedding-videographer/7456482335.html\" id=\"postid_7456482335\">Wedding Videographer Wanted - Will Train!</a>\n",
      "<a class=\"result-title hdrlnk\" data-id=\"7453788291\" href=\"https://stlouis.craigslist.org/cwg/d/saint-louis-production-assistant-needed/7453788291.html\" id=\"postid_7453788291\">PRODUCTION ASSISTANT NEEDED</a>\n",
      "<a class=\"result-title hdrlnk\" data-id=\"7456525967\" href=\"https://stlouis.craigslist.org/dmg/d/saint-louis-paid-product-testers-online/7456525967.html\" id=\"postid_7456525967\">🟣🟠🟢 Paid Product Testers - Online From Home Only 🟢🟠🟣</a>\n",
      "<a class=\"result-title hdrlnk\" data-id=\"7456587203\" href=\"https://stlouis.craigslist.org/evg/d/saint-louis-looking-for-youthfull-fun/7456587203.html\" id=\"postid_7456587203\">LOOKING FOR YOUTHFULL FUN, UPBEAT PEOPLE TO WORK.</a>\n",
      "<a class=\"result-title hdrlnk\" data-id=\"7456551400\" href=\"https://stlouis.craigslist.org/lbg/d/quincy-kohls-projects-in-il-quincy-il/7456551400.html\" id=\"postid_7456551400\">Kohls projects in IL. QUINCY IL</a>\n",
      "<a class=\"result-title hdrlnk\" data-id=\"7456424965\" href=\"https://stlouis.craigslist.org/tlg/d/chesterfield-shop-and-deliver-no/7456424965.html\" id=\"postid_7456424965\">Shop and Deliver - No Experience Required</a>\n"
     ]
    },
    {
     "name": "stdout",
     "output_type": "stream",
     "text": [
      "<a class=\"result-title hdrlnk\" data-id=\"7456094203\" href=\"https://stlouis.craigslist.org/wrg/d/saint-louis-freelance-writer-wanted-pay/7456094203.html\" id=\"postid_7456094203\">► Freelance Writer Wanted - Pay $100 per article (Remote OK)</a>\n",
      "<a class=\"result-title hdrlnk\" data-id=\"7456482739\" href=\"https://stlouis.craigslist.org/res/d/jack-of-all-trades/7456482739.html\" id=\"postid_7456482739\">jack of all trades</a>\n"
     ]
    }
   ],
   "source": [
    "for url in urls:\n",
    "    page=requests.get(url)\n",
    "    soup = bs(page.text,'html.parser')\n",
    "    print(soup.find('a', class_ = 'result-title hdrlnk'))"
   ]
  },
  {
   "cell_type": "code",
   "execution_count": null,
   "id": "4a73cfc5",
   "metadata": {},
   "outputs": [],
   "source": []
  },
  {
   "cell_type": "code",
   "execution_count": null,
   "id": "ede0d213",
   "metadata": {},
   "outputs": [],
   "source": []
  },
  {
   "cell_type": "code",
   "execution_count": null,
   "id": "d32ee252",
   "metadata": {},
   "outputs": [],
   "source": []
  },
  {
   "cell_type": "code",
   "execution_count": null,
   "id": "4b36f8e0",
   "metadata": {},
   "outputs": [],
   "source": []
  }
 ],
 "metadata": {
  "kernelspec": {
   "display_name": "Python 3 (ipykernel)",
   "language": "python",
   "name": "python3"
  },
  "language_info": {
   "codemirror_mode": {
    "name": "ipython",
    "version": 3
   },
   "file_extension": ".py",
   "mimetype": "text/x-python",
   "name": "python",
   "nbconvert_exporter": "python",
   "pygments_lexer": "ipython3",
   "version": "3.8.12"
  }
 },
 "nbformat": 4,
 "nbformat_minor": 5
}
