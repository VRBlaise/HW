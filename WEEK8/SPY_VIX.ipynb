{
 "cells": [
  {
   "cell_type": "code",
   "execution_count": 1,
   "id": "b8b1d8b8",
   "metadata": {},
   "outputs": [],
   "source": [
    "# Don't modify this cell.\n",
    "# Dependencies and Setup\n",
    "import matplotlib.pyplot as plt\n",
    "import seaborn as sns\n",
    "import pandas as pd\n",
    "import numpy as np\n",
    "\n",
    "#import statistics\n",
    "import requests\n",
    "import time\n",
    "#import math\n",
    "#from scipy import stats\n",
    "from pprint import pprint\n",
    "\n",
    "# Import API key\n",
    "from api_keys import api_key\n",
    "\n",
    "#import ready packages\n",
    "from alpha_vantage.timeseries import TimeSeries\n",
    "from alpha_vantage.cryptocurrencies import CryptoCurrencies"
   ]
  },
  {
   "cell_type": "code",
   "execution_count": 2,
   "id": "ba6a876a",
   "metadata": {},
   "outputs": [
    {
     "data": {
      "text/html": [
       "<div>\n",
       "<style scoped>\n",
       "    .dataframe tbody tr th:only-of-type {\n",
       "        vertical-align: middle;\n",
       "    }\n",
       "\n",
       "    .dataframe tbody tr th {\n",
       "        vertical-align: top;\n",
       "    }\n",
       "\n",
       "    .dataframe thead th {\n",
       "        text-align: right;\n",
       "    }\n",
       "</style>\n",
       "<table border=\"1\" class=\"dataframe\">\n",
       "  <thead>\n",
       "    <tr style=\"text-align: right;\">\n",
       "      <th></th>\n",
       "      <th>VXX (USD)</th>\n",
       "      <th>SPY (USD)</th>\n",
       "    </tr>\n",
       "    <tr>\n",
       "      <th>date</th>\n",
       "      <th></th>\n",
       "      <th></th>\n",
       "    </tr>\n",
       "  </thead>\n",
       "  <tbody>\n",
       "    <tr>\n",
       "      <th>2009-01-30</th>\n",
       "      <td>NaN</td>\n",
       "      <td>NaN</td>\n",
       "    </tr>\n",
       "  </tbody>\n",
       "</table>\n",
       "</div>"
      ],
      "text/plain": [
       "            VXX (USD)  SPY (USD)\n",
       "date                            \n",
       "2009-01-30        NaN        NaN"
      ]
     },
     "execution_count": 2,
     "metadata": {},
     "output_type": "execute_result"
    }
   ],
   "source": [
    "def get_stock(sym): # takes in one parameter: the symbol of the stock\n",
    "\n",
    "    ts = TimeSeries(key= api_key, output_format='pandas')\n",
    "    data, meta_data = ts.get_daily(symbol=sym, outputsize='full')\n",
    "    data = data.drop(columns = ['1. open', '2. high', '3. low', '5. volume']) # we drop unecessary columns\n",
    "    data = data.rename(columns = {'4. close': f'{sym} (USD)'}) # we rename the remaining column\n",
    "    return data, meta_data\n",
    "\n",
    "spy_data, spy_meta_data = get_stock('SPY') # get data for SPY\n",
    "vxx_data, vxx_meta_data = get_stock('VXX')\n",
    "\n",
    "\n",
    "\n",
    "spy_vxx_data = vxx_data.join(spy_data, how = 'inner')\n",
    "\n",
    "difference = spy_vxx_data.diff(periods = -1)\n",
    "difference.tail(1)"
   ]
  },
  {
   "cell_type": "code",
   "execution_count": 3,
   "id": "4ee4d964",
   "metadata": {},
   "outputs": [],
   "source": [
    "difference = difference.rename(columns = {'VXX (USD)': 'DVXX', 'SPY (USD)': 'DSPY'})\n",
    "total = spy_vxx_data.merge(difference, left_index=True, right_index=True)\n",
    "percent_spy = (total['DSPY']/total['SPY (USD)']*100).to_frame()\n",
    "percent_vxx = (total['DVXX']/total['VXX (USD)']*100).to_frame()\n",
    "percent = total.merge(percent_spy, left_index=True, right_index=True).merge(percent_vxx, left_index=True, right_index=True).rename(columns = {'0_x':'SPY%', '0_y':'VXX%'})"
   ]
  },
  {
   "cell_type": "code",
   "execution_count": 4,
   "id": "ede39bea",
   "metadata": {},
   "outputs": [
    {
     "data": {
      "text/html": [
       "<div>\n",
       "<style scoped>\n",
       "    .dataframe tbody tr th:only-of-type {\n",
       "        vertical-align: middle;\n",
       "    }\n",
       "\n",
       "    .dataframe tbody tr th {\n",
       "        vertical-align: top;\n",
       "    }\n",
       "\n",
       "    .dataframe thead th {\n",
       "        text-align: right;\n",
       "    }\n",
       "</style>\n",
       "<table border=\"1\" class=\"dataframe\">\n",
       "  <thead>\n",
       "    <tr style=\"text-align: right;\">\n",
       "      <th></th>\n",
       "      <th>SPY%</th>\n",
       "      <th>VXX%</th>\n",
       "    </tr>\n",
       "    <tr>\n",
       "      <th>date</th>\n",
       "      <th></th>\n",
       "      <th></th>\n",
       "    </tr>\n",
       "  </thead>\n",
       "  <tbody>\n",
       "    <tr>\n",
       "      <th>2021-11-12</th>\n",
       "      <td>0.749032</td>\n",
       "      <td>-3.831041</td>\n",
       "    </tr>\n",
       "    <tr>\n",
       "      <th>2021-11-11</th>\n",
       "      <td>0.032344</td>\n",
       "      <td>-2.175970</td>\n",
       "    </tr>\n",
       "  </tbody>\n",
       "</table>\n",
       "</div>"
      ],
      "text/plain": [
       "                SPY%      VXX%\n",
       "date                          \n",
       "2021-11-12  0.749032 -3.831041\n",
       "2021-11-11  0.032344 -2.175970"
      ]
     },
     "execution_count": 4,
     "metadata": {},
     "output_type": "execute_result"
    }
   ],
   "source": [
    "percent = percent.drop(columns = ['VXX (USD)','SPY (USD)','DVXX','DSPY'])\n",
    "percent.head(2)"
   ]
  },
  {
   "cell_type": "code",
   "execution_count": 11,
   "id": "3e87a378",
   "metadata": {},
   "outputs": [],
   "source": [
    "x = percent.iloc[1:, 4:]\n",
    "y = percent.iloc[0:-2, 4:]"
   ]
  },
  {
   "cell_type": "code",
   "execution_count": 10,
   "id": "612a5490",
   "metadata": {},
   "outputs": [
    {
     "data": {
      "text/html": [
       "<div>\n",
       "<style scoped>\n",
       "    .dataframe tbody tr th:only-of-type {\n",
       "        vertical-align: middle;\n",
       "    }\n",
       "\n",
       "    .dataframe tbody tr th {\n",
       "        vertical-align: top;\n",
       "    }\n",
       "\n",
       "    .dataframe thead th {\n",
       "        text-align: right;\n",
       "    }\n",
       "</style>\n",
       "<table border=\"1\" class=\"dataframe\">\n",
       "  <thead>\n",
       "    <tr style=\"text-align: right;\">\n",
       "      <th></th>\n",
       "    </tr>\n",
       "    <tr>\n",
       "      <th>date</th>\n",
       "    </tr>\n",
       "  </thead>\n",
       "  <tbody>\n",
       "    <tr>\n",
       "      <th>2021-11-12</th>\n",
       "    </tr>\n",
       "    <tr>\n",
       "      <th>2021-11-11</th>\n",
       "    </tr>\n",
       "    <tr>\n",
       "      <th>2021-11-10</th>\n",
       "    </tr>\n",
       "    <tr>\n",
       "      <th>2021-11-09</th>\n",
       "    </tr>\n",
       "    <tr>\n",
       "      <th>2021-11-08</th>\n",
       "    </tr>\n",
       "    <tr>\n",
       "      <th>...</th>\n",
       "    </tr>\n",
       "    <tr>\n",
       "      <th>2009-02-05</th>\n",
       "    </tr>\n",
       "    <tr>\n",
       "      <th>2009-02-04</th>\n",
       "    </tr>\n",
       "    <tr>\n",
       "      <th>2009-02-03</th>\n",
       "    </tr>\n",
       "    <tr>\n",
       "      <th>2009-02-02</th>\n",
       "    </tr>\n",
       "    <tr>\n",
       "      <th>2009-01-30</th>\n",
       "    </tr>\n",
       "  </tbody>\n",
       "</table>\n",
       "<p>3221 rows × 0 columns</p>\n",
       "</div>"
      ],
      "text/plain": [
       "Empty DataFrame\n",
       "Columns: []\n",
       "Index: [2021-11-12 00:00:00, 2021-11-11 00:00:00, 2021-11-10 00:00:00, 2021-11-09 00:00:00, 2021-11-08 00:00:00, 2021-11-05 00:00:00, 2021-11-04 00:00:00, 2021-11-03 00:00:00, 2021-11-02 00:00:00, 2021-11-01 00:00:00, 2021-10-29 00:00:00, 2021-10-28 00:00:00, 2021-10-27 00:00:00, 2021-10-26 00:00:00, 2021-10-25 00:00:00, 2021-10-22 00:00:00, 2021-10-21 00:00:00, 2021-10-20 00:00:00, 2021-10-19 00:00:00, 2021-10-18 00:00:00, 2021-10-15 00:00:00, 2021-10-14 00:00:00, 2021-10-13 00:00:00, 2021-10-12 00:00:00, 2021-10-11 00:00:00, 2021-10-08 00:00:00, 2021-10-07 00:00:00, 2021-10-06 00:00:00, 2021-10-05 00:00:00, 2021-10-04 00:00:00, 2021-10-01 00:00:00, 2021-09-30 00:00:00, 2021-09-29 00:00:00, 2021-09-28 00:00:00, 2021-09-27 00:00:00, 2021-09-24 00:00:00, 2021-09-23 00:00:00, 2021-09-22 00:00:00, 2021-09-21 00:00:00, 2021-09-20 00:00:00, 2021-09-17 00:00:00, 2021-09-16 00:00:00, 2021-09-15 00:00:00, 2021-09-14 00:00:00, 2021-09-13 00:00:00, 2021-09-10 00:00:00, 2021-09-09 00:00:00, 2021-09-08 00:00:00, 2021-09-07 00:00:00, 2021-09-03 00:00:00, 2021-09-02 00:00:00, 2021-09-01 00:00:00, 2021-08-31 00:00:00, 2021-08-30 00:00:00, 2021-08-27 00:00:00, 2021-08-26 00:00:00, 2021-08-25 00:00:00, 2021-08-24 00:00:00, 2021-08-23 00:00:00, 2021-08-20 00:00:00, 2021-08-19 00:00:00, 2021-08-18 00:00:00, 2021-08-17 00:00:00, 2021-08-16 00:00:00, 2021-08-13 00:00:00, 2021-08-12 00:00:00, 2021-08-11 00:00:00, 2021-08-10 00:00:00, 2021-08-09 00:00:00, 2021-08-06 00:00:00, 2021-08-05 00:00:00, 2021-08-04 00:00:00, 2021-08-03 00:00:00, 2021-08-02 00:00:00, 2021-07-30 00:00:00, 2021-07-29 00:00:00, 2021-07-28 00:00:00, 2021-07-27 00:00:00, 2021-07-26 00:00:00, 2021-07-23 00:00:00, 2021-07-22 00:00:00, 2021-07-21 00:00:00, 2021-07-20 00:00:00, 2021-07-19 00:00:00, 2021-07-16 00:00:00, 2021-07-15 00:00:00, 2021-07-14 00:00:00, 2021-07-13 00:00:00, 2021-07-12 00:00:00, 2021-07-09 00:00:00, 2021-07-08 00:00:00, 2021-07-07 00:00:00, 2021-07-06 00:00:00, 2021-07-02 00:00:00, 2021-07-01 00:00:00, 2021-06-30 00:00:00, 2021-06-29 00:00:00, 2021-06-28 00:00:00, 2021-06-25 00:00:00, 2021-06-24 00:00:00, ...]\n",
       "\n",
       "[3221 rows x 0 columns]"
      ]
     },
     "execution_count": 10,
     "metadata": {},
     "output_type": "execute_result"
    }
   ],
   "source": [
    "x"
   ]
  },
  {
   "cell_type": "code",
   "execution_count": null,
   "id": "9974e9ae",
   "metadata": {},
   "outputs": [],
   "source": []
  }
 ],
 "metadata": {
  "kernelspec": {
   "display_name": "Python 3 (ipykernel)",
   "language": "python",
   "name": "python3"
  },
  "language_info": {
   "codemirror_mode": {
    "name": "ipython",
    "version": 3
   },
   "file_extension": ".py",
   "mimetype": "text/x-python",
   "name": "python",
   "nbconvert_exporter": "python",
   "pygments_lexer": "ipython3",
   "version": "3.8.12"
  }
 },
 "nbformat": 4,
 "nbformat_minor": 5
}
