{
 "cells": [
  {
   "cell_type": "markdown",
   "id": "7f590796",
   "metadata": {},
   "source": [
    "### 1a) calculate dot product manually"
   ]
  },
  {
   "cell_type": "markdown",
   "id": "4931281d",
   "metadata": {},
   "source": [
    "#### First let's examine how it is calculated by numpy"
   ]
  },
  {
   "cell_type": "code",
   "execution_count": 2,
   "id": "0bdb8363",
   "metadata": {},
   "outputs": [
    {
     "data": {
      "text/plain": [
       "5"
      ]
     },
     "execution_count": 2,
     "metadata": {},
     "output_type": "execute_result"
    }
   ],
   "source": [
    "import numpy as np\n",
    "import pandas as pd\n",
    "\n",
    "v = np.arange(3) # let's just get any arbitrary array\n",
    "u = v.T\n",
    "np.dot(v,v) # well, this seems to work 'properly' "
   ]
  },
  {
   "cell_type": "code",
   "execution_count": 3,
   "id": "f3f794ef",
   "metadata": {},
   "outputs": [
    {
     "data": {
      "text/plain": [
       "numpy.ndarray"
      ]
     },
     "execution_count": 3,
     "metadata": {},
     "output_type": "execute_result"
    }
   ],
   "source": [
    "type(u)"
   ]
  },
  {
   "cell_type": "code",
   "execution_count": 4,
   "id": "826999dc",
   "metadata": {},
   "outputs": [
    {
     "data": {
      "text/plain": [
       "(3,)"
      ]
     },
     "execution_count": 4,
     "metadata": {},
     "output_type": "execute_result"
    }
   ],
   "source": [
    "v.shape"
   ]
  },
  {
   "cell_type": "code",
   "execution_count": 5,
   "id": "7338d465",
   "metadata": {},
   "outputs": [
    {
     "data": {
      "text/plain": [
       "(3,)"
      ]
     },
     "execution_count": 5,
     "metadata": {},
     "output_type": "execute_result"
    }
   ],
   "source": [
    "u.shape # hm, has the same shape after transposing, should not it be (, 5)?"
   ]
  },
  {
   "cell_type": "code",
   "execution_count": 6,
   "id": "fc5833d5",
   "metadata": {},
   "outputs": [
    {
     "data": {
      "text/plain": [
       "5"
      ]
     },
     "execution_count": 6,
     "metadata": {},
     "output_type": "execute_result"
    }
   ],
   "source": [
    "np.dot(u, v) # not too surprisingly, gives the same result"
   ]
  },
  {
   "cell_type": "markdown",
   "id": "7b58b018",
   "metadata": {},
   "source": [
    "#### Let's try to define something that would calculate the dot product"
   ]
  },
  {
   "cell_type": "code",
   "execution_count": 7,
   "id": "0b7a7bdc",
   "metadata": {},
   "outputs": [],
   "source": [
    "def dot_product(u, v):\n",
    "    result = 0\n",
    "    try:\n",
    "        if not (u.shape == v.shape and u.ndim == 1):\n",
    "            raise ValueError('Your vectors are of not proper dimensions!')\n",
    "    except ValueError as ve:\n",
    "        print(ve)\n",
    "    else:\n",
    "        for i in range(len(u)):\n",
    "            result += u[i]*v[i]\n",
    "        return result\n",
    "            \n",
    "    "
   ]
  },
  {
   "cell_type": "code",
   "execution_count": 8,
   "id": "1cd5f8d1",
   "metadata": {},
   "outputs": [
    {
     "data": {
      "text/plain": [
       "5"
      ]
     },
     "execution_count": 8,
     "metadata": {},
     "output_type": "execute_result"
    }
   ],
   "source": [
    "dot_product(u,v)"
   ]
  },
  {
   "cell_type": "markdown",
   "id": "fac4bd0e",
   "metadata": {},
   "source": [
    "### 1b) calculate cross product manually"
   ]
  },
  {
   "cell_type": "code",
   "execution_count": 9,
   "id": "e20ed56a",
   "metadata": {},
   "outputs": [],
   "source": [
    "def cross_product(u, v):\n",
    "    a = [u, v]\n",
    "    result = np.array([0,0,0])\n",
    "    for i, s in enumerate(a):\n",
    "        if len(a[i]) == 2:\n",
    "            a[i] = np.append(a[i], 0)\n",
    "        else:\n",
    "            pass\n",
    "    try:\n",
    "        if not (a[0].shape == a[1].shape and len(a[0]) == 3):\n",
    "            raise ValueError('Your vectors are of not proper dimensions!')\n",
    "    except ValueError as ve:\n",
    "        print(ve)\n",
    "    else:\n",
    "        for i in range(len(a[0])):\n",
    "            result[i] += a[0][i-2]*a[1][i-1] - a[0][i-1]*a[1][i-2]\n",
    "        return result"
   ]
  },
  {
   "cell_type": "code",
   "execution_count": 10,
   "id": "644a02c3",
   "metadata": {},
   "outputs": [
    {
     "data": {
      "text/plain": [
       "array([0, 0, 0])"
      ]
     },
     "execution_count": 10,
     "metadata": {},
     "output_type": "execute_result"
    }
   ],
   "source": [
    "cross_product(u,v)"
   ]
  },
  {
   "cell_type": "code",
   "execution_count": 11,
   "id": "ad625e4d",
   "metadata": {},
   "outputs": [],
   "source": [
    "g = np.array([1, 3, 9])\n",
    "k = np.array([9, 3, 1])"
   ]
  },
  {
   "cell_type": "code",
   "execution_count": 12,
   "id": "7849958f",
   "metadata": {},
   "outputs": [
    {
     "data": {
      "text/plain": [
       "array([-24,  80, -24])"
      ]
     },
     "execution_count": 12,
     "metadata": {},
     "output_type": "execute_result"
    }
   ],
   "source": [
    "cross_product(g, k)"
   ]
  },
  {
   "cell_type": "code",
   "execution_count": 13,
   "id": "a75dcb90",
   "metadata": {},
   "outputs": [],
   "source": [
    "res = np.cross(g, k) # good this seems to be working"
   ]
  },
  {
   "cell_type": "code",
   "execution_count": 14,
   "id": "71559879",
   "metadata": {},
   "outputs": [
    {
     "name": "stdout",
     "output_type": "stream",
     "text": [
      "[-24  80 -24]\n"
     ]
    }
   ],
   "source": [
    "print(res)"
   ]
  },
  {
   "cell_type": "code",
   "execution_count": 15,
   "id": "ea62fe31",
   "metadata": {},
   "outputs": [],
   "source": [
    "p = np.array([1, 3])\n",
    "t = np.array([9, 3])"
   ]
  },
  {
   "cell_type": "code",
   "execution_count": 16,
   "id": "3a35d3ea",
   "metadata": {},
   "outputs": [
    {
     "data": {
      "text/plain": [
       "array([  0,   0, -24])"
      ]
     },
     "execution_count": 16,
     "metadata": {},
     "output_type": "execute_result"
    }
   ],
   "source": [
    "cross_product(p,t) # OK, good"
   ]
  },
  {
   "cell_type": "markdown",
   "id": "8c110e5d",
   "metadata": {},
   "source": [
    "### One Hot Encoding"
   ]
  },
  {
   "cell_type": "markdown",
   "id": "6f0eff33",
   "metadata": {},
   "source": [
    "#### One hot encoding is a method to give categorical data numerical values so that machine learning algorithms could handle them, withouth, but withouth implying ordinal relationships. To achieve this, instead of simpel numerical values, binary variables are employed. Not sure how to explain in computer science terms, but for me it looks like n unique categories can be represented as eigenvectors of an n dimensional space."
   ]
  },
  {
   "cell_type": "code",
   "execution_count": 17,
   "id": "e94057f7",
   "metadata": {},
   "outputs": [
    {
     "data": {
      "text/plain": [
       "array(['Belize', 'Stann Creek', 'Toledo', 'Cayo', 'Corozal',\n",
       "       'Orange Walk'], dtype=object)"
      ]
     },
     "execution_count": 17,
     "metadata": {},
     "output_type": "execute_result"
    }
   ],
   "source": [
    "belize = pd.read_csv('belize_airbnb_listings.csv')\n",
    "belize_neighb = belize['neighbourhood_group'].to_frame()\n",
    "belize_neighb['neighbourhood_group'].unique()"
   ]
  },
  {
   "cell_type": "code",
   "execution_count": 18,
   "id": "a0ef6a04",
   "metadata": {},
   "outputs": [],
   "source": [
    "conditions = [belize_neighb['neighbourhood_group'] == 'Belize', belize_neighb['neighbourhood_group'] == 'Stann Creek', \n",
    "              belize_neighb['neighbourhood_group'] == 'Toledo', belize_neighb['neighbourhood_group'] == 'Cayo', \n",
    "              belize_neighb['neighbourhood_group'] == 'Corozal', belize_neighb['neighbourhood_group'] == 'Orange Walk']\n",
    "outputs =  [[1,0,0,0,0,0], [0,1,0,0,0,0], [0,0,1,0,0,0], [0,0,0,1,0,0], [0,0,0,0,1,0], [0,0,0,0,0,1]]"
   ]
  },
  {
   "cell_type": "code",
   "execution_count": 19,
   "id": "ceffef4b",
   "metadata": {},
   "outputs": [],
   "source": [
    "#belize_neighb[belize_neighb['neighbourhood_group'] == 'Belize'] = np.array([1,0,0,0,0,0]) # this fails miserably, time to give up"
   ]
  },
  {
   "cell_type": "code",
   "execution_count": 20,
   "id": "41a6e038",
   "metadata": {},
   "outputs": [
    {
     "data": {
      "text/html": [
       "<div>\n",
       "<style scoped>\n",
       "    .dataframe tbody tr th:only-of-type {\n",
       "        vertical-align: middle;\n",
       "    }\n",
       "\n",
       "    .dataframe tbody tr th {\n",
       "        vertical-align: top;\n",
       "    }\n",
       "\n",
       "    .dataframe thead th {\n",
       "        text-align: right;\n",
       "    }\n",
       "</style>\n",
       "<table border=\"1\" class=\"dataframe\">\n",
       "  <thead>\n",
       "    <tr style=\"text-align: right;\">\n",
       "      <th></th>\n",
       "      <th>Belize</th>\n",
       "      <th>Cayo</th>\n",
       "      <th>Corozal</th>\n",
       "      <th>Orange Walk</th>\n",
       "      <th>Stann Creek</th>\n",
       "      <th>Toledo</th>\n",
       "    </tr>\n",
       "  </thead>\n",
       "  <tbody>\n",
       "    <tr>\n",
       "      <th>0</th>\n",
       "      <td>1</td>\n",
       "      <td>0</td>\n",
       "      <td>0</td>\n",
       "      <td>0</td>\n",
       "      <td>0</td>\n",
       "      <td>0</td>\n",
       "    </tr>\n",
       "    <tr>\n",
       "      <th>1</th>\n",
       "      <td>1</td>\n",
       "      <td>0</td>\n",
       "      <td>0</td>\n",
       "      <td>0</td>\n",
       "      <td>0</td>\n",
       "      <td>0</td>\n",
       "    </tr>\n",
       "    <tr>\n",
       "      <th>2</th>\n",
       "      <td>1</td>\n",
       "      <td>0</td>\n",
       "      <td>0</td>\n",
       "      <td>0</td>\n",
       "      <td>0</td>\n",
       "      <td>0</td>\n",
       "    </tr>\n",
       "  </tbody>\n",
       "</table>\n",
       "</div>"
      ],
      "text/plain": [
       "   Belize  Cayo  Corozal  Orange Walk  Stann Creek  Toledo\n",
       "0       1     0        0            0            0       0\n",
       "1       1     0        0            0            0       0\n",
       "2       1     0        0            0            0       0"
      ]
     },
     "execution_count": 20,
     "metadata": {},
     "output_type": "execute_result"
    }
   ],
   "source": [
    "pd.get_dummies(belize_neighb['neighbourhood_group']).head(3) # this does not look like what I described: maybe my understanding is not correct... nevertheless, maybe let's try to reproduce this manually"
   ]
  },
  {
   "cell_type": "code",
   "execution_count": 21,
   "id": "0fd14b0c",
   "metadata": {},
   "outputs": [],
   "source": [
    "belize_neighb['Belize'] = np.nan\n",
    "belize_neighb['Stann Creek'] = np.nan\n",
    "belize_neighb['Toledo'] = np.nan\n",
    "belize_neighb['Cayo'] = np.nan\n",
    "belize_neighb['Corozal'] = np.nan\n",
    "belize_neighb['Orange Walk'] = np.nan\n",
    "\n",
    "belize_neighb.loc[belize_neighb['neighbourhood_group'] == 'Belize', 'Belize'] = 1\n",
    "belize_neighb['Belize'].fillna(value = 0, inplace = True)\n",
    "\n",
    "belize_neighb.loc[belize_neighb['neighbourhood_group'] == 'Stann Creek', 'Stann Creek'] = 1\n",
    "belize_neighb['Stann Creek'].fillna(value = 0, inplace = True)\n",
    "\n",
    "belize_neighb.loc[belize_neighb['neighbourhood_group'] == 'Toledo', 'Toledo'] = 1\n",
    "belize_neighb['Toledo'].fillna(value = 0, inplace = True)\n",
    "\n",
    "belize_neighb.loc[belize_neighb['neighbourhood_group'] == 'Cayo', 'Cayo'] = 1\n",
    "belize_neighb['Cayo'].fillna(value = 0, inplace = True)\n",
    "\n",
    "belize_neighb.loc[belize_neighb['neighbourhood_group'] == 'Corozal', 'Corozal'] = 1\n",
    "belize_neighb['Corozal'].fillna(value = 0, inplace = True)\n",
    "\n",
    "belize_neighb.loc[belize_neighb['neighbourhood_group'] == 'Orange Walk', 'Orange Walk'] = 1\n",
    "belize_neighb['Orange Walk'].fillna(value = 0, inplace = True)"
   ]
  },
  {
   "cell_type": "code",
   "execution_count": 22,
   "id": "537c4d23",
   "metadata": {},
   "outputs": [
    {
     "data": {
      "text/html": [
       "<div>\n",
       "<style scoped>\n",
       "    .dataframe tbody tr th:only-of-type {\n",
       "        vertical-align: middle;\n",
       "    }\n",
       "\n",
       "    .dataframe tbody tr th {\n",
       "        vertical-align: top;\n",
       "    }\n",
       "\n",
       "    .dataframe thead th {\n",
       "        text-align: right;\n",
       "    }\n",
       "</style>\n",
       "<table border=\"1\" class=\"dataframe\">\n",
       "  <thead>\n",
       "    <tr style=\"text-align: right;\">\n",
       "      <th></th>\n",
       "      <th>neighbourhood_group</th>\n",
       "      <th>Belize</th>\n",
       "      <th>Stann Creek</th>\n",
       "      <th>Toledo</th>\n",
       "      <th>Cayo</th>\n",
       "      <th>Corozal</th>\n",
       "      <th>Orange Walk</th>\n",
       "    </tr>\n",
       "  </thead>\n",
       "  <tbody>\n",
       "    <tr>\n",
       "      <th>0</th>\n",
       "      <td>Belize</td>\n",
       "      <td>1.0</td>\n",
       "      <td>0.0</td>\n",
       "      <td>0.0</td>\n",
       "      <td>0.0</td>\n",
       "      <td>0.0</td>\n",
       "      <td>0.0</td>\n",
       "    </tr>\n",
       "    <tr>\n",
       "      <th>1</th>\n",
       "      <td>Belize</td>\n",
       "      <td>1.0</td>\n",
       "      <td>0.0</td>\n",
       "      <td>0.0</td>\n",
       "      <td>0.0</td>\n",
       "      <td>0.0</td>\n",
       "      <td>0.0</td>\n",
       "    </tr>\n",
       "    <tr>\n",
       "      <th>2</th>\n",
       "      <td>Belize</td>\n",
       "      <td>1.0</td>\n",
       "      <td>0.0</td>\n",
       "      <td>0.0</td>\n",
       "      <td>0.0</td>\n",
       "      <td>0.0</td>\n",
       "      <td>0.0</td>\n",
       "    </tr>\n",
       "    <tr>\n",
       "      <th>3</th>\n",
       "      <td>Stann Creek</td>\n",
       "      <td>0.0</td>\n",
       "      <td>1.0</td>\n",
       "      <td>0.0</td>\n",
       "      <td>0.0</td>\n",
       "      <td>0.0</td>\n",
       "      <td>0.0</td>\n",
       "    </tr>\n",
       "    <tr>\n",
       "      <th>4</th>\n",
       "      <td>Belize</td>\n",
       "      <td>1.0</td>\n",
       "      <td>0.0</td>\n",
       "      <td>0.0</td>\n",
       "      <td>0.0</td>\n",
       "      <td>0.0</td>\n",
       "      <td>0.0</td>\n",
       "    </tr>\n",
       "    <tr>\n",
       "      <th>...</th>\n",
       "      <td>...</td>\n",
       "      <td>...</td>\n",
       "      <td>...</td>\n",
       "      <td>...</td>\n",
       "      <td>...</td>\n",
       "      <td>...</td>\n",
       "      <td>...</td>\n",
       "    </tr>\n",
       "    <tr>\n",
       "      <th>2791</th>\n",
       "      <td>Belize</td>\n",
       "      <td>1.0</td>\n",
       "      <td>0.0</td>\n",
       "      <td>0.0</td>\n",
       "      <td>0.0</td>\n",
       "      <td>0.0</td>\n",
       "      <td>0.0</td>\n",
       "    </tr>\n",
       "    <tr>\n",
       "      <th>2792</th>\n",
       "      <td>Corozal</td>\n",
       "      <td>0.0</td>\n",
       "      <td>0.0</td>\n",
       "      <td>0.0</td>\n",
       "      <td>0.0</td>\n",
       "      <td>1.0</td>\n",
       "      <td>0.0</td>\n",
       "    </tr>\n",
       "    <tr>\n",
       "      <th>2793</th>\n",
       "      <td>Belize</td>\n",
       "      <td>1.0</td>\n",
       "      <td>0.0</td>\n",
       "      <td>0.0</td>\n",
       "      <td>0.0</td>\n",
       "      <td>0.0</td>\n",
       "      <td>0.0</td>\n",
       "    </tr>\n",
       "    <tr>\n",
       "      <th>2794</th>\n",
       "      <td>Belize</td>\n",
       "      <td>1.0</td>\n",
       "      <td>0.0</td>\n",
       "      <td>0.0</td>\n",
       "      <td>0.0</td>\n",
       "      <td>0.0</td>\n",
       "      <td>0.0</td>\n",
       "    </tr>\n",
       "    <tr>\n",
       "      <th>2795</th>\n",
       "      <td>Cayo</td>\n",
       "      <td>0.0</td>\n",
       "      <td>0.0</td>\n",
       "      <td>0.0</td>\n",
       "      <td>1.0</td>\n",
       "      <td>0.0</td>\n",
       "      <td>0.0</td>\n",
       "    </tr>\n",
       "  </tbody>\n",
       "</table>\n",
       "<p>2796 rows × 7 columns</p>\n",
       "</div>"
      ],
      "text/plain": [
       "     neighbourhood_group  Belize  Stann Creek  Toledo  Cayo  Corozal  \\\n",
       "0                 Belize     1.0          0.0     0.0   0.0      0.0   \n",
       "1                 Belize     1.0          0.0     0.0   0.0      0.0   \n",
       "2                 Belize     1.0          0.0     0.0   0.0      0.0   \n",
       "3            Stann Creek     0.0          1.0     0.0   0.0      0.0   \n",
       "4                 Belize     1.0          0.0     0.0   0.0      0.0   \n",
       "...                  ...     ...          ...     ...   ...      ...   \n",
       "2791              Belize     1.0          0.0     0.0   0.0      0.0   \n",
       "2792             Corozal     0.0          0.0     0.0   0.0      1.0   \n",
       "2793              Belize     1.0          0.0     0.0   0.0      0.0   \n",
       "2794              Belize     1.0          0.0     0.0   0.0      0.0   \n",
       "2795                Cayo     0.0          0.0     0.0   1.0      0.0   \n",
       "\n",
       "      Orange Walk  \n",
       "0             0.0  \n",
       "1             0.0  \n",
       "2             0.0  \n",
       "3             0.0  \n",
       "4             0.0  \n",
       "...           ...  \n",
       "2791          0.0  \n",
       "2792          0.0  \n",
       "2793          0.0  \n",
       "2794          0.0  \n",
       "2795          0.0  \n",
       "\n",
       "[2796 rows x 7 columns]"
      ]
     },
     "execution_count": 22,
     "metadata": {},
     "output_type": "execute_result"
    }
   ],
   "source": [
    "belize_neighb"
   ]
  },
  {
   "cell_type": "code",
   "execution_count": null,
   "id": "a1f63881",
   "metadata": {},
   "outputs": [],
   "source": []
  },
  {
   "cell_type": "code",
   "execution_count": null,
   "id": "be6abecc",
   "metadata": {},
   "outputs": [],
   "source": []
  }
 ],
 "metadata": {
  "kernelspec": {
   "display_name": "Python 3 (ipykernel)",
   "language": "python",
   "name": "python3"
  },
  "language_info": {
   "codemirror_mode": {
    "name": "ipython",
    "version": 3
   },
   "file_extension": ".py",
   "mimetype": "text/x-python",
   "name": "python",
   "nbconvert_exporter": "python",
   "pygments_lexer": "ipython3",
   "version": "3.8.12"
  }
 },
 "nbformat": 4,
 "nbformat_minor": 5
}
