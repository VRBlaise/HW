{
 "cells": [
  {
   "cell_type": "markdown",
   "id": "80eb9d95",
   "metadata": {},
   "source": [
    "### 1) Explain dot product and cross product"
   ]
  },
  {
   "cell_type": "code",
   "execution_count": 88,
   "id": "9acac8ad",
   "metadata": {},
   "outputs": [],
   "source": [
    "from IPython.display import Latex"
   ]
  },
  {
   "cell_type": "markdown",
   "id": "5cc15ef5",
   "metadata": {},
   "source": [
    "#### Dot product (scalar product): for any vectors a and b of the same length the dot product can be calculated as the sum of the product of their elements of same indeces:"
   ]
  },
  {
   "cell_type": "markdown",
   "id": "68ccc889",
   "metadata": {},
   "source": [
    "$$ \\textbf{a*b} = \\sum_{i=1}^{n} \\ a_ib_i = a_1b_1 + a_2b_2 \\ + ... + \\ a_nb_n $$"
   ]
  },
  {
   "cell_type": "markdown",
   "id": "98e65b85",
   "metadata": {},
   "source": [
    "$$\\mathbf {\\color {red}a} \\cdot \\mathbf {\\color {blue}b} =\\sum _{i=1}^{n}{\\color {red}a}_{i}{\\color {blue}b}_{i}={\\color {red}a}_{1}{\\color {blue}b}_{1}+{\\color {red}a}_{2}{\\color {blue}b}_{2}+\\cdots +{\\color {red}a}_{n}{\\color {blue}b}_{n}$$"
   ]
  },
  {
   "cell_type": "markdown",
   "id": "a7305f4e",
   "metadata": {},
   "source": [
    "#### The cross product can be calculated as the absolute value of the two vectors multiplied together and multiplied by the sinus of the angle between them. It is pointing to the direction of the normal vector of the plain in which the original vectors lie:"
   ]
  },
  {
   "cell_type": "markdown",
   "id": "98195344",
   "metadata": {},
   "source": [
    "$$ \\mathbf {a} \\times \\mathbf {b} =\\left\\|\\mathbf {a} \\right\\|\\left\\|\\mathbf {b} \\right\\|\\sin(\\theta )\\ \\mathbf {n} $$"
   ]
  },
  {
   "cell_type": "markdown",
   "id": "51d6340a",
   "metadata": {},
   "source": [
    "#### Elementwise the coordinates can be expressed using the formula below:"
   ]
  },
  {
   "cell_type": "markdown",
   "id": "e976e27d",
   "metadata": {},
   "source": [
    "$$ \\begin{aligned}\\mathbf {a} \\times \\mathbf {b} = a_{1}b_{1}\\mathbf {0} +a_{1}b_{2}\\mathbf {\\color {green}{k}} -a_{1}b_{3}\\mathbf {\\color {red}{j}} -a_{2}b_{1}\\mathbf {\\color {green}{k}} +a_{2}b_{2}\\mathbf {0} +a_{2}b_{3}\\mathbf {\\color {blue}{i}} +a_{3}b_{1}\\mathbf {\\color {red}{j}} \\ -a_{3}b_{2}\\mathbf {\\color {blue}{i}} \\ +a_{3}b_{3}\\mathbf {0} = (a_{2}b_{3}-a_{3}b_{2})\\mathbf {\\color {blue}{i}} +(a_{3}b_{1}-a_{1}b_{3})\\mathbf {\\color {red}{j}} +(a_{1}b_{2}-a_{2}b_{1})\\mathbf {\\color {green}{k}} \\\\\\end{aligned} $$"
   ]
  },
  {
   "cell_type": "markdown",
   "id": "a96de450",
   "metadata": {},
   "source": [
    "### 2) Calculate the angle of two vectors"
   ]
  },
  {
   "cell_type": "markdown",
   "id": "8bf0a0ce",
   "metadata": {},
   "source": [
    "#### For this we first need to define the dot product and then exploit the fact that the cosine of the angle between two vectors times their absolute value equals the dot product. To have a general function to calculate dot product we flatten column-vectors or row-vectors of two dimensional arrays"
   ]
  },
  {
   "cell_type": "code",
   "execution_count": 34,
   "id": "2333917d",
   "metadata": {},
   "outputs": [],
   "source": [
    "import numpy as np\n",
    "\n",
    "def dot_product(u, v):\n",
    "    result = 0\n",
    "    try:\n",
    "        if not u.shape == v.shape: # here we check if the objects we have match\n",
    "            raise ValueError('Your vectors are of not the same dimensions!')\n",
    "    except ValueError as ve:\n",
    "        print(ve)\n",
    "    else:\n",
    "        try:\n",
    "            if u.ndim == 2: # we have to check if they are defined as 2 dimensional arrays \n",
    "                num_rows, num_cols = u.shape\n",
    "                if not (num_rows == 1 or num_cols == 1): # one of the dimensions must be one\n",
    "                    raise ValueError('These are not vectors!')\n",
    "        except ValueError as ve:\n",
    "            print(ve)\n",
    "        else:\n",
    "            u_flat = u.flatten()\n",
    "            v_flat = v.flatten()\n",
    "            for i in range(len(u_flat)):\n",
    "                result += u_flat[i]*v_flat[i]\n",
    "            return result\n",
    "    \n",
    "def angle_between(u, v):\n",
    "    try:\n",
    "        if dot_product(u,u) == 0 or dot_product(v,v) == 0:\n",
    "            raise ValueError('One of your vectors is a null vector!')\n",
    "    except ValueError as ve:\n",
    "        print(ve)\n",
    "    else:\n",
    "        angle = np.arccos(dot_product(u,v)/((dot_product(u,u))**(1/2) * (dot_product(v,v))**(1/2)))\n",
    "        angle_degrees = angle*180/(np.pi)\n",
    "        return (angle, angle_degrees)"
   ]
  },
  {
   "cell_type": "code",
   "execution_count": 35,
   "id": "66959087",
   "metadata": {},
   "outputs": [
    {
     "data": {
      "text/plain": [
       "(0.7853981633974484, 45.00000000000001)"
      ]
     },
     "execution_count": 35,
     "metadata": {},
     "output_type": "execute_result"
    }
   ],
   "source": [
    "s = np.array([1,0])\n",
    "t = np.array([1,1])\n",
    "angle_between(s, t)"
   ]
  },
  {
   "cell_type": "markdown",
   "id": "726a886b",
   "metadata": {},
   "source": [
    "#### Works with any size"
   ]
  },
  {
   "cell_type": "code",
   "execution_count": 36,
   "id": "f7ba4c7a",
   "metadata": {},
   "outputs": [],
   "source": [
    "s = np.array(np.ones(15))\n",
    "t = np.array(np.arange(15))"
   ]
  },
  {
   "cell_type": "code",
   "execution_count": 37,
   "id": "03be5267",
   "metadata": {},
   "outputs": [
    {
     "data": {
      "text/plain": [
       "(0.552980357273746, 31.683440625422033)"
      ]
     },
     "execution_count": 37,
     "metadata": {},
     "output_type": "execute_result"
    }
   ],
   "source": [
    "angle_between(s, t)"
   ]
  },
  {
   "cell_type": "markdown",
   "id": "dcb56d06",
   "metadata": {},
   "source": [
    "### 3) Calculate dot product between two rows of a matrix"
   ]
  },
  {
   "cell_type": "markdown",
   "id": "1edde39d",
   "metadata": {},
   "source": [
    "#### We can use the already defined dot. product and pass in the rows or columns chosen"
   ]
  },
  {
   "cell_type": "code",
   "execution_count": 38,
   "id": "e9bf5e32",
   "metadata": {},
   "outputs": [],
   "source": [
    "def row_dot(A, r1, r2):\n",
    "    num_rows, num_columns = A.shape\n",
    "    try:\n",
    "        if num_rows < (r1+1) or num_rows < (r2+1):\n",
    "            raise ValueError('Index out of range!')\n",
    "    except ValueError as ve:\n",
    "        print(ve)\n",
    "    else:\n",
    "        dot_prod = dot_product(A[r1,:], A[r2, :])\n",
    "        return dot_prod\n",
    "        \n",
    "    "
   ]
  },
  {
   "cell_type": "markdown",
   "id": "5c35f6cf",
   "metadata": {},
   "source": [
    "#### Works for any size"
   ]
  },
  {
   "cell_type": "code",
   "execution_count": 39,
   "id": "3ed30300",
   "metadata": {},
   "outputs": [
    {
     "data": {
      "text/plain": [
       "array([[14,  2,  5, 19,  8,  8, 17, 15],\n",
       "       [ 6, 13, 12, 18, 14,  5,  3,  5],\n",
       "       [11, 18,  9, 12,  0,  3, 11, 13],\n",
       "       [11,  3,  5,  8,  9,  5,  2, 18],\n",
       "       [19, 11, 10,  2, 14, 12, 16,  3],\n",
       "       [ 9,  3,  8,  9, 15, 18,  3,  7]])"
      ]
     },
     "execution_count": 39,
     "metadata": {},
     "output_type": "execute_result"
    }
   ],
   "source": [
    "A = np.random.randint(20, size = (6,8))\n",
    "A"
   ]
  },
  {
   "cell_type": "code",
   "execution_count": 40,
   "id": "71994fc6",
   "metadata": {},
   "outputs": [
    {
     "data": {
      "text/plain": [
       "790"
      ]
     },
     "execution_count": 40,
     "metadata": {},
     "output_type": "execute_result"
    }
   ],
   "source": [
    "row_dot(A, 0, 1)"
   ]
  },
  {
   "cell_type": "markdown",
   "id": "c757247f",
   "metadata": {},
   "source": [
    "#### The exception works, too"
   ]
  },
  {
   "cell_type": "code",
   "execution_count": 41,
   "id": "e2d4bbf6",
   "metadata": {},
   "outputs": [
    {
     "name": "stdout",
     "output_type": "stream",
     "text": [
      "Index out of range!\n"
     ]
    }
   ],
   "source": [
    "row_dot(A, 5, 10)\n"
   ]
  },
  {
   "cell_type": "markdown",
   "id": "28e52f67",
   "metadata": {},
   "source": [
    "### 4) Matrix division"
   ]
  },
  {
   "cell_type": "markdown",
   "id": "ac5377b8",
   "metadata": {},
   "source": [
    "#### Matrix division is not division in proper sense, it is rather multiplication from the right with the inverse of the matrix we are \"dividing with\" and is possible only for square matrices as only those have inverse matrices. Multiplication from the right with the same inverse matrix gives a different result."
   ]
  },
  {
   "cell_type": "markdown",
   "id": "45d4bcce",
   "metadata": {},
   "source": [
    "#### First let's define it for the simpler case of 2x2 and 3x3 matrices. First I define a general sub_matrix() function which removes the row and column of specific indeces and returns the result. The quotient matrix will contain the quotients, although we need only a row or a column from it."
   ]
  },
  {
   "cell_type": "code",
   "execution_count": 70,
   "id": "6a5df329",
   "metadata": {},
   "outputs": [],
   "source": [
    "def sub_matrix(A, i, j):\n",
    "    try:\n",
    "        if A.ndim == 1:\n",
    "            raise Exception('Your matrix reached minimal dimensions!')\n",
    "    except Exception as e:\n",
    "        print(e)\n",
    "    else:\n",
    "        row_del = np.delete(A, obj = i, axis = 0)\n",
    "        col_del = np.delete(row_del, obj = j, axis = 1)\n",
    "    return col_del\n",
    "    \n",
    "def quotients(A):\n",
    "    try:\n",
    "        if A.ndim == 1:\n",
    "            raise Exception('Your matrix reached minimal dimensions!')\n",
    "    except Exception as e:\n",
    "        print(e)\n",
    "    else:\n",
    "        num_rows, num_columns = A.shape\n",
    "        Q = np.zeros((num_rows, num_columns))\n",
    "        for i in range(num_rows):\n",
    "            for j in range (num_columns):\n",
    "                if (i+j)%2 == 0:\n",
    "                    Q[i, j] = A[i,j]\n",
    "                else:\n",
    "                    Q[i, j] = -A[i,j]\n",
    "        return Q\n",
    "    \n",
    "def matr_det(A):\n",
    "    detA = 0\n",
    "    num_rows, num_columns = A.shape\n",
    "    try:\n",
    "        if not num_rows == num_columns and num_rows <= 3:\n",
    "            raise Exception('This function calculates determinants of 2x2 and 3x3 matrices only!')\n",
    "    except Exception as e:\n",
    "        print(e)\n",
    "    else:\n",
    "        if num_rows == 2:\n",
    "            detA = A[0][0]*A[1][1] - A[0][1]*A[1][0]\n",
    "        else:\n",
    "            for i in range(num_rows):\n",
    "                detA = detA + quotients(A)[i][0]*(sub_matrix(A, i, 0)[0][0]*sub_matrix(A, i, 0)[1][1] - sub_matrix(A, i, 0)[0][1]*sub_matrix(A, i, 0)[1][0])\n",
    "    return detA\n",
    "\n",
    "# OK in the meantime I got how to generalize this for any size:\n",
    "            \n",
    "def matrix_det(A):\n",
    "    detA = 0\n",
    "    num_rows, num_columns = A.shape\n",
    "    try:\n",
    "        if not num_rows == num_columns:\n",
    "            raise Exception('Only square matrices have determinants!')\n",
    "    except Exception as e:\n",
    "        print(e)\n",
    "    else:\n",
    "        if num_rows == 2:\n",
    "            As = np.copy(A)\n",
    "            detA = As[0][0]*As[1][1] - As[0][1]*As[1][0]\n",
    "        else:\n",
    "            for i in range(num_rows):\n",
    "                As = np.copy(A)\n",
    "                detA = detA + quotients(As)[i][0]*matrix_deta(sub_matrix(As, i, 0))\n",
    "    return detA\n"
   ]
  },
  {
   "cell_type": "markdown",
   "id": "9086d1db",
   "metadata": {},
   "source": [
    "#### So far this seems to work fine:"
   ]
  },
  {
   "cell_type": "code",
   "execution_count": 75,
   "id": "3747f234",
   "metadata": {},
   "outputs": [],
   "source": [
    "S = A = np.random.randint(5, size = (3,3))\n",
    "\n"
   ]
  },
  {
   "cell_type": "code",
   "execution_count": 76,
   "id": "9fdf8cd2",
   "metadata": {},
   "outputs": [
    {
     "data": {
      "text/plain": [
       "-12.0"
      ]
     },
     "execution_count": 76,
     "metadata": {},
     "output_type": "execute_result"
    }
   ],
   "source": [
    "matrix_det(S)"
   ]
  },
  {
   "cell_type": "code",
   "execution_count": 77,
   "id": "9b1cd69b",
   "metadata": {},
   "outputs": [
    {
     "data": {
      "text/plain": [
       "-12.0"
      ]
     },
     "execution_count": 77,
     "metadata": {},
     "output_type": "execute_result"
    }
   ],
   "source": [
    "matr_det(S)"
   ]
  },
  {
   "cell_type": "code",
   "execution_count": 78,
   "id": "8d4cb705",
   "metadata": {},
   "outputs": [
    {
     "name": "stdout",
     "output_type": "stream",
     "text": [
      "-12.0\n"
     ]
    }
   ],
   "source": [
    "print(np.linalg.det(S))"
   ]
  },
  {
   "cell_type": "markdown",
   "id": "4d05763f",
   "metadata": {},
   "source": [
    "#### Now we need to define the inverse matrix for which we need the adjoints matrix."
   ]
  },
  {
   "cell_type": "code",
   "execution_count": 79,
   "id": "de529b45",
   "metadata": {},
   "outputs": [],
   "source": [
    "def adjoints_matrix(A):\n",
    "    num_rows, num_columns = A.shape\n",
    "    C = np.zeros((num_rows, num_columns))\n",
    "    try:\n",
    "        if not num_rows == num_columns:\n",
    "            raise Exception('Only square matrices have adjoint matrices!')\n",
    "    except Exception as e:\n",
    "        print(e)\n",
    "    else:\n",
    "        for i in range(num_rows):\n",
    "            for j in range(num_columns):\n",
    "                #C[i][j] = (-1)**((i+j)%2)*np.linalg.det(sub_matrix(A, i, j))\n",
    "                C[i][j] = (-1)**((i+j)%2)*matrix_det(sub_matrix(A, i, j))\n",
    "        A_adj = C.T\n",
    "        return A_adj\n",
    "            \n",
    "\n",
    "def inverse_matrix(A):\n",
    "    num_rows, num_columns = A.shape\n",
    "    try:\n",
    "        if not num_rows == num_columns:\n",
    "            raise Exception('Only square matrices have an inverse!')\n",
    "    except Exception as e:\n",
    "        print(e)\n",
    "    else:\n",
    "        #A_inv = adjoints_matrix(A)/np.linalg.det(A)\n",
    "        A_inv = adjoints_matrix(A)/matrix_det(A)\n",
    "        return A_inv\n"
   ]
  },
  {
   "cell_type": "markdown",
   "id": "c5556805",
   "metadata": {},
   "source": [
    "#### Let's see if these work properly:"
   ]
  },
  {
   "cell_type": "code",
   "execution_count": 80,
   "id": "4922a1c9",
   "metadata": {},
   "outputs": [
    {
     "data": {
      "text/plain": [
       "array([[ 14863.,  -6704.,   -665., -21596.,   5936.],\n",
       "       [-18790.,  11669.,   2336.,  20612.,  -6653.],\n",
       "       [   629.,    317.,   2513.,   1826.,  -3500.],\n",
       "       [ 19056.,  -3876., -10464., -14019.,   9564.],\n",
       "       [ -3144.,  -3729.,   2859.,   4659.,    849.]])"
      ]
     },
     "execution_count": 80,
     "metadata": {},
     "output_type": "execute_result"
    }
   ],
   "source": [
    "B = np.random.randint(20, size = (5,5))\n",
    "\n",
    "adjoints_matrix(B)"
   ]
  },
  {
   "cell_type": "code",
   "execution_count": 81,
   "id": "87f2c78e",
   "metadata": {},
   "outputs": [
    {
     "data": {
      "text/plain": [
       "array([[ 0.23139196, -0.10437003, -0.01035293, -0.33621347,  0.09241356],\n",
       "       [-0.29252876,  0.18166674,  0.0363676 ,  0.32089424, -0.10357604],\n",
       "       [ 0.00979247,  0.00493516,  0.03912319,  0.02842776, -0.05448913],\n",
       "       [ 0.29666994, -0.06034281, -0.16290692, -0.2182523 ,  0.14889543],\n",
       "       [-0.0489468 , -0.05805427,  0.04450983,  0.07253281,  0.01321751]])"
      ]
     },
     "execution_count": 81,
     "metadata": {},
     "output_type": "execute_result"
    }
   ],
   "source": [
    "inverse_matrix(B)"
   ]
  },
  {
   "cell_type": "markdown",
   "id": "3f747283",
   "metadata": {},
   "source": [
    "#### If this is correct, multiplying the original matrix and the inverse shall give the identity matrix"
   ]
  },
  {
   "cell_type": "code",
   "execution_count": 82,
   "id": "3828bd9c",
   "metadata": {},
   "outputs": [
    {
     "data": {
      "text/plain": [
       "array([[ 1., -0., -0.,  0., -0.],\n",
       "       [ 0.,  1., -0.,  0., -0.],\n",
       "       [-0., -0.,  1., -0.,  0.],\n",
       "       [ 0., -0.,  0.,  1., -0.],\n",
       "       [-0., -0., -0.,  0.,  1.]])"
      ]
     },
     "execution_count": 82,
     "metadata": {},
     "output_type": "execute_result"
    }
   ],
   "source": [
    "np.around(np.matmul(B, inverse_matrix(B)), decimals = 1)"
   ]
  },
  {
   "cell_type": "markdown",
   "id": "27953e25",
   "metadata": {},
   "source": [
    "#### Finally we can define matrix division"
   ]
  },
  {
   "cell_type": "code",
   "execution_count": 83,
   "id": "1ca7dcc1",
   "metadata": {},
   "outputs": [],
   "source": [
    "def matrix_division(M1, M2):\n",
    "    m1_rows, m1_cols = M1.shape\n",
    "    try:\n",
    "        if not M1.shape == M2.shape and m1_rows == m1_cols:\n",
    "            raise Exception('Only square matrices of same dimensions can be divided!')\n",
    "    except Exception as e:\n",
    "        print(e)\n",
    "    else:\n",
    "        result = np.matmul(M1, inverse_matrix(M2))\n",
    "        return result\n",
    "        \n",
    "    "
   ]
  },
  {
   "cell_type": "markdown",
   "id": "cabb6b61",
   "metadata": {},
   "source": [
    "#### If this is defined properly, dividing the matrix by itself has to give the identity matrix"
   ]
  },
  {
   "cell_type": "code",
   "execution_count": 84,
   "id": "6c318e38",
   "metadata": {},
   "outputs": [
    {
     "data": {
      "text/plain": [
       "array([[ 1., -0., -0.,  0., -0.],\n",
       "       [ 0.,  1., -0.,  0., -0.],\n",
       "       [-0., -0.,  1., -0.,  0.],\n",
       "       [ 0., -0.,  0.,  1., -0.],\n",
       "       [-0., -0., -0.,  0.,  1.]])"
      ]
     },
     "execution_count": 84,
     "metadata": {},
     "output_type": "execute_result"
    }
   ],
   "source": [
    "np.around(matrix_division(B, B), decimals = 1)"
   ]
  },
  {
   "cell_type": "markdown",
   "id": "98a691d7",
   "metadata": {},
   "source": [
    "### 5) Test for orthogonality"
   ]
  },
  {
   "cell_type": "markdown",
   "id": "7865a1c4",
   "metadata": {},
   "source": [
    "#### First we calculate the angle between the two row vectors. We can use either the inner product of the transposed vectors or our predefined function"
   ]
  },
  {
   "cell_type": "code",
   "execution_count": 85,
   "id": "f1139f94",
   "metadata": {},
   "outputs": [],
   "source": [
    "a = np.array([[1], [0.001]])\n",
    "b = np.array([[0.001], [1]])\n"
   ]
  },
  {
   "cell_type": "code",
   "execution_count": 86,
   "id": "cc6f8fdb",
   "metadata": {},
   "outputs": [],
   "source": [
    "def is_orthogonal(a,b, tol):\n",
    "    try:\n",
    "        if np.inner(a.T, a.T) == 0 or np.inner(b.T, b.T) == 0:\n",
    "            raise ValueError('One of your vectors is a null vector!')\n",
    "    except ValueError as ve:\n",
    "        print(ve)\n",
    "    else:\n",
    "        angle = np.arccos(np.inner(a.T, b.T)/(np.inner(a.T, a.T)**(1/2) * np.inner(b.T, b.T)**(1/2)))\n",
    "        if abs(angle - np.pi/2) < tol:\n",
    "            return 1\n",
    "        else:\n",
    "            return 0\n",
    "            "
   ]
  },
  {
   "cell_type": "code",
   "execution_count": 87,
   "id": "e022e858",
   "metadata": {},
   "outputs": [
    {
     "data": {
      "text/plain": [
       "1"
      ]
     },
     "execution_count": 87,
     "metadata": {},
     "output_type": "execute_result"
    }
   ],
   "source": [
    "is_orthogonal(a, b, tol = 0.01)"
   ]
  },
  {
   "cell_type": "markdown",
   "id": "9fc25321",
   "metadata": {},
   "source": [
    "#### Using our predefined function"
   ]
  },
  {
   "cell_type": "code",
   "execution_count": 23,
   "id": "7fe73da1",
   "metadata": {},
   "outputs": [],
   "source": [
    "def is_orthogonale(a,b, tol):\n",
    "    angle, angle_degrees = angle_between(a,b)\n",
    "    if abs(angle - np.pi/2) < tol:\n",
    "        return 1\n",
    "    else:\n",
    "        return 0"
   ]
  },
  {
   "cell_type": "code",
   "execution_count": 24,
   "id": "09e2c171",
   "metadata": {},
   "outputs": [
    {
     "data": {
      "text/plain": [
       "1"
      ]
     },
     "execution_count": 24,
     "metadata": {},
     "output_type": "execute_result"
    }
   ],
   "source": [
    "is_orthogonale(a, b, tol = 0.01)"
   ]
  },
  {
   "cell_type": "markdown",
   "id": "b92ff1c2",
   "metadata": {},
   "source": [
    "### 6)"
   ]
  },
  {
   "cell_type": "markdown",
   "id": "fa2abd9a",
   "metadata": {},
   "source": [
    "#### Create a class called vector_calculator. __init__ should take self, vector1, and vector2. It should have two methods inside  (angle_between and is_orthogonal, I added dot_product as I need that for the other two). Make sure tol is defaulted but can be overwritten. "
   ]
  },
  {
   "cell_type": "code",
   "execution_count": 37,
   "id": "b6ebf4c7",
   "metadata": {},
   "outputs": [],
   "source": [
    "class vector_calculator():\n",
    "    \n",
    "    def __init__(self, u, v):\n",
    "        self.u = u\n",
    "        self.v = v\n",
    "        \n",
    "    def dot_product(self):\n",
    "        result = 0\n",
    "        try:\n",
    "            if not self.u.shape == self.v.shape:\n",
    "                raise ValueError('Your vectors are of not the same dimensions!')\n",
    "        except ValueError as ve:\n",
    "            print(ve)\n",
    "        else:\n",
    "            try:\n",
    "                if self.u.ndim == 2: \n",
    "                    num_rows, num_cols = self.u.shape\n",
    "                    if not (num_rows == 1 or num_cols == 1):\n",
    "                        raise ValueError('These are not vectors!')\n",
    "            except ValueError as ve:\n",
    "                print(ve)\n",
    "            else:\n",
    "                u_flat = self.u.flatten()\n",
    "                v_flat = self.v.flatten()\n",
    "                for i in range(len(u_flat)):\n",
    "                    result += u_flat[i]*v_flat[i]\n",
    "                return result\n",
    "            \n",
    "    def angle_between(self):\n",
    "        try:\n",
    "            if dot_product(self.u, self.u) == 0 or dot_product(self.v, self.v) == 0:\n",
    "                raise ValueError('One of your vectors is a null vector!')\n",
    "        except ValueError as ve:\n",
    "            print(ve)\n",
    "        else:\n",
    "            angle = np.arccos(dot_product(self.u, self.v)/((dot_product(self.u, self.u))**(1/2) * (dot_product(self.v, self.v))**(1/2)))\n",
    "            angle_degrees = angle*180/(np.pi)\n",
    "            return (angle, angle_degrees)\n",
    "        \n",
    "    def is_orthogonal(self, tol = 0):\n",
    "        angle, angle_degrees = angle_between(self.u,self.v)\n",
    "        if abs(angle - np.pi/2) < tol:\n",
    "            return 1\n",
    "        else:\n",
    "            return 0"
   ]
  },
  {
   "cell_type": "code",
   "execution_count": 38,
   "id": "60d897a7",
   "metadata": {},
   "outputs": [],
   "source": [
    "new_instance = vector_calculator(a, b)"
   ]
  },
  {
   "cell_type": "markdown",
   "id": "741ca1e2",
   "metadata": {},
   "source": [
    "#### Checking if angle_between() is working:"
   ]
  },
  {
   "cell_type": "code",
   "execution_count": 39,
   "id": "d5d45a2a",
   "metadata": {},
   "outputs": [
    {
     "data": {
      "text/plain": [
       "(1.5687963274615628, 89.88540847917099)"
      ]
     },
     "execution_count": 39,
     "metadata": {},
     "output_type": "execute_result"
    }
   ],
   "source": [
    "new_instance.angle_between()"
   ]
  },
  {
   "cell_type": "markdown",
   "id": "9a3cd4d5",
   "metadata": {},
   "source": [
    "#### Checking if is_orthogonal() is working:"
   ]
  },
  {
   "cell_type": "code",
   "execution_count": 41,
   "id": "83c91b64",
   "metadata": {},
   "outputs": [
    {
     "data": {
      "text/plain": [
       "0"
      ]
     },
     "execution_count": 41,
     "metadata": {},
     "output_type": "execute_result"
    }
   ],
   "source": [
    "new_instance.is_orthogonal(tol = 0.001)"
   ]
  },
  {
   "cell_type": "markdown",
   "id": "e0d11200",
   "metadata": {},
   "source": [
    "### 7) Graphical representation of the breast cancer data - PCA"
   ]
  },
  {
   "cell_type": "markdown",
   "id": "76e419a4",
   "metadata": {},
   "source": [
    "#### PCA: A dataset might consist of linearly dependent or independent features. In case there is linear dependency, the complexity of the dataset can be decreased by principal component analysis (PCA), in which process we find the eigenvectors of the covariance (between the features) matrix of the dataset. We can use explaned variance ratio to get the variance explained by a particular eigenvector."
   ]
  },
  {
   "cell_type": "code",
   "execution_count": 2,
   "id": "6b39c85f",
   "metadata": {},
   "outputs": [],
   "source": [
    "from sklearn.datasets import load_breast_cancer"
   ]
  },
  {
   "cell_type": "code",
   "execution_count": 3,
   "id": "24c3a4ab",
   "metadata": {},
   "outputs": [],
   "source": [
    "breast = load_breast_cancer()\n",
    "breast_data = breast.data\n",
    "breast_labels = breast.target"
   ]
  },
  {
   "cell_type": "code",
   "execution_count": 4,
   "id": "5cb449e9",
   "metadata": {},
   "outputs": [
    {
     "data": {
      "text/plain": [
       "(569, 30)"
      ]
     },
     "execution_count": 4,
     "metadata": {},
     "output_type": "execute_result"
    }
   ],
   "source": [
    "breast_data.shape"
   ]
  },
  {
   "cell_type": "code",
   "execution_count": 5,
   "id": "c250038c",
   "metadata": {},
   "outputs": [
    {
     "data": {
      "text/plain": [
       "(569,)"
      ]
     },
     "execution_count": 5,
     "metadata": {},
     "output_type": "execute_result"
    }
   ],
   "source": [
    "breast_labels.shape"
   ]
  },
  {
   "cell_type": "code",
   "execution_count": 6,
   "id": "fc6be698",
   "metadata": {},
   "outputs": [],
   "source": [
    "import numpy as np"
   ]
  },
  {
   "cell_type": "code",
   "execution_count": 7,
   "id": "18c8360f",
   "metadata": {},
   "outputs": [],
   "source": [
    "labels = np.reshape(breast_labels, (569, 1))"
   ]
  },
  {
   "cell_type": "code",
   "execution_count": 8,
   "id": "fad575c0",
   "metadata": {},
   "outputs": [],
   "source": [
    "final_breast_data = np.concatenate([breast_data, labels], axis = 1)"
   ]
  },
  {
   "cell_type": "code",
   "execution_count": 9,
   "id": "aa229497",
   "metadata": {},
   "outputs": [
    {
     "data": {
      "text/plain": [
       "(569, 31)"
      ]
     },
     "execution_count": 9,
     "metadata": {},
     "output_type": "execute_result"
    }
   ],
   "source": [
    "final_breast_data.shape"
   ]
  },
  {
   "cell_type": "code",
   "execution_count": 10,
   "id": "6409b49f",
   "metadata": {},
   "outputs": [],
   "source": [
    "import pandas as pd"
   ]
  },
  {
   "cell_type": "code",
   "execution_count": 11,
   "id": "2b8f446b",
   "metadata": {},
   "outputs": [],
   "source": [
    "breast_dataset = pd.DataFrame(final_breast_data)"
   ]
  },
  {
   "cell_type": "code",
   "execution_count": 12,
   "id": "79f27490",
   "metadata": {},
   "outputs": [
    {
     "data": {
      "text/html": [
       "<div>\n",
       "<style scoped>\n",
       "    .dataframe tbody tr th:only-of-type {\n",
       "        vertical-align: middle;\n",
       "    }\n",
       "\n",
       "    .dataframe tbody tr th {\n",
       "        vertical-align: top;\n",
       "    }\n",
       "\n",
       "    .dataframe thead th {\n",
       "        text-align: right;\n",
       "    }\n",
       "</style>\n",
       "<table border=\"1\" class=\"dataframe\">\n",
       "  <thead>\n",
       "    <tr style=\"text-align: right;\">\n",
       "      <th></th>\n",
       "      <th>0</th>\n",
       "      <th>1</th>\n",
       "      <th>2</th>\n",
       "      <th>3</th>\n",
       "      <th>4</th>\n",
       "      <th>5</th>\n",
       "      <th>6</th>\n",
       "      <th>7</th>\n",
       "      <th>8</th>\n",
       "      <th>9</th>\n",
       "      <th>...</th>\n",
       "      <th>21</th>\n",
       "      <th>22</th>\n",
       "      <th>23</th>\n",
       "      <th>24</th>\n",
       "      <th>25</th>\n",
       "      <th>26</th>\n",
       "      <th>27</th>\n",
       "      <th>28</th>\n",
       "      <th>29</th>\n",
       "      <th>30</th>\n",
       "    </tr>\n",
       "  </thead>\n",
       "  <tbody>\n",
       "    <tr>\n",
       "      <th>0</th>\n",
       "      <td>17.99</td>\n",
       "      <td>10.38</td>\n",
       "      <td>122.8</td>\n",
       "      <td>1001.0</td>\n",
       "      <td>0.1184</td>\n",
       "      <td>0.2776</td>\n",
       "      <td>0.3001</td>\n",
       "      <td>0.1471</td>\n",
       "      <td>0.2419</td>\n",
       "      <td>0.07871</td>\n",
       "      <td>...</td>\n",
       "      <td>17.33</td>\n",
       "      <td>184.6</td>\n",
       "      <td>2019.0</td>\n",
       "      <td>0.1622</td>\n",
       "      <td>0.6656</td>\n",
       "      <td>0.7119</td>\n",
       "      <td>0.2654</td>\n",
       "      <td>0.4601</td>\n",
       "      <td>0.1189</td>\n",
       "      <td>0.0</td>\n",
       "    </tr>\n",
       "  </tbody>\n",
       "</table>\n",
       "<p>1 rows × 31 columns</p>\n",
       "</div>"
      ],
      "text/plain": [
       "      0      1      2       3       4       5       6       7       8   \\\n",
       "0  17.99  10.38  122.8  1001.0  0.1184  0.2776  0.3001  0.1471  0.2419   \n",
       "\n",
       "        9   ...     21     22      23      24      25      26      27      28  \\\n",
       "0  0.07871  ...  17.33  184.6  2019.0  0.1622  0.6656  0.7119  0.2654  0.4601   \n",
       "\n",
       "       29   30  \n",
       "0  0.1189  0.0  \n",
       "\n",
       "[1 rows x 31 columns]"
      ]
     },
     "execution_count": 12,
     "metadata": {},
     "output_type": "execute_result"
    }
   ],
   "source": [
    "breast_dataset.head(1)"
   ]
  },
  {
   "cell_type": "code",
   "execution_count": 13,
   "id": "1bcbd534",
   "metadata": {},
   "outputs": [],
   "source": [
    "features = breast.feature_names"
   ]
  },
  {
   "cell_type": "code",
   "execution_count": 14,
   "id": "6fe74c9c",
   "metadata": {},
   "outputs": [
    {
     "data": {
      "text/plain": [
       "array(['mean radius', 'mean texture', 'mean perimeter', 'mean area',\n",
       "       'mean smoothness', 'mean compactness', 'mean concavity',\n",
       "       'mean concave points', 'mean symmetry', 'mean fractal dimension',\n",
       "       'radius error', 'texture error', 'perimeter error', 'area error',\n",
       "       'smoothness error', 'compactness error', 'concavity error',\n",
       "       'concave points error', 'symmetry error',\n",
       "       'fractal dimension error', 'worst radius', 'worst texture',\n",
       "       'worst perimeter', 'worst area', 'worst smoothness',\n",
       "       'worst compactness', 'worst concavity', 'worst concave points',\n",
       "       'worst symmetry', 'worst fractal dimension'], dtype='<U23')"
      ]
     },
     "execution_count": 14,
     "metadata": {},
     "output_type": "execute_result"
    }
   ],
   "source": [
    "features"
   ]
  },
  {
   "cell_type": "code",
   "execution_count": 18,
   "id": "51be9e4b",
   "metadata": {},
   "outputs": [],
   "source": [
    "features_labels = np.append(features, 'label')"
   ]
  },
  {
   "cell_type": "code",
   "execution_count": 30,
   "id": "798d1887",
   "metadata": {},
   "outputs": [],
   "source": [
    "breast_dataset.columns = features_labels\n",
    "breast_dataset['label'].replace([0 , 1], ['Benign', 'Malignant'], inplace = True)"
   ]
  },
  {
   "cell_type": "code",
   "execution_count": 31,
   "id": "539e8daa",
   "metadata": {},
   "outputs": [
    {
     "data": {
      "text/html": [
       "<div>\n",
       "<style scoped>\n",
       "    .dataframe tbody tr th:only-of-type {\n",
       "        vertical-align: middle;\n",
       "    }\n",
       "\n",
       "    .dataframe tbody tr th {\n",
       "        vertical-align: top;\n",
       "    }\n",
       "\n",
       "    .dataframe thead th {\n",
       "        text-align: right;\n",
       "    }\n",
       "</style>\n",
       "<table border=\"1\" class=\"dataframe\">\n",
       "  <thead>\n",
       "    <tr style=\"text-align: right;\">\n",
       "      <th></th>\n",
       "      <th>mean radius</th>\n",
       "      <th>mean texture</th>\n",
       "      <th>mean perimeter</th>\n",
       "      <th>mean area</th>\n",
       "      <th>mean smoothness</th>\n",
       "      <th>mean compactness</th>\n",
       "      <th>mean concavity</th>\n",
       "      <th>mean concave points</th>\n",
       "      <th>mean symmetry</th>\n",
       "      <th>mean fractal dimension</th>\n",
       "      <th>...</th>\n",
       "      <th>worst texture</th>\n",
       "      <th>worst perimeter</th>\n",
       "      <th>worst area</th>\n",
       "      <th>worst smoothness</th>\n",
       "      <th>worst compactness</th>\n",
       "      <th>worst concavity</th>\n",
       "      <th>worst concave points</th>\n",
       "      <th>worst symmetry</th>\n",
       "      <th>worst fractal dimension</th>\n",
       "      <th>label</th>\n",
       "    </tr>\n",
       "  </thead>\n",
       "  <tbody>\n",
       "    <tr>\n",
       "      <th>0</th>\n",
       "      <td>17.99</td>\n",
       "      <td>10.38</td>\n",
       "      <td>122.8</td>\n",
       "      <td>1001.0</td>\n",
       "      <td>0.1184</td>\n",
       "      <td>0.2776</td>\n",
       "      <td>0.3001</td>\n",
       "      <td>0.1471</td>\n",
       "      <td>0.2419</td>\n",
       "      <td>0.07871</td>\n",
       "      <td>...</td>\n",
       "      <td>17.33</td>\n",
       "      <td>184.6</td>\n",
       "      <td>2019.0</td>\n",
       "      <td>0.1622</td>\n",
       "      <td>0.6656</td>\n",
       "      <td>0.7119</td>\n",
       "      <td>0.2654</td>\n",
       "      <td>0.4601</td>\n",
       "      <td>0.1189</td>\n",
       "      <td>Benign</td>\n",
       "    </tr>\n",
       "  </tbody>\n",
       "</table>\n",
       "<p>1 rows × 31 columns</p>\n",
       "</div>"
      ],
      "text/plain": [
       "   mean radius  mean texture  mean perimeter  mean area  mean smoothness  \\\n",
       "0        17.99         10.38           122.8     1001.0           0.1184   \n",
       "\n",
       "   mean compactness  mean concavity  mean concave points  mean symmetry  \\\n",
       "0            0.2776          0.3001               0.1471         0.2419   \n",
       "\n",
       "   mean fractal dimension  ...  worst texture  worst perimeter  worst area  \\\n",
       "0                 0.07871  ...          17.33            184.6      2019.0   \n",
       "\n",
       "   worst smoothness  worst compactness  worst concavity  worst concave points  \\\n",
       "0            0.1622             0.6656           0.7119                0.2654   \n",
       "\n",
       "   worst symmetry  worst fractal dimension   label  \n",
       "0          0.4601                   0.1189  Benign  \n",
       "\n",
       "[1 rows x 31 columns]"
      ]
     },
     "execution_count": 31,
     "metadata": {},
     "output_type": "execute_result"
    }
   ],
   "source": [
    "breast_dataset.head(1)"
   ]
  },
  {
   "cell_type": "code",
   "execution_count": 32,
   "id": "c4ab329d",
   "metadata": {},
   "outputs": [
    {
     "data": {
      "text/plain": [
       "(569, 30)"
      ]
     },
     "execution_count": 32,
     "metadata": {},
     "output_type": "execute_result"
    }
   ],
   "source": [
    "from sklearn.preprocessing import StandardScaler\n",
    "\n",
    "x = breast_dataset.loc[:, features].values\n",
    "x = StandardScaler().fit_transform(x)\n",
    "x.shape"
   ]
  },
  {
   "cell_type": "code",
   "execution_count": 33,
   "id": "550556e0",
   "metadata": {},
   "outputs": [
    {
     "data": {
      "text/plain": [
       "(-6.826538293184326e-17, 1.0)"
      ]
     },
     "execution_count": 33,
     "metadata": {},
     "output_type": "execute_result"
    }
   ],
   "source": [
    "np.mean(x), np.std(x)"
   ]
  },
  {
   "cell_type": "code",
   "execution_count": 34,
   "id": "3382eae8",
   "metadata": {},
   "outputs": [
    {
     "data": {
      "text/html": [
       "<div>\n",
       "<style scoped>\n",
       "    .dataframe tbody tr th:only-of-type {\n",
       "        vertical-align: middle;\n",
       "    }\n",
       "\n",
       "    .dataframe tbody tr th {\n",
       "        vertical-align: top;\n",
       "    }\n",
       "\n",
       "    .dataframe thead th {\n",
       "        text-align: right;\n",
       "    }\n",
       "</style>\n",
       "<table border=\"1\" class=\"dataframe\">\n",
       "  <thead>\n",
       "    <tr style=\"text-align: right;\">\n",
       "      <th></th>\n",
       "      <th>feature0</th>\n",
       "      <th>feature1</th>\n",
       "      <th>feature2</th>\n",
       "      <th>feature3</th>\n",
       "      <th>feature4</th>\n",
       "      <th>feature5</th>\n",
       "      <th>feature6</th>\n",
       "      <th>feature7</th>\n",
       "      <th>feature8</th>\n",
       "      <th>feature9</th>\n",
       "      <th>...</th>\n",
       "      <th>feature20</th>\n",
       "      <th>feature21</th>\n",
       "      <th>feature22</th>\n",
       "      <th>feature23</th>\n",
       "      <th>feature24</th>\n",
       "      <th>feature25</th>\n",
       "      <th>feature26</th>\n",
       "      <th>feature27</th>\n",
       "      <th>feature28</th>\n",
       "      <th>feature29</th>\n",
       "    </tr>\n",
       "  </thead>\n",
       "  <tbody>\n",
       "    <tr>\n",
       "      <th>564</th>\n",
       "      <td>2.110995</td>\n",
       "      <td>0.721473</td>\n",
       "      <td>2.060786</td>\n",
       "      <td>2.343856</td>\n",
       "      <td>1.041842</td>\n",
       "      <td>0.219060</td>\n",
       "      <td>1.947285</td>\n",
       "      <td>2.320965</td>\n",
       "      <td>-0.312589</td>\n",
       "      <td>-0.931027</td>\n",
       "      <td>...</td>\n",
       "      <td>1.901185</td>\n",
       "      <td>0.117700</td>\n",
       "      <td>1.752563</td>\n",
       "      <td>2.015301</td>\n",
       "      <td>0.378365</td>\n",
       "      <td>-0.273318</td>\n",
       "      <td>0.664512</td>\n",
       "      <td>1.629151</td>\n",
       "      <td>-1.360158</td>\n",
       "      <td>-0.709091</td>\n",
       "    </tr>\n",
       "    <tr>\n",
       "      <th>565</th>\n",
       "      <td>1.704854</td>\n",
       "      <td>2.085134</td>\n",
       "      <td>1.615931</td>\n",
       "      <td>1.723842</td>\n",
       "      <td>0.102458</td>\n",
       "      <td>-0.017833</td>\n",
       "      <td>0.693043</td>\n",
       "      <td>1.263669</td>\n",
       "      <td>-0.217664</td>\n",
       "      <td>-1.058611</td>\n",
       "      <td>...</td>\n",
       "      <td>1.536720</td>\n",
       "      <td>2.047399</td>\n",
       "      <td>1.421940</td>\n",
       "      <td>1.494959</td>\n",
       "      <td>-0.691230</td>\n",
       "      <td>-0.394820</td>\n",
       "      <td>0.236573</td>\n",
       "      <td>0.733827</td>\n",
       "      <td>-0.531855</td>\n",
       "      <td>-0.973978</td>\n",
       "    </tr>\n",
       "    <tr>\n",
       "      <th>566</th>\n",
       "      <td>0.702284</td>\n",
       "      <td>2.045574</td>\n",
       "      <td>0.672676</td>\n",
       "      <td>0.577953</td>\n",
       "      <td>-0.840484</td>\n",
       "      <td>-0.038680</td>\n",
       "      <td>0.046588</td>\n",
       "      <td>0.105777</td>\n",
       "      <td>-0.809117</td>\n",
       "      <td>-0.895587</td>\n",
       "      <td>...</td>\n",
       "      <td>0.561361</td>\n",
       "      <td>1.374854</td>\n",
       "      <td>0.579001</td>\n",
       "      <td>0.427906</td>\n",
       "      <td>-0.809587</td>\n",
       "      <td>0.350735</td>\n",
       "      <td>0.326767</td>\n",
       "      <td>0.414069</td>\n",
       "      <td>-1.104549</td>\n",
       "      <td>-0.318409</td>\n",
       "    </tr>\n",
       "    <tr>\n",
       "      <th>567</th>\n",
       "      <td>1.838341</td>\n",
       "      <td>2.336457</td>\n",
       "      <td>1.982524</td>\n",
       "      <td>1.735218</td>\n",
       "      <td>1.525767</td>\n",
       "      <td>3.272144</td>\n",
       "      <td>3.296944</td>\n",
       "      <td>2.658866</td>\n",
       "      <td>2.137194</td>\n",
       "      <td>1.043695</td>\n",
       "      <td>...</td>\n",
       "      <td>1.961239</td>\n",
       "      <td>2.237926</td>\n",
       "      <td>2.303601</td>\n",
       "      <td>1.653171</td>\n",
       "      <td>1.430427</td>\n",
       "      <td>3.904848</td>\n",
       "      <td>3.197605</td>\n",
       "      <td>2.289985</td>\n",
       "      <td>1.919083</td>\n",
       "      <td>2.219635</td>\n",
       "    </tr>\n",
       "    <tr>\n",
       "      <th>568</th>\n",
       "      <td>-1.808401</td>\n",
       "      <td>1.221792</td>\n",
       "      <td>-1.814389</td>\n",
       "      <td>-1.347789</td>\n",
       "      <td>-3.112085</td>\n",
       "      <td>-1.150752</td>\n",
       "      <td>-1.114873</td>\n",
       "      <td>-1.261820</td>\n",
       "      <td>-0.820070</td>\n",
       "      <td>-0.561032</td>\n",
       "      <td>...</td>\n",
       "      <td>-1.410893</td>\n",
       "      <td>0.764190</td>\n",
       "      <td>-1.432735</td>\n",
       "      <td>-1.075813</td>\n",
       "      <td>-1.859019</td>\n",
       "      <td>-1.207552</td>\n",
       "      <td>-1.305831</td>\n",
       "      <td>-1.745063</td>\n",
       "      <td>-0.048138</td>\n",
       "      <td>-0.751207</td>\n",
       "    </tr>\n",
       "  </tbody>\n",
       "</table>\n",
       "<p>5 rows × 30 columns</p>\n",
       "</div>"
      ],
      "text/plain": [
       "     feature0  feature1  feature2  feature3  feature4  feature5  feature6  \\\n",
       "564  2.110995  0.721473  2.060786  2.343856  1.041842  0.219060  1.947285   \n",
       "565  1.704854  2.085134  1.615931  1.723842  0.102458 -0.017833  0.693043   \n",
       "566  0.702284  2.045574  0.672676  0.577953 -0.840484 -0.038680  0.046588   \n",
       "567  1.838341  2.336457  1.982524  1.735218  1.525767  3.272144  3.296944   \n",
       "568 -1.808401  1.221792 -1.814389 -1.347789 -3.112085 -1.150752 -1.114873   \n",
       "\n",
       "     feature7  feature8  feature9  ...  feature20  feature21  feature22  \\\n",
       "564  2.320965 -0.312589 -0.931027  ...   1.901185   0.117700   1.752563   \n",
       "565  1.263669 -0.217664 -1.058611  ...   1.536720   2.047399   1.421940   \n",
       "566  0.105777 -0.809117 -0.895587  ...   0.561361   1.374854   0.579001   \n",
       "567  2.658866  2.137194  1.043695  ...   1.961239   2.237926   2.303601   \n",
       "568 -1.261820 -0.820070 -0.561032  ...  -1.410893   0.764190  -1.432735   \n",
       "\n",
       "     feature23  feature24  feature25  feature26  feature27  feature28  \\\n",
       "564   2.015301   0.378365  -0.273318   0.664512   1.629151  -1.360158   \n",
       "565   1.494959  -0.691230  -0.394820   0.236573   0.733827  -0.531855   \n",
       "566   0.427906  -0.809587   0.350735   0.326767   0.414069  -1.104549   \n",
       "567   1.653171   1.430427   3.904848   3.197605   2.289985   1.919083   \n",
       "568  -1.075813  -1.859019  -1.207552  -1.305831  -1.745063  -0.048138   \n",
       "\n",
       "     feature29  \n",
       "564  -0.709091  \n",
       "565  -0.973978  \n",
       "566  -0.318409  \n",
       "567   2.219635  \n",
       "568  -0.751207  \n",
       "\n",
       "[5 rows x 30 columns]"
      ]
     },
     "execution_count": 34,
     "metadata": {},
     "output_type": "execute_result"
    }
   ],
   "source": [
    "feat_cols = ['feature' + str(i) for i in range(x.shape[1])]\n",
    "normalised_breast = pd.DataFrame(x, columns = feat_cols)\n",
    "normalised_breast.tail()"
   ]
  },
  {
   "cell_type": "code",
   "execution_count": 36,
   "id": "9184116a",
   "metadata": {},
   "outputs": [],
   "source": [
    "from sklearn.decomposition import PCA"
   ]
  },
  {
   "cell_type": "code",
   "execution_count": 42,
   "id": "3ab775e2",
   "metadata": {},
   "outputs": [],
   "source": [
    "pca_breast = PCA(n_components = 6)\n",
    "princ_comp_breast = pca_breast.fit_transform(x)"
   ]
  },
  {
   "cell_type": "code",
   "execution_count": 44,
   "id": "4c31cb8f",
   "metadata": {},
   "outputs": [
    {
     "data": {
      "text/html": [
       "<div>\n",
       "<style scoped>\n",
       "    .dataframe tbody tr th:only-of-type {\n",
       "        vertical-align: middle;\n",
       "    }\n",
       "\n",
       "    .dataframe tbody tr th {\n",
       "        vertical-align: top;\n",
       "    }\n",
       "\n",
       "    .dataframe thead th {\n",
       "        text-align: right;\n",
       "    }\n",
       "</style>\n",
       "<table border=\"1\" class=\"dataframe\">\n",
       "  <thead>\n",
       "    <tr style=\"text-align: right;\">\n",
       "      <th></th>\n",
       "      <th>PC1</th>\n",
       "      <th>PC2</th>\n",
       "      <th>PC3</th>\n",
       "      <th>PC4</th>\n",
       "      <th>PC5</th>\n",
       "      <th>PC6</th>\n",
       "    </tr>\n",
       "  </thead>\n",
       "  <tbody>\n",
       "    <tr>\n",
       "      <th>564</th>\n",
       "      <td>6.439315</td>\n",
       "      <td>-3.576817</td>\n",
       "      <td>2.459487</td>\n",
       "      <td>1.177314</td>\n",
       "      <td>-0.074825</td>\n",
       "      <td>-2.375192</td>\n",
       "    </tr>\n",
       "    <tr>\n",
       "      <th>565</th>\n",
       "      <td>3.793382</td>\n",
       "      <td>-3.584048</td>\n",
       "      <td>2.088476</td>\n",
       "      <td>-2.506028</td>\n",
       "      <td>-0.510721</td>\n",
       "      <td>-0.246708</td>\n",
       "    </tr>\n",
       "    <tr>\n",
       "      <th>566</th>\n",
       "      <td>1.256179</td>\n",
       "      <td>-1.902297</td>\n",
       "      <td>0.562730</td>\n",
       "      <td>-2.089227</td>\n",
       "      <td>1.809993</td>\n",
       "      <td>-0.534446</td>\n",
       "    </tr>\n",
       "    <tr>\n",
       "      <th>567</th>\n",
       "      <td>10.374794</td>\n",
       "      <td>1.672010</td>\n",
       "      <td>-1.877029</td>\n",
       "      <td>-2.356031</td>\n",
       "      <td>-0.033741</td>\n",
       "      <td>0.567936</td>\n",
       "    </tr>\n",
       "    <tr>\n",
       "      <th>568</th>\n",
       "      <td>-5.475243</td>\n",
       "      <td>-0.670637</td>\n",
       "      <td>1.490443</td>\n",
       "      <td>-2.299157</td>\n",
       "      <td>-0.184711</td>\n",
       "      <td>1.617829</td>\n",
       "    </tr>\n",
       "  </tbody>\n",
       "</table>\n",
       "</div>"
      ],
      "text/plain": [
       "           PC1       PC2       PC3       PC4       PC5       PC6\n",
       "564   6.439315 -3.576817  2.459487  1.177314 -0.074825 -2.375192\n",
       "565   3.793382 -3.584048  2.088476 -2.506028 -0.510721 -0.246708\n",
       "566   1.256179 -1.902297  0.562730 -2.089227  1.809993 -0.534446\n",
       "567  10.374794  1.672010 -1.877029 -2.356031 -0.033741  0.567936\n",
       "568  -5.475243 -0.670637  1.490443 -2.299157 -0.184711  1.617829"
      ]
     },
     "execution_count": 44,
     "metadata": {},
     "output_type": "execute_result"
    }
   ],
   "source": [
    "pcbreast_df = pd.DataFrame(data = princ_comp_breast, columns = ['PC1', 'PC2', 'PC3', 'PC4', 'PC5', 'PC6'])\n",
    "pcbreast_df.tail()"
   ]
  },
  {
   "cell_type": "code",
   "execution_count": 45,
   "id": "fa198eaf",
   "metadata": {},
   "outputs": [
    {
     "name": "stdout",
     "output_type": "stream",
     "text": [
      "Explained variance per principal component: [0.44272026 0.18971182 0.09393163 0.06602135 0.05495768 0.04024522]\n"
     ]
    }
   ],
   "source": [
    "print(f'Explained variance per principal component: {pca_breast.explained_variance_ratio_}')"
   ]
  },
  {
   "cell_type": "markdown",
   "id": "7ab02104",
   "metadata": {},
   "source": [
    "#### Let's plot the data along the first two principal components, representing benign and malignant cases with green and red colors"
   ]
  },
  {
   "cell_type": "code",
   "execution_count": 49,
   "id": "249abb80",
   "metadata": {},
   "outputs": [
    {
     "data": {
      "text/plain": [
       "<Figure size 432x288 with 0 Axes>"
      ]
     },
     "metadata": {},
     "output_type": "display_data"
    },
    {
     "data": {
      "image/png": "[encoded data removed]",
      "text/plain": [
       "<Figure size 720x720 with 1 Axes>"
      ]
     },
     "metadata": {
      "needs_background": "light"
     },
     "output_type": "display_data"
    }
   ],
   "source": [
    "import matplotlib.pyplot as plt\n",
    "\n",
    "plt.figure()\n",
    "plt.figure(figsize=(10,10))\n",
    "plt.xticks(fontsize=12)\n",
    "plt.yticks(fontsize=14)\n",
    "plt.xlabel('Principal Component - 1',fontsize=20)\n",
    "plt.ylabel('Principal Component - 2',fontsize=20)\n",
    "plt.title(\"Principal Component Analysis of Breast Cancer Dataset\",fontsize=20)\n",
    "targets = ['Benign', 'Malignant']\n",
    "colors = ['r', 'g']\n",
    "for target, color in zip(targets,colors):\n",
    "    indicesToKeep = breast_dataset['label'] == target\n",
    "    plt.scatter(pcbreast_df.loc[indicesToKeep, 'PC1']\n",
    "               , pcbreast_df.loc[indicesToKeep, 'PC2'], c = color, s = 50)\n",
    "\n",
    "plt.legend(targets,prop={'size': 15})\n",
    "plt.show()"
   ]
  },
  {
   "cell_type": "markdown",
   "id": "dee6fe49",
   "metadata": {},
   "source": [
    "#### When representing data this way, clustering based on malignancy is quite obvious"
   ]
  },
  {
   "cell_type": "markdown",
   "id": "cb35949a",
   "metadata": {},
   "source": [
    "#### When plotting the same data along the 3rd and 4th principal components, there is still some although much less obvious clustering"
   ]
  },
  {
   "cell_type": "code",
   "execution_count": 50,
   "id": "dcb9b461",
   "metadata": {},
   "outputs": [
    {
     "data": {
      "text/plain": [
       "<Figure size 432x288 with 0 Axes>"
      ]
     },
     "metadata": {},
     "output_type": "display_data"
    },
    {
     "data": {
      "image/png": "[encoded data removed]",
      "text/plain": [
       "<Figure size 720x720 with 1 Axes>"
      ]
     },
     "metadata": {
      "needs_background": "light"
     },
     "output_type": "display_data"
    }
   ],
   "source": [
    "import matplotlib.pyplot as plt\n",
    "\n",
    "plt.figure()\n",
    "plt.figure(figsize=(10,10))\n",
    "plt.xticks(fontsize=12)\n",
    "plt.yticks(fontsize=14)\n",
    "plt.xlabel('Principal Component - 3',fontsize=20)\n",
    "plt.ylabel('Principal Component - 4',fontsize=20)\n",
    "plt.title(\"Principal Component Analysis of Breast Cancer Dataset\",fontsize=20)\n",
    "targets = ['Benign', 'Malignant']\n",
    "colors = ['r', 'g']\n",
    "for target, color in zip(targets,colors):\n",
    "    indicesToKeep = breast_dataset['label'] == target\n",
    "    plt.scatter(pcbreast_df.loc[indicesToKeep, 'PC3']\n",
    "               , pcbreast_df.loc[indicesToKeep, 'PC4'], c = color, s = 50)\n",
    "\n",
    "plt.legend(targets,prop={'size': 15})\n",
    "plt.show()"
   ]
  },
  {
   "cell_type": "markdown",
   "id": "976152f8",
   "metadata": {},
   "source": [
    "#### Finally, along the 5th and 6th principal component it is not possible to distinguish based on malignancy any more"
   ]
  },
  {
   "cell_type": "code",
   "execution_count": 51,
   "id": "bbb2579d",
   "metadata": {},
   "outputs": [
    {
     "data": {
      "text/plain": [
       "<Figure size 432x288 with 0 Axes>"
      ]
     },
     "metadata": {},
     "output_type": "display_data"
    },
    {
     "data": {
      "image/png": "[encoded data removed]",
      "text/plain": [
       "<Figure size 720x720 with 1 Axes>"
      ]
     },
     "metadata": {
      "needs_background": "light"
     },
     "output_type": "display_data"
    }
   ],
   "source": [
    "import matplotlib.pyplot as plt\n",
    "\n",
    "plt.figure()\n",
    "plt.figure(figsize=(10,10))\n",
    "plt.xticks(fontsize=12)\n",
    "plt.yticks(fontsize=14)\n",
    "plt.xlabel('Principal Component - 5',fontsize=20)\n",
    "plt.ylabel('Principal Component - 6',fontsize=20)\n",
    "plt.title(\"Principal Component Analysis of Breast Cancer Dataset\",fontsize=20)\n",
    "targets = ['Benign', 'Malignant']\n",
    "colors = ['r', 'g']\n",
    "for target, color in zip(targets,colors):\n",
    "    indicesToKeep = breast_dataset['label'] == target\n",
    "    plt.scatter(pcbreast_df.loc[indicesToKeep, 'PC5']\n",
    "               , pcbreast_df.loc[indicesToKeep, 'PC6'], c = color, s = 50)\n",
    "\n",
    "plt.legend(targets,prop={'size': 15})\n",
    "plt.show()"
   ]
  },
  {
   "cell_type": "code",
   "execution_count": null,
   "id": "66371780",
   "metadata": {},
   "outputs": [],
   "source": []
  }
 ],
 "metadata": {
  "kernelspec": {
   "display_name": "Python 3 (ipykernel)",
   "language": "python",
   "name": "python3"
  },
  "language_info": {
   "codemirror_mode": {
    "name": "ipython",
    "version": 3
   },
   "file_extension": ".py",
   "mimetype": "text/x-python",
   "name": "python",
   "nbconvert_exporter": "python",
   "pygments_lexer": "ipython3",
   "version": "3.8.12"
  }
 },
 "nbformat": 4,
 "nbformat_minor": 5
}
