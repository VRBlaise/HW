{
 "cells": [
  {
   "cell_type": "markdown",
   "id": "fdff615a",
   "metadata": {},
   "source": [
    "# Numeric"
   ]
  },
  {
   "cell_type": "markdown",
   "id": "42ef5c8d",
   "metadata": {},
   "source": [
    "A data type expressed by any kind of numbers. Here to be discussed only integers and floats"
   ]
  },
  {
   "cell_type": "markdown",
   "id": "92a32dcd",
   "metadata": {},
   "source": [
    "### Integers"
   ]
  },
  {
   "cell_type": "markdown",
   "id": "79a568d2",
   "metadata": {},
   "source": [
    "Expressed by integers (whole numbers)"
   ]
  },
  {
   "cell_type": "code",
   "execution_count": 4,
   "id": "971860f3",
   "metadata": {},
   "outputs": [
    {
     "data": {
      "text/plain": [
       "int"
      ]
     },
     "execution_count": 4,
     "metadata": {},
     "output_type": "execute_result"
    }
   ],
   "source": [
    "int1 = 1\n",
    "type(int1)"
   ]
  },
  {
   "cell_type": "markdown",
   "id": "a01c5573",
   "metadata": {},
   "source": [
    "### Float"
   ]
  },
  {
   "cell_type": "markdown",
   "id": "6abd448c",
   "metadata": {},
   "source": [
    "Rational numbers expressed in the decimal (or any other) system, having explicitly stated at least one decimal place. Includes what would mathematically be integers if .0 is explicitely expressed."
   ]
  },
  {
   "cell_type": "code",
   "execution_count": 5,
   "id": "168bd6d2",
   "metadata": {},
   "outputs": [
    {
     "data": {
      "text/plain": [
       "float"
      ]
     },
     "execution_count": 5,
     "metadata": {},
     "output_type": "execute_result"
    }
   ],
   "source": [
    "float1 = 1.0\n",
    "type(float1)"
   ]
  },
  {
   "cell_type": "markdown",
   "id": "db6b3bae",
   "metadata": {},
   "source": [
    "## Dictionary"
   ]
  },
  {
   "cell_type": "markdown",
   "id": "4b1ec8fb",
   "metadata": {},
   "source": [
    "Is a set consisting of elements that are built as key:value pairs. The values can be of any data type, are mutable and can be repetead, while the keys must be immutable and unique. The keys provide a tool for searching the dictionary."
   ]
  },
  {
   "cell_type": "code",
   "execution_count": 7,
   "id": "d01bfa5c",
   "metadata": {},
   "outputs": [
    {
     "data": {
      "text/plain": [
       "2"
      ]
     },
     "execution_count": 7,
     "metadata": {},
     "output_type": "execute_result"
    }
   ],
   "source": [
    "mydict = {\"1\":2, \"2\":3, \"3\":4}\n",
    "mydict[\"1\"]\n"
   ]
  },
  {
   "cell_type": "code",
   "execution_count": 8,
   "id": "7fe14df2",
   "metadata": {},
   "outputs": [
    {
     "data": {
      "text/plain": [
       "dict"
      ]
     },
     "execution_count": 8,
     "metadata": {},
     "output_type": "execute_result"
    }
   ],
   "source": [
    "type(mydict)"
   ]
  },
  {
   "cell_type": "markdown",
   "id": "e66fbb6c",
   "metadata": {},
   "source": [
    "## Boolean"
   ]
  },
  {
   "cell_type": "markdown",
   "id": "b84cad7a",
   "metadata": {},
   "source": [
    "Has only two values, TRUE or FALSE. Every expression can be assigned a value either through the inherent logic or by definition in python"
   ]
  },
  {
   "cell_type": "code",
   "execution_count": 9,
   "id": "64e6d068",
   "metadata": {},
   "outputs": [
    {
     "data": {
      "text/plain": [
       "False"
      ]
     },
     "execution_count": 9,
     "metadata": {},
     "output_type": "execute_result"
    }
   ],
   "source": [
    "2>3"
   ]
  },
  {
   "cell_type": "code",
   "execution_count": 10,
   "id": "d455e07e",
   "metadata": {},
   "outputs": [
    {
     "data": {
      "text/plain": [
       "True"
      ]
     },
     "execution_count": 10,
     "metadata": {},
     "output_type": "execute_result"
    }
   ],
   "source": [
    "3>2"
   ]
  },
  {
   "cell_type": "code",
   "execution_count": 11,
   "id": "d37a0786",
   "metadata": {},
   "outputs": [
    {
     "data": {
      "text/plain": [
       "bool"
      ]
     },
     "execution_count": 11,
     "metadata": {},
     "output_type": "execute_result"
    }
   ],
   "source": [
    "type(2>3)"
   ]
  },
  {
   "cell_type": "code",
   "execution_count": 12,
   "id": "d42eab9c",
   "metadata": {},
   "outputs": [
    {
     "data": {
      "text/plain": [
       "False"
      ]
     },
     "execution_count": 12,
     "metadata": {},
     "output_type": "execute_result"
    }
   ],
   "source": [
    "bool(0)"
   ]
  },
  {
   "cell_type": "code",
   "execution_count": 13,
   "id": "7f6c11f9",
   "metadata": {},
   "outputs": [
    {
     "data": {
      "text/plain": [
       "True"
      ]
     },
     "execution_count": 13,
     "metadata": {},
     "output_type": "execute_result"
    }
   ],
   "source": [
    "bool(1)"
   ]
  },
  {
   "cell_type": "markdown",
   "id": "ed990f14",
   "metadata": {},
   "source": [
    "The above two do not follow a logic: they are just defined to be True or False"
   ]
  },
  {
   "cell_type": "markdown",
   "id": "6401f09c",
   "metadata": {},
   "source": [
    "## Sequence"
   ]
  },
  {
   "cell_type": "markdown",
   "id": "67d16c3c",
   "metadata": {},
   "source": [
    "Sequences are data types in which the order matters. They come in 3 flavours: strings, lists, tuples"
   ]
  },
  {
   "cell_type": "markdown",
   "id": "be67a641",
   "metadata": {},
   "source": [
    "### Strings"
   ]
  },
  {
   "cell_type": "markdown",
   "id": "aae8e468",
   "metadata": {},
   "source": [
    "Strings are a sequence of unicode characters displayed in between quotes. Strings are immutable. As they are ordered, elements are assigned indeces within"
   ]
  },
  {
   "cell_type": "code",
   "execution_count": 15,
   "id": "7fc8b000",
   "metadata": {},
   "outputs": [
    {
     "data": {
      "text/plain": [
       "'H'"
      ]
     },
     "execution_count": 15,
     "metadata": {},
     "output_type": "execute_result"
    }
   ],
   "source": [
    "mystring = 'Hello'\n",
    "mystring[0]"
   ]
  },
  {
   "cell_type": "code",
   "execution_count": 16,
   "id": "331fa770",
   "metadata": {},
   "outputs": [
    {
     "data": {
      "text/plain": [
       "str"
      ]
     },
     "execution_count": 16,
     "metadata": {},
     "output_type": "execute_result"
    }
   ],
   "source": [
    "type(mystring)"
   ]
  },
  {
   "cell_type": "markdown",
   "id": "06cfb2c1",
   "metadata": {},
   "source": [
    "### Lists"
   ]
  },
  {
   "cell_type": "markdown",
   "id": "e26ebfca",
   "metadata": {},
   "source": [
    "Lists are an ordered mutable data type, where elements can be of any type and are separated by a coma."
   ]
  },
  {
   "cell_type": "code",
   "execution_count": 18,
   "id": "393a4f7b",
   "metadata": {},
   "outputs": [
    {
     "data": {
      "text/plain": [
       "list"
      ]
     },
     "execution_count": 18,
     "metadata": {},
     "output_type": "execute_result"
    }
   ],
   "source": [
    "mylist = [1, 'h', 'it is not funny', [1,2,3], {'haha':'do 3 times'}, False]\n",
    "type(mylist)"
   ]
  },
  {
   "cell_type": "code",
   "execution_count": 19,
   "id": "3c2f5249",
   "metadata": {},
   "outputs": [
    {
     "data": {
      "text/plain": [
       "[1, 'h', 'it is not funny', [1, 2, 3], {'haha': 'do 3 times'}, True]"
      ]
     },
     "execution_count": 19,
     "metadata": {},
     "output_type": "execute_result"
    }
   ],
   "source": [
    "mylist[5] = True\n",
    "mylist"
   ]
  },
  {
   "cell_type": "markdown",
   "id": "60aa3e6b",
   "metadata": {},
   "source": [
    "### Tuples"
   ]
  },
  {
   "cell_type": "markdown",
   "id": "5f9b51c0",
   "metadata": {},
   "source": [
    "They are like lists, but they are immutable. Other characteristics that are not related to mutability are the same as for lists"
   ]
  },
  {
   "cell_type": "code",
   "execution_count": 20,
   "id": "5e107e19",
   "metadata": {},
   "outputs": [
    {
     "data": {
      "text/plain": [
       "tuple"
      ]
     },
     "execution_count": 20,
     "metadata": {},
     "output_type": "execute_result"
    }
   ],
   "source": [
    "mytuple = (1, 'h', 'it is not funny', [1,2,3], {'haha':'do 3 times'}, False)\n",
    "type(mytuple)"
   ]
  },
  {
   "cell_type": "code",
   "execution_count": 21,
   "id": "c2ecb3d5",
   "metadata": {},
   "outputs": [
    {
     "data": {
      "text/plain": [
       "1"
      ]
     },
     "execution_count": 21,
     "metadata": {},
     "output_type": "execute_result"
    }
   ],
   "source": [
    "mytuple[0]"
   ]
  },
  {
   "cell_type": "code",
   "execution_count": 22,
   "id": "ebe3be8c",
   "metadata": {},
   "outputs": [
    {
     "ename": "TypeError",
     "evalue": "'tuple' object does not support item assignment",
     "output_type": "error",
     "traceback": [
      "\u001b[1;31m---------------------------------------------------------------------------\u001b[0m",
      "\u001b[1;31mTypeError\u001b[0m                                 Traceback (most recent call last)",
      "\u001b[1;32mC:\\Users\\BALAZS~1.VAR\\AppData\\Local\\Temp/ipykernel_13052/3191417612.py\u001b[0m in \u001b[0;36m<module>\u001b[1;34m\u001b[0m\n\u001b[1;32m----> 1\u001b[1;33m \u001b[0mmytuple\u001b[0m\u001b[1;33m[\u001b[0m\u001b[1;36m0\u001b[0m\u001b[1;33m]\u001b[0m \u001b[1;33m=\u001b[0m \u001b[1;36m2\u001b[0m\u001b[1;33m\u001b[0m\u001b[1;33m\u001b[0m\u001b[0m\n\u001b[0m\u001b[0;32m      2\u001b[0m \u001b[0mmytuple\u001b[0m\u001b[1;33m[\u001b[0m\u001b[1;36m0\u001b[0m\u001b[1;33m]\u001b[0m\u001b[1;33m\u001b[0m\u001b[1;33m\u001b[0m\u001b[0m\n",
      "\u001b[1;31mTypeError\u001b[0m: 'tuple' object does not support item assignment"
     ]
    }
   ],
   "source": [
    "mytuple[0] = 2\n",
    "mytuple[0]"
   ]
  },
  {
   "cell_type": "markdown",
   "id": "a773dfee",
   "metadata": {},
   "source": [
    "As expected, this attempt did not work... Also to note it that it is the bracket used that defines these different data types"
   ]
  },
  {
   "cell_type": "markdown",
   "id": "06b81b32",
   "metadata": {},
   "source": [
    "## Sets"
   ]
  },
  {
   "cell_type": "markdown",
   "id": "acc79e46",
   "metadata": {},
   "source": [
    "Sets are exactly as we know them from mathematics: They are unordered, every element is unique, because the elements have no indeces assigned, they are immutable, too, they can be removed or added to, though"
   ]
  },
  {
   "cell_type": "code",
   "execution_count": 23,
   "id": "1112c09a",
   "metadata": {},
   "outputs": [
    {
     "ename": "TypeError",
     "evalue": "unhashable type: 'list'",
     "output_type": "error",
     "traceback": [
      "\u001b[1;31m---------------------------------------------------------------------------\u001b[0m",
      "\u001b[1;31mTypeError\u001b[0m                                 Traceback (most recent call last)",
      "\u001b[1;32mC:\\Users\\BALAZS~1.VAR\\AppData\\Local\\Temp/ipykernel_13052/649588518.py\u001b[0m in \u001b[0;36m<module>\u001b[1;34m\u001b[0m\n\u001b[1;32m----> 1\u001b[1;33m \u001b[0mmyset\u001b[0m \u001b[1;33m=\u001b[0m \u001b[1;33m{\u001b[0m\u001b[1;34m'set'\u001b[0m\u001b[1;33m,\u001b[0m \u001b[1;33m[\u001b[0m\u001b[1;34m'no set'\u001b[0m\u001b[1;33m]\u001b[0m\u001b[1;33m,\u001b[0m\u001b[1;33m{\u001b[0m\u001b[1;34m'but'\u001b[0m\u001b[1;33m:\u001b[0m\u001b[1;34m'part of a set'\u001b[0m\u001b[1;33m}\u001b[0m\u001b[1;33m}\u001b[0m\u001b[1;33m\u001b[0m\u001b[1;33m\u001b[0m\u001b[0m\n\u001b[0m\u001b[0;32m      2\u001b[0m \u001b[0mtype\u001b[0m\u001b[1;33m(\u001b[0m\u001b[0mmyset\u001b[0m\u001b[1;33m)\u001b[0m\u001b[1;33m\u001b[0m\u001b[1;33m\u001b[0m\u001b[0m\n",
      "\u001b[1;31mTypeError\u001b[0m: unhashable type: 'list'"
     ]
    }
   ],
   "source": [
    "myset = {'set', ['no set'],{'but':'part of a set'}}\n",
    "type(myset)"
   ]
  },
  {
   "cell_type": "markdown",
   "id": "87fa91e6",
   "metadata": {},
   "source": [
    "hups, looks like sets cannot contain just about any data type, let's try this:"
   ]
  },
  {
   "cell_type": "code",
   "execution_count": 24,
   "id": "710013c5",
   "metadata": {},
   "outputs": [
    {
     "data": {
      "text/plain": [
       "set"
      ]
     },
     "execution_count": 24,
     "metadata": {},
     "output_type": "execute_result"
    }
   ],
   "source": [
    "myset = {'set', 1, 3}\n",
    "type(myset)"
   ]
  },
  {
   "cell_type": "markdown",
   "id": "85e88610",
   "metadata": {},
   "source": [
    "Done?"
   ]
  }
 ],
 "metadata": {
  "kernelspec": {
   "display_name": "Python 3 (ipykernel)",
   "language": "python",
   "name": "python3"
  },
  "language_info": {
   "codemirror_mode": {
    "name": "ipython",
    "version": 3
   },
   "file_extension": ".py",
   "mimetype": "text/x-python",
   "name": "python",
   "nbconvert_exporter": "python",
   "pygments_lexer": "ipython3",
   "version": "3.8.11"
  }
 },
 "nbformat": 4,
 "nbformat_minor": 5
}
