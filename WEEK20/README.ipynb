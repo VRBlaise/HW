{
 "cells": [
  {
   "cell_type": "markdown",
   "id": "7a7ad1c5",
   "metadata": {},
   "source": [
    "### 1, Who we are"
   ]
  },
  {
   "cell_type": "markdown",
   "id": "445d30ff",
   "metadata": {},
   "source": [
    "Wordcounter is a code snippet, which takes in the cats_txt text, digests it and gives back the count of all words and punctuations appearing in decreasing order."
   ]
  },
  {
   "cell_type": "markdown",
   "id": "e645cc00",
   "metadata": {},
   "source": [
    "### 2, How we do it?"
   ]
  },
  {
   "cell_type": "markdown",
   "id": "3fc1815e",
   "metadata": {},
   "source": [
    "#### Open, read in and close file"
   ]
  },
  {
   "cell_type": "code",
   "execution_count": 1,
   "id": "b8a414a6",
   "metadata": {},
   "outputs": [],
   "source": [
    "with open('cats_txt.txt', encoding = 'unicode_escape') as f:\n",
    "    lines = f.readlines()\n",
    "f.close()"
   ]
  },
  {
   "cell_type": "markdown",
   "id": "50a89a98",
   "metadata": {},
   "source": [
    "#### Remove linebreakes and other unecessary formatting"
   ]
  },
  {
   "cell_type": "code",
   "execution_count": 2,
   "id": "bdf59abb",
   "metadata": {},
   "outputs": [],
   "source": [
    "import re\n",
    "spaced = [re.sub(r'([a-z](?=[A-Z])|[A-Z](?=[A-Z][a-z]))', r'\\1 ', text) for text in lines]\n",
    "removed = [re.sub('\\s+', ' ', s).lower() for s in spaced]"
   ]
  },
  {
   "cell_type": "markdown",
   "id": "808b1b70",
   "metadata": {},
   "source": [
    "#### Count words and put the counts into a dictionary"
   ]
  },
  {
   "cell_type": "code",
   "execution_count": 3,
   "id": "1d0eb094",
   "metadata": {},
   "outputs": [],
   "source": [
    "import nltk\n",
    "count_words = dict()\n",
    "\n",
    "for sentence in removed:\n",
    "    tokenized = nltk.word_tokenize(sentence)\n",
    "    words = [word for word in tokenized]\n",
    "    \n",
    "    for word in words:\n",
    "        if word in count_words.keys():                \n",
    "            count_words[word] += 1                \n",
    "        else:\n",
    "            count_words[word] = 1 # this is the first occurence"
   ]
  },
  {
   "cell_type": "markdown",
   "id": "aec3e894",
   "metadata": {},
   "source": [
    "#### Transform the dictionary into a list that can be ordered"
   ]
  },
  {
   "cell_type": "code",
   "execution_count": 4,
   "id": "7a8714b1",
   "metadata": {},
   "outputs": [],
   "source": [
    "count_words_list = []\n",
    "for k,v in count_words.items():\n",
    "    count_words_list.append([k, v])\n",
    "count_words_list.sort(key = lambda x:x[1], reverse = True)"
   ]
  },
  {
   "cell_type": "markdown",
   "id": "fd3d9f5e",
   "metadata": {},
   "source": [
    "#### Print the result"
   ]
  },
  {
   "cell_type": "code",
   "execution_count": 6,
   "id": "7169d075",
   "metadata": {},
   "outputs": [
    {
     "name": "stdout",
     "output_type": "stream",
     "text": [
      "[[',', 455], ['the', 401], ['.', 357], ['[', 266], [']', 266], ['and', 252], ['of', 243], ['to', 212], ['a', 208], ['cats', 190], ['in', 182], ['cat', 144], ['as', 97], ['are', 95], ['is', 92], ['with', 73], ['that', 60], ['their', 58], ['domestic', 53], ['on', 52]]\n"
     ]
    }
   ],
   "source": [
    "print(count_words_list[:20])"
   ]
  },
  {
   "cell_type": "markdown",
   "id": "e4946d43",
   "metadata": {},
   "source": [
    "### Why this would be fun?"
   ]
  },
  {
   "cell_type": "markdown",
   "id": "e9c6711c",
   "metadata": {},
   "source": [
    "In natural language processing it is often necessary to get the frequencies of all words (or rather stems or lemmas) so it is useful to have an approximate idea how this is done behind the scenes, even if the code might be already involved in the package. Also useful to see what could go wrong, here for example there were plenty of escape characters and special characters that are better to be filtered out right away."
   ]
  }
 ],
 "metadata": {
  "kernelspec": {
   "display_name": "Python 3 (ipykernel)",
   "language": "python",
   "name": "python3"
  },
  "language_info": {
   "codemirror_mode": {
    "name": "ipython",
    "version": 3
   },
   "file_extension": ".py",
   "mimetype": "text/x-python",
   "name": "python",
   "nbconvert_exporter": "python",
   "pygments_lexer": "ipython3",
   "version": "3.8.12"
  }
 },
 "nbformat": 4,
 "nbformat_minor": 5
}
