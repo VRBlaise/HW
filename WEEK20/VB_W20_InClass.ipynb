{
 "cells": [
  {
   "cell_type": "markdown",
   "id": "a899d042",
   "metadata": {},
   "source": [
    "### 1, Take the result of the following line of code (but use whatever available text you want) and write a function to concatenate the data back into sentences, with one readable sentence in each list."
   ]
  },
  {
   "cell_type": "code",
   "execution_count": 2,
   "id": "52c30349",
   "metadata": {},
   "outputs": [
    {
     "name": "stderr",
     "output_type": "stream",
     "text": [
      "[nltk_data] Downloading package gutenberg to\n",
      "[nltk_data]     C:\\Users\\balazs.varga\\AppData\\Roaming\\nltk_data...\n",
      "[nltk_data]   Package gutenberg is already up-to-date!\n"
     ]
    }
   ],
   "source": [
    "import nltk\n",
    "nltk.download('gutenberg')\n",
    "\n",
    "sentences = nltk.corpus.gutenberg.sents(\"carroll-alice.txt\")[:10]"
   ]
  },
  {
   "cell_type": "code",
   "execution_count": 7,
   "id": "81b2beb1",
   "metadata": {},
   "outputs": [
    {
     "name": "stdout",
     "output_type": "stream",
     "text": [
      "[ Alice ' s Adventures in Wonderland by Lewis Carroll 1865 ]\n",
      "CHAPTER I .\n",
      "Down the Rabbit - Hole\n",
      "Alice was beginning to get very tired of sitting by her sister on the bank , and of having nothing to do : once or twice she had peeped into the book her sister was reading , but it had no pictures or conversations in it , ' and what is the use of a book ,' thought Alice ' without pictures or conversation ?'\n",
      "So she was considering in her own mind ( as well as she could , for the hot day made her feel very sleepy and stupid ), whether the pleasure of making a daisy - chain would be worth the trouble of getting up and picking the daisies , when suddenly a White Rabbit with pink eyes ran close by her .\n",
      "There was nothing so VERY remarkable in that ; nor did Alice think it so VERY much out of the way to hear the Rabbit say to itself , ' Oh dear !\n",
      "Oh dear !\n",
      "I shall be late !'\n",
      "( when she thought it over afterwards , it occurred to her that she ought to have wondered at this , but at the time it all seemed quite natural ); but when the Rabbit actually TOOK A WATCH OUT OF ITS WAISTCOAT - POCKET , and looked at it , and then hurried on , Alice started to her feet , for it flashed across her mind that she had never before seen a rabbit with either a waistcoat - pocket , or a watch to take out of it , and burning with curiosity , she ran across the field after it , and fortunately was just in time to see it pop down a large rabbit - hole under the hedge .\n",
      "In another moment down went Alice after it , never once considering how in the world she was to get out again .\n"
     ]
    }
   ],
   "source": [
    "def reader(sentences):\n",
    "    for i in range(len(sentences)):\n",
    "        sentence = ' '.join(sentences[i])\n",
    "        print(sentence)\n",
    "    \n",
    "reader(sentences)"
   ]
  },
  {
   "cell_type": "markdown",
   "id": "3c15dcd1",
   "metadata": {},
   "source": [
    "### 2, Create a function that accepts a list of values. Filter out all values that are numeric and return the new list."
   ]
  },
  {
   "cell_type": "code",
   "execution_count": 10,
   "id": "afc0bc4b",
   "metadata": {},
   "outputs": [],
   "source": [
    "def filternumeric(lists):\n",
    "    filtered = [i for i in lists if type(i) != int and type(i) != float]\n",
    "    return filtered"
   ]
  },
  {
   "cell_type": "code",
   "execution_count": 11,
   "id": "3b8568b4",
   "metadata": {},
   "outputs": [
    {
     "data": {
      "text/plain": [
       "['a', 'b']"
      ]
     },
     "execution_count": 11,
     "metadata": {},
     "output_type": "execute_result"
    }
   ],
   "source": [
    "filternumeric(['a', 'b', 7, 7.4, 5, 6, 9.6])"
   ]
  }
 ],
 "metadata": {
  "kernelspec": {
   "display_name": "Python 3 (ipykernel)",
   "language": "python",
   "name": "python3"
  },
  "language_info": {
   "codemirror_mode": {
    "name": "ipython",
    "version": 3
   },
   "file_extension": ".py",
   "mimetype": "text/x-python",
   "name": "python",
   "nbconvert_exporter": "python",
   "pygments_lexer": "ipython3",
   "version": "3.8.12"
  }
 },
 "nbformat": 4,
 "nbformat_minor": 5
}
