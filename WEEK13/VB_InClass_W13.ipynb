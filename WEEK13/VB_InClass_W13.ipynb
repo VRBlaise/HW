{
 "cells": [
  {
   "cell_type": "markdown",
   "id": "7de9375e",
   "metadata": {},
   "source": [
    "### 1. In markdown, describe KNN in your own words."
   ]
  },
  {
   "cell_type": "markdown",
   "id": "6c42b514",
   "metadata": {},
   "source": [
    "KNN (k nearest neighbors) is determining which data points are the nearest to our point of interest when represented in (usually) an Eucledian space. The user sets the value of k such that the error on the test data set shall be minimal or close to minimal. One application is classification of new data, which is done based on what class the k nearest neighbors do belong to."
   ]
  },
  {
   "cell_type": "markdown",
   "id": "f7af46c3",
   "metadata": {},
   "source": [
    "### 2. Using the KNN example from class, write a function that finds the optimal value for k. You should iterate over a range of values and return the k and the score when the accuracy score is maximized. Be sure to only use odd values."
   ]
  },
  {
   "cell_type": "code",
   "execution_count": 1,
   "id": "2f772828",
   "metadata": {},
   "outputs": [
    {
     "data": {
      "text/html": [
       "<div>\n",
       "<style scoped>\n",
       "    .dataframe tbody tr th:only-of-type {\n",
       "        vertical-align: middle;\n",
       "    }\n",
       "\n",
       "    .dataframe tbody tr th {\n",
       "        vertical-align: top;\n",
       "    }\n",
       "\n",
       "    .dataframe thead th {\n",
       "        text-align: right;\n",
       "    }\n",
       "</style>\n",
       "<table border=\"1\" class=\"dataframe\">\n",
       "  <thead>\n",
       "    <tr style=\"text-align: right;\">\n",
       "      <th></th>\n",
       "      <th>Pregnancies</th>\n",
       "      <th>Glucose</th>\n",
       "      <th>BloodPressure</th>\n",
       "      <th>SkinThickness</th>\n",
       "      <th>Insulin</th>\n",
       "      <th>BMI</th>\n",
       "      <th>DiabetesPedigreeFunction</th>\n",
       "      <th>Age</th>\n",
       "      <th>Outcome</th>\n",
       "    </tr>\n",
       "  </thead>\n",
       "  <tbody>\n",
       "    <tr>\n",
       "      <th>0</th>\n",
       "      <td>6</td>\n",
       "      <td>148</td>\n",
       "      <td>72</td>\n",
       "      <td>35</td>\n",
       "      <td>0</td>\n",
       "      <td>33.6</td>\n",
       "      <td>0.627</td>\n",
       "      <td>50</td>\n",
       "      <td>1</td>\n",
       "    </tr>\n",
       "  </tbody>\n",
       "</table>\n",
       "</div>"
      ],
      "text/plain": [
       "   Pregnancies  Glucose  BloodPressure  SkinThickness  Insulin   BMI  \\\n",
       "0            6      148             72             35        0  33.6   \n",
       "\n",
       "   DiabetesPedigreeFunction  Age  Outcome  \n",
       "0                     0.627   50        1  "
      ]
     },
     "execution_count": 1,
     "metadata": {},
     "output_type": "execute_result"
    }
   ],
   "source": [
    "import pandas as pd\n",
    "\n",
    "from sklearn.model_selection import train_test_split\n",
    "from sklearn.neighbors import KNeighborsClassifier\n",
    "from sklearn.preprocessing import StandardScaler\n",
    "\n",
    "diabetes = pd.read_csv('diabetes.csv')\n",
    "diabetes.head(1)"
   ]
  },
  {
   "cell_type": "code",
   "execution_count": 23,
   "id": "f475cef3",
   "metadata": {},
   "outputs": [],
   "source": [
    "X = diabetes.drop(columns = 'Outcome')\n",
    "y = diabetes['Outcome']\n",
    "\n",
    "X_train, X_test, y_train, y_test = train_test_split(X, y, random_state = 29, test_size = 0.3)\n",
    "\n",
    "#also tried to run this withouth setting the random state and running the whole thin 1000 times. The result was dissapointing as the k values do not cluster around an optimal value as one would think\n",
    "\n",
    "scaler = StandardScaler()\n",
    "\n",
    "X_train = scaler.fit_transform(X_train)\n",
    "X_test = scaler.fit_transform(X_test)\n",
    "\n",
    "k_and_score = {}\n",
    "score_list = []\n",
    "\n",
    "# here I define a function that returns the score for the k value in question\n",
    "\n",
    "def knn_wrap(neighbors):\n",
    "    knn = KNeighborsClassifier(n_neighbors = neighbors)\n",
    "    knn.fit(X_train, y_train)\n",
    "    y_predict = knn.predict(X_test)\n",
    "    score = knn.score(X_test, y_test)\n",
    "    return score\n",
    "\n",
    "# here I define a function that iterates through k values and returns the value itself and its score using the previous function\n",
    "    \n",
    "def optimal_k(n):\n",
    "    for i in range(n):\n",
    "        score = knn_wrap(2*i+1)\n",
    "        score_list.append(score)\n",
    "        k_and_score[score] = 2*i+1\n",
    "    return k_and_score[max(score_list)], max(score_list)\n",
    "    "
   ]
  },
  {
   "cell_type": "code",
   "execution_count": 24,
   "id": "3d5d06ce",
   "metadata": {},
   "outputs": [
    {
     "data": {
      "text/plain": [
       "(17, 0.7835497835497836)"
      ]
     },
     "execution_count": 24,
     "metadata": {},
     "output_type": "execute_result"
    }
   ],
   "source": [
    "optimal_k(15) #(i set to 15 means eximining k up till 29 which is closest to the square root of the number of datapoints)"
   ]
  },
  {
   "cell_type": "markdown",
   "id": "fa57e5c2",
   "metadata": {},
   "source": [
    "### 3. How did the panel influence your thoughts about working in tech, specifically work in the data realm? Discuss with your group and summarize your thoughts in under 250 words."
   ]
  },
  {
   "cell_type": "markdown",
   "id": "3c0482f4",
   "metadata": {},
   "source": [
    "It was certainly interesting to hear from Jeromy that complex mathematical problems can arise in real-life applications (not only theory-level research), which reinforces the notion that brushing up already existing and acquiring further mathematical skills is essential for becoming a successful data scientist. His point about the importance of understanding the underlying business and especially the money-flow within was extremely revealing: in business there in an unambiguous metric of success, and, well this cannot be told about academia.\n",
    "\n",
    "Michelle also reinforced the notion of the importance of communication (and as a scientist I can ascertain the underestimation of this is ubiquitous in academia, despite all claims to the opposite), as well as the ability to listen or sometimes even exercising authority.\n",
    "\n",
    "An other important thing to consider was pointed out by Angelique: the importance of the data engineering work. While AI, machine learning, or other aspects of data science per se might seem more glamorous, it would all be impossible without the groundworks done by data engineers."
   ]
  },
  {
   "cell_type": "code",
   "execution_count": null,
   "id": "716ef417",
   "metadata": {},
   "outputs": [],
   "source": []
  }
 ],
 "metadata": {
  "kernelspec": {
   "display_name": "Python 3 (ipykernel)",
   "language": "python",
   "name": "python3"
  },
  "language_info": {
   "codemirror_mode": {
    "name": "ipython",
    "version": 3
   },
   "file_extension": ".py",
   "mimetype": "text/x-python",
   "name": "python",
   "nbconvert_exporter": "python",
   "pygments_lexer": "ipython3",
   "version": "3.8.12"
  }
 },
 "nbformat": 4,
 "nbformat_minor": 5
}
