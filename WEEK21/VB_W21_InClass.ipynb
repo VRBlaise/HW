{
 "cells": [
  {
   "cell_type": "markdown",
   "id": "74ef288a",
   "metadata": {},
   "source": [
    "### 1. Make sure you can get the API from class to work in Azure. Take a screenshot of it working and add the image to a jupyter notebook."
   ]
  },
  {
   "cell_type": "code",
   "execution_count": null,
   "id": "f8c4b971",
   "metadata": {},
   "outputs": [],
   "source": []
  },
  {
   "cell_type": "code",
   "execution_count": null,
   "id": "df3f6ab0",
   "metadata": {},
   "outputs": [],
   "source": []
  },
  {
   "cell_type": "code",
   "execution_count": null,
   "id": "c9c9e32f",
   "metadata": {},
   "outputs": [],
   "source": []
  },
  {
   "cell_type": "code",
   "execution_count": null,
   "id": "f24570df",
   "metadata": {},
   "outputs": [],
   "source": []
  },
  {
   "cell_type": "markdown",
   "id": "8c25e373",
   "metadata": {},
   "source": [
    "### 2. Loop through the API data in python using the /gdp/ year  endpoint for your API. What does it look like? Is there a way to alter the html page to simplify what you see?"
   ]
  },
  {
   "cell_type": "code",
   "execution_count": null,
   "id": "519cb929",
   "metadata": {},
   "outputs": [],
   "source": []
  }
 ],
 "metadata": {
  "kernelspec": {
   "display_name": "Python 3 (ipykernel)",
   "language": "python",
   "name": "python3"
  },
  "language_info": {
   "codemirror_mode": {
    "name": "ipython",
    "version": 3
   },
   "file_extension": ".py",
   "mimetype": "text/x-python",
   "name": "python",
   "nbconvert_exporter": "python",
   "pygments_lexer": "ipython3",
   "version": "3.8.12"
  }
 },
 "nbformat": 4,
 "nbformat_minor": 5
}
